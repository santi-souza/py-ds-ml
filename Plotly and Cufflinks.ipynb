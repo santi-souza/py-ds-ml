{
 "cells": [
  {
   "cell_type": "markdown",
   "metadata": {},
   "source": [
    "___\n",
    "\n",
    "<a href='http://www.pieriandata.com'> <img src='../Pierian_Data_Logo.png' /></a>\n",
    "___\n",
    "# Plotly and Cufflinks"
   ]
  },
  {
   "cell_type": "markdown",
   "metadata": {},
   "source": [
    "Plotly is a library that allows you to create interactive plots that you can use in dashboards or websites (you can save them as html files or static images).\n",
    "\n",
    "## Installation\n",
    "\n",
    "In order for this all to work, you'll need to install plotly and cufflinks to call plots directly off of a pandas dataframe. These libraries are not currently available through **conda** but are available through **pip**. Install the libraries at your command line/terminal using:\n",
    "\n",
    "    pip install plotly\n",
    "    pip install cufflinks\n",
    "\n",
    "** NOTE: Make sure you only have one installation of Python on your computer when you do this, otherwise the installation may not work. **\n",
    "\n",
    "## Imports and Set-up"
   ]
  },
  {
   "cell_type": "code",
   "execution_count": 2,
   "metadata": {
    "collapsed": true
   },
   "outputs": [],
   "source": [
    "import pandas as pd\n",
    "import numpy as np\n",
    "%matplotlib inline"
   ]
  },
  {
   "cell_type": "code",
   "execution_count": 5,
   "metadata": {
    "collapsed": false
   },
   "outputs": [
    {
     "name": "stdout",
     "output_type": "stream",
     "text": [
      "5.9.0\n"
     ]
    }
   ],
   "source": [
    "from plotly import __version__\n",
    "from plotly.offline import download_plotlyjs, init_notebook_mode, plot, iplot\n",
    "\n",
    "print(__version__) # requires version >= 1.9.0"
   ]
  },
  {
   "cell_type": "code",
   "execution_count": 6,
   "metadata": {
    "collapsed": true
   },
   "outputs": [],
   "source": [
    "import cufflinks as cf"
   ]
  },
  {
   "cell_type": "code",
   "execution_count": 7,
   "metadata": {
    "collapsed": false
   },
   "outputs": [
    {
     "data": {
      "text/html": [
       "        <script type=\"text/javascript\">\n",
       "        window.PlotlyConfig = {MathJaxConfig: 'local'};\n",
       "        if (window.MathJax && window.MathJax.Hub && window.MathJax.Hub.Config) {window.MathJax.Hub.Config({SVG: {font: \"STIX-Web\"}});}\n",
       "        if (typeof require !== 'undefined') {\n",
       "        require.undef(\"plotly\");\n",
       "        requirejs.config({\n",
       "            paths: {\n",
       "                'plotly': ['https://cdn.plot.ly/plotly-2.12.1.min']\n",
       "            }\n",
       "        });\n",
       "        require(['plotly'], function(Plotly) {\n",
       "            window._Plotly = Plotly;\n",
       "        });\n",
       "        }\n",
       "        </script>\n",
       "        "
      ]
     },
     "metadata": {},
     "output_type": "display_data"
    }
   ],
   "source": [
    "# For Notebooks\n",
    "init_notebook_mode(connected=True)"
   ]
  },
  {
   "cell_type": "code",
   "execution_count": 8,
   "metadata": {
    "collapsed": false
   },
   "outputs": [
    {
     "data": {
      "text/html": [
       "        <script type=\"text/javascript\">\n",
       "        window.PlotlyConfig = {MathJaxConfig: 'local'};\n",
       "        if (window.MathJax && window.MathJax.Hub && window.MathJax.Hub.Config) {window.MathJax.Hub.Config({SVG: {font: \"STIX-Web\"}});}\n",
       "        if (typeof require !== 'undefined') {\n",
       "        require.undef(\"plotly\");\n",
       "        requirejs.config({\n",
       "            paths: {\n",
       "                'plotly': ['https://cdn.plot.ly/plotly-2.12.1.min']\n",
       "            }\n",
       "        });\n",
       "        require(['plotly'], function(Plotly) {\n",
       "            window._Plotly = Plotly;\n",
       "        });\n",
       "        }\n",
       "        </script>\n",
       "        "
      ]
     },
     "metadata": {},
     "output_type": "display_data"
    }
   ],
   "source": [
    "# For offline use\n",
    "cf.go_offline()"
   ]
  },
  {
   "cell_type": "markdown",
   "metadata": {},
   "source": [
    "### Fake Data"
   ]
  },
  {
   "cell_type": "code",
   "execution_count": 9,
   "metadata": {
    "collapsed": false
   },
   "outputs": [],
   "source": [
    "df = pd.DataFrame(np.random.randn(100,4),columns='A B C D'.split())"
   ]
  },
  {
   "cell_type": "code",
   "execution_count": 10,
   "metadata": {
    "collapsed": false
   },
   "outputs": [
    {
     "data": {
      "text/html": [
       "<div>\n",
       "<style scoped>\n",
       "    .dataframe tbody tr th:only-of-type {\n",
       "        vertical-align: middle;\n",
       "    }\n",
       "\n",
       "    .dataframe tbody tr th {\n",
       "        vertical-align: top;\n",
       "    }\n",
       "\n",
       "    .dataframe thead th {\n",
       "        text-align: right;\n",
       "    }\n",
       "</style>\n",
       "<table border=\"1\" class=\"dataframe\">\n",
       "  <thead>\n",
       "    <tr style=\"text-align: right;\">\n",
       "      <th></th>\n",
       "      <th>A</th>\n",
       "      <th>B</th>\n",
       "      <th>C</th>\n",
       "      <th>D</th>\n",
       "    </tr>\n",
       "  </thead>\n",
       "  <tbody>\n",
       "    <tr>\n",
       "      <th>0</th>\n",
       "      <td>-0.423530</td>\n",
       "      <td>0.212941</td>\n",
       "      <td>0.076667</td>\n",
       "      <td>0.397844</td>\n",
       "    </tr>\n",
       "    <tr>\n",
       "      <th>1</th>\n",
       "      <td>0.873703</td>\n",
       "      <td>0.251803</td>\n",
       "      <td>1.233094</td>\n",
       "      <td>-0.288270</td>\n",
       "    </tr>\n",
       "    <tr>\n",
       "      <th>2</th>\n",
       "      <td>-0.442567</td>\n",
       "      <td>0.020917</td>\n",
       "      <td>0.717427</td>\n",
       "      <td>1.460508</td>\n",
       "    </tr>\n",
       "    <tr>\n",
       "      <th>3</th>\n",
       "      <td>0.398618</td>\n",
       "      <td>1.362617</td>\n",
       "      <td>1.165034</td>\n",
       "      <td>0.206579</td>\n",
       "    </tr>\n",
       "    <tr>\n",
       "      <th>4</th>\n",
       "      <td>0.034288</td>\n",
       "      <td>0.008885</td>\n",
       "      <td>0.388450</td>\n",
       "      <td>0.865883</td>\n",
       "    </tr>\n",
       "  </tbody>\n",
       "</table>\n",
       "</div>"
      ],
      "text/plain": [
       "          A         B         C         D\n",
       "0 -0.423530  0.212941  0.076667  0.397844\n",
       "1  0.873703  0.251803  1.233094 -0.288270\n",
       "2 -0.442567  0.020917  0.717427  1.460508\n",
       "3  0.398618  1.362617  1.165034  0.206579\n",
       "4  0.034288  0.008885  0.388450  0.865883"
      ]
     },
     "execution_count": 10,
     "metadata": {},
     "output_type": "execute_result"
    }
   ],
   "source": [
    "df.head()"
   ]
  },
  {
   "cell_type": "code",
   "execution_count": 11,
   "metadata": {
    "collapsed": true
   },
   "outputs": [],
   "source": [
    "df2 = pd.DataFrame({'Category':['A','B','C'],'Values':[32,43,50]})"
   ]
  },
  {
   "cell_type": "code",
   "execution_count": 12,
   "metadata": {
    "collapsed": false
   },
   "outputs": [
    {
     "data": {
      "text/html": [
       "<div>\n",
       "<style scoped>\n",
       "    .dataframe tbody tr th:only-of-type {\n",
       "        vertical-align: middle;\n",
       "    }\n",
       "\n",
       "    .dataframe tbody tr th {\n",
       "        vertical-align: top;\n",
       "    }\n",
       "\n",
       "    .dataframe thead th {\n",
       "        text-align: right;\n",
       "    }\n",
       "</style>\n",
       "<table border=\"1\" class=\"dataframe\">\n",
       "  <thead>\n",
       "    <tr style=\"text-align: right;\">\n",
       "      <th></th>\n",
       "      <th>Category</th>\n",
       "      <th>Values</th>\n",
       "    </tr>\n",
       "  </thead>\n",
       "  <tbody>\n",
       "    <tr>\n",
       "      <th>0</th>\n",
       "      <td>A</td>\n",
       "      <td>32</td>\n",
       "    </tr>\n",
       "    <tr>\n",
       "      <th>1</th>\n",
       "      <td>B</td>\n",
       "      <td>43</td>\n",
       "    </tr>\n",
       "    <tr>\n",
       "      <th>2</th>\n",
       "      <td>C</td>\n",
       "      <td>50</td>\n",
       "    </tr>\n",
       "  </tbody>\n",
       "</table>\n",
       "</div>"
      ],
      "text/plain": [
       "  Category  Values\n",
       "0        A      32\n",
       "1        B      43\n",
       "2        C      50"
      ]
     },
     "execution_count": 12,
     "metadata": {},
     "output_type": "execute_result"
    }
   ],
   "source": [
    "df2.head()"
   ]
  },
  {
   "cell_type": "markdown",
   "metadata": {},
   "source": [
    "## Using Cufflinks and iplot()\n",
    "\n",
    "* scatter\n",
    "* bar\n",
    "* box\n",
    "* spread\n",
    "* ratio\n",
    "* heatmap\n",
    "* surface\n",
    "* histogram\n",
    "* bubble"
   ]
  },
  {
   "cell_type": "markdown",
   "metadata": {},
   "source": [
    "## Scatter"
   ]
  },
  {
   "cell_type": "code",
   "execution_count": 13,
   "metadata": {
    "collapsed": false
   },
   "outputs": [
    {
     "data": {
      "application/vnd.plotly.v1+json": {
       "config": {
        "linkText": "Export to plot.ly",
        "plotlyServerURL": "https://plot.ly",
        "showLink": true
       },
       "data": [
        {
         "line": {
          "color": "rgba(255, 153, 51, 1.0)",
          "dash": "solid",
          "shape": "linear",
          "width": 1.3
         },
         "marker": {
          "size": 10,
          "symbol": "circle"
         },
         "mode": "markers",
         "name": "B",
         "text": "",
         "type": "scatter",
         "x": [
          -0.4235298267372065,
          0.8737034190511784,
          -0.4425667569523764,
          0.3986178618161769,
          0.03428784743673946,
          2.06533134908832,
          0.10271963749380746,
          0.05098734502258662,
          -0.1184063857671036,
          1.0964064857463354,
          1.4946454801576834,
          -0.7437131463014094,
          1.3253833864300688,
          -0.49360380332296394,
          -0.13305937269604404,
          0.9240293905139304,
          -0.09424341106312586,
          1.18071399478596,
          0.2645952610124938,
          0.8836118426137318,
          -1.173003943925152,
          -0.3212571585007686,
          -0.4398567644713879,
          -0.021012138960523438,
          0.07155221310667621,
          -2.815070179834287,
          -0.7035450325355791,
          -2.3018781723788013,
          -0.604916557375915,
          -1.3218543223382502,
          -0.3097396604396595,
          -0.854479473887273,
          -0.4678081709677992,
          -0.08838304149912787,
          0.7643585236625032,
          -1.2729795604519634,
          -1.2497474177461365,
          0.11665547061831338,
          0.054222241262439526,
          1.3955567369637993,
          1.2335949227350325,
          0.7811707745028742,
          -0.7062201202758001,
          -0.010086473033524971,
          0.17612395345598061,
          2.0194244526399077,
          -0.124897544987423,
          0.3504515229698034,
          0.704102638494282,
          -0.9641455130531145,
          0.21652976538587435,
          -0.6644405943141568,
          -0.3894761056471769,
          0.5468190505161646,
          -0.8363370271767773,
          -1.1460722642318224,
          -0.07587582681833421,
          0.9619169082305153,
          -0.5239800127167108,
          1.0311673460804889,
          -1.1758734601138927,
          1.5461295811284619,
          -2.5218097000157984,
          0.31240706808234286,
          -0.39540885307643037,
          -0.9181226038092148,
          -0.973212682296477,
          -1.1081306261732067,
          -0.10776950961150684,
          -0.050654313344176784,
          -0.9699477197603297,
          0.8557740272749418,
          1.0221888170710327,
          0.17768076059489119,
          -0.10870171886551774,
          0.29400495682356353,
          0.5229295264694711,
          1.5207606347295235,
          1.0936857792331733,
          -0.11595518871389471,
          -0.9859049663963309,
          -0.8199765183066423,
          0.9134190838522616,
          -0.7916172912135768,
          -0.12131152947593532,
          -1.2701415944118364,
          -0.9773938872991602,
          0.3339642125319659,
          0.6798478253423859,
          -1.5492577140644306,
          0.5787098004342369,
          0.5406428940538466,
          0.7639972929707557,
          0.017857529896215186,
          -0.22871482857901884,
          -0.07650894408479933,
          1.7552590593676092,
          0.18190406729913505,
          -1.6830180224348916,
          -2.2543336155615137
         ],
         "y": [
          0.21294078317383458,
          0.2518028123325517,
          0.02091657406832586,
          1.3626170892858607,
          0.008884733090600866,
          -0.7942574105325144,
          -1.4932730233998306,
          1.46030442365578,
          0.5222281818282609,
          -0.6951728119359911,
          -1.128579499529297,
          1.4666696280299252,
          1.8249626782770507,
          0.5202794124545566,
          0.7201153802481164,
          -1.5626581529361065,
          0.3374181890445056,
          -0.2903741529002983,
          -0.40190112011766466,
          -1.1603959048941097,
          0.9945810374960529,
          1.0458734586078855,
          -0.10175723853610258,
          0.5032333501247692,
          0.4423633466724333,
          -0.9292874889142884,
          1.0404659047051579,
          -0.4081306443840345,
          1.5848729347087902,
          0.11617936567027352,
          0.877815726072177,
          -1.6737754450487907,
          -0.6500583582053018,
          0.6400105834817084,
          -0.44334139052207533,
          -0.46506821727471764,
          1.6976387898715808,
          -0.4127523142241755,
          0.2847774928581605,
          2.0843595325833,
          1.1962031768333525,
          -0.19640158479150444,
          -0.076513511860327,
          1.091084899278679,
          0.48501073599044303,
          -0.5488969947992373,
          1.5657928427809016,
          -1.0644035759844077,
          1.194701257470469,
          0.5469168263690459,
          1.733072093267033,
          1.2634577119112578,
          -0.5420507058393845,
          -0.8411226760092744,
          0.2396772592095201,
          -0.5175263212605506,
          1.6612996922788827,
          0.6317816649077945,
          -0.3491301771453928,
          3.2420035524398623,
          -0.3006899949173568,
          1.997414779630204,
          0.12307791592774506,
          -1.2500563474156865,
          0.31535217967862017,
          -0.08156801559514214,
          0.15695759628048428,
          1.097578516882325,
          -1.6933624000861809,
          1.0998500106286162,
          -0.04798598377017386,
          -1.0504861587912668,
          0.2157760376256392,
          0.2721587078516661,
          1.5158996980625876,
          -1.0820719356636508,
          -0.7449838137376683,
          2.1678435919878143,
          -1.3867241124350391,
          1.569218147485345,
          0.9615517659406315,
          -0.13308189808999643,
          1.115636697593061,
          -1.218340919178577,
          1.458638359803591,
          0.2360747011023473,
          0.47478412012124943,
          0.1559355888436621,
          0.26512385357664964,
          0.1568188907648089,
          0.7603143641721575,
          -1.1817614859597358,
          -0.4959769554035473,
          -1.573931163429572,
          0.9898452846005282,
          -1.7092796113603514,
          -0.16008249410907596,
          -0.7349355342113074,
          0.6686336198044844,
          1.0934331284256122
         ]
        }
       ],
       "layout": {
        "legend": {
         "bgcolor": "#F5F6F9",
         "font": {
          "color": "#4D5663"
         }
        },
        "paper_bgcolor": "#F5F6F9",
        "plot_bgcolor": "#F5F6F9",
        "template": {
         "data": {
          "bar": [
           {
            "error_x": {
             "color": "#2a3f5f"
            },
            "error_y": {
             "color": "#2a3f5f"
            },
            "marker": {
             "line": {
              "color": "#E5ECF6",
              "width": 0.5
             },
             "pattern": {
              "fillmode": "overlay",
              "size": 10,
              "solidity": 0.2
             }
            },
            "type": "bar"
           }
          ],
          "barpolar": [
           {
            "marker": {
             "line": {
              "color": "#E5ECF6",
              "width": 0.5
             },
             "pattern": {
              "fillmode": "overlay",
              "size": 10,
              "solidity": 0.2
             }
            },
            "type": "barpolar"
           }
          ],
          "carpet": [
           {
            "aaxis": {
             "endlinecolor": "#2a3f5f",
             "gridcolor": "white",
             "linecolor": "white",
             "minorgridcolor": "white",
             "startlinecolor": "#2a3f5f"
            },
            "baxis": {
             "endlinecolor": "#2a3f5f",
             "gridcolor": "white",
             "linecolor": "white",
             "minorgridcolor": "white",
             "startlinecolor": "#2a3f5f"
            },
            "type": "carpet"
           }
          ],
          "choropleth": [
           {
            "colorbar": {
             "outlinewidth": 0,
             "ticks": ""
            },
            "type": "choropleth"
           }
          ],
          "contour": [
           {
            "colorbar": {
             "outlinewidth": 0,
             "ticks": ""
            },
            "colorscale": [
             [
              0,
              "#0d0887"
             ],
             [
              0.1111111111111111,
              "#46039f"
             ],
             [
              0.2222222222222222,
              "#7201a8"
             ],
             [
              0.3333333333333333,
              "#9c179e"
             ],
             [
              0.4444444444444444,
              "#bd3786"
             ],
             [
              0.5555555555555556,
              "#d8576b"
             ],
             [
              0.6666666666666666,
              "#ed7953"
             ],
             [
              0.7777777777777778,
              "#fb9f3a"
             ],
             [
              0.8888888888888888,
              "#fdca26"
             ],
             [
              1,
              "#f0f921"
             ]
            ],
            "type": "contour"
           }
          ],
          "contourcarpet": [
           {
            "colorbar": {
             "outlinewidth": 0,
             "ticks": ""
            },
            "type": "contourcarpet"
           }
          ],
          "heatmap": [
           {
            "colorbar": {
             "outlinewidth": 0,
             "ticks": ""
            },
            "colorscale": [
             [
              0,
              "#0d0887"
             ],
             [
              0.1111111111111111,
              "#46039f"
             ],
             [
              0.2222222222222222,
              "#7201a8"
             ],
             [
              0.3333333333333333,
              "#9c179e"
             ],
             [
              0.4444444444444444,
              "#bd3786"
             ],
             [
              0.5555555555555556,
              "#d8576b"
             ],
             [
              0.6666666666666666,
              "#ed7953"
             ],
             [
              0.7777777777777778,
              "#fb9f3a"
             ],
             [
              0.8888888888888888,
              "#fdca26"
             ],
             [
              1,
              "#f0f921"
             ]
            ],
            "type": "heatmap"
           }
          ],
          "heatmapgl": [
           {
            "colorbar": {
             "outlinewidth": 0,
             "ticks": ""
            },
            "colorscale": [
             [
              0,
              "#0d0887"
             ],
             [
              0.1111111111111111,
              "#46039f"
             ],
             [
              0.2222222222222222,
              "#7201a8"
             ],
             [
              0.3333333333333333,
              "#9c179e"
             ],
             [
              0.4444444444444444,
              "#bd3786"
             ],
             [
              0.5555555555555556,
              "#d8576b"
             ],
             [
              0.6666666666666666,
              "#ed7953"
             ],
             [
              0.7777777777777778,
              "#fb9f3a"
             ],
             [
              0.8888888888888888,
              "#fdca26"
             ],
             [
              1,
              "#f0f921"
             ]
            ],
            "type": "heatmapgl"
           }
          ],
          "histogram": [
           {
            "marker": {
             "pattern": {
              "fillmode": "overlay",
              "size": 10,
              "solidity": 0.2
             }
            },
            "type": "histogram"
           }
          ],
          "histogram2d": [
           {
            "colorbar": {
             "outlinewidth": 0,
             "ticks": ""
            },
            "colorscale": [
             [
              0,
              "#0d0887"
             ],
             [
              0.1111111111111111,
              "#46039f"
             ],
             [
              0.2222222222222222,
              "#7201a8"
             ],
             [
              0.3333333333333333,
              "#9c179e"
             ],
             [
              0.4444444444444444,
              "#bd3786"
             ],
             [
              0.5555555555555556,
              "#d8576b"
             ],
             [
              0.6666666666666666,
              "#ed7953"
             ],
             [
              0.7777777777777778,
              "#fb9f3a"
             ],
             [
              0.8888888888888888,
              "#fdca26"
             ],
             [
              1,
              "#f0f921"
             ]
            ],
            "type": "histogram2d"
           }
          ],
          "histogram2dcontour": [
           {
            "colorbar": {
             "outlinewidth": 0,
             "ticks": ""
            },
            "colorscale": [
             [
              0,
              "#0d0887"
             ],
             [
              0.1111111111111111,
              "#46039f"
             ],
             [
              0.2222222222222222,
              "#7201a8"
             ],
             [
              0.3333333333333333,
              "#9c179e"
             ],
             [
              0.4444444444444444,
              "#bd3786"
             ],
             [
              0.5555555555555556,
              "#d8576b"
             ],
             [
              0.6666666666666666,
              "#ed7953"
             ],
             [
              0.7777777777777778,
              "#fb9f3a"
             ],
             [
              0.8888888888888888,
              "#fdca26"
             ],
             [
              1,
              "#f0f921"
             ]
            ],
            "type": "histogram2dcontour"
           }
          ],
          "mesh3d": [
           {
            "colorbar": {
             "outlinewidth": 0,
             "ticks": ""
            },
            "type": "mesh3d"
           }
          ],
          "parcoords": [
           {
            "line": {
             "colorbar": {
              "outlinewidth": 0,
              "ticks": ""
             }
            },
            "type": "parcoords"
           }
          ],
          "pie": [
           {
            "automargin": true,
            "type": "pie"
           }
          ],
          "scatter": [
           {
            "fillpattern": {
             "fillmode": "overlay",
             "size": 10,
             "solidity": 0.2
            },
            "type": "scatter"
           }
          ],
          "scatter3d": [
           {
            "line": {
             "colorbar": {
              "outlinewidth": 0,
              "ticks": ""
             }
            },
            "marker": {
             "colorbar": {
              "outlinewidth": 0,
              "ticks": ""
             }
            },
            "type": "scatter3d"
           }
          ],
          "scattercarpet": [
           {
            "marker": {
             "colorbar": {
              "outlinewidth": 0,
              "ticks": ""
             }
            },
            "type": "scattercarpet"
           }
          ],
          "scattergeo": [
           {
            "marker": {
             "colorbar": {
              "outlinewidth": 0,
              "ticks": ""
             }
            },
            "type": "scattergeo"
           }
          ],
          "scattergl": [
           {
            "marker": {
             "colorbar": {
              "outlinewidth": 0,
              "ticks": ""
             }
            },
            "type": "scattergl"
           }
          ],
          "scattermapbox": [
           {
            "marker": {
             "colorbar": {
              "outlinewidth": 0,
              "ticks": ""
             }
            },
            "type": "scattermapbox"
           }
          ],
          "scatterpolar": [
           {
            "marker": {
             "colorbar": {
              "outlinewidth": 0,
              "ticks": ""
             }
            },
            "type": "scatterpolar"
           }
          ],
          "scatterpolargl": [
           {
            "marker": {
             "colorbar": {
              "outlinewidth": 0,
              "ticks": ""
             }
            },
            "type": "scatterpolargl"
           }
          ],
          "scatterternary": [
           {
            "marker": {
             "colorbar": {
              "outlinewidth": 0,
              "ticks": ""
             }
            },
            "type": "scatterternary"
           }
          ],
          "surface": [
           {
            "colorbar": {
             "outlinewidth": 0,
             "ticks": ""
            },
            "colorscale": [
             [
              0,
              "#0d0887"
             ],
             [
              0.1111111111111111,
              "#46039f"
             ],
             [
              0.2222222222222222,
              "#7201a8"
             ],
             [
              0.3333333333333333,
              "#9c179e"
             ],
             [
              0.4444444444444444,
              "#bd3786"
             ],
             [
              0.5555555555555556,
              "#d8576b"
             ],
             [
              0.6666666666666666,
              "#ed7953"
             ],
             [
              0.7777777777777778,
              "#fb9f3a"
             ],
             [
              0.8888888888888888,
              "#fdca26"
             ],
             [
              1,
              "#f0f921"
             ]
            ],
            "type": "surface"
           }
          ],
          "table": [
           {
            "cells": {
             "fill": {
              "color": "#EBF0F8"
             },
             "line": {
              "color": "white"
             }
            },
            "header": {
             "fill": {
              "color": "#C8D4E3"
             },
             "line": {
              "color": "white"
             }
            },
            "type": "table"
           }
          ]
         },
         "layout": {
          "annotationdefaults": {
           "arrowcolor": "#2a3f5f",
           "arrowhead": 0,
           "arrowwidth": 1
          },
          "autotypenumbers": "strict",
          "coloraxis": {
           "colorbar": {
            "outlinewidth": 0,
            "ticks": ""
           }
          },
          "colorscale": {
           "diverging": [
            [
             0,
             "#8e0152"
            ],
            [
             0.1,
             "#c51b7d"
            ],
            [
             0.2,
             "#de77ae"
            ],
            [
             0.3,
             "#f1b6da"
            ],
            [
             0.4,
             "#fde0ef"
            ],
            [
             0.5,
             "#f7f7f7"
            ],
            [
             0.6,
             "#e6f5d0"
            ],
            [
             0.7,
             "#b8e186"
            ],
            [
             0.8,
             "#7fbc41"
            ],
            [
             0.9,
             "#4d9221"
            ],
            [
             1,
             "#276419"
            ]
           ],
           "sequential": [
            [
             0,
             "#0d0887"
            ],
            [
             0.1111111111111111,
             "#46039f"
            ],
            [
             0.2222222222222222,
             "#7201a8"
            ],
            [
             0.3333333333333333,
             "#9c179e"
            ],
            [
             0.4444444444444444,
             "#bd3786"
            ],
            [
             0.5555555555555556,
             "#d8576b"
            ],
            [
             0.6666666666666666,
             "#ed7953"
            ],
            [
             0.7777777777777778,
             "#fb9f3a"
            ],
            [
             0.8888888888888888,
             "#fdca26"
            ],
            [
             1,
             "#f0f921"
            ]
           ],
           "sequentialminus": [
            [
             0,
             "#0d0887"
            ],
            [
             0.1111111111111111,
             "#46039f"
            ],
            [
             0.2222222222222222,
             "#7201a8"
            ],
            [
             0.3333333333333333,
             "#9c179e"
            ],
            [
             0.4444444444444444,
             "#bd3786"
            ],
            [
             0.5555555555555556,
             "#d8576b"
            ],
            [
             0.6666666666666666,
             "#ed7953"
            ],
            [
             0.7777777777777778,
             "#fb9f3a"
            ],
            [
             0.8888888888888888,
             "#fdca26"
            ],
            [
             1,
             "#f0f921"
            ]
           ]
          },
          "colorway": [
           "#636efa",
           "#EF553B",
           "#00cc96",
           "#ab63fa",
           "#FFA15A",
           "#19d3f3",
           "#FF6692",
           "#B6E880",
           "#FF97FF",
           "#FECB52"
          ],
          "font": {
           "color": "#2a3f5f"
          },
          "geo": {
           "bgcolor": "white",
           "lakecolor": "white",
           "landcolor": "#E5ECF6",
           "showlakes": true,
           "showland": true,
           "subunitcolor": "white"
          },
          "hoverlabel": {
           "align": "left"
          },
          "hovermode": "closest",
          "mapbox": {
           "style": "light"
          },
          "paper_bgcolor": "white",
          "plot_bgcolor": "#E5ECF6",
          "polar": {
           "angularaxis": {
            "gridcolor": "white",
            "linecolor": "white",
            "ticks": ""
           },
           "bgcolor": "#E5ECF6",
           "radialaxis": {
            "gridcolor": "white",
            "linecolor": "white",
            "ticks": ""
           }
          },
          "scene": {
           "xaxis": {
            "backgroundcolor": "#E5ECF6",
            "gridcolor": "white",
            "gridwidth": 2,
            "linecolor": "white",
            "showbackground": true,
            "ticks": "",
            "zerolinecolor": "white"
           },
           "yaxis": {
            "backgroundcolor": "#E5ECF6",
            "gridcolor": "white",
            "gridwidth": 2,
            "linecolor": "white",
            "showbackground": true,
            "ticks": "",
            "zerolinecolor": "white"
           },
           "zaxis": {
            "backgroundcolor": "#E5ECF6",
            "gridcolor": "white",
            "gridwidth": 2,
            "linecolor": "white",
            "showbackground": true,
            "ticks": "",
            "zerolinecolor": "white"
           }
          },
          "shapedefaults": {
           "line": {
            "color": "#2a3f5f"
           }
          },
          "ternary": {
           "aaxis": {
            "gridcolor": "white",
            "linecolor": "white",
            "ticks": ""
           },
           "baxis": {
            "gridcolor": "white",
            "linecolor": "white",
            "ticks": ""
           },
           "bgcolor": "#E5ECF6",
           "caxis": {
            "gridcolor": "white",
            "linecolor": "white",
            "ticks": ""
           }
          },
          "title": {
           "x": 0.05
          },
          "xaxis": {
           "automargin": true,
           "gridcolor": "white",
           "linecolor": "white",
           "ticks": "",
           "title": {
            "standoff": 15
           },
           "zerolinecolor": "white",
           "zerolinewidth": 2
          },
          "yaxis": {
           "automargin": true,
           "gridcolor": "white",
           "linecolor": "white",
           "ticks": "",
           "title": {
            "standoff": 15
           },
           "zerolinecolor": "white",
           "zerolinewidth": 2
          }
         }
        },
        "title": {
         "font": {
          "color": "#4D5663"
         }
        },
        "xaxis": {
         "gridcolor": "#E1E5ED",
         "showgrid": true,
         "tickfont": {
          "color": "#4D5663"
         },
         "title": {
          "font": {
           "color": "#4D5663"
          },
          "text": ""
         },
         "zerolinecolor": "#E1E5ED"
        },
        "yaxis": {
         "gridcolor": "#E1E5ED",
         "showgrid": true,
         "tickfont": {
          "color": "#4D5663"
         },
         "title": {
          "font": {
           "color": "#4D5663"
          },
          "text": ""
         },
         "zerolinecolor": "#E1E5ED"
        }
       }
      },
      "text/html": [
       "<div>                            <div id=\"c87fe566-3a64-4fcd-bc92-ba2de416066d\" class=\"plotly-graph-div\" style=\"height:525px; width:100%;\"></div>            <script type=\"text/javascript\">                require([\"plotly\"], function(Plotly) {                    window.PLOTLYENV=window.PLOTLYENV || {};\n",
       "                    window.PLOTLYENV.BASE_URL='https://plot.ly';                                    if (document.getElementById(\"c87fe566-3a64-4fcd-bc92-ba2de416066d\")) {                    Plotly.newPlot(                        \"c87fe566-3a64-4fcd-bc92-ba2de416066d\",                        [{\"line\":{\"color\":\"rgba(255, 153, 51, 1.0)\",\"dash\":\"solid\",\"shape\":\"linear\",\"width\":1.3},\"marker\":{\"size\":10,\"symbol\":\"circle\"},\"mode\":\"markers\",\"name\":\"B\",\"text\":\"\",\"x\":[-0.4235298267372065,0.8737034190511784,-0.4425667569523764,0.3986178618161769,0.03428784743673946,2.06533134908832,0.10271963749380746,0.05098734502258662,-0.1184063857671036,1.0964064857463354,1.4946454801576834,-0.7437131463014094,1.3253833864300688,-0.49360380332296394,-0.13305937269604404,0.9240293905139304,-0.09424341106312586,1.18071399478596,0.2645952610124938,0.8836118426137318,-1.173003943925152,-0.3212571585007686,-0.4398567644713879,-0.021012138960523438,0.07155221310667621,-2.815070179834287,-0.7035450325355791,-2.3018781723788013,-0.604916557375915,-1.3218543223382502,-0.3097396604396595,-0.854479473887273,-0.4678081709677992,-0.08838304149912787,0.7643585236625032,-1.2729795604519634,-1.2497474177461365,0.11665547061831338,0.054222241262439526,1.3955567369637993,1.2335949227350325,0.7811707745028742,-0.7062201202758001,-0.010086473033524971,0.17612395345598061,2.0194244526399077,-0.124897544987423,0.3504515229698034,0.704102638494282,-0.9641455130531145,0.21652976538587435,-0.6644405943141568,-0.3894761056471769,0.5468190505161646,-0.8363370271767773,-1.1460722642318224,-0.07587582681833421,0.9619169082305153,-0.5239800127167108,1.0311673460804889,-1.1758734601138927,1.5461295811284619,-2.5218097000157984,0.31240706808234286,-0.39540885307643037,-0.9181226038092148,-0.973212682296477,-1.1081306261732067,-0.10776950961150684,-0.050654313344176784,-0.9699477197603297,0.8557740272749418,1.0221888170710327,0.17768076059489119,-0.10870171886551774,0.29400495682356353,0.5229295264694711,1.5207606347295235,1.0936857792331733,-0.11595518871389471,-0.9859049663963309,-0.8199765183066423,0.9134190838522616,-0.7916172912135768,-0.12131152947593532,-1.2701415944118364,-0.9773938872991602,0.3339642125319659,0.6798478253423859,-1.5492577140644306,0.5787098004342369,0.5406428940538466,0.7639972929707557,0.017857529896215186,-0.22871482857901884,-0.07650894408479933,1.7552590593676092,0.18190406729913505,-1.6830180224348916,-2.2543336155615137],\"y\":[0.21294078317383458,0.2518028123325517,0.02091657406832586,1.3626170892858607,0.008884733090600866,-0.7942574105325144,-1.4932730233998306,1.46030442365578,0.5222281818282609,-0.6951728119359911,-1.128579499529297,1.4666696280299252,1.8249626782770507,0.5202794124545566,0.7201153802481164,-1.5626581529361065,0.3374181890445056,-0.2903741529002983,-0.40190112011766466,-1.1603959048941097,0.9945810374960529,1.0458734586078855,-0.10175723853610258,0.5032333501247692,0.4423633466724333,-0.9292874889142884,1.0404659047051579,-0.4081306443840345,1.5848729347087902,0.11617936567027352,0.877815726072177,-1.6737754450487907,-0.6500583582053018,0.6400105834817084,-0.44334139052207533,-0.46506821727471764,1.6976387898715808,-0.4127523142241755,0.2847774928581605,2.0843595325833,1.1962031768333525,-0.19640158479150444,-0.076513511860327,1.091084899278679,0.48501073599044303,-0.5488969947992373,1.5657928427809016,-1.0644035759844077,1.194701257470469,0.5469168263690459,1.733072093267033,1.2634577119112578,-0.5420507058393845,-0.8411226760092744,0.2396772592095201,-0.5175263212605506,1.6612996922788827,0.6317816649077945,-0.3491301771453928,3.2420035524398623,-0.3006899949173568,1.997414779630204,0.12307791592774506,-1.2500563474156865,0.31535217967862017,-0.08156801559514214,0.15695759628048428,1.097578516882325,-1.6933624000861809,1.0998500106286162,-0.04798598377017386,-1.0504861587912668,0.2157760376256392,0.2721587078516661,1.5158996980625876,-1.0820719356636508,-0.7449838137376683,2.1678435919878143,-1.3867241124350391,1.569218147485345,0.9615517659406315,-0.13308189808999643,1.115636697593061,-1.218340919178577,1.458638359803591,0.2360747011023473,0.47478412012124943,0.1559355888436621,0.26512385357664964,0.1568188907648089,0.7603143641721575,-1.1817614859597358,-0.4959769554035473,-1.573931163429572,0.9898452846005282,-1.7092796113603514,-0.16008249410907596,-0.7349355342113074,0.6686336198044844,1.0934331284256122],\"type\":\"scatter\"}],                        {\"legend\":{\"bgcolor\":\"#F5F6F9\",\"font\":{\"color\":\"#4D5663\"}},\"paper_bgcolor\":\"#F5F6F9\",\"plot_bgcolor\":\"#F5F6F9\",\"template\":{\"data\":{\"barpolar\":[{\"marker\":{\"line\":{\"color\":\"#E5ECF6\",\"width\":0.5},\"pattern\":{\"fillmode\":\"overlay\",\"size\":10,\"solidity\":0.2}},\"type\":\"barpolar\"}],\"bar\":[{\"error_x\":{\"color\":\"#2a3f5f\"},\"error_y\":{\"color\":\"#2a3f5f\"},\"marker\":{\"line\":{\"color\":\"#E5ECF6\",\"width\":0.5},\"pattern\":{\"fillmode\":\"overlay\",\"size\":10,\"solidity\":0.2}},\"type\":\"bar\"}],\"carpet\":[{\"aaxis\":{\"endlinecolor\":\"#2a3f5f\",\"gridcolor\":\"white\",\"linecolor\":\"white\",\"minorgridcolor\":\"white\",\"startlinecolor\":\"#2a3f5f\"},\"baxis\":{\"endlinecolor\":\"#2a3f5f\",\"gridcolor\":\"white\",\"linecolor\":\"white\",\"minorgridcolor\":\"white\",\"startlinecolor\":\"#2a3f5f\"},\"type\":\"carpet\"}],\"choropleth\":[{\"colorbar\":{\"outlinewidth\":0,\"ticks\":\"\"},\"type\":\"choropleth\"}],\"contourcarpet\":[{\"colorbar\":{\"outlinewidth\":0,\"ticks\":\"\"},\"type\":\"contourcarpet\"}],\"contour\":[{\"colorbar\":{\"outlinewidth\":0,\"ticks\":\"\"},\"colorscale\":[[0.0,\"#0d0887\"],[0.1111111111111111,\"#46039f\"],[0.2222222222222222,\"#7201a8\"],[0.3333333333333333,\"#9c179e\"],[0.4444444444444444,\"#bd3786\"],[0.5555555555555556,\"#d8576b\"],[0.6666666666666666,\"#ed7953\"],[0.7777777777777778,\"#fb9f3a\"],[0.8888888888888888,\"#fdca26\"],[1.0,\"#f0f921\"]],\"type\":\"contour\"}],\"heatmapgl\":[{\"colorbar\":{\"outlinewidth\":0,\"ticks\":\"\"},\"colorscale\":[[0.0,\"#0d0887\"],[0.1111111111111111,\"#46039f\"],[0.2222222222222222,\"#7201a8\"],[0.3333333333333333,\"#9c179e\"],[0.4444444444444444,\"#bd3786\"],[0.5555555555555556,\"#d8576b\"],[0.6666666666666666,\"#ed7953\"],[0.7777777777777778,\"#fb9f3a\"],[0.8888888888888888,\"#fdca26\"],[1.0,\"#f0f921\"]],\"type\":\"heatmapgl\"}],\"heatmap\":[{\"colorbar\":{\"outlinewidth\":0,\"ticks\":\"\"},\"colorscale\":[[0.0,\"#0d0887\"],[0.1111111111111111,\"#46039f\"],[0.2222222222222222,\"#7201a8\"],[0.3333333333333333,\"#9c179e\"],[0.4444444444444444,\"#bd3786\"],[0.5555555555555556,\"#d8576b\"],[0.6666666666666666,\"#ed7953\"],[0.7777777777777778,\"#fb9f3a\"],[0.8888888888888888,\"#fdca26\"],[1.0,\"#f0f921\"]],\"type\":\"heatmap\"}],\"histogram2dcontour\":[{\"colorbar\":{\"outlinewidth\":0,\"ticks\":\"\"},\"colorscale\":[[0.0,\"#0d0887\"],[0.1111111111111111,\"#46039f\"],[0.2222222222222222,\"#7201a8\"],[0.3333333333333333,\"#9c179e\"],[0.4444444444444444,\"#bd3786\"],[0.5555555555555556,\"#d8576b\"],[0.6666666666666666,\"#ed7953\"],[0.7777777777777778,\"#fb9f3a\"],[0.8888888888888888,\"#fdca26\"],[1.0,\"#f0f921\"]],\"type\":\"histogram2dcontour\"}],\"histogram2d\":[{\"colorbar\":{\"outlinewidth\":0,\"ticks\":\"\"},\"colorscale\":[[0.0,\"#0d0887\"],[0.1111111111111111,\"#46039f\"],[0.2222222222222222,\"#7201a8\"],[0.3333333333333333,\"#9c179e\"],[0.4444444444444444,\"#bd3786\"],[0.5555555555555556,\"#d8576b\"],[0.6666666666666666,\"#ed7953\"],[0.7777777777777778,\"#fb9f3a\"],[0.8888888888888888,\"#fdca26\"],[1.0,\"#f0f921\"]],\"type\":\"histogram2d\"}],\"histogram\":[{\"marker\":{\"pattern\":{\"fillmode\":\"overlay\",\"size\":10,\"solidity\":0.2}},\"type\":\"histogram\"}],\"mesh3d\":[{\"colorbar\":{\"outlinewidth\":0,\"ticks\":\"\"},\"type\":\"mesh3d\"}],\"parcoords\":[{\"line\":{\"colorbar\":{\"outlinewidth\":0,\"ticks\":\"\"}},\"type\":\"parcoords\"}],\"pie\":[{\"automargin\":true,\"type\":\"pie\"}],\"scatter3d\":[{\"line\":{\"colorbar\":{\"outlinewidth\":0,\"ticks\":\"\"}},\"marker\":{\"colorbar\":{\"outlinewidth\":0,\"ticks\":\"\"}},\"type\":\"scatter3d\"}],\"scattercarpet\":[{\"marker\":{\"colorbar\":{\"outlinewidth\":0,\"ticks\":\"\"}},\"type\":\"scattercarpet\"}],\"scattergeo\":[{\"marker\":{\"colorbar\":{\"outlinewidth\":0,\"ticks\":\"\"}},\"type\":\"scattergeo\"}],\"scattergl\":[{\"marker\":{\"colorbar\":{\"outlinewidth\":0,\"ticks\":\"\"}},\"type\":\"scattergl\"}],\"scattermapbox\":[{\"marker\":{\"colorbar\":{\"outlinewidth\":0,\"ticks\":\"\"}},\"type\":\"scattermapbox\"}],\"scatterpolargl\":[{\"marker\":{\"colorbar\":{\"outlinewidth\":0,\"ticks\":\"\"}},\"type\":\"scatterpolargl\"}],\"scatterpolar\":[{\"marker\":{\"colorbar\":{\"outlinewidth\":0,\"ticks\":\"\"}},\"type\":\"scatterpolar\"}],\"scatter\":[{\"fillpattern\":{\"fillmode\":\"overlay\",\"size\":10,\"solidity\":0.2},\"type\":\"scatter\"}],\"scatterternary\":[{\"marker\":{\"colorbar\":{\"outlinewidth\":0,\"ticks\":\"\"}},\"type\":\"scatterternary\"}],\"surface\":[{\"colorbar\":{\"outlinewidth\":0,\"ticks\":\"\"},\"colorscale\":[[0.0,\"#0d0887\"],[0.1111111111111111,\"#46039f\"],[0.2222222222222222,\"#7201a8\"],[0.3333333333333333,\"#9c179e\"],[0.4444444444444444,\"#bd3786\"],[0.5555555555555556,\"#d8576b\"],[0.6666666666666666,\"#ed7953\"],[0.7777777777777778,\"#fb9f3a\"],[0.8888888888888888,\"#fdca26\"],[1.0,\"#f0f921\"]],\"type\":\"surface\"}],\"table\":[{\"cells\":{\"fill\":{\"color\":\"#EBF0F8\"},\"line\":{\"color\":\"white\"}},\"header\":{\"fill\":{\"color\":\"#C8D4E3\"},\"line\":{\"color\":\"white\"}},\"type\":\"table\"}]},\"layout\":{\"annotationdefaults\":{\"arrowcolor\":\"#2a3f5f\",\"arrowhead\":0,\"arrowwidth\":1},\"autotypenumbers\":\"strict\",\"coloraxis\":{\"colorbar\":{\"outlinewidth\":0,\"ticks\":\"\"}},\"colorscale\":{\"diverging\":[[0,\"#8e0152\"],[0.1,\"#c51b7d\"],[0.2,\"#de77ae\"],[0.3,\"#f1b6da\"],[0.4,\"#fde0ef\"],[0.5,\"#f7f7f7\"],[0.6,\"#e6f5d0\"],[0.7,\"#b8e186\"],[0.8,\"#7fbc41\"],[0.9,\"#4d9221\"],[1,\"#276419\"]],\"sequential\":[[0.0,\"#0d0887\"],[0.1111111111111111,\"#46039f\"],[0.2222222222222222,\"#7201a8\"],[0.3333333333333333,\"#9c179e\"],[0.4444444444444444,\"#bd3786\"],[0.5555555555555556,\"#d8576b\"],[0.6666666666666666,\"#ed7953\"],[0.7777777777777778,\"#fb9f3a\"],[0.8888888888888888,\"#fdca26\"],[1.0,\"#f0f921\"]],\"sequentialminus\":[[0.0,\"#0d0887\"],[0.1111111111111111,\"#46039f\"],[0.2222222222222222,\"#7201a8\"],[0.3333333333333333,\"#9c179e\"],[0.4444444444444444,\"#bd3786\"],[0.5555555555555556,\"#d8576b\"],[0.6666666666666666,\"#ed7953\"],[0.7777777777777778,\"#fb9f3a\"],[0.8888888888888888,\"#fdca26\"],[1.0,\"#f0f921\"]]},\"colorway\":[\"#636efa\",\"#EF553B\",\"#00cc96\",\"#ab63fa\",\"#FFA15A\",\"#19d3f3\",\"#FF6692\",\"#B6E880\",\"#FF97FF\",\"#FECB52\"],\"font\":{\"color\":\"#2a3f5f\"},\"geo\":{\"bgcolor\":\"white\",\"lakecolor\":\"white\",\"landcolor\":\"#E5ECF6\",\"showlakes\":true,\"showland\":true,\"subunitcolor\":\"white\"},\"hoverlabel\":{\"align\":\"left\"},\"hovermode\":\"closest\",\"mapbox\":{\"style\":\"light\"},\"paper_bgcolor\":\"white\",\"plot_bgcolor\":\"#E5ECF6\",\"polar\":{\"angularaxis\":{\"gridcolor\":\"white\",\"linecolor\":\"white\",\"ticks\":\"\"},\"bgcolor\":\"#E5ECF6\",\"radialaxis\":{\"gridcolor\":\"white\",\"linecolor\":\"white\",\"ticks\":\"\"}},\"scene\":{\"xaxis\":{\"backgroundcolor\":\"#E5ECF6\",\"gridcolor\":\"white\",\"gridwidth\":2,\"linecolor\":\"white\",\"showbackground\":true,\"ticks\":\"\",\"zerolinecolor\":\"white\"},\"yaxis\":{\"backgroundcolor\":\"#E5ECF6\",\"gridcolor\":\"white\",\"gridwidth\":2,\"linecolor\":\"white\",\"showbackground\":true,\"ticks\":\"\",\"zerolinecolor\":\"white\"},\"zaxis\":{\"backgroundcolor\":\"#E5ECF6\",\"gridcolor\":\"white\",\"gridwidth\":2,\"linecolor\":\"white\",\"showbackground\":true,\"ticks\":\"\",\"zerolinecolor\":\"white\"}},\"shapedefaults\":{\"line\":{\"color\":\"#2a3f5f\"}},\"ternary\":{\"aaxis\":{\"gridcolor\":\"white\",\"linecolor\":\"white\",\"ticks\":\"\"},\"baxis\":{\"gridcolor\":\"white\",\"linecolor\":\"white\",\"ticks\":\"\"},\"bgcolor\":\"#E5ECF6\",\"caxis\":{\"gridcolor\":\"white\",\"linecolor\":\"white\",\"ticks\":\"\"}},\"title\":{\"x\":0.05},\"xaxis\":{\"automargin\":true,\"gridcolor\":\"white\",\"linecolor\":\"white\",\"ticks\":\"\",\"title\":{\"standoff\":15},\"zerolinecolor\":\"white\",\"zerolinewidth\":2},\"yaxis\":{\"automargin\":true,\"gridcolor\":\"white\",\"linecolor\":\"white\",\"ticks\":\"\",\"title\":{\"standoff\":15},\"zerolinecolor\":\"white\",\"zerolinewidth\":2}}},\"title\":{\"font\":{\"color\":\"#4D5663\"}},\"xaxis\":{\"gridcolor\":\"#E1E5ED\",\"showgrid\":true,\"tickfont\":{\"color\":\"#4D5663\"},\"title\":{\"font\":{\"color\":\"#4D5663\"},\"text\":\"\"},\"zerolinecolor\":\"#E1E5ED\"},\"yaxis\":{\"gridcolor\":\"#E1E5ED\",\"showgrid\":true,\"tickfont\":{\"color\":\"#4D5663\"},\"title\":{\"font\":{\"color\":\"#4D5663\"},\"text\":\"\"},\"zerolinecolor\":\"#E1E5ED\"}},                        {\"showLink\": true, \"linkText\": \"Export to plot.ly\", \"plotlyServerURL\": \"https://plot.ly\", \"responsive\": true}                    ).then(function(){\n",
       "                            \n",
       "var gd = document.getElementById('c87fe566-3a64-4fcd-bc92-ba2de416066d');\n",
       "var x = new MutationObserver(function (mutations, observer) {{\n",
       "        var display = window.getComputedStyle(gd).display;\n",
       "        if (!display || display === 'none') {{\n",
       "            console.log([gd, 'removed!']);\n",
       "            Plotly.purge(gd);\n",
       "            observer.disconnect();\n",
       "        }}\n",
       "}});\n",
       "\n",
       "// Listen for the removal of the full notebook cells\n",
       "var notebookContainer = gd.closest('#notebook-container');\n",
       "if (notebookContainer) {{\n",
       "    x.observe(notebookContainer, {childList: true});\n",
       "}}\n",
       "\n",
       "// Listen for the clearing of the current output cell\n",
       "var outputEl = gd.closest('.output');\n",
       "if (outputEl) {{\n",
       "    x.observe(outputEl, {childList: true});\n",
       "}}\n",
       "\n",
       "                        })                };                });            </script>        </div>"
      ]
     },
     "metadata": {},
     "output_type": "display_data"
    }
   ],
   "source": [
    "df.iplot(kind='scatter',x='A',y='B',mode='markers',size=10)"
   ]
  },
  {
   "cell_type": "markdown",
   "metadata": {},
   "source": [
    "## Bar Plots"
   ]
  },
  {
   "cell_type": "code",
   "execution_count": 14,
   "metadata": {
    "collapsed": false
   },
   "outputs": [
    {
     "data": {
      "application/vnd.plotly.v1+json": {
       "config": {
        "linkText": "Export to plot.ly",
        "plotlyServerURL": "https://plot.ly",
        "showLink": true
       },
       "data": [
        {
         "marker": {
          "color": "rgba(255, 153, 51, 0.6)",
          "line": {
           "color": "rgba(255, 153, 51, 1.0)",
           "width": 1
          }
         },
         "name": "Values",
         "orientation": "v",
         "text": "",
         "type": "bar",
         "x": [
          "A",
          "B",
          "C"
         ],
         "y": [
          32,
          43,
          50
         ]
        }
       ],
       "layout": {
        "legend": {
         "bgcolor": "#F5F6F9",
         "font": {
          "color": "#4D5663"
         }
        },
        "paper_bgcolor": "#F5F6F9",
        "plot_bgcolor": "#F5F6F9",
        "template": {
         "data": {
          "bar": [
           {
            "error_x": {
             "color": "#2a3f5f"
            },
            "error_y": {
             "color": "#2a3f5f"
            },
            "marker": {
             "line": {
              "color": "#E5ECF6",
              "width": 0.5
             },
             "pattern": {
              "fillmode": "overlay",
              "size": 10,
              "solidity": 0.2
             }
            },
            "type": "bar"
           }
          ],
          "barpolar": [
           {
            "marker": {
             "line": {
              "color": "#E5ECF6",
              "width": 0.5
             },
             "pattern": {
              "fillmode": "overlay",
              "size": 10,
              "solidity": 0.2
             }
            },
            "type": "barpolar"
           }
          ],
          "carpet": [
           {
            "aaxis": {
             "endlinecolor": "#2a3f5f",
             "gridcolor": "white",
             "linecolor": "white",
             "minorgridcolor": "white",
             "startlinecolor": "#2a3f5f"
            },
            "baxis": {
             "endlinecolor": "#2a3f5f",
             "gridcolor": "white",
             "linecolor": "white",
             "minorgridcolor": "white",
             "startlinecolor": "#2a3f5f"
            },
            "type": "carpet"
           }
          ],
          "choropleth": [
           {
            "colorbar": {
             "outlinewidth": 0,
             "ticks": ""
            },
            "type": "choropleth"
           }
          ],
          "contour": [
           {
            "colorbar": {
             "outlinewidth": 0,
             "ticks": ""
            },
            "colorscale": [
             [
              0,
              "#0d0887"
             ],
             [
              0.1111111111111111,
              "#46039f"
             ],
             [
              0.2222222222222222,
              "#7201a8"
             ],
             [
              0.3333333333333333,
              "#9c179e"
             ],
             [
              0.4444444444444444,
              "#bd3786"
             ],
             [
              0.5555555555555556,
              "#d8576b"
             ],
             [
              0.6666666666666666,
              "#ed7953"
             ],
             [
              0.7777777777777778,
              "#fb9f3a"
             ],
             [
              0.8888888888888888,
              "#fdca26"
             ],
             [
              1,
              "#f0f921"
             ]
            ],
            "type": "contour"
           }
          ],
          "contourcarpet": [
           {
            "colorbar": {
             "outlinewidth": 0,
             "ticks": ""
            },
            "type": "contourcarpet"
           }
          ],
          "heatmap": [
           {
            "colorbar": {
             "outlinewidth": 0,
             "ticks": ""
            },
            "colorscale": [
             [
              0,
              "#0d0887"
             ],
             [
              0.1111111111111111,
              "#46039f"
             ],
             [
              0.2222222222222222,
              "#7201a8"
             ],
             [
              0.3333333333333333,
              "#9c179e"
             ],
             [
              0.4444444444444444,
              "#bd3786"
             ],
             [
              0.5555555555555556,
              "#d8576b"
             ],
             [
              0.6666666666666666,
              "#ed7953"
             ],
             [
              0.7777777777777778,
              "#fb9f3a"
             ],
             [
              0.8888888888888888,
              "#fdca26"
             ],
             [
              1,
              "#f0f921"
             ]
            ],
            "type": "heatmap"
           }
          ],
          "heatmapgl": [
           {
            "colorbar": {
             "outlinewidth": 0,
             "ticks": ""
            },
            "colorscale": [
             [
              0,
              "#0d0887"
             ],
             [
              0.1111111111111111,
              "#46039f"
             ],
             [
              0.2222222222222222,
              "#7201a8"
             ],
             [
              0.3333333333333333,
              "#9c179e"
             ],
             [
              0.4444444444444444,
              "#bd3786"
             ],
             [
              0.5555555555555556,
              "#d8576b"
             ],
             [
              0.6666666666666666,
              "#ed7953"
             ],
             [
              0.7777777777777778,
              "#fb9f3a"
             ],
             [
              0.8888888888888888,
              "#fdca26"
             ],
             [
              1,
              "#f0f921"
             ]
            ],
            "type": "heatmapgl"
           }
          ],
          "histogram": [
           {
            "marker": {
             "pattern": {
              "fillmode": "overlay",
              "size": 10,
              "solidity": 0.2
             }
            },
            "type": "histogram"
           }
          ],
          "histogram2d": [
           {
            "colorbar": {
             "outlinewidth": 0,
             "ticks": ""
            },
            "colorscale": [
             [
              0,
              "#0d0887"
             ],
             [
              0.1111111111111111,
              "#46039f"
             ],
             [
              0.2222222222222222,
              "#7201a8"
             ],
             [
              0.3333333333333333,
              "#9c179e"
             ],
             [
              0.4444444444444444,
              "#bd3786"
             ],
             [
              0.5555555555555556,
              "#d8576b"
             ],
             [
              0.6666666666666666,
              "#ed7953"
             ],
             [
              0.7777777777777778,
              "#fb9f3a"
             ],
             [
              0.8888888888888888,
              "#fdca26"
             ],
             [
              1,
              "#f0f921"
             ]
            ],
            "type": "histogram2d"
           }
          ],
          "histogram2dcontour": [
           {
            "colorbar": {
             "outlinewidth": 0,
             "ticks": ""
            },
            "colorscale": [
             [
              0,
              "#0d0887"
             ],
             [
              0.1111111111111111,
              "#46039f"
             ],
             [
              0.2222222222222222,
              "#7201a8"
             ],
             [
              0.3333333333333333,
              "#9c179e"
             ],
             [
              0.4444444444444444,
              "#bd3786"
             ],
             [
              0.5555555555555556,
              "#d8576b"
             ],
             [
              0.6666666666666666,
              "#ed7953"
             ],
             [
              0.7777777777777778,
              "#fb9f3a"
             ],
             [
              0.8888888888888888,
              "#fdca26"
             ],
             [
              1,
              "#f0f921"
             ]
            ],
            "type": "histogram2dcontour"
           }
          ],
          "mesh3d": [
           {
            "colorbar": {
             "outlinewidth": 0,
             "ticks": ""
            },
            "type": "mesh3d"
           }
          ],
          "parcoords": [
           {
            "line": {
             "colorbar": {
              "outlinewidth": 0,
              "ticks": ""
             }
            },
            "type": "parcoords"
           }
          ],
          "pie": [
           {
            "automargin": true,
            "type": "pie"
           }
          ],
          "scatter": [
           {
            "fillpattern": {
             "fillmode": "overlay",
             "size": 10,
             "solidity": 0.2
            },
            "type": "scatter"
           }
          ],
          "scatter3d": [
           {
            "line": {
             "colorbar": {
              "outlinewidth": 0,
              "ticks": ""
             }
            },
            "marker": {
             "colorbar": {
              "outlinewidth": 0,
              "ticks": ""
             }
            },
            "type": "scatter3d"
           }
          ],
          "scattercarpet": [
           {
            "marker": {
             "colorbar": {
              "outlinewidth": 0,
              "ticks": ""
             }
            },
            "type": "scattercarpet"
           }
          ],
          "scattergeo": [
           {
            "marker": {
             "colorbar": {
              "outlinewidth": 0,
              "ticks": ""
             }
            },
            "type": "scattergeo"
           }
          ],
          "scattergl": [
           {
            "marker": {
             "colorbar": {
              "outlinewidth": 0,
              "ticks": ""
             }
            },
            "type": "scattergl"
           }
          ],
          "scattermapbox": [
           {
            "marker": {
             "colorbar": {
              "outlinewidth": 0,
              "ticks": ""
             }
            },
            "type": "scattermapbox"
           }
          ],
          "scatterpolar": [
           {
            "marker": {
             "colorbar": {
              "outlinewidth": 0,
              "ticks": ""
             }
            },
            "type": "scatterpolar"
           }
          ],
          "scatterpolargl": [
           {
            "marker": {
             "colorbar": {
              "outlinewidth": 0,
              "ticks": ""
             }
            },
            "type": "scatterpolargl"
           }
          ],
          "scatterternary": [
           {
            "marker": {
             "colorbar": {
              "outlinewidth": 0,
              "ticks": ""
             }
            },
            "type": "scatterternary"
           }
          ],
          "surface": [
           {
            "colorbar": {
             "outlinewidth": 0,
             "ticks": ""
            },
            "colorscale": [
             [
              0,
              "#0d0887"
             ],
             [
              0.1111111111111111,
              "#46039f"
             ],
             [
              0.2222222222222222,
              "#7201a8"
             ],
             [
              0.3333333333333333,
              "#9c179e"
             ],
             [
              0.4444444444444444,
              "#bd3786"
             ],
             [
              0.5555555555555556,
              "#d8576b"
             ],
             [
              0.6666666666666666,
              "#ed7953"
             ],
             [
              0.7777777777777778,
              "#fb9f3a"
             ],
             [
              0.8888888888888888,
              "#fdca26"
             ],
             [
              1,
              "#f0f921"
             ]
            ],
            "type": "surface"
           }
          ],
          "table": [
           {
            "cells": {
             "fill": {
              "color": "#EBF0F8"
             },
             "line": {
              "color": "white"
             }
            },
            "header": {
             "fill": {
              "color": "#C8D4E3"
             },
             "line": {
              "color": "white"
             }
            },
            "type": "table"
           }
          ]
         },
         "layout": {
          "annotationdefaults": {
           "arrowcolor": "#2a3f5f",
           "arrowhead": 0,
           "arrowwidth": 1
          },
          "autotypenumbers": "strict",
          "coloraxis": {
           "colorbar": {
            "outlinewidth": 0,
            "ticks": ""
           }
          },
          "colorscale": {
           "diverging": [
            [
             0,
             "#8e0152"
            ],
            [
             0.1,
             "#c51b7d"
            ],
            [
             0.2,
             "#de77ae"
            ],
            [
             0.3,
             "#f1b6da"
            ],
            [
             0.4,
             "#fde0ef"
            ],
            [
             0.5,
             "#f7f7f7"
            ],
            [
             0.6,
             "#e6f5d0"
            ],
            [
             0.7,
             "#b8e186"
            ],
            [
             0.8,
             "#7fbc41"
            ],
            [
             0.9,
             "#4d9221"
            ],
            [
             1,
             "#276419"
            ]
           ],
           "sequential": [
            [
             0,
             "#0d0887"
            ],
            [
             0.1111111111111111,
             "#46039f"
            ],
            [
             0.2222222222222222,
             "#7201a8"
            ],
            [
             0.3333333333333333,
             "#9c179e"
            ],
            [
             0.4444444444444444,
             "#bd3786"
            ],
            [
             0.5555555555555556,
             "#d8576b"
            ],
            [
             0.6666666666666666,
             "#ed7953"
            ],
            [
             0.7777777777777778,
             "#fb9f3a"
            ],
            [
             0.8888888888888888,
             "#fdca26"
            ],
            [
             1,
             "#f0f921"
            ]
           ],
           "sequentialminus": [
            [
             0,
             "#0d0887"
            ],
            [
             0.1111111111111111,
             "#46039f"
            ],
            [
             0.2222222222222222,
             "#7201a8"
            ],
            [
             0.3333333333333333,
             "#9c179e"
            ],
            [
             0.4444444444444444,
             "#bd3786"
            ],
            [
             0.5555555555555556,
             "#d8576b"
            ],
            [
             0.6666666666666666,
             "#ed7953"
            ],
            [
             0.7777777777777778,
             "#fb9f3a"
            ],
            [
             0.8888888888888888,
             "#fdca26"
            ],
            [
             1,
             "#f0f921"
            ]
           ]
          },
          "colorway": [
           "#636efa",
           "#EF553B",
           "#00cc96",
           "#ab63fa",
           "#FFA15A",
           "#19d3f3",
           "#FF6692",
           "#B6E880",
           "#FF97FF",
           "#FECB52"
          ],
          "font": {
           "color": "#2a3f5f"
          },
          "geo": {
           "bgcolor": "white",
           "lakecolor": "white",
           "landcolor": "#E5ECF6",
           "showlakes": true,
           "showland": true,
           "subunitcolor": "white"
          },
          "hoverlabel": {
           "align": "left"
          },
          "hovermode": "closest",
          "mapbox": {
           "style": "light"
          },
          "paper_bgcolor": "white",
          "plot_bgcolor": "#E5ECF6",
          "polar": {
           "angularaxis": {
            "gridcolor": "white",
            "linecolor": "white",
            "ticks": ""
           },
           "bgcolor": "#E5ECF6",
           "radialaxis": {
            "gridcolor": "white",
            "linecolor": "white",
            "ticks": ""
           }
          },
          "scene": {
           "xaxis": {
            "backgroundcolor": "#E5ECF6",
            "gridcolor": "white",
            "gridwidth": 2,
            "linecolor": "white",
            "showbackground": true,
            "ticks": "",
            "zerolinecolor": "white"
           },
           "yaxis": {
            "backgroundcolor": "#E5ECF6",
            "gridcolor": "white",
            "gridwidth": 2,
            "linecolor": "white",
            "showbackground": true,
            "ticks": "",
            "zerolinecolor": "white"
           },
           "zaxis": {
            "backgroundcolor": "#E5ECF6",
            "gridcolor": "white",
            "gridwidth": 2,
            "linecolor": "white",
            "showbackground": true,
            "ticks": "",
            "zerolinecolor": "white"
           }
          },
          "shapedefaults": {
           "line": {
            "color": "#2a3f5f"
           }
          },
          "ternary": {
           "aaxis": {
            "gridcolor": "white",
            "linecolor": "white",
            "ticks": ""
           },
           "baxis": {
            "gridcolor": "white",
            "linecolor": "white",
            "ticks": ""
           },
           "bgcolor": "#E5ECF6",
           "caxis": {
            "gridcolor": "white",
            "linecolor": "white",
            "ticks": ""
           }
          },
          "title": {
           "x": 0.05
          },
          "xaxis": {
           "automargin": true,
           "gridcolor": "white",
           "linecolor": "white",
           "ticks": "",
           "title": {
            "standoff": 15
           },
           "zerolinecolor": "white",
           "zerolinewidth": 2
          },
          "yaxis": {
           "automargin": true,
           "gridcolor": "white",
           "linecolor": "white",
           "ticks": "",
           "title": {
            "standoff": 15
           },
           "zerolinecolor": "white",
           "zerolinewidth": 2
          }
         }
        },
        "title": {
         "font": {
          "color": "#4D5663"
         }
        },
        "xaxis": {
         "gridcolor": "#E1E5ED",
         "showgrid": true,
         "tickfont": {
          "color": "#4D5663"
         },
         "title": {
          "font": {
           "color": "#4D5663"
          },
          "text": ""
         },
         "zerolinecolor": "#E1E5ED"
        },
        "yaxis": {
         "gridcolor": "#E1E5ED",
         "showgrid": true,
         "tickfont": {
          "color": "#4D5663"
         },
         "title": {
          "font": {
           "color": "#4D5663"
          },
          "text": ""
         },
         "zerolinecolor": "#E1E5ED"
        }
       }
      },
      "text/html": [
       "<div>                            <div id=\"d633038c-e6b8-4efa-bac0-7d13604c5a85\" class=\"plotly-graph-div\" style=\"height:525px; width:100%;\"></div>            <script type=\"text/javascript\">                require([\"plotly\"], function(Plotly) {                    window.PLOTLYENV=window.PLOTLYENV || {};\n",
       "                    window.PLOTLYENV.BASE_URL='https://plot.ly';                                    if (document.getElementById(\"d633038c-e6b8-4efa-bac0-7d13604c5a85\")) {                    Plotly.newPlot(                        \"d633038c-e6b8-4efa-bac0-7d13604c5a85\",                        [{\"marker\":{\"color\":\"rgba(255, 153, 51, 0.6)\",\"line\":{\"color\":\"rgba(255, 153, 51, 1.0)\",\"width\":1}},\"name\":\"Values\",\"orientation\":\"v\",\"text\":\"\",\"x\":[\"A\",\"B\",\"C\"],\"y\":[32,43,50],\"type\":\"bar\"}],                        {\"legend\":{\"bgcolor\":\"#F5F6F9\",\"font\":{\"color\":\"#4D5663\"}},\"paper_bgcolor\":\"#F5F6F9\",\"plot_bgcolor\":\"#F5F6F9\",\"template\":{\"data\":{\"barpolar\":[{\"marker\":{\"line\":{\"color\":\"#E5ECF6\",\"width\":0.5},\"pattern\":{\"fillmode\":\"overlay\",\"size\":10,\"solidity\":0.2}},\"type\":\"barpolar\"}],\"bar\":[{\"error_x\":{\"color\":\"#2a3f5f\"},\"error_y\":{\"color\":\"#2a3f5f\"},\"marker\":{\"line\":{\"color\":\"#E5ECF6\",\"width\":0.5},\"pattern\":{\"fillmode\":\"overlay\",\"size\":10,\"solidity\":0.2}},\"type\":\"bar\"}],\"carpet\":[{\"aaxis\":{\"endlinecolor\":\"#2a3f5f\",\"gridcolor\":\"white\",\"linecolor\":\"white\",\"minorgridcolor\":\"white\",\"startlinecolor\":\"#2a3f5f\"},\"baxis\":{\"endlinecolor\":\"#2a3f5f\",\"gridcolor\":\"white\",\"linecolor\":\"white\",\"minorgridcolor\":\"white\",\"startlinecolor\":\"#2a3f5f\"},\"type\":\"carpet\"}],\"choropleth\":[{\"colorbar\":{\"outlinewidth\":0,\"ticks\":\"\"},\"type\":\"choropleth\"}],\"contourcarpet\":[{\"colorbar\":{\"outlinewidth\":0,\"ticks\":\"\"},\"type\":\"contourcarpet\"}],\"contour\":[{\"colorbar\":{\"outlinewidth\":0,\"ticks\":\"\"},\"colorscale\":[[0.0,\"#0d0887\"],[0.1111111111111111,\"#46039f\"],[0.2222222222222222,\"#7201a8\"],[0.3333333333333333,\"#9c179e\"],[0.4444444444444444,\"#bd3786\"],[0.5555555555555556,\"#d8576b\"],[0.6666666666666666,\"#ed7953\"],[0.7777777777777778,\"#fb9f3a\"],[0.8888888888888888,\"#fdca26\"],[1.0,\"#f0f921\"]],\"type\":\"contour\"}],\"heatmapgl\":[{\"colorbar\":{\"outlinewidth\":0,\"ticks\":\"\"},\"colorscale\":[[0.0,\"#0d0887\"],[0.1111111111111111,\"#46039f\"],[0.2222222222222222,\"#7201a8\"],[0.3333333333333333,\"#9c179e\"],[0.4444444444444444,\"#bd3786\"],[0.5555555555555556,\"#d8576b\"],[0.6666666666666666,\"#ed7953\"],[0.7777777777777778,\"#fb9f3a\"],[0.8888888888888888,\"#fdca26\"],[1.0,\"#f0f921\"]],\"type\":\"heatmapgl\"}],\"heatmap\":[{\"colorbar\":{\"outlinewidth\":0,\"ticks\":\"\"},\"colorscale\":[[0.0,\"#0d0887\"],[0.1111111111111111,\"#46039f\"],[0.2222222222222222,\"#7201a8\"],[0.3333333333333333,\"#9c179e\"],[0.4444444444444444,\"#bd3786\"],[0.5555555555555556,\"#d8576b\"],[0.6666666666666666,\"#ed7953\"],[0.7777777777777778,\"#fb9f3a\"],[0.8888888888888888,\"#fdca26\"],[1.0,\"#f0f921\"]],\"type\":\"heatmap\"}],\"histogram2dcontour\":[{\"colorbar\":{\"outlinewidth\":0,\"ticks\":\"\"},\"colorscale\":[[0.0,\"#0d0887\"],[0.1111111111111111,\"#46039f\"],[0.2222222222222222,\"#7201a8\"],[0.3333333333333333,\"#9c179e\"],[0.4444444444444444,\"#bd3786\"],[0.5555555555555556,\"#d8576b\"],[0.6666666666666666,\"#ed7953\"],[0.7777777777777778,\"#fb9f3a\"],[0.8888888888888888,\"#fdca26\"],[1.0,\"#f0f921\"]],\"type\":\"histogram2dcontour\"}],\"histogram2d\":[{\"colorbar\":{\"outlinewidth\":0,\"ticks\":\"\"},\"colorscale\":[[0.0,\"#0d0887\"],[0.1111111111111111,\"#46039f\"],[0.2222222222222222,\"#7201a8\"],[0.3333333333333333,\"#9c179e\"],[0.4444444444444444,\"#bd3786\"],[0.5555555555555556,\"#d8576b\"],[0.6666666666666666,\"#ed7953\"],[0.7777777777777778,\"#fb9f3a\"],[0.8888888888888888,\"#fdca26\"],[1.0,\"#f0f921\"]],\"type\":\"histogram2d\"}],\"histogram\":[{\"marker\":{\"pattern\":{\"fillmode\":\"overlay\",\"size\":10,\"solidity\":0.2}},\"type\":\"histogram\"}],\"mesh3d\":[{\"colorbar\":{\"outlinewidth\":0,\"ticks\":\"\"},\"type\":\"mesh3d\"}],\"parcoords\":[{\"line\":{\"colorbar\":{\"outlinewidth\":0,\"ticks\":\"\"}},\"type\":\"parcoords\"}],\"pie\":[{\"automargin\":true,\"type\":\"pie\"}],\"scatter3d\":[{\"line\":{\"colorbar\":{\"outlinewidth\":0,\"ticks\":\"\"}},\"marker\":{\"colorbar\":{\"outlinewidth\":0,\"ticks\":\"\"}},\"type\":\"scatter3d\"}],\"scattercarpet\":[{\"marker\":{\"colorbar\":{\"outlinewidth\":0,\"ticks\":\"\"}},\"type\":\"scattercarpet\"}],\"scattergeo\":[{\"marker\":{\"colorbar\":{\"outlinewidth\":0,\"ticks\":\"\"}},\"type\":\"scattergeo\"}],\"scattergl\":[{\"marker\":{\"colorbar\":{\"outlinewidth\":0,\"ticks\":\"\"}},\"type\":\"scattergl\"}],\"scattermapbox\":[{\"marker\":{\"colorbar\":{\"outlinewidth\":0,\"ticks\":\"\"}},\"type\":\"scattermapbox\"}],\"scatterpolargl\":[{\"marker\":{\"colorbar\":{\"outlinewidth\":0,\"ticks\":\"\"}},\"type\":\"scatterpolargl\"}],\"scatterpolar\":[{\"marker\":{\"colorbar\":{\"outlinewidth\":0,\"ticks\":\"\"}},\"type\":\"scatterpolar\"}],\"scatter\":[{\"fillpattern\":{\"fillmode\":\"overlay\",\"size\":10,\"solidity\":0.2},\"type\":\"scatter\"}],\"scatterternary\":[{\"marker\":{\"colorbar\":{\"outlinewidth\":0,\"ticks\":\"\"}},\"type\":\"scatterternary\"}],\"surface\":[{\"colorbar\":{\"outlinewidth\":0,\"ticks\":\"\"},\"colorscale\":[[0.0,\"#0d0887\"],[0.1111111111111111,\"#46039f\"],[0.2222222222222222,\"#7201a8\"],[0.3333333333333333,\"#9c179e\"],[0.4444444444444444,\"#bd3786\"],[0.5555555555555556,\"#d8576b\"],[0.6666666666666666,\"#ed7953\"],[0.7777777777777778,\"#fb9f3a\"],[0.8888888888888888,\"#fdca26\"],[1.0,\"#f0f921\"]],\"type\":\"surface\"}],\"table\":[{\"cells\":{\"fill\":{\"color\":\"#EBF0F8\"},\"line\":{\"color\":\"white\"}},\"header\":{\"fill\":{\"color\":\"#C8D4E3\"},\"line\":{\"color\":\"white\"}},\"type\":\"table\"}]},\"layout\":{\"annotationdefaults\":{\"arrowcolor\":\"#2a3f5f\",\"arrowhead\":0,\"arrowwidth\":1},\"autotypenumbers\":\"strict\",\"coloraxis\":{\"colorbar\":{\"outlinewidth\":0,\"ticks\":\"\"}},\"colorscale\":{\"diverging\":[[0,\"#8e0152\"],[0.1,\"#c51b7d\"],[0.2,\"#de77ae\"],[0.3,\"#f1b6da\"],[0.4,\"#fde0ef\"],[0.5,\"#f7f7f7\"],[0.6,\"#e6f5d0\"],[0.7,\"#b8e186\"],[0.8,\"#7fbc41\"],[0.9,\"#4d9221\"],[1,\"#276419\"]],\"sequential\":[[0.0,\"#0d0887\"],[0.1111111111111111,\"#46039f\"],[0.2222222222222222,\"#7201a8\"],[0.3333333333333333,\"#9c179e\"],[0.4444444444444444,\"#bd3786\"],[0.5555555555555556,\"#d8576b\"],[0.6666666666666666,\"#ed7953\"],[0.7777777777777778,\"#fb9f3a\"],[0.8888888888888888,\"#fdca26\"],[1.0,\"#f0f921\"]],\"sequentialminus\":[[0.0,\"#0d0887\"],[0.1111111111111111,\"#46039f\"],[0.2222222222222222,\"#7201a8\"],[0.3333333333333333,\"#9c179e\"],[0.4444444444444444,\"#bd3786\"],[0.5555555555555556,\"#d8576b\"],[0.6666666666666666,\"#ed7953\"],[0.7777777777777778,\"#fb9f3a\"],[0.8888888888888888,\"#fdca26\"],[1.0,\"#f0f921\"]]},\"colorway\":[\"#636efa\",\"#EF553B\",\"#00cc96\",\"#ab63fa\",\"#FFA15A\",\"#19d3f3\",\"#FF6692\",\"#B6E880\",\"#FF97FF\",\"#FECB52\"],\"font\":{\"color\":\"#2a3f5f\"},\"geo\":{\"bgcolor\":\"white\",\"lakecolor\":\"white\",\"landcolor\":\"#E5ECF6\",\"showlakes\":true,\"showland\":true,\"subunitcolor\":\"white\"},\"hoverlabel\":{\"align\":\"left\"},\"hovermode\":\"closest\",\"mapbox\":{\"style\":\"light\"},\"paper_bgcolor\":\"white\",\"plot_bgcolor\":\"#E5ECF6\",\"polar\":{\"angularaxis\":{\"gridcolor\":\"white\",\"linecolor\":\"white\",\"ticks\":\"\"},\"bgcolor\":\"#E5ECF6\",\"radialaxis\":{\"gridcolor\":\"white\",\"linecolor\":\"white\",\"ticks\":\"\"}},\"scene\":{\"xaxis\":{\"backgroundcolor\":\"#E5ECF6\",\"gridcolor\":\"white\",\"gridwidth\":2,\"linecolor\":\"white\",\"showbackground\":true,\"ticks\":\"\",\"zerolinecolor\":\"white\"},\"yaxis\":{\"backgroundcolor\":\"#E5ECF6\",\"gridcolor\":\"white\",\"gridwidth\":2,\"linecolor\":\"white\",\"showbackground\":true,\"ticks\":\"\",\"zerolinecolor\":\"white\"},\"zaxis\":{\"backgroundcolor\":\"#E5ECF6\",\"gridcolor\":\"white\",\"gridwidth\":2,\"linecolor\":\"white\",\"showbackground\":true,\"ticks\":\"\",\"zerolinecolor\":\"white\"}},\"shapedefaults\":{\"line\":{\"color\":\"#2a3f5f\"}},\"ternary\":{\"aaxis\":{\"gridcolor\":\"white\",\"linecolor\":\"white\",\"ticks\":\"\"},\"baxis\":{\"gridcolor\":\"white\",\"linecolor\":\"white\",\"ticks\":\"\"},\"bgcolor\":\"#E5ECF6\",\"caxis\":{\"gridcolor\":\"white\",\"linecolor\":\"white\",\"ticks\":\"\"}},\"title\":{\"x\":0.05},\"xaxis\":{\"automargin\":true,\"gridcolor\":\"white\",\"linecolor\":\"white\",\"ticks\":\"\",\"title\":{\"standoff\":15},\"zerolinecolor\":\"white\",\"zerolinewidth\":2},\"yaxis\":{\"automargin\":true,\"gridcolor\":\"white\",\"linecolor\":\"white\",\"ticks\":\"\",\"title\":{\"standoff\":15},\"zerolinecolor\":\"white\",\"zerolinewidth\":2}}},\"title\":{\"font\":{\"color\":\"#4D5663\"}},\"xaxis\":{\"gridcolor\":\"#E1E5ED\",\"showgrid\":true,\"tickfont\":{\"color\":\"#4D5663\"},\"title\":{\"font\":{\"color\":\"#4D5663\"},\"text\":\"\"},\"zerolinecolor\":\"#E1E5ED\"},\"yaxis\":{\"gridcolor\":\"#E1E5ED\",\"showgrid\":true,\"tickfont\":{\"color\":\"#4D5663\"},\"title\":{\"font\":{\"color\":\"#4D5663\"},\"text\":\"\"},\"zerolinecolor\":\"#E1E5ED\"}},                        {\"showLink\": true, \"linkText\": \"Export to plot.ly\", \"plotlyServerURL\": \"https://plot.ly\", \"responsive\": true}                    ).then(function(){\n",
       "                            \n",
       "var gd = document.getElementById('d633038c-e6b8-4efa-bac0-7d13604c5a85');\n",
       "var x = new MutationObserver(function (mutations, observer) {{\n",
       "        var display = window.getComputedStyle(gd).display;\n",
       "        if (!display || display === 'none') {{\n",
       "            console.log([gd, 'removed!']);\n",
       "            Plotly.purge(gd);\n",
       "            observer.disconnect();\n",
       "        }}\n",
       "}});\n",
       "\n",
       "// Listen for the removal of the full notebook cells\n",
       "var notebookContainer = gd.closest('#notebook-container');\n",
       "if (notebookContainer) {{\n",
       "    x.observe(notebookContainer, {childList: true});\n",
       "}}\n",
       "\n",
       "// Listen for the clearing of the current output cell\n",
       "var outputEl = gd.closest('.output');\n",
       "if (outputEl) {{\n",
       "    x.observe(outputEl, {childList: true});\n",
       "}}\n",
       "\n",
       "                        })                };                });            </script>        </div>"
      ]
     },
     "metadata": {},
     "output_type": "display_data"
    }
   ],
   "source": [
    "df2.iplot(kind='bar',x='Category',y='Values')"
   ]
  },
  {
   "cell_type": "code",
   "execution_count": 15,
   "metadata": {
    "collapsed": false
   },
   "outputs": [
    {
     "data": {
      "application/vnd.plotly.v1+json": {
       "config": {
        "linkText": "Export to plot.ly",
        "plotlyServerURL": "https://plot.ly",
        "showLink": true
       },
       "data": [
        {
         "marker": {
          "color": "rgba(255, 153, 51, 0.6)",
          "line": {
           "color": "rgba(255, 153, 51, 1.0)",
           "width": 1
          }
         },
         "name": "None",
         "orientation": "v",
         "text": "",
         "type": "bar",
         "x": [
          "A",
          "B",
          "C",
          "D"
         ],
         "y": [
          100,
          100,
          100,
          100
         ]
        }
       ],
       "layout": {
        "legend": {
         "bgcolor": "#F5F6F9",
         "font": {
          "color": "#4D5663"
         }
        },
        "paper_bgcolor": "#F5F6F9",
        "plot_bgcolor": "#F5F6F9",
        "template": {
         "data": {
          "bar": [
           {
            "error_x": {
             "color": "#2a3f5f"
            },
            "error_y": {
             "color": "#2a3f5f"
            },
            "marker": {
             "line": {
              "color": "#E5ECF6",
              "width": 0.5
             },
             "pattern": {
              "fillmode": "overlay",
              "size": 10,
              "solidity": 0.2
             }
            },
            "type": "bar"
           }
          ],
          "barpolar": [
           {
            "marker": {
             "line": {
              "color": "#E5ECF6",
              "width": 0.5
             },
             "pattern": {
              "fillmode": "overlay",
              "size": 10,
              "solidity": 0.2
             }
            },
            "type": "barpolar"
           }
          ],
          "carpet": [
           {
            "aaxis": {
             "endlinecolor": "#2a3f5f",
             "gridcolor": "white",
             "linecolor": "white",
             "minorgridcolor": "white",
             "startlinecolor": "#2a3f5f"
            },
            "baxis": {
             "endlinecolor": "#2a3f5f",
             "gridcolor": "white",
             "linecolor": "white",
             "minorgridcolor": "white",
             "startlinecolor": "#2a3f5f"
            },
            "type": "carpet"
           }
          ],
          "choropleth": [
           {
            "colorbar": {
             "outlinewidth": 0,
             "ticks": ""
            },
            "type": "choropleth"
           }
          ],
          "contour": [
           {
            "colorbar": {
             "outlinewidth": 0,
             "ticks": ""
            },
            "colorscale": [
             [
              0,
              "#0d0887"
             ],
             [
              0.1111111111111111,
              "#46039f"
             ],
             [
              0.2222222222222222,
              "#7201a8"
             ],
             [
              0.3333333333333333,
              "#9c179e"
             ],
             [
              0.4444444444444444,
              "#bd3786"
             ],
             [
              0.5555555555555556,
              "#d8576b"
             ],
             [
              0.6666666666666666,
              "#ed7953"
             ],
             [
              0.7777777777777778,
              "#fb9f3a"
             ],
             [
              0.8888888888888888,
              "#fdca26"
             ],
             [
              1,
              "#f0f921"
             ]
            ],
            "type": "contour"
           }
          ],
          "contourcarpet": [
           {
            "colorbar": {
             "outlinewidth": 0,
             "ticks": ""
            },
            "type": "contourcarpet"
           }
          ],
          "heatmap": [
           {
            "colorbar": {
             "outlinewidth": 0,
             "ticks": ""
            },
            "colorscale": [
             [
              0,
              "#0d0887"
             ],
             [
              0.1111111111111111,
              "#46039f"
             ],
             [
              0.2222222222222222,
              "#7201a8"
             ],
             [
              0.3333333333333333,
              "#9c179e"
             ],
             [
              0.4444444444444444,
              "#bd3786"
             ],
             [
              0.5555555555555556,
              "#d8576b"
             ],
             [
              0.6666666666666666,
              "#ed7953"
             ],
             [
              0.7777777777777778,
              "#fb9f3a"
             ],
             [
              0.8888888888888888,
              "#fdca26"
             ],
             [
              1,
              "#f0f921"
             ]
            ],
            "type": "heatmap"
           }
          ],
          "heatmapgl": [
           {
            "colorbar": {
             "outlinewidth": 0,
             "ticks": ""
            },
            "colorscale": [
             [
              0,
              "#0d0887"
             ],
             [
              0.1111111111111111,
              "#46039f"
             ],
             [
              0.2222222222222222,
              "#7201a8"
             ],
             [
              0.3333333333333333,
              "#9c179e"
             ],
             [
              0.4444444444444444,
              "#bd3786"
             ],
             [
              0.5555555555555556,
              "#d8576b"
             ],
             [
              0.6666666666666666,
              "#ed7953"
             ],
             [
              0.7777777777777778,
              "#fb9f3a"
             ],
             [
              0.8888888888888888,
              "#fdca26"
             ],
             [
              1,
              "#f0f921"
             ]
            ],
            "type": "heatmapgl"
           }
          ],
          "histogram": [
           {
            "marker": {
             "pattern": {
              "fillmode": "overlay",
              "size": 10,
              "solidity": 0.2
             }
            },
            "type": "histogram"
           }
          ],
          "histogram2d": [
           {
            "colorbar": {
             "outlinewidth": 0,
             "ticks": ""
            },
            "colorscale": [
             [
              0,
              "#0d0887"
             ],
             [
              0.1111111111111111,
              "#46039f"
             ],
             [
              0.2222222222222222,
              "#7201a8"
             ],
             [
              0.3333333333333333,
              "#9c179e"
             ],
             [
              0.4444444444444444,
              "#bd3786"
             ],
             [
              0.5555555555555556,
              "#d8576b"
             ],
             [
              0.6666666666666666,
              "#ed7953"
             ],
             [
              0.7777777777777778,
              "#fb9f3a"
             ],
             [
              0.8888888888888888,
              "#fdca26"
             ],
             [
              1,
              "#f0f921"
             ]
            ],
            "type": "histogram2d"
           }
          ],
          "histogram2dcontour": [
           {
            "colorbar": {
             "outlinewidth": 0,
             "ticks": ""
            },
            "colorscale": [
             [
              0,
              "#0d0887"
             ],
             [
              0.1111111111111111,
              "#46039f"
             ],
             [
              0.2222222222222222,
              "#7201a8"
             ],
             [
              0.3333333333333333,
              "#9c179e"
             ],
             [
              0.4444444444444444,
              "#bd3786"
             ],
             [
              0.5555555555555556,
              "#d8576b"
             ],
             [
              0.6666666666666666,
              "#ed7953"
             ],
             [
              0.7777777777777778,
              "#fb9f3a"
             ],
             [
              0.8888888888888888,
              "#fdca26"
             ],
             [
              1,
              "#f0f921"
             ]
            ],
            "type": "histogram2dcontour"
           }
          ],
          "mesh3d": [
           {
            "colorbar": {
             "outlinewidth": 0,
             "ticks": ""
            },
            "type": "mesh3d"
           }
          ],
          "parcoords": [
           {
            "line": {
             "colorbar": {
              "outlinewidth": 0,
              "ticks": ""
             }
            },
            "type": "parcoords"
           }
          ],
          "pie": [
           {
            "automargin": true,
            "type": "pie"
           }
          ],
          "scatter": [
           {
            "fillpattern": {
             "fillmode": "overlay",
             "size": 10,
             "solidity": 0.2
            },
            "type": "scatter"
           }
          ],
          "scatter3d": [
           {
            "line": {
             "colorbar": {
              "outlinewidth": 0,
              "ticks": ""
             }
            },
            "marker": {
             "colorbar": {
              "outlinewidth": 0,
              "ticks": ""
             }
            },
            "type": "scatter3d"
           }
          ],
          "scattercarpet": [
           {
            "marker": {
             "colorbar": {
              "outlinewidth": 0,
              "ticks": ""
             }
            },
            "type": "scattercarpet"
           }
          ],
          "scattergeo": [
           {
            "marker": {
             "colorbar": {
              "outlinewidth": 0,
              "ticks": ""
             }
            },
            "type": "scattergeo"
           }
          ],
          "scattergl": [
           {
            "marker": {
             "colorbar": {
              "outlinewidth": 0,
              "ticks": ""
             }
            },
            "type": "scattergl"
           }
          ],
          "scattermapbox": [
           {
            "marker": {
             "colorbar": {
              "outlinewidth": 0,
              "ticks": ""
             }
            },
            "type": "scattermapbox"
           }
          ],
          "scatterpolar": [
           {
            "marker": {
             "colorbar": {
              "outlinewidth": 0,
              "ticks": ""
             }
            },
            "type": "scatterpolar"
           }
          ],
          "scatterpolargl": [
           {
            "marker": {
             "colorbar": {
              "outlinewidth": 0,
              "ticks": ""
             }
            },
            "type": "scatterpolargl"
           }
          ],
          "scatterternary": [
           {
            "marker": {
             "colorbar": {
              "outlinewidth": 0,
              "ticks": ""
             }
            },
            "type": "scatterternary"
           }
          ],
          "surface": [
           {
            "colorbar": {
             "outlinewidth": 0,
             "ticks": ""
            },
            "colorscale": [
             [
              0,
              "#0d0887"
             ],
             [
              0.1111111111111111,
              "#46039f"
             ],
             [
              0.2222222222222222,
              "#7201a8"
             ],
             [
              0.3333333333333333,
              "#9c179e"
             ],
             [
              0.4444444444444444,
              "#bd3786"
             ],
             [
              0.5555555555555556,
              "#d8576b"
             ],
             [
              0.6666666666666666,
              "#ed7953"
             ],
             [
              0.7777777777777778,
              "#fb9f3a"
             ],
             [
              0.8888888888888888,
              "#fdca26"
             ],
             [
              1,
              "#f0f921"
             ]
            ],
            "type": "surface"
           }
          ],
          "table": [
           {
            "cells": {
             "fill": {
              "color": "#EBF0F8"
             },
             "line": {
              "color": "white"
             }
            },
            "header": {
             "fill": {
              "color": "#C8D4E3"
             },
             "line": {
              "color": "white"
             }
            },
            "type": "table"
           }
          ]
         },
         "layout": {
          "annotationdefaults": {
           "arrowcolor": "#2a3f5f",
           "arrowhead": 0,
           "arrowwidth": 1
          },
          "autotypenumbers": "strict",
          "coloraxis": {
           "colorbar": {
            "outlinewidth": 0,
            "ticks": ""
           }
          },
          "colorscale": {
           "diverging": [
            [
             0,
             "#8e0152"
            ],
            [
             0.1,
             "#c51b7d"
            ],
            [
             0.2,
             "#de77ae"
            ],
            [
             0.3,
             "#f1b6da"
            ],
            [
             0.4,
             "#fde0ef"
            ],
            [
             0.5,
             "#f7f7f7"
            ],
            [
             0.6,
             "#e6f5d0"
            ],
            [
             0.7,
             "#b8e186"
            ],
            [
             0.8,
             "#7fbc41"
            ],
            [
             0.9,
             "#4d9221"
            ],
            [
             1,
             "#276419"
            ]
           ],
           "sequential": [
            [
             0,
             "#0d0887"
            ],
            [
             0.1111111111111111,
             "#46039f"
            ],
            [
             0.2222222222222222,
             "#7201a8"
            ],
            [
             0.3333333333333333,
             "#9c179e"
            ],
            [
             0.4444444444444444,
             "#bd3786"
            ],
            [
             0.5555555555555556,
             "#d8576b"
            ],
            [
             0.6666666666666666,
             "#ed7953"
            ],
            [
             0.7777777777777778,
             "#fb9f3a"
            ],
            [
             0.8888888888888888,
             "#fdca26"
            ],
            [
             1,
             "#f0f921"
            ]
           ],
           "sequentialminus": [
            [
             0,
             "#0d0887"
            ],
            [
             0.1111111111111111,
             "#46039f"
            ],
            [
             0.2222222222222222,
             "#7201a8"
            ],
            [
             0.3333333333333333,
             "#9c179e"
            ],
            [
             0.4444444444444444,
             "#bd3786"
            ],
            [
             0.5555555555555556,
             "#d8576b"
            ],
            [
             0.6666666666666666,
             "#ed7953"
            ],
            [
             0.7777777777777778,
             "#fb9f3a"
            ],
            [
             0.8888888888888888,
             "#fdca26"
            ],
            [
             1,
             "#f0f921"
            ]
           ]
          },
          "colorway": [
           "#636efa",
           "#EF553B",
           "#00cc96",
           "#ab63fa",
           "#FFA15A",
           "#19d3f3",
           "#FF6692",
           "#B6E880",
           "#FF97FF",
           "#FECB52"
          ],
          "font": {
           "color": "#2a3f5f"
          },
          "geo": {
           "bgcolor": "white",
           "lakecolor": "white",
           "landcolor": "#E5ECF6",
           "showlakes": true,
           "showland": true,
           "subunitcolor": "white"
          },
          "hoverlabel": {
           "align": "left"
          },
          "hovermode": "closest",
          "mapbox": {
           "style": "light"
          },
          "paper_bgcolor": "white",
          "plot_bgcolor": "#E5ECF6",
          "polar": {
           "angularaxis": {
            "gridcolor": "white",
            "linecolor": "white",
            "ticks": ""
           },
           "bgcolor": "#E5ECF6",
           "radialaxis": {
            "gridcolor": "white",
            "linecolor": "white",
            "ticks": ""
           }
          },
          "scene": {
           "xaxis": {
            "backgroundcolor": "#E5ECF6",
            "gridcolor": "white",
            "gridwidth": 2,
            "linecolor": "white",
            "showbackground": true,
            "ticks": "",
            "zerolinecolor": "white"
           },
           "yaxis": {
            "backgroundcolor": "#E5ECF6",
            "gridcolor": "white",
            "gridwidth": 2,
            "linecolor": "white",
            "showbackground": true,
            "ticks": "",
            "zerolinecolor": "white"
           },
           "zaxis": {
            "backgroundcolor": "#E5ECF6",
            "gridcolor": "white",
            "gridwidth": 2,
            "linecolor": "white",
            "showbackground": true,
            "ticks": "",
            "zerolinecolor": "white"
           }
          },
          "shapedefaults": {
           "line": {
            "color": "#2a3f5f"
           }
          },
          "ternary": {
           "aaxis": {
            "gridcolor": "white",
            "linecolor": "white",
            "ticks": ""
           },
           "baxis": {
            "gridcolor": "white",
            "linecolor": "white",
            "ticks": ""
           },
           "bgcolor": "#E5ECF6",
           "caxis": {
            "gridcolor": "white",
            "linecolor": "white",
            "ticks": ""
           }
          },
          "title": {
           "x": 0.05
          },
          "xaxis": {
           "automargin": true,
           "gridcolor": "white",
           "linecolor": "white",
           "ticks": "",
           "title": {
            "standoff": 15
           },
           "zerolinecolor": "white",
           "zerolinewidth": 2
          },
          "yaxis": {
           "automargin": true,
           "gridcolor": "white",
           "linecolor": "white",
           "ticks": "",
           "title": {
            "standoff": 15
           },
           "zerolinecolor": "white",
           "zerolinewidth": 2
          }
         }
        },
        "title": {
         "font": {
          "color": "#4D5663"
         }
        },
        "xaxis": {
         "gridcolor": "#E1E5ED",
         "showgrid": true,
         "tickfont": {
          "color": "#4D5663"
         },
         "title": {
          "font": {
           "color": "#4D5663"
          },
          "text": ""
         },
         "zerolinecolor": "#E1E5ED"
        },
        "yaxis": {
         "gridcolor": "#E1E5ED",
         "showgrid": true,
         "tickfont": {
          "color": "#4D5663"
         },
         "title": {
          "font": {
           "color": "#4D5663"
          },
          "text": ""
         },
         "zerolinecolor": "#E1E5ED"
        }
       }
      },
      "text/html": [
       "<div>                            <div id=\"d60dfc3e-ebc8-43be-8caa-95c5ff2e49c0\" class=\"plotly-graph-div\" style=\"height:525px; width:100%;\"></div>            <script type=\"text/javascript\">                require([\"plotly\"], function(Plotly) {                    window.PLOTLYENV=window.PLOTLYENV || {};\n",
       "                    window.PLOTLYENV.BASE_URL='https://plot.ly';                                    if (document.getElementById(\"d60dfc3e-ebc8-43be-8caa-95c5ff2e49c0\")) {                    Plotly.newPlot(                        \"d60dfc3e-ebc8-43be-8caa-95c5ff2e49c0\",                        [{\"marker\":{\"color\":\"rgba(255, 153, 51, 0.6)\",\"line\":{\"color\":\"rgba(255, 153, 51, 1.0)\",\"width\":1}},\"name\":\"None\",\"orientation\":\"v\",\"text\":\"\",\"x\":[\"A\",\"B\",\"C\",\"D\"],\"y\":[100,100,100,100],\"type\":\"bar\"}],                        {\"legend\":{\"bgcolor\":\"#F5F6F9\",\"font\":{\"color\":\"#4D5663\"}},\"paper_bgcolor\":\"#F5F6F9\",\"plot_bgcolor\":\"#F5F6F9\",\"template\":{\"data\":{\"barpolar\":[{\"marker\":{\"line\":{\"color\":\"#E5ECF6\",\"width\":0.5},\"pattern\":{\"fillmode\":\"overlay\",\"size\":10,\"solidity\":0.2}},\"type\":\"barpolar\"}],\"bar\":[{\"error_x\":{\"color\":\"#2a3f5f\"},\"error_y\":{\"color\":\"#2a3f5f\"},\"marker\":{\"line\":{\"color\":\"#E5ECF6\",\"width\":0.5},\"pattern\":{\"fillmode\":\"overlay\",\"size\":10,\"solidity\":0.2}},\"type\":\"bar\"}],\"carpet\":[{\"aaxis\":{\"endlinecolor\":\"#2a3f5f\",\"gridcolor\":\"white\",\"linecolor\":\"white\",\"minorgridcolor\":\"white\",\"startlinecolor\":\"#2a3f5f\"},\"baxis\":{\"endlinecolor\":\"#2a3f5f\",\"gridcolor\":\"white\",\"linecolor\":\"white\",\"minorgridcolor\":\"white\",\"startlinecolor\":\"#2a3f5f\"},\"type\":\"carpet\"}],\"choropleth\":[{\"colorbar\":{\"outlinewidth\":0,\"ticks\":\"\"},\"type\":\"choropleth\"}],\"contourcarpet\":[{\"colorbar\":{\"outlinewidth\":0,\"ticks\":\"\"},\"type\":\"contourcarpet\"}],\"contour\":[{\"colorbar\":{\"outlinewidth\":0,\"ticks\":\"\"},\"colorscale\":[[0.0,\"#0d0887\"],[0.1111111111111111,\"#46039f\"],[0.2222222222222222,\"#7201a8\"],[0.3333333333333333,\"#9c179e\"],[0.4444444444444444,\"#bd3786\"],[0.5555555555555556,\"#d8576b\"],[0.6666666666666666,\"#ed7953\"],[0.7777777777777778,\"#fb9f3a\"],[0.8888888888888888,\"#fdca26\"],[1.0,\"#f0f921\"]],\"type\":\"contour\"}],\"heatmapgl\":[{\"colorbar\":{\"outlinewidth\":0,\"ticks\":\"\"},\"colorscale\":[[0.0,\"#0d0887\"],[0.1111111111111111,\"#46039f\"],[0.2222222222222222,\"#7201a8\"],[0.3333333333333333,\"#9c179e\"],[0.4444444444444444,\"#bd3786\"],[0.5555555555555556,\"#d8576b\"],[0.6666666666666666,\"#ed7953\"],[0.7777777777777778,\"#fb9f3a\"],[0.8888888888888888,\"#fdca26\"],[1.0,\"#f0f921\"]],\"type\":\"heatmapgl\"}],\"heatmap\":[{\"colorbar\":{\"outlinewidth\":0,\"ticks\":\"\"},\"colorscale\":[[0.0,\"#0d0887\"],[0.1111111111111111,\"#46039f\"],[0.2222222222222222,\"#7201a8\"],[0.3333333333333333,\"#9c179e\"],[0.4444444444444444,\"#bd3786\"],[0.5555555555555556,\"#d8576b\"],[0.6666666666666666,\"#ed7953\"],[0.7777777777777778,\"#fb9f3a\"],[0.8888888888888888,\"#fdca26\"],[1.0,\"#f0f921\"]],\"type\":\"heatmap\"}],\"histogram2dcontour\":[{\"colorbar\":{\"outlinewidth\":0,\"ticks\":\"\"},\"colorscale\":[[0.0,\"#0d0887\"],[0.1111111111111111,\"#46039f\"],[0.2222222222222222,\"#7201a8\"],[0.3333333333333333,\"#9c179e\"],[0.4444444444444444,\"#bd3786\"],[0.5555555555555556,\"#d8576b\"],[0.6666666666666666,\"#ed7953\"],[0.7777777777777778,\"#fb9f3a\"],[0.8888888888888888,\"#fdca26\"],[1.0,\"#f0f921\"]],\"type\":\"histogram2dcontour\"}],\"histogram2d\":[{\"colorbar\":{\"outlinewidth\":0,\"ticks\":\"\"},\"colorscale\":[[0.0,\"#0d0887\"],[0.1111111111111111,\"#46039f\"],[0.2222222222222222,\"#7201a8\"],[0.3333333333333333,\"#9c179e\"],[0.4444444444444444,\"#bd3786\"],[0.5555555555555556,\"#d8576b\"],[0.6666666666666666,\"#ed7953\"],[0.7777777777777778,\"#fb9f3a\"],[0.8888888888888888,\"#fdca26\"],[1.0,\"#f0f921\"]],\"type\":\"histogram2d\"}],\"histogram\":[{\"marker\":{\"pattern\":{\"fillmode\":\"overlay\",\"size\":10,\"solidity\":0.2}},\"type\":\"histogram\"}],\"mesh3d\":[{\"colorbar\":{\"outlinewidth\":0,\"ticks\":\"\"},\"type\":\"mesh3d\"}],\"parcoords\":[{\"line\":{\"colorbar\":{\"outlinewidth\":0,\"ticks\":\"\"}},\"type\":\"parcoords\"}],\"pie\":[{\"automargin\":true,\"type\":\"pie\"}],\"scatter3d\":[{\"line\":{\"colorbar\":{\"outlinewidth\":0,\"ticks\":\"\"}},\"marker\":{\"colorbar\":{\"outlinewidth\":0,\"ticks\":\"\"}},\"type\":\"scatter3d\"}],\"scattercarpet\":[{\"marker\":{\"colorbar\":{\"outlinewidth\":0,\"ticks\":\"\"}},\"type\":\"scattercarpet\"}],\"scattergeo\":[{\"marker\":{\"colorbar\":{\"outlinewidth\":0,\"ticks\":\"\"}},\"type\":\"scattergeo\"}],\"scattergl\":[{\"marker\":{\"colorbar\":{\"outlinewidth\":0,\"ticks\":\"\"}},\"type\":\"scattergl\"}],\"scattermapbox\":[{\"marker\":{\"colorbar\":{\"outlinewidth\":0,\"ticks\":\"\"}},\"type\":\"scattermapbox\"}],\"scatterpolargl\":[{\"marker\":{\"colorbar\":{\"outlinewidth\":0,\"ticks\":\"\"}},\"type\":\"scatterpolargl\"}],\"scatterpolar\":[{\"marker\":{\"colorbar\":{\"outlinewidth\":0,\"ticks\":\"\"}},\"type\":\"scatterpolar\"}],\"scatter\":[{\"fillpattern\":{\"fillmode\":\"overlay\",\"size\":10,\"solidity\":0.2},\"type\":\"scatter\"}],\"scatterternary\":[{\"marker\":{\"colorbar\":{\"outlinewidth\":0,\"ticks\":\"\"}},\"type\":\"scatterternary\"}],\"surface\":[{\"colorbar\":{\"outlinewidth\":0,\"ticks\":\"\"},\"colorscale\":[[0.0,\"#0d0887\"],[0.1111111111111111,\"#46039f\"],[0.2222222222222222,\"#7201a8\"],[0.3333333333333333,\"#9c179e\"],[0.4444444444444444,\"#bd3786\"],[0.5555555555555556,\"#d8576b\"],[0.6666666666666666,\"#ed7953\"],[0.7777777777777778,\"#fb9f3a\"],[0.8888888888888888,\"#fdca26\"],[1.0,\"#f0f921\"]],\"type\":\"surface\"}],\"table\":[{\"cells\":{\"fill\":{\"color\":\"#EBF0F8\"},\"line\":{\"color\":\"white\"}},\"header\":{\"fill\":{\"color\":\"#C8D4E3\"},\"line\":{\"color\":\"white\"}},\"type\":\"table\"}]},\"layout\":{\"annotationdefaults\":{\"arrowcolor\":\"#2a3f5f\",\"arrowhead\":0,\"arrowwidth\":1},\"autotypenumbers\":\"strict\",\"coloraxis\":{\"colorbar\":{\"outlinewidth\":0,\"ticks\":\"\"}},\"colorscale\":{\"diverging\":[[0,\"#8e0152\"],[0.1,\"#c51b7d\"],[0.2,\"#de77ae\"],[0.3,\"#f1b6da\"],[0.4,\"#fde0ef\"],[0.5,\"#f7f7f7\"],[0.6,\"#e6f5d0\"],[0.7,\"#b8e186\"],[0.8,\"#7fbc41\"],[0.9,\"#4d9221\"],[1,\"#276419\"]],\"sequential\":[[0.0,\"#0d0887\"],[0.1111111111111111,\"#46039f\"],[0.2222222222222222,\"#7201a8\"],[0.3333333333333333,\"#9c179e\"],[0.4444444444444444,\"#bd3786\"],[0.5555555555555556,\"#d8576b\"],[0.6666666666666666,\"#ed7953\"],[0.7777777777777778,\"#fb9f3a\"],[0.8888888888888888,\"#fdca26\"],[1.0,\"#f0f921\"]],\"sequentialminus\":[[0.0,\"#0d0887\"],[0.1111111111111111,\"#46039f\"],[0.2222222222222222,\"#7201a8\"],[0.3333333333333333,\"#9c179e\"],[0.4444444444444444,\"#bd3786\"],[0.5555555555555556,\"#d8576b\"],[0.6666666666666666,\"#ed7953\"],[0.7777777777777778,\"#fb9f3a\"],[0.8888888888888888,\"#fdca26\"],[1.0,\"#f0f921\"]]},\"colorway\":[\"#636efa\",\"#EF553B\",\"#00cc96\",\"#ab63fa\",\"#FFA15A\",\"#19d3f3\",\"#FF6692\",\"#B6E880\",\"#FF97FF\",\"#FECB52\"],\"font\":{\"color\":\"#2a3f5f\"},\"geo\":{\"bgcolor\":\"white\",\"lakecolor\":\"white\",\"landcolor\":\"#E5ECF6\",\"showlakes\":true,\"showland\":true,\"subunitcolor\":\"white\"},\"hoverlabel\":{\"align\":\"left\"},\"hovermode\":\"closest\",\"mapbox\":{\"style\":\"light\"},\"paper_bgcolor\":\"white\",\"plot_bgcolor\":\"#E5ECF6\",\"polar\":{\"angularaxis\":{\"gridcolor\":\"white\",\"linecolor\":\"white\",\"ticks\":\"\"},\"bgcolor\":\"#E5ECF6\",\"radialaxis\":{\"gridcolor\":\"white\",\"linecolor\":\"white\",\"ticks\":\"\"}},\"scene\":{\"xaxis\":{\"backgroundcolor\":\"#E5ECF6\",\"gridcolor\":\"white\",\"gridwidth\":2,\"linecolor\":\"white\",\"showbackground\":true,\"ticks\":\"\",\"zerolinecolor\":\"white\"},\"yaxis\":{\"backgroundcolor\":\"#E5ECF6\",\"gridcolor\":\"white\",\"gridwidth\":2,\"linecolor\":\"white\",\"showbackground\":true,\"ticks\":\"\",\"zerolinecolor\":\"white\"},\"zaxis\":{\"backgroundcolor\":\"#E5ECF6\",\"gridcolor\":\"white\",\"gridwidth\":2,\"linecolor\":\"white\",\"showbackground\":true,\"ticks\":\"\",\"zerolinecolor\":\"white\"}},\"shapedefaults\":{\"line\":{\"color\":\"#2a3f5f\"}},\"ternary\":{\"aaxis\":{\"gridcolor\":\"white\",\"linecolor\":\"white\",\"ticks\":\"\"},\"baxis\":{\"gridcolor\":\"white\",\"linecolor\":\"white\",\"ticks\":\"\"},\"bgcolor\":\"#E5ECF6\",\"caxis\":{\"gridcolor\":\"white\",\"linecolor\":\"white\",\"ticks\":\"\"}},\"title\":{\"x\":0.05},\"xaxis\":{\"automargin\":true,\"gridcolor\":\"white\",\"linecolor\":\"white\",\"ticks\":\"\",\"title\":{\"standoff\":15},\"zerolinecolor\":\"white\",\"zerolinewidth\":2},\"yaxis\":{\"automargin\":true,\"gridcolor\":\"white\",\"linecolor\":\"white\",\"ticks\":\"\",\"title\":{\"standoff\":15},\"zerolinecolor\":\"white\",\"zerolinewidth\":2}}},\"title\":{\"font\":{\"color\":\"#4D5663\"}},\"xaxis\":{\"gridcolor\":\"#E1E5ED\",\"showgrid\":true,\"tickfont\":{\"color\":\"#4D5663\"},\"title\":{\"font\":{\"color\":\"#4D5663\"},\"text\":\"\"},\"zerolinecolor\":\"#E1E5ED\"},\"yaxis\":{\"gridcolor\":\"#E1E5ED\",\"showgrid\":true,\"tickfont\":{\"color\":\"#4D5663\"},\"title\":{\"font\":{\"color\":\"#4D5663\"},\"text\":\"\"},\"zerolinecolor\":\"#E1E5ED\"}},                        {\"showLink\": true, \"linkText\": \"Export to plot.ly\", \"plotlyServerURL\": \"https://plot.ly\", \"responsive\": true}                    ).then(function(){\n",
       "                            \n",
       "var gd = document.getElementById('d60dfc3e-ebc8-43be-8caa-95c5ff2e49c0');\n",
       "var x = new MutationObserver(function (mutations, observer) {{\n",
       "        var display = window.getComputedStyle(gd).display;\n",
       "        if (!display || display === 'none') {{\n",
       "            console.log([gd, 'removed!']);\n",
       "            Plotly.purge(gd);\n",
       "            observer.disconnect();\n",
       "        }}\n",
       "}});\n",
       "\n",
       "// Listen for the removal of the full notebook cells\n",
       "var notebookContainer = gd.closest('#notebook-container');\n",
       "if (notebookContainer) {{\n",
       "    x.observe(notebookContainer, {childList: true});\n",
       "}}\n",
       "\n",
       "// Listen for the clearing of the current output cell\n",
       "var outputEl = gd.closest('.output');\n",
       "if (outputEl) {{\n",
       "    x.observe(outputEl, {childList: true});\n",
       "}}\n",
       "\n",
       "                        })                };                });            </script>        </div>"
      ]
     },
     "metadata": {},
     "output_type": "display_data"
    }
   ],
   "source": [
    "df.count().iplot(kind='bar')"
   ]
  },
  {
   "cell_type": "markdown",
   "metadata": {},
   "source": [
    "## Boxplots"
   ]
  },
  {
   "cell_type": "code",
   "execution_count": 16,
   "metadata": {
    "collapsed": false
   },
   "outputs": [
    {
     "data": {
      "application/vnd.plotly.v1+json": {
       "config": {
        "linkText": "Export to plot.ly",
        "plotlyServerURL": "https://plot.ly",
        "showLink": true
       },
       "data": [
        {
         "boxpoints": false,
         "line": {
          "width": 1.3
         },
         "marker": {
          "color": "rgba(255, 153, 51, 1.0)"
         },
         "name": "A",
         "orientation": "v",
         "type": "box",
         "y": [
          -0.4235298267372065,
          0.8737034190511784,
          -0.4425667569523764,
          0.3986178618161769,
          0.03428784743673946,
          2.06533134908832,
          0.10271963749380746,
          0.05098734502258662,
          -0.1184063857671036,
          1.0964064857463354,
          1.4946454801576834,
          -0.7437131463014094,
          1.3253833864300688,
          -0.49360380332296394,
          -0.13305937269604404,
          0.9240293905139304,
          -0.09424341106312586,
          1.18071399478596,
          0.2645952610124938,
          0.8836118426137318,
          -1.173003943925152,
          -0.3212571585007686,
          -0.4398567644713879,
          -0.021012138960523438,
          0.07155221310667621,
          -2.815070179834287,
          -0.7035450325355791,
          -2.3018781723788013,
          -0.604916557375915,
          -1.3218543223382502,
          -0.3097396604396595,
          -0.854479473887273,
          -0.4678081709677992,
          -0.08838304149912787,
          0.7643585236625032,
          -1.2729795604519634,
          -1.2497474177461365,
          0.11665547061831338,
          0.054222241262439526,
          1.3955567369637993,
          1.2335949227350325,
          0.7811707745028742,
          -0.7062201202758001,
          -0.010086473033524971,
          0.17612395345598061,
          2.0194244526399077,
          -0.124897544987423,
          0.3504515229698034,
          0.704102638494282,
          -0.9641455130531145,
          0.21652976538587435,
          -0.6644405943141568,
          -0.3894761056471769,
          0.5468190505161646,
          -0.8363370271767773,
          -1.1460722642318224,
          -0.07587582681833421,
          0.9619169082305153,
          -0.5239800127167108,
          1.0311673460804889,
          -1.1758734601138927,
          1.5461295811284619,
          -2.5218097000157984,
          0.31240706808234286,
          -0.39540885307643037,
          -0.9181226038092148,
          -0.973212682296477,
          -1.1081306261732067,
          -0.10776950961150684,
          -0.050654313344176784,
          -0.9699477197603297,
          0.8557740272749418,
          1.0221888170710327,
          0.17768076059489119,
          -0.10870171886551774,
          0.29400495682356353,
          0.5229295264694711,
          1.5207606347295235,
          1.0936857792331733,
          -0.11595518871389471,
          -0.9859049663963309,
          -0.8199765183066423,
          0.9134190838522616,
          -0.7916172912135768,
          -0.12131152947593532,
          -1.2701415944118364,
          -0.9773938872991602,
          0.3339642125319659,
          0.6798478253423859,
          -1.5492577140644306,
          0.5787098004342369,
          0.5406428940538466,
          0.7639972929707557,
          0.017857529896215186,
          -0.22871482857901884,
          -0.07650894408479933,
          1.7552590593676092,
          0.18190406729913505,
          -1.6830180224348916,
          -2.2543336155615137
         ]
        },
        {
         "boxpoints": false,
         "line": {
          "width": 1.3
         },
         "marker": {
          "color": "rgba(55, 128, 191, 1.0)"
         },
         "name": "B",
         "orientation": "v",
         "type": "box",
         "y": [
          0.21294078317383458,
          0.2518028123325517,
          0.02091657406832586,
          1.3626170892858607,
          0.008884733090600866,
          -0.7942574105325144,
          -1.4932730233998306,
          1.46030442365578,
          0.5222281818282609,
          -0.6951728119359911,
          -1.128579499529297,
          1.4666696280299252,
          1.8249626782770507,
          0.5202794124545566,
          0.7201153802481164,
          -1.5626581529361065,
          0.3374181890445056,
          -0.2903741529002983,
          -0.40190112011766466,
          -1.1603959048941097,
          0.9945810374960529,
          1.0458734586078855,
          -0.10175723853610258,
          0.5032333501247692,
          0.4423633466724333,
          -0.9292874889142884,
          1.0404659047051579,
          -0.4081306443840345,
          1.5848729347087902,
          0.11617936567027352,
          0.877815726072177,
          -1.6737754450487907,
          -0.6500583582053018,
          0.6400105834817084,
          -0.44334139052207533,
          -0.46506821727471764,
          1.6976387898715808,
          -0.4127523142241755,
          0.2847774928581605,
          2.0843595325833,
          1.1962031768333525,
          -0.19640158479150444,
          -0.076513511860327,
          1.091084899278679,
          0.48501073599044303,
          -0.5488969947992373,
          1.5657928427809016,
          -1.0644035759844077,
          1.194701257470469,
          0.5469168263690459,
          1.733072093267033,
          1.2634577119112578,
          -0.5420507058393845,
          -0.8411226760092744,
          0.2396772592095201,
          -0.5175263212605506,
          1.6612996922788827,
          0.6317816649077945,
          -0.3491301771453928,
          3.2420035524398623,
          -0.3006899949173568,
          1.997414779630204,
          0.12307791592774506,
          -1.2500563474156865,
          0.31535217967862017,
          -0.08156801559514214,
          0.15695759628048428,
          1.097578516882325,
          -1.6933624000861809,
          1.0998500106286162,
          -0.04798598377017386,
          -1.0504861587912668,
          0.2157760376256392,
          0.2721587078516661,
          1.5158996980625876,
          -1.0820719356636508,
          -0.7449838137376683,
          2.1678435919878143,
          -1.3867241124350391,
          1.569218147485345,
          0.9615517659406315,
          -0.13308189808999643,
          1.115636697593061,
          -1.218340919178577,
          1.458638359803591,
          0.2360747011023473,
          0.47478412012124943,
          0.1559355888436621,
          0.26512385357664964,
          0.1568188907648089,
          0.7603143641721575,
          -1.1817614859597358,
          -0.4959769554035473,
          -1.573931163429572,
          0.9898452846005282,
          -1.7092796113603514,
          -0.16008249410907596,
          -0.7349355342113074,
          0.6686336198044844,
          1.0934331284256122
         ]
        },
        {
         "boxpoints": false,
         "line": {
          "width": 1.3
         },
         "marker": {
          "color": "rgba(50, 171, 96, 1.0)"
         },
         "name": "C",
         "orientation": "v",
         "type": "box",
         "y": [
          0.07666732342800771,
          1.2330942872480357,
          0.7174272909879041,
          1.1650341605909447,
          0.38844987290932875,
          -0.9639285898227601,
          -0.35383599355953205,
          -2.336303967107702,
          -0.454184402697137,
          0.9137067197584892,
          -0.2607123082209486,
          0.9433341029331787,
          -0.21795959215144017,
          2.0247544405549736,
          0.5166075386935827,
          -1.4035414840754523,
          0.2217421931499329,
          2.0397128159939464,
          -0.3528736724112633,
          1.3309677291731317,
          -0.4480429789873115,
          -2.2028929642418946,
          1.2700050164467438,
          0.3459762667561772,
          0.503265154331763,
          -0.5968947666394623,
          -0.0628886145301624,
          1.1198371781866292,
          -0.46937324902263566,
          -0.05882297773839477,
          0.5624518934746332,
          -0.8132685672237479,
          0.6272154794742844,
          -1.110779835019135,
          0.18092756927280107,
          0.9022611614334409,
          0.29925281584494856,
          0.644303083237883,
          -0.7146993167999712,
          0.6826045755625907,
          1.6297891299252922,
          -0.18266370408824886,
          -1.1019918640555506,
          -0.043919066070177884,
          -0.07392731247533543,
          -1.125969023463554,
          -0.8095616124809866,
          -0.6347358104155362,
          -0.8966481619843136,
          -1.4253896791897036,
          1.0938072689136262,
          0.16119350933819893,
          -0.30616337006950906,
          -0.5724668281307519,
          -0.3652779626589068,
          -0.6277217354019603,
          -1.1052084012354078,
          -1.0497908154685873,
          -0.6987832856088142,
          -1.3344438626800967,
          1.1961042861699718,
          -1.4899688870489125,
          1.0000751903989364,
          -1.8217761617014219,
          1.4220702970109613,
          0.7793771788388744,
          1.9316110366879462,
          0.5344841146693203,
          1.0255461980026384,
          0.6601181077255065,
          -0.7257477239987026,
          1.0618248411512208,
          0.32317893709863227,
          0.12750962814688283,
          1.8817838507471143,
          -2.9730403702512573,
          -1.0963906056140136,
          -1.2448367914502456,
          0.3860066048958656,
          -0.9009446834368859,
          -0.66397430581543,
          -1.7102671235308657,
          -0.9721395322800673,
          -0.5471739448000086,
          0.214711886511749,
          0.3835999694344564,
          -0.43467167707527177,
          0.7336021044528896,
          0.7231396484476731,
          -1.286530368189027,
          1.0363036097846994,
          0.13971486568107366,
          -0.7407978110384146,
          0.8256735221085763,
          2.282521420012441,
          -0.6462513183208001,
          -0.4182068194743313,
          0.5066825121961596,
          0.12120851763533104,
          0.9240385901151515
         ]
        },
        {
         "boxpoints": false,
         "line": {
          "width": 1.3
         },
         "marker": {
          "color": "rgba(128, 0, 128, 1.0)"
         },
         "name": "D",
         "orientation": "v",
         "type": "box",
         "y": [
          0.3978440991444191,
          -0.28826972274567153,
          1.4605083586129701,
          0.2065787905465538,
          0.8658830690411201,
          -1.2031456624357368,
          -2.03192504314234,
          -0.08577266443308462,
          -1.3694084036433456,
          -0.4083601555579031,
          -0.12361860968708542,
          0.8416477809104242,
          -0.6873127692908836,
          -1.3528881794620782,
          0.37330461013009536,
          0.03275965692509622,
          0.5129981243596776,
          -0.8835742034571936,
          0.07223968526867314,
          -0.02333076989038537,
          -0.6265151633100899,
          -0.5218320855379366,
          -0.4895793941163754,
          2.213512952111512,
          -0.116267441642128,
          0.3694806494602197,
          -1.214012553861094,
          0.8720172573534196,
          -0.8138817609636407,
          -0.9149093340883017,
          2.177141028944511,
          -0.9141757610980059,
          1.2034826746030953,
          -0.7560880909320254,
          0.4322821932025189,
          -0.8282043614271062,
          -0.6555611059628269,
          1.7063976854975547,
          -0.40473070444417425,
          -0.2665243915899419,
          0.8636591307842529,
          0.32876329718060393,
          1.4298577740388587,
          -0.6434049702637586,
          -0.1688216562582055,
          0.15867078100399273,
          0.11358649861806933,
          1.7562112783418848,
          -0.7759260282814037,
          -1.0467783901538161,
          -0.9362037235611053,
          -0.07462359288103255,
          -0.1057024142409333,
          0.7139610818939208,
          -1.5917657767238034,
          -1.9519861497861795,
          0.06352992800290329,
          -0.7268321007370007,
          0.28921565309844144,
          0.21578351220190345,
          -0.6488829995176352,
          -0.773244402629859,
          -0.6148232908512383,
          -0.18142239454014847,
          -0.6237023760351863,
          -1.4318132576877778,
          0.6966029765286594,
          -0.19314281528471364,
          -0.8077947304832552,
          -0.02327388299382055,
          -1.6291266184528357,
          -0.7731480255084516,
          -0.3606766818155555,
          -0.30037559705506767,
          -1.6147033943175884,
          -0.22775648571217666,
          -0.6720664190488358,
          -0.45055456803840854,
          0.7302207964718278,
          0.9261309442615799,
          0.2210512002211912,
          -0.9501229748377441,
          0.7355812952672144,
          1.9705985594290139,
          0.9477160505711176,
          1.5513943863039383,
          -0.8756031158018538,
          -0.8929135714326509,
          0.3742093694591922,
          1.4004035888510076,
          0.17581167607170853,
          0.1382191649353529,
          -0.5168167622706401,
          0.9012140474064909,
          0.9425967651953716,
          -0.3980707296425509,
          1.014248127966641,
          -0.5169455069607055,
          0.16482663143168433,
          0.9704611452749445
         ]
        }
       ],
       "layout": {
        "legend": {
         "bgcolor": "#F5F6F9",
         "font": {
          "color": "#4D5663"
         }
        },
        "paper_bgcolor": "#F5F6F9",
        "plot_bgcolor": "#F5F6F9",
        "template": {
         "data": {
          "bar": [
           {
            "error_x": {
             "color": "#2a3f5f"
            },
            "error_y": {
             "color": "#2a3f5f"
            },
            "marker": {
             "line": {
              "color": "#E5ECF6",
              "width": 0.5
             },
             "pattern": {
              "fillmode": "overlay",
              "size": 10,
              "solidity": 0.2
             }
            },
            "type": "bar"
           }
          ],
          "barpolar": [
           {
            "marker": {
             "line": {
              "color": "#E5ECF6",
              "width": 0.5
             },
             "pattern": {
              "fillmode": "overlay",
              "size": 10,
              "solidity": 0.2
             }
            },
            "type": "barpolar"
           }
          ],
          "carpet": [
           {
            "aaxis": {
             "endlinecolor": "#2a3f5f",
             "gridcolor": "white",
             "linecolor": "white",
             "minorgridcolor": "white",
             "startlinecolor": "#2a3f5f"
            },
            "baxis": {
             "endlinecolor": "#2a3f5f",
             "gridcolor": "white",
             "linecolor": "white",
             "minorgridcolor": "white",
             "startlinecolor": "#2a3f5f"
            },
            "type": "carpet"
           }
          ],
          "choropleth": [
           {
            "colorbar": {
             "outlinewidth": 0,
             "ticks": ""
            },
            "type": "choropleth"
           }
          ],
          "contour": [
           {
            "colorbar": {
             "outlinewidth": 0,
             "ticks": ""
            },
            "colorscale": [
             [
              0,
              "#0d0887"
             ],
             [
              0.1111111111111111,
              "#46039f"
             ],
             [
              0.2222222222222222,
              "#7201a8"
             ],
             [
              0.3333333333333333,
              "#9c179e"
             ],
             [
              0.4444444444444444,
              "#bd3786"
             ],
             [
              0.5555555555555556,
              "#d8576b"
             ],
             [
              0.6666666666666666,
              "#ed7953"
             ],
             [
              0.7777777777777778,
              "#fb9f3a"
             ],
             [
              0.8888888888888888,
              "#fdca26"
             ],
             [
              1,
              "#f0f921"
             ]
            ],
            "type": "contour"
           }
          ],
          "contourcarpet": [
           {
            "colorbar": {
             "outlinewidth": 0,
             "ticks": ""
            },
            "type": "contourcarpet"
           }
          ],
          "heatmap": [
           {
            "colorbar": {
             "outlinewidth": 0,
             "ticks": ""
            },
            "colorscale": [
             [
              0,
              "#0d0887"
             ],
             [
              0.1111111111111111,
              "#46039f"
             ],
             [
              0.2222222222222222,
              "#7201a8"
             ],
             [
              0.3333333333333333,
              "#9c179e"
             ],
             [
              0.4444444444444444,
              "#bd3786"
             ],
             [
              0.5555555555555556,
              "#d8576b"
             ],
             [
              0.6666666666666666,
              "#ed7953"
             ],
             [
              0.7777777777777778,
              "#fb9f3a"
             ],
             [
              0.8888888888888888,
              "#fdca26"
             ],
             [
              1,
              "#f0f921"
             ]
            ],
            "type": "heatmap"
           }
          ],
          "heatmapgl": [
           {
            "colorbar": {
             "outlinewidth": 0,
             "ticks": ""
            },
            "colorscale": [
             [
              0,
              "#0d0887"
             ],
             [
              0.1111111111111111,
              "#46039f"
             ],
             [
              0.2222222222222222,
              "#7201a8"
             ],
             [
              0.3333333333333333,
              "#9c179e"
             ],
             [
              0.4444444444444444,
              "#bd3786"
             ],
             [
              0.5555555555555556,
              "#d8576b"
             ],
             [
              0.6666666666666666,
              "#ed7953"
             ],
             [
              0.7777777777777778,
              "#fb9f3a"
             ],
             [
              0.8888888888888888,
              "#fdca26"
             ],
             [
              1,
              "#f0f921"
             ]
            ],
            "type": "heatmapgl"
           }
          ],
          "histogram": [
           {
            "marker": {
             "pattern": {
              "fillmode": "overlay",
              "size": 10,
              "solidity": 0.2
             }
            },
            "type": "histogram"
           }
          ],
          "histogram2d": [
           {
            "colorbar": {
             "outlinewidth": 0,
             "ticks": ""
            },
            "colorscale": [
             [
              0,
              "#0d0887"
             ],
             [
              0.1111111111111111,
              "#46039f"
             ],
             [
              0.2222222222222222,
              "#7201a8"
             ],
             [
              0.3333333333333333,
              "#9c179e"
             ],
             [
              0.4444444444444444,
              "#bd3786"
             ],
             [
              0.5555555555555556,
              "#d8576b"
             ],
             [
              0.6666666666666666,
              "#ed7953"
             ],
             [
              0.7777777777777778,
              "#fb9f3a"
             ],
             [
              0.8888888888888888,
              "#fdca26"
             ],
             [
              1,
              "#f0f921"
             ]
            ],
            "type": "histogram2d"
           }
          ],
          "histogram2dcontour": [
           {
            "colorbar": {
             "outlinewidth": 0,
             "ticks": ""
            },
            "colorscale": [
             [
              0,
              "#0d0887"
             ],
             [
              0.1111111111111111,
              "#46039f"
             ],
             [
              0.2222222222222222,
              "#7201a8"
             ],
             [
              0.3333333333333333,
              "#9c179e"
             ],
             [
              0.4444444444444444,
              "#bd3786"
             ],
             [
              0.5555555555555556,
              "#d8576b"
             ],
             [
              0.6666666666666666,
              "#ed7953"
             ],
             [
              0.7777777777777778,
              "#fb9f3a"
             ],
             [
              0.8888888888888888,
              "#fdca26"
             ],
             [
              1,
              "#f0f921"
             ]
            ],
            "type": "histogram2dcontour"
           }
          ],
          "mesh3d": [
           {
            "colorbar": {
             "outlinewidth": 0,
             "ticks": ""
            },
            "type": "mesh3d"
           }
          ],
          "parcoords": [
           {
            "line": {
             "colorbar": {
              "outlinewidth": 0,
              "ticks": ""
             }
            },
            "type": "parcoords"
           }
          ],
          "pie": [
           {
            "automargin": true,
            "type": "pie"
           }
          ],
          "scatter": [
           {
            "fillpattern": {
             "fillmode": "overlay",
             "size": 10,
             "solidity": 0.2
            },
            "type": "scatter"
           }
          ],
          "scatter3d": [
           {
            "line": {
             "colorbar": {
              "outlinewidth": 0,
              "ticks": ""
             }
            },
            "marker": {
             "colorbar": {
              "outlinewidth": 0,
              "ticks": ""
             }
            },
            "type": "scatter3d"
           }
          ],
          "scattercarpet": [
           {
            "marker": {
             "colorbar": {
              "outlinewidth": 0,
              "ticks": ""
             }
            },
            "type": "scattercarpet"
           }
          ],
          "scattergeo": [
           {
            "marker": {
             "colorbar": {
              "outlinewidth": 0,
              "ticks": ""
             }
            },
            "type": "scattergeo"
           }
          ],
          "scattergl": [
           {
            "marker": {
             "colorbar": {
              "outlinewidth": 0,
              "ticks": ""
             }
            },
            "type": "scattergl"
           }
          ],
          "scattermapbox": [
           {
            "marker": {
             "colorbar": {
              "outlinewidth": 0,
              "ticks": ""
             }
            },
            "type": "scattermapbox"
           }
          ],
          "scatterpolar": [
           {
            "marker": {
             "colorbar": {
              "outlinewidth": 0,
              "ticks": ""
             }
            },
            "type": "scatterpolar"
           }
          ],
          "scatterpolargl": [
           {
            "marker": {
             "colorbar": {
              "outlinewidth": 0,
              "ticks": ""
             }
            },
            "type": "scatterpolargl"
           }
          ],
          "scatterternary": [
           {
            "marker": {
             "colorbar": {
              "outlinewidth": 0,
              "ticks": ""
             }
            },
            "type": "scatterternary"
           }
          ],
          "surface": [
           {
            "colorbar": {
             "outlinewidth": 0,
             "ticks": ""
            },
            "colorscale": [
             [
              0,
              "#0d0887"
             ],
             [
              0.1111111111111111,
              "#46039f"
             ],
             [
              0.2222222222222222,
              "#7201a8"
             ],
             [
              0.3333333333333333,
              "#9c179e"
             ],
             [
              0.4444444444444444,
              "#bd3786"
             ],
             [
              0.5555555555555556,
              "#d8576b"
             ],
             [
              0.6666666666666666,
              "#ed7953"
             ],
             [
              0.7777777777777778,
              "#fb9f3a"
             ],
             [
              0.8888888888888888,
              "#fdca26"
             ],
             [
              1,
              "#f0f921"
             ]
            ],
            "type": "surface"
           }
          ],
          "table": [
           {
            "cells": {
             "fill": {
              "color": "#EBF0F8"
             },
             "line": {
              "color": "white"
             }
            },
            "header": {
             "fill": {
              "color": "#C8D4E3"
             },
             "line": {
              "color": "white"
             }
            },
            "type": "table"
           }
          ]
         },
         "layout": {
          "annotationdefaults": {
           "arrowcolor": "#2a3f5f",
           "arrowhead": 0,
           "arrowwidth": 1
          },
          "autotypenumbers": "strict",
          "coloraxis": {
           "colorbar": {
            "outlinewidth": 0,
            "ticks": ""
           }
          },
          "colorscale": {
           "diverging": [
            [
             0,
             "#8e0152"
            ],
            [
             0.1,
             "#c51b7d"
            ],
            [
             0.2,
             "#de77ae"
            ],
            [
             0.3,
             "#f1b6da"
            ],
            [
             0.4,
             "#fde0ef"
            ],
            [
             0.5,
             "#f7f7f7"
            ],
            [
             0.6,
             "#e6f5d0"
            ],
            [
             0.7,
             "#b8e186"
            ],
            [
             0.8,
             "#7fbc41"
            ],
            [
             0.9,
             "#4d9221"
            ],
            [
             1,
             "#276419"
            ]
           ],
           "sequential": [
            [
             0,
             "#0d0887"
            ],
            [
             0.1111111111111111,
             "#46039f"
            ],
            [
             0.2222222222222222,
             "#7201a8"
            ],
            [
             0.3333333333333333,
             "#9c179e"
            ],
            [
             0.4444444444444444,
             "#bd3786"
            ],
            [
             0.5555555555555556,
             "#d8576b"
            ],
            [
             0.6666666666666666,
             "#ed7953"
            ],
            [
             0.7777777777777778,
             "#fb9f3a"
            ],
            [
             0.8888888888888888,
             "#fdca26"
            ],
            [
             1,
             "#f0f921"
            ]
           ],
           "sequentialminus": [
            [
             0,
             "#0d0887"
            ],
            [
             0.1111111111111111,
             "#46039f"
            ],
            [
             0.2222222222222222,
             "#7201a8"
            ],
            [
             0.3333333333333333,
             "#9c179e"
            ],
            [
             0.4444444444444444,
             "#bd3786"
            ],
            [
             0.5555555555555556,
             "#d8576b"
            ],
            [
             0.6666666666666666,
             "#ed7953"
            ],
            [
             0.7777777777777778,
             "#fb9f3a"
            ],
            [
             0.8888888888888888,
             "#fdca26"
            ],
            [
             1,
             "#f0f921"
            ]
           ]
          },
          "colorway": [
           "#636efa",
           "#EF553B",
           "#00cc96",
           "#ab63fa",
           "#FFA15A",
           "#19d3f3",
           "#FF6692",
           "#B6E880",
           "#FF97FF",
           "#FECB52"
          ],
          "font": {
           "color": "#2a3f5f"
          },
          "geo": {
           "bgcolor": "white",
           "lakecolor": "white",
           "landcolor": "#E5ECF6",
           "showlakes": true,
           "showland": true,
           "subunitcolor": "white"
          },
          "hoverlabel": {
           "align": "left"
          },
          "hovermode": "closest",
          "mapbox": {
           "style": "light"
          },
          "paper_bgcolor": "white",
          "plot_bgcolor": "#E5ECF6",
          "polar": {
           "angularaxis": {
            "gridcolor": "white",
            "linecolor": "white",
            "ticks": ""
           },
           "bgcolor": "#E5ECF6",
           "radialaxis": {
            "gridcolor": "white",
            "linecolor": "white",
            "ticks": ""
           }
          },
          "scene": {
           "xaxis": {
            "backgroundcolor": "#E5ECF6",
            "gridcolor": "white",
            "gridwidth": 2,
            "linecolor": "white",
            "showbackground": true,
            "ticks": "",
            "zerolinecolor": "white"
           },
           "yaxis": {
            "backgroundcolor": "#E5ECF6",
            "gridcolor": "white",
            "gridwidth": 2,
            "linecolor": "white",
            "showbackground": true,
            "ticks": "",
            "zerolinecolor": "white"
           },
           "zaxis": {
            "backgroundcolor": "#E5ECF6",
            "gridcolor": "white",
            "gridwidth": 2,
            "linecolor": "white",
            "showbackground": true,
            "ticks": "",
            "zerolinecolor": "white"
           }
          },
          "shapedefaults": {
           "line": {
            "color": "#2a3f5f"
           }
          },
          "ternary": {
           "aaxis": {
            "gridcolor": "white",
            "linecolor": "white",
            "ticks": ""
           },
           "baxis": {
            "gridcolor": "white",
            "linecolor": "white",
            "ticks": ""
           },
           "bgcolor": "#E5ECF6",
           "caxis": {
            "gridcolor": "white",
            "linecolor": "white",
            "ticks": ""
           }
          },
          "title": {
           "x": 0.05
          },
          "xaxis": {
           "automargin": true,
           "gridcolor": "white",
           "linecolor": "white",
           "ticks": "",
           "title": {
            "standoff": 15
           },
           "zerolinecolor": "white",
           "zerolinewidth": 2
          },
          "yaxis": {
           "automargin": true,
           "gridcolor": "white",
           "linecolor": "white",
           "ticks": "",
           "title": {
            "standoff": 15
           },
           "zerolinecolor": "white",
           "zerolinewidth": 2
          }
         }
        },
        "title": {
         "font": {
          "color": "#4D5663"
         }
        },
        "xaxis": {
         "gridcolor": "#E1E5ED",
         "showgrid": true,
         "tickfont": {
          "color": "#4D5663"
         },
         "title": {
          "font": {
           "color": "#4D5663"
          },
          "text": ""
         },
         "zerolinecolor": "#E1E5ED"
        },
        "yaxis": {
         "gridcolor": "#E1E5ED",
         "showgrid": true,
         "tickfont": {
          "color": "#4D5663"
         },
         "title": {
          "font": {
           "color": "#4D5663"
          },
          "text": ""
         },
         "zerolinecolor": "#E1E5ED"
        }
       }
      },
      "text/html": [
       "<div>                            <div id=\"f9a864ce-0c09-4407-9871-3da4388d41cd\" class=\"plotly-graph-div\" style=\"height:525px; width:100%;\"></div>            <script type=\"text/javascript\">                require([\"plotly\"], function(Plotly) {                    window.PLOTLYENV=window.PLOTLYENV || {};\n",
       "                    window.PLOTLYENV.BASE_URL='https://plot.ly';                                    if (document.getElementById(\"f9a864ce-0c09-4407-9871-3da4388d41cd\")) {                    Plotly.newPlot(                        \"f9a864ce-0c09-4407-9871-3da4388d41cd\",                        [{\"boxpoints\":false,\"line\":{\"width\":1.3},\"marker\":{\"color\":\"rgba(255, 153, 51, 1.0)\"},\"name\":\"A\",\"orientation\":\"v\",\"y\":[-0.4235298267372065,0.8737034190511784,-0.4425667569523764,0.3986178618161769,0.03428784743673946,2.06533134908832,0.10271963749380746,0.05098734502258662,-0.1184063857671036,1.0964064857463354,1.4946454801576834,-0.7437131463014094,1.3253833864300688,-0.49360380332296394,-0.13305937269604404,0.9240293905139304,-0.09424341106312586,1.18071399478596,0.2645952610124938,0.8836118426137318,-1.173003943925152,-0.3212571585007686,-0.4398567644713879,-0.021012138960523438,0.07155221310667621,-2.815070179834287,-0.7035450325355791,-2.3018781723788013,-0.604916557375915,-1.3218543223382502,-0.3097396604396595,-0.854479473887273,-0.4678081709677992,-0.08838304149912787,0.7643585236625032,-1.2729795604519634,-1.2497474177461365,0.11665547061831338,0.054222241262439526,1.3955567369637993,1.2335949227350325,0.7811707745028742,-0.7062201202758001,-0.010086473033524971,0.17612395345598061,2.0194244526399077,-0.124897544987423,0.3504515229698034,0.704102638494282,-0.9641455130531145,0.21652976538587435,-0.6644405943141568,-0.3894761056471769,0.5468190505161646,-0.8363370271767773,-1.1460722642318224,-0.07587582681833421,0.9619169082305153,-0.5239800127167108,1.0311673460804889,-1.1758734601138927,1.5461295811284619,-2.5218097000157984,0.31240706808234286,-0.39540885307643037,-0.9181226038092148,-0.973212682296477,-1.1081306261732067,-0.10776950961150684,-0.050654313344176784,-0.9699477197603297,0.8557740272749418,1.0221888170710327,0.17768076059489119,-0.10870171886551774,0.29400495682356353,0.5229295264694711,1.5207606347295235,1.0936857792331733,-0.11595518871389471,-0.9859049663963309,-0.8199765183066423,0.9134190838522616,-0.7916172912135768,-0.12131152947593532,-1.2701415944118364,-0.9773938872991602,0.3339642125319659,0.6798478253423859,-1.5492577140644306,0.5787098004342369,0.5406428940538466,0.7639972929707557,0.017857529896215186,-0.22871482857901884,-0.07650894408479933,1.7552590593676092,0.18190406729913505,-1.6830180224348916,-2.2543336155615137],\"type\":\"box\"},{\"boxpoints\":false,\"line\":{\"width\":1.3},\"marker\":{\"color\":\"rgba(55, 128, 191, 1.0)\"},\"name\":\"B\",\"orientation\":\"v\",\"y\":[0.21294078317383458,0.2518028123325517,0.02091657406832586,1.3626170892858607,0.008884733090600866,-0.7942574105325144,-1.4932730233998306,1.46030442365578,0.5222281818282609,-0.6951728119359911,-1.128579499529297,1.4666696280299252,1.8249626782770507,0.5202794124545566,0.7201153802481164,-1.5626581529361065,0.3374181890445056,-0.2903741529002983,-0.40190112011766466,-1.1603959048941097,0.9945810374960529,1.0458734586078855,-0.10175723853610258,0.5032333501247692,0.4423633466724333,-0.9292874889142884,1.0404659047051579,-0.4081306443840345,1.5848729347087902,0.11617936567027352,0.877815726072177,-1.6737754450487907,-0.6500583582053018,0.6400105834817084,-0.44334139052207533,-0.46506821727471764,1.6976387898715808,-0.4127523142241755,0.2847774928581605,2.0843595325833,1.1962031768333525,-0.19640158479150444,-0.076513511860327,1.091084899278679,0.48501073599044303,-0.5488969947992373,1.5657928427809016,-1.0644035759844077,1.194701257470469,0.5469168263690459,1.733072093267033,1.2634577119112578,-0.5420507058393845,-0.8411226760092744,0.2396772592095201,-0.5175263212605506,1.6612996922788827,0.6317816649077945,-0.3491301771453928,3.2420035524398623,-0.3006899949173568,1.997414779630204,0.12307791592774506,-1.2500563474156865,0.31535217967862017,-0.08156801559514214,0.15695759628048428,1.097578516882325,-1.6933624000861809,1.0998500106286162,-0.04798598377017386,-1.0504861587912668,0.2157760376256392,0.2721587078516661,1.5158996980625876,-1.0820719356636508,-0.7449838137376683,2.1678435919878143,-1.3867241124350391,1.569218147485345,0.9615517659406315,-0.13308189808999643,1.115636697593061,-1.218340919178577,1.458638359803591,0.2360747011023473,0.47478412012124943,0.1559355888436621,0.26512385357664964,0.1568188907648089,0.7603143641721575,-1.1817614859597358,-0.4959769554035473,-1.573931163429572,0.9898452846005282,-1.7092796113603514,-0.16008249410907596,-0.7349355342113074,0.6686336198044844,1.0934331284256122],\"type\":\"box\"},{\"boxpoints\":false,\"line\":{\"width\":1.3},\"marker\":{\"color\":\"rgba(50, 171, 96, 1.0)\"},\"name\":\"C\",\"orientation\":\"v\",\"y\":[0.07666732342800771,1.2330942872480357,0.7174272909879041,1.1650341605909447,0.38844987290932875,-0.9639285898227601,-0.35383599355953205,-2.336303967107702,-0.454184402697137,0.9137067197584892,-0.2607123082209486,0.9433341029331787,-0.21795959215144017,2.0247544405549736,0.5166075386935827,-1.4035414840754523,0.2217421931499329,2.0397128159939464,-0.3528736724112633,1.3309677291731317,-0.4480429789873115,-2.2028929642418946,1.2700050164467438,0.3459762667561772,0.503265154331763,-0.5968947666394623,-0.0628886145301624,1.1198371781866292,-0.46937324902263566,-0.05882297773839477,0.5624518934746332,-0.8132685672237479,0.6272154794742844,-1.110779835019135,0.18092756927280107,0.9022611614334409,0.29925281584494856,0.644303083237883,-0.7146993167999712,0.6826045755625907,1.6297891299252922,-0.18266370408824886,-1.1019918640555506,-0.043919066070177884,-0.07392731247533543,-1.125969023463554,-0.8095616124809866,-0.6347358104155362,-0.8966481619843136,-1.4253896791897036,1.0938072689136262,0.16119350933819893,-0.30616337006950906,-0.5724668281307519,-0.3652779626589068,-0.6277217354019603,-1.1052084012354078,-1.0497908154685873,-0.6987832856088142,-1.3344438626800967,1.1961042861699718,-1.4899688870489125,1.0000751903989364,-1.8217761617014219,1.4220702970109613,0.7793771788388744,1.9316110366879462,0.5344841146693203,1.0255461980026384,0.6601181077255065,-0.7257477239987026,1.0618248411512208,0.32317893709863227,0.12750962814688283,1.8817838507471143,-2.9730403702512573,-1.0963906056140136,-1.2448367914502456,0.3860066048958656,-0.9009446834368859,-0.66397430581543,-1.7102671235308657,-0.9721395322800673,-0.5471739448000086,0.214711886511749,0.3835999694344564,-0.43467167707527177,0.7336021044528896,0.7231396484476731,-1.286530368189027,1.0363036097846994,0.13971486568107366,-0.7407978110384146,0.8256735221085763,2.282521420012441,-0.6462513183208001,-0.4182068194743313,0.5066825121961596,0.12120851763533104,0.9240385901151515],\"type\":\"box\"},{\"boxpoints\":false,\"line\":{\"width\":1.3},\"marker\":{\"color\":\"rgba(128, 0, 128, 1.0)\"},\"name\":\"D\",\"orientation\":\"v\",\"y\":[0.3978440991444191,-0.28826972274567153,1.4605083586129701,0.2065787905465538,0.8658830690411201,-1.2031456624357368,-2.03192504314234,-0.08577266443308462,-1.3694084036433456,-0.4083601555579031,-0.12361860968708542,0.8416477809104242,-0.6873127692908836,-1.3528881794620782,0.37330461013009536,0.03275965692509622,0.5129981243596776,-0.8835742034571936,0.07223968526867314,-0.02333076989038537,-0.6265151633100899,-0.5218320855379366,-0.4895793941163754,2.213512952111512,-0.116267441642128,0.3694806494602197,-1.214012553861094,0.8720172573534196,-0.8138817609636407,-0.9149093340883017,2.177141028944511,-0.9141757610980059,1.2034826746030953,-0.7560880909320254,0.4322821932025189,-0.8282043614271062,-0.6555611059628269,1.7063976854975547,-0.40473070444417425,-0.2665243915899419,0.8636591307842529,0.32876329718060393,1.4298577740388587,-0.6434049702637586,-0.1688216562582055,0.15867078100399273,0.11358649861806933,1.7562112783418848,-0.7759260282814037,-1.0467783901538161,-0.9362037235611053,-0.07462359288103255,-0.1057024142409333,0.7139610818939208,-1.5917657767238034,-1.9519861497861795,0.06352992800290329,-0.7268321007370007,0.28921565309844144,0.21578351220190345,-0.6488829995176352,-0.773244402629859,-0.6148232908512383,-0.18142239454014847,-0.6237023760351863,-1.4318132576877778,0.6966029765286594,-0.19314281528471364,-0.8077947304832552,-0.02327388299382055,-1.6291266184528357,-0.7731480255084516,-0.3606766818155555,-0.30037559705506767,-1.6147033943175884,-0.22775648571217666,-0.6720664190488358,-0.45055456803840854,0.7302207964718278,0.9261309442615799,0.2210512002211912,-0.9501229748377441,0.7355812952672144,1.9705985594290139,0.9477160505711176,1.5513943863039383,-0.8756031158018538,-0.8929135714326509,0.3742093694591922,1.4004035888510076,0.17581167607170853,0.1382191649353529,-0.5168167622706401,0.9012140474064909,0.9425967651953716,-0.3980707296425509,1.014248127966641,-0.5169455069607055,0.16482663143168433,0.9704611452749445],\"type\":\"box\"}],                        {\"legend\":{\"bgcolor\":\"#F5F6F9\",\"font\":{\"color\":\"#4D5663\"}},\"paper_bgcolor\":\"#F5F6F9\",\"plot_bgcolor\":\"#F5F6F9\",\"template\":{\"data\":{\"barpolar\":[{\"marker\":{\"line\":{\"color\":\"#E5ECF6\",\"width\":0.5},\"pattern\":{\"fillmode\":\"overlay\",\"size\":10,\"solidity\":0.2}},\"type\":\"barpolar\"}],\"bar\":[{\"error_x\":{\"color\":\"#2a3f5f\"},\"error_y\":{\"color\":\"#2a3f5f\"},\"marker\":{\"line\":{\"color\":\"#E5ECF6\",\"width\":0.5},\"pattern\":{\"fillmode\":\"overlay\",\"size\":10,\"solidity\":0.2}},\"type\":\"bar\"}],\"carpet\":[{\"aaxis\":{\"endlinecolor\":\"#2a3f5f\",\"gridcolor\":\"white\",\"linecolor\":\"white\",\"minorgridcolor\":\"white\",\"startlinecolor\":\"#2a3f5f\"},\"baxis\":{\"endlinecolor\":\"#2a3f5f\",\"gridcolor\":\"white\",\"linecolor\":\"white\",\"minorgridcolor\":\"white\",\"startlinecolor\":\"#2a3f5f\"},\"type\":\"carpet\"}],\"choropleth\":[{\"colorbar\":{\"outlinewidth\":0,\"ticks\":\"\"},\"type\":\"choropleth\"}],\"contourcarpet\":[{\"colorbar\":{\"outlinewidth\":0,\"ticks\":\"\"},\"type\":\"contourcarpet\"}],\"contour\":[{\"colorbar\":{\"outlinewidth\":0,\"ticks\":\"\"},\"colorscale\":[[0.0,\"#0d0887\"],[0.1111111111111111,\"#46039f\"],[0.2222222222222222,\"#7201a8\"],[0.3333333333333333,\"#9c179e\"],[0.4444444444444444,\"#bd3786\"],[0.5555555555555556,\"#d8576b\"],[0.6666666666666666,\"#ed7953\"],[0.7777777777777778,\"#fb9f3a\"],[0.8888888888888888,\"#fdca26\"],[1.0,\"#f0f921\"]],\"type\":\"contour\"}],\"heatmapgl\":[{\"colorbar\":{\"outlinewidth\":0,\"ticks\":\"\"},\"colorscale\":[[0.0,\"#0d0887\"],[0.1111111111111111,\"#46039f\"],[0.2222222222222222,\"#7201a8\"],[0.3333333333333333,\"#9c179e\"],[0.4444444444444444,\"#bd3786\"],[0.5555555555555556,\"#d8576b\"],[0.6666666666666666,\"#ed7953\"],[0.7777777777777778,\"#fb9f3a\"],[0.8888888888888888,\"#fdca26\"],[1.0,\"#f0f921\"]],\"type\":\"heatmapgl\"}],\"heatmap\":[{\"colorbar\":{\"outlinewidth\":0,\"ticks\":\"\"},\"colorscale\":[[0.0,\"#0d0887\"],[0.1111111111111111,\"#46039f\"],[0.2222222222222222,\"#7201a8\"],[0.3333333333333333,\"#9c179e\"],[0.4444444444444444,\"#bd3786\"],[0.5555555555555556,\"#d8576b\"],[0.6666666666666666,\"#ed7953\"],[0.7777777777777778,\"#fb9f3a\"],[0.8888888888888888,\"#fdca26\"],[1.0,\"#f0f921\"]],\"type\":\"heatmap\"}],\"histogram2dcontour\":[{\"colorbar\":{\"outlinewidth\":0,\"ticks\":\"\"},\"colorscale\":[[0.0,\"#0d0887\"],[0.1111111111111111,\"#46039f\"],[0.2222222222222222,\"#7201a8\"],[0.3333333333333333,\"#9c179e\"],[0.4444444444444444,\"#bd3786\"],[0.5555555555555556,\"#d8576b\"],[0.6666666666666666,\"#ed7953\"],[0.7777777777777778,\"#fb9f3a\"],[0.8888888888888888,\"#fdca26\"],[1.0,\"#f0f921\"]],\"type\":\"histogram2dcontour\"}],\"histogram2d\":[{\"colorbar\":{\"outlinewidth\":0,\"ticks\":\"\"},\"colorscale\":[[0.0,\"#0d0887\"],[0.1111111111111111,\"#46039f\"],[0.2222222222222222,\"#7201a8\"],[0.3333333333333333,\"#9c179e\"],[0.4444444444444444,\"#bd3786\"],[0.5555555555555556,\"#d8576b\"],[0.6666666666666666,\"#ed7953\"],[0.7777777777777778,\"#fb9f3a\"],[0.8888888888888888,\"#fdca26\"],[1.0,\"#f0f921\"]],\"type\":\"histogram2d\"}],\"histogram\":[{\"marker\":{\"pattern\":{\"fillmode\":\"overlay\",\"size\":10,\"solidity\":0.2}},\"type\":\"histogram\"}],\"mesh3d\":[{\"colorbar\":{\"outlinewidth\":0,\"ticks\":\"\"},\"type\":\"mesh3d\"}],\"parcoords\":[{\"line\":{\"colorbar\":{\"outlinewidth\":0,\"ticks\":\"\"}},\"type\":\"parcoords\"}],\"pie\":[{\"automargin\":true,\"type\":\"pie\"}],\"scatter3d\":[{\"line\":{\"colorbar\":{\"outlinewidth\":0,\"ticks\":\"\"}},\"marker\":{\"colorbar\":{\"outlinewidth\":0,\"ticks\":\"\"}},\"type\":\"scatter3d\"}],\"scattercarpet\":[{\"marker\":{\"colorbar\":{\"outlinewidth\":0,\"ticks\":\"\"}},\"type\":\"scattercarpet\"}],\"scattergeo\":[{\"marker\":{\"colorbar\":{\"outlinewidth\":0,\"ticks\":\"\"}},\"type\":\"scattergeo\"}],\"scattergl\":[{\"marker\":{\"colorbar\":{\"outlinewidth\":0,\"ticks\":\"\"}},\"type\":\"scattergl\"}],\"scattermapbox\":[{\"marker\":{\"colorbar\":{\"outlinewidth\":0,\"ticks\":\"\"}},\"type\":\"scattermapbox\"}],\"scatterpolargl\":[{\"marker\":{\"colorbar\":{\"outlinewidth\":0,\"ticks\":\"\"}},\"type\":\"scatterpolargl\"}],\"scatterpolar\":[{\"marker\":{\"colorbar\":{\"outlinewidth\":0,\"ticks\":\"\"}},\"type\":\"scatterpolar\"}],\"scatter\":[{\"fillpattern\":{\"fillmode\":\"overlay\",\"size\":10,\"solidity\":0.2},\"type\":\"scatter\"}],\"scatterternary\":[{\"marker\":{\"colorbar\":{\"outlinewidth\":0,\"ticks\":\"\"}},\"type\":\"scatterternary\"}],\"surface\":[{\"colorbar\":{\"outlinewidth\":0,\"ticks\":\"\"},\"colorscale\":[[0.0,\"#0d0887\"],[0.1111111111111111,\"#46039f\"],[0.2222222222222222,\"#7201a8\"],[0.3333333333333333,\"#9c179e\"],[0.4444444444444444,\"#bd3786\"],[0.5555555555555556,\"#d8576b\"],[0.6666666666666666,\"#ed7953\"],[0.7777777777777778,\"#fb9f3a\"],[0.8888888888888888,\"#fdca26\"],[1.0,\"#f0f921\"]],\"type\":\"surface\"}],\"table\":[{\"cells\":{\"fill\":{\"color\":\"#EBF0F8\"},\"line\":{\"color\":\"white\"}},\"header\":{\"fill\":{\"color\":\"#C8D4E3\"},\"line\":{\"color\":\"white\"}},\"type\":\"table\"}]},\"layout\":{\"annotationdefaults\":{\"arrowcolor\":\"#2a3f5f\",\"arrowhead\":0,\"arrowwidth\":1},\"autotypenumbers\":\"strict\",\"coloraxis\":{\"colorbar\":{\"outlinewidth\":0,\"ticks\":\"\"}},\"colorscale\":{\"diverging\":[[0,\"#8e0152\"],[0.1,\"#c51b7d\"],[0.2,\"#de77ae\"],[0.3,\"#f1b6da\"],[0.4,\"#fde0ef\"],[0.5,\"#f7f7f7\"],[0.6,\"#e6f5d0\"],[0.7,\"#b8e186\"],[0.8,\"#7fbc41\"],[0.9,\"#4d9221\"],[1,\"#276419\"]],\"sequential\":[[0.0,\"#0d0887\"],[0.1111111111111111,\"#46039f\"],[0.2222222222222222,\"#7201a8\"],[0.3333333333333333,\"#9c179e\"],[0.4444444444444444,\"#bd3786\"],[0.5555555555555556,\"#d8576b\"],[0.6666666666666666,\"#ed7953\"],[0.7777777777777778,\"#fb9f3a\"],[0.8888888888888888,\"#fdca26\"],[1.0,\"#f0f921\"]],\"sequentialminus\":[[0.0,\"#0d0887\"],[0.1111111111111111,\"#46039f\"],[0.2222222222222222,\"#7201a8\"],[0.3333333333333333,\"#9c179e\"],[0.4444444444444444,\"#bd3786\"],[0.5555555555555556,\"#d8576b\"],[0.6666666666666666,\"#ed7953\"],[0.7777777777777778,\"#fb9f3a\"],[0.8888888888888888,\"#fdca26\"],[1.0,\"#f0f921\"]]},\"colorway\":[\"#636efa\",\"#EF553B\",\"#00cc96\",\"#ab63fa\",\"#FFA15A\",\"#19d3f3\",\"#FF6692\",\"#B6E880\",\"#FF97FF\",\"#FECB52\"],\"font\":{\"color\":\"#2a3f5f\"},\"geo\":{\"bgcolor\":\"white\",\"lakecolor\":\"white\",\"landcolor\":\"#E5ECF6\",\"showlakes\":true,\"showland\":true,\"subunitcolor\":\"white\"},\"hoverlabel\":{\"align\":\"left\"},\"hovermode\":\"closest\",\"mapbox\":{\"style\":\"light\"},\"paper_bgcolor\":\"white\",\"plot_bgcolor\":\"#E5ECF6\",\"polar\":{\"angularaxis\":{\"gridcolor\":\"white\",\"linecolor\":\"white\",\"ticks\":\"\"},\"bgcolor\":\"#E5ECF6\",\"radialaxis\":{\"gridcolor\":\"white\",\"linecolor\":\"white\",\"ticks\":\"\"}},\"scene\":{\"xaxis\":{\"backgroundcolor\":\"#E5ECF6\",\"gridcolor\":\"white\",\"gridwidth\":2,\"linecolor\":\"white\",\"showbackground\":true,\"ticks\":\"\",\"zerolinecolor\":\"white\"},\"yaxis\":{\"backgroundcolor\":\"#E5ECF6\",\"gridcolor\":\"white\",\"gridwidth\":2,\"linecolor\":\"white\",\"showbackground\":true,\"ticks\":\"\",\"zerolinecolor\":\"white\"},\"zaxis\":{\"backgroundcolor\":\"#E5ECF6\",\"gridcolor\":\"white\",\"gridwidth\":2,\"linecolor\":\"white\",\"showbackground\":true,\"ticks\":\"\",\"zerolinecolor\":\"white\"}},\"shapedefaults\":{\"line\":{\"color\":\"#2a3f5f\"}},\"ternary\":{\"aaxis\":{\"gridcolor\":\"white\",\"linecolor\":\"white\",\"ticks\":\"\"},\"baxis\":{\"gridcolor\":\"white\",\"linecolor\":\"white\",\"ticks\":\"\"},\"bgcolor\":\"#E5ECF6\",\"caxis\":{\"gridcolor\":\"white\",\"linecolor\":\"white\",\"ticks\":\"\"}},\"title\":{\"x\":0.05},\"xaxis\":{\"automargin\":true,\"gridcolor\":\"white\",\"linecolor\":\"white\",\"ticks\":\"\",\"title\":{\"standoff\":15},\"zerolinecolor\":\"white\",\"zerolinewidth\":2},\"yaxis\":{\"automargin\":true,\"gridcolor\":\"white\",\"linecolor\":\"white\",\"ticks\":\"\",\"title\":{\"standoff\":15},\"zerolinecolor\":\"white\",\"zerolinewidth\":2}}},\"title\":{\"font\":{\"color\":\"#4D5663\"}},\"xaxis\":{\"gridcolor\":\"#E1E5ED\",\"showgrid\":true,\"tickfont\":{\"color\":\"#4D5663\"},\"title\":{\"font\":{\"color\":\"#4D5663\"},\"text\":\"\"},\"zerolinecolor\":\"#E1E5ED\"},\"yaxis\":{\"gridcolor\":\"#E1E5ED\",\"showgrid\":true,\"tickfont\":{\"color\":\"#4D5663\"},\"title\":{\"font\":{\"color\":\"#4D5663\"},\"text\":\"\"},\"zerolinecolor\":\"#E1E5ED\"}},                        {\"showLink\": true, \"linkText\": \"Export to plot.ly\", \"plotlyServerURL\": \"https://plot.ly\", \"responsive\": true}                    ).then(function(){\n",
       "                            \n",
       "var gd = document.getElementById('f9a864ce-0c09-4407-9871-3da4388d41cd');\n",
       "var x = new MutationObserver(function (mutations, observer) {{\n",
       "        var display = window.getComputedStyle(gd).display;\n",
       "        if (!display || display === 'none') {{\n",
       "            console.log([gd, 'removed!']);\n",
       "            Plotly.purge(gd);\n",
       "            observer.disconnect();\n",
       "        }}\n",
       "}});\n",
       "\n",
       "// Listen for the removal of the full notebook cells\n",
       "var notebookContainer = gd.closest('#notebook-container');\n",
       "if (notebookContainer) {{\n",
       "    x.observe(notebookContainer, {childList: true});\n",
       "}}\n",
       "\n",
       "// Listen for the clearing of the current output cell\n",
       "var outputEl = gd.closest('.output');\n",
       "if (outputEl) {{\n",
       "    x.observe(outputEl, {childList: true});\n",
       "}}\n",
       "\n",
       "                        })                };                });            </script>        </div>"
      ]
     },
     "metadata": {},
     "output_type": "display_data"
    }
   ],
   "source": [
    "df.iplot(kind='box')"
   ]
  },
  {
   "cell_type": "markdown",
   "metadata": {},
   "source": [
    "## 3d Surface"
   ]
  },
  {
   "cell_type": "code",
   "execution_count": 17,
   "metadata": {
    "collapsed": false
   },
   "outputs": [
    {
     "data": {
      "application/vnd.plotly.v1+json": {
       "config": {
        "linkText": "Export to plot.ly",
        "plotlyServerURL": "https://plot.ly",
        "showLink": true
       },
       "data": [
        {
         "colorscale": [
          [
           0,
           "rgb(165,0,38)"
          ],
          [
           0.1,
           "rgb(215,48,39)"
          ],
          [
           0.2,
           "rgb(244,109,67)"
          ],
          [
           0.3,
           "rgb(253,174,97)"
          ],
          [
           0.4,
           "rgb(254,224,144)"
          ],
          [
           0.5,
           "rgb(255,255,191)"
          ],
          [
           0.6,
           "rgb(224,243,248)"
          ],
          [
           0.7,
           "rgb(171,217,233)"
          ],
          [
           0.8,
           "rgb(116,173,209)"
          ],
          [
           0.9,
           "rgb(69,117,180)"
          ],
          [
           1,
           "rgb(49,54,149)"
          ]
         ],
         "type": "surface",
         "x": [
          0,
          1,
          2,
          3,
          4
         ],
         "y": [
          "x",
          "y",
          "z"
         ],
         "z": [
          [
           1,
           2,
           3,
           4,
           5
          ],
          [
           10,
           20,
           30,
           20,
           10
          ],
          [
           5,
           4,
           3,
           2,
           1
          ]
         ]
        }
       ],
       "layout": {
        "legend": {
         "bgcolor": "#F5F6F9",
         "font": {
          "color": "#4D5663"
         }
        },
        "paper_bgcolor": "#F5F6F9",
        "plot_bgcolor": "#F5F6F9",
        "template": {
         "data": {
          "bar": [
           {
            "error_x": {
             "color": "#2a3f5f"
            },
            "error_y": {
             "color": "#2a3f5f"
            },
            "marker": {
             "line": {
              "color": "#E5ECF6",
              "width": 0.5
             },
             "pattern": {
              "fillmode": "overlay",
              "size": 10,
              "solidity": 0.2
             }
            },
            "type": "bar"
           }
          ],
          "barpolar": [
           {
            "marker": {
             "line": {
              "color": "#E5ECF6",
              "width": 0.5
             },
             "pattern": {
              "fillmode": "overlay",
              "size": 10,
              "solidity": 0.2
             }
            },
            "type": "barpolar"
           }
          ],
          "carpet": [
           {
            "aaxis": {
             "endlinecolor": "#2a3f5f",
             "gridcolor": "white",
             "linecolor": "white",
             "minorgridcolor": "white",
             "startlinecolor": "#2a3f5f"
            },
            "baxis": {
             "endlinecolor": "#2a3f5f",
             "gridcolor": "white",
             "linecolor": "white",
             "minorgridcolor": "white",
             "startlinecolor": "#2a3f5f"
            },
            "type": "carpet"
           }
          ],
          "choropleth": [
           {
            "colorbar": {
             "outlinewidth": 0,
             "ticks": ""
            },
            "type": "choropleth"
           }
          ],
          "contour": [
           {
            "colorbar": {
             "outlinewidth": 0,
             "ticks": ""
            },
            "colorscale": [
             [
              0,
              "#0d0887"
             ],
             [
              0.1111111111111111,
              "#46039f"
             ],
             [
              0.2222222222222222,
              "#7201a8"
             ],
             [
              0.3333333333333333,
              "#9c179e"
             ],
             [
              0.4444444444444444,
              "#bd3786"
             ],
             [
              0.5555555555555556,
              "#d8576b"
             ],
             [
              0.6666666666666666,
              "#ed7953"
             ],
             [
              0.7777777777777778,
              "#fb9f3a"
             ],
             [
              0.8888888888888888,
              "#fdca26"
             ],
             [
              1,
              "#f0f921"
             ]
            ],
            "type": "contour"
           }
          ],
          "contourcarpet": [
           {
            "colorbar": {
             "outlinewidth": 0,
             "ticks": ""
            },
            "type": "contourcarpet"
           }
          ],
          "heatmap": [
           {
            "colorbar": {
             "outlinewidth": 0,
             "ticks": ""
            },
            "colorscale": [
             [
              0,
              "#0d0887"
             ],
             [
              0.1111111111111111,
              "#46039f"
             ],
             [
              0.2222222222222222,
              "#7201a8"
             ],
             [
              0.3333333333333333,
              "#9c179e"
             ],
             [
              0.4444444444444444,
              "#bd3786"
             ],
             [
              0.5555555555555556,
              "#d8576b"
             ],
             [
              0.6666666666666666,
              "#ed7953"
             ],
             [
              0.7777777777777778,
              "#fb9f3a"
             ],
             [
              0.8888888888888888,
              "#fdca26"
             ],
             [
              1,
              "#f0f921"
             ]
            ],
            "type": "heatmap"
           }
          ],
          "heatmapgl": [
           {
            "colorbar": {
             "outlinewidth": 0,
             "ticks": ""
            },
            "colorscale": [
             [
              0,
              "#0d0887"
             ],
             [
              0.1111111111111111,
              "#46039f"
             ],
             [
              0.2222222222222222,
              "#7201a8"
             ],
             [
              0.3333333333333333,
              "#9c179e"
             ],
             [
              0.4444444444444444,
              "#bd3786"
             ],
             [
              0.5555555555555556,
              "#d8576b"
             ],
             [
              0.6666666666666666,
              "#ed7953"
             ],
             [
              0.7777777777777778,
              "#fb9f3a"
             ],
             [
              0.8888888888888888,
              "#fdca26"
             ],
             [
              1,
              "#f0f921"
             ]
            ],
            "type": "heatmapgl"
           }
          ],
          "histogram": [
           {
            "marker": {
             "pattern": {
              "fillmode": "overlay",
              "size": 10,
              "solidity": 0.2
             }
            },
            "type": "histogram"
           }
          ],
          "histogram2d": [
           {
            "colorbar": {
             "outlinewidth": 0,
             "ticks": ""
            },
            "colorscale": [
             [
              0,
              "#0d0887"
             ],
             [
              0.1111111111111111,
              "#46039f"
             ],
             [
              0.2222222222222222,
              "#7201a8"
             ],
             [
              0.3333333333333333,
              "#9c179e"
             ],
             [
              0.4444444444444444,
              "#bd3786"
             ],
             [
              0.5555555555555556,
              "#d8576b"
             ],
             [
              0.6666666666666666,
              "#ed7953"
             ],
             [
              0.7777777777777778,
              "#fb9f3a"
             ],
             [
              0.8888888888888888,
              "#fdca26"
             ],
             [
              1,
              "#f0f921"
             ]
            ],
            "type": "histogram2d"
           }
          ],
          "histogram2dcontour": [
           {
            "colorbar": {
             "outlinewidth": 0,
             "ticks": ""
            },
            "colorscale": [
             [
              0,
              "#0d0887"
             ],
             [
              0.1111111111111111,
              "#46039f"
             ],
             [
              0.2222222222222222,
              "#7201a8"
             ],
             [
              0.3333333333333333,
              "#9c179e"
             ],
             [
              0.4444444444444444,
              "#bd3786"
             ],
             [
              0.5555555555555556,
              "#d8576b"
             ],
             [
              0.6666666666666666,
              "#ed7953"
             ],
             [
              0.7777777777777778,
              "#fb9f3a"
             ],
             [
              0.8888888888888888,
              "#fdca26"
             ],
             [
              1,
              "#f0f921"
             ]
            ],
            "type": "histogram2dcontour"
           }
          ],
          "mesh3d": [
           {
            "colorbar": {
             "outlinewidth": 0,
             "ticks": ""
            },
            "type": "mesh3d"
           }
          ],
          "parcoords": [
           {
            "line": {
             "colorbar": {
              "outlinewidth": 0,
              "ticks": ""
             }
            },
            "type": "parcoords"
           }
          ],
          "pie": [
           {
            "automargin": true,
            "type": "pie"
           }
          ],
          "scatter": [
           {
            "fillpattern": {
             "fillmode": "overlay",
             "size": 10,
             "solidity": 0.2
            },
            "type": "scatter"
           }
          ],
          "scatter3d": [
           {
            "line": {
             "colorbar": {
              "outlinewidth": 0,
              "ticks": ""
             }
            },
            "marker": {
             "colorbar": {
              "outlinewidth": 0,
              "ticks": ""
             }
            },
            "type": "scatter3d"
           }
          ],
          "scattercarpet": [
           {
            "marker": {
             "colorbar": {
              "outlinewidth": 0,
              "ticks": ""
             }
            },
            "type": "scattercarpet"
           }
          ],
          "scattergeo": [
           {
            "marker": {
             "colorbar": {
              "outlinewidth": 0,
              "ticks": ""
             }
            },
            "type": "scattergeo"
           }
          ],
          "scattergl": [
           {
            "marker": {
             "colorbar": {
              "outlinewidth": 0,
              "ticks": ""
             }
            },
            "type": "scattergl"
           }
          ],
          "scattermapbox": [
           {
            "marker": {
             "colorbar": {
              "outlinewidth": 0,
              "ticks": ""
             }
            },
            "type": "scattermapbox"
           }
          ],
          "scatterpolar": [
           {
            "marker": {
             "colorbar": {
              "outlinewidth": 0,
              "ticks": ""
             }
            },
            "type": "scatterpolar"
           }
          ],
          "scatterpolargl": [
           {
            "marker": {
             "colorbar": {
              "outlinewidth": 0,
              "ticks": ""
             }
            },
            "type": "scatterpolargl"
           }
          ],
          "scatterternary": [
           {
            "marker": {
             "colorbar": {
              "outlinewidth": 0,
              "ticks": ""
             }
            },
            "type": "scatterternary"
           }
          ],
          "surface": [
           {
            "colorbar": {
             "outlinewidth": 0,
             "ticks": ""
            },
            "colorscale": [
             [
              0,
              "#0d0887"
             ],
             [
              0.1111111111111111,
              "#46039f"
             ],
             [
              0.2222222222222222,
              "#7201a8"
             ],
             [
              0.3333333333333333,
              "#9c179e"
             ],
             [
              0.4444444444444444,
              "#bd3786"
             ],
             [
              0.5555555555555556,
              "#d8576b"
             ],
             [
              0.6666666666666666,
              "#ed7953"
             ],
             [
              0.7777777777777778,
              "#fb9f3a"
             ],
             [
              0.8888888888888888,
              "#fdca26"
             ],
             [
              1,
              "#f0f921"
             ]
            ],
            "type": "surface"
           }
          ],
          "table": [
           {
            "cells": {
             "fill": {
              "color": "#EBF0F8"
             },
             "line": {
              "color": "white"
             }
            },
            "header": {
             "fill": {
              "color": "#C8D4E3"
             },
             "line": {
              "color": "white"
             }
            },
            "type": "table"
           }
          ]
         },
         "layout": {
          "annotationdefaults": {
           "arrowcolor": "#2a3f5f",
           "arrowhead": 0,
           "arrowwidth": 1
          },
          "autotypenumbers": "strict",
          "coloraxis": {
           "colorbar": {
            "outlinewidth": 0,
            "ticks": ""
           }
          },
          "colorscale": {
           "diverging": [
            [
             0,
             "#8e0152"
            ],
            [
             0.1,
             "#c51b7d"
            ],
            [
             0.2,
             "#de77ae"
            ],
            [
             0.3,
             "#f1b6da"
            ],
            [
             0.4,
             "#fde0ef"
            ],
            [
             0.5,
             "#f7f7f7"
            ],
            [
             0.6,
             "#e6f5d0"
            ],
            [
             0.7,
             "#b8e186"
            ],
            [
             0.8,
             "#7fbc41"
            ],
            [
             0.9,
             "#4d9221"
            ],
            [
             1,
             "#276419"
            ]
           ],
           "sequential": [
            [
             0,
             "#0d0887"
            ],
            [
             0.1111111111111111,
             "#46039f"
            ],
            [
             0.2222222222222222,
             "#7201a8"
            ],
            [
             0.3333333333333333,
             "#9c179e"
            ],
            [
             0.4444444444444444,
             "#bd3786"
            ],
            [
             0.5555555555555556,
             "#d8576b"
            ],
            [
             0.6666666666666666,
             "#ed7953"
            ],
            [
             0.7777777777777778,
             "#fb9f3a"
            ],
            [
             0.8888888888888888,
             "#fdca26"
            ],
            [
             1,
             "#f0f921"
            ]
           ],
           "sequentialminus": [
            [
             0,
             "#0d0887"
            ],
            [
             0.1111111111111111,
             "#46039f"
            ],
            [
             0.2222222222222222,
             "#7201a8"
            ],
            [
             0.3333333333333333,
             "#9c179e"
            ],
            [
             0.4444444444444444,
             "#bd3786"
            ],
            [
             0.5555555555555556,
             "#d8576b"
            ],
            [
             0.6666666666666666,
             "#ed7953"
            ],
            [
             0.7777777777777778,
             "#fb9f3a"
            ],
            [
             0.8888888888888888,
             "#fdca26"
            ],
            [
             1,
             "#f0f921"
            ]
           ]
          },
          "colorway": [
           "#636efa",
           "#EF553B",
           "#00cc96",
           "#ab63fa",
           "#FFA15A",
           "#19d3f3",
           "#FF6692",
           "#B6E880",
           "#FF97FF",
           "#FECB52"
          ],
          "font": {
           "color": "#2a3f5f"
          },
          "geo": {
           "bgcolor": "white",
           "lakecolor": "white",
           "landcolor": "#E5ECF6",
           "showlakes": true,
           "showland": true,
           "subunitcolor": "white"
          },
          "hoverlabel": {
           "align": "left"
          },
          "hovermode": "closest",
          "mapbox": {
           "style": "light"
          },
          "paper_bgcolor": "white",
          "plot_bgcolor": "#E5ECF6",
          "polar": {
           "angularaxis": {
            "gridcolor": "white",
            "linecolor": "white",
            "ticks": ""
           },
           "bgcolor": "#E5ECF6",
           "radialaxis": {
            "gridcolor": "white",
            "linecolor": "white",
            "ticks": ""
           }
          },
          "scene": {
           "xaxis": {
            "backgroundcolor": "#E5ECF6",
            "gridcolor": "white",
            "gridwidth": 2,
            "linecolor": "white",
            "showbackground": true,
            "ticks": "",
            "zerolinecolor": "white"
           },
           "yaxis": {
            "backgroundcolor": "#E5ECF6",
            "gridcolor": "white",
            "gridwidth": 2,
            "linecolor": "white",
            "showbackground": true,
            "ticks": "",
            "zerolinecolor": "white"
           },
           "zaxis": {
            "backgroundcolor": "#E5ECF6",
            "gridcolor": "white",
            "gridwidth": 2,
            "linecolor": "white",
            "showbackground": true,
            "ticks": "",
            "zerolinecolor": "white"
           }
          },
          "shapedefaults": {
           "line": {
            "color": "#2a3f5f"
           }
          },
          "ternary": {
           "aaxis": {
            "gridcolor": "white",
            "linecolor": "white",
            "ticks": ""
           },
           "baxis": {
            "gridcolor": "white",
            "linecolor": "white",
            "ticks": ""
           },
           "bgcolor": "#E5ECF6",
           "caxis": {
            "gridcolor": "white",
            "linecolor": "white",
            "ticks": ""
           }
          },
          "title": {
           "x": 0.05
          },
          "xaxis": {
           "automargin": true,
           "gridcolor": "white",
           "linecolor": "white",
           "ticks": "",
           "title": {
            "standoff": 15
           },
           "zerolinecolor": "white",
           "zerolinewidth": 2
          },
          "yaxis": {
           "automargin": true,
           "gridcolor": "white",
           "linecolor": "white",
           "ticks": "",
           "title": {
            "standoff": 15
           },
           "zerolinecolor": "white",
           "zerolinewidth": 2
          }
         }
        },
        "title": {
         "font": {
          "color": "#4D5663"
         }
        },
        "xaxis": {
         "gridcolor": "#E1E5ED",
         "showgrid": true,
         "tickfont": {
          "color": "#4D5663"
         },
         "title": {
          "font": {
           "color": "#4D5663"
          },
          "text": ""
         },
         "zerolinecolor": "#E1E5ED"
        },
        "yaxis": {
         "gridcolor": "#E1E5ED",
         "showgrid": true,
         "tickfont": {
          "color": "#4D5663"
         },
         "title": {
          "font": {
           "color": "#4D5663"
          },
          "text": ""
         },
         "zerolinecolor": "#E1E5ED"
        }
       }
      },
      "text/html": [
       "<div>                            <div id=\"3e0c3ac6-1b7b-45d6-b497-d08d5075287d\" class=\"plotly-graph-div\" style=\"height:525px; width:100%;\"></div>            <script type=\"text/javascript\">                require([\"plotly\"], function(Plotly) {                    window.PLOTLYENV=window.PLOTLYENV || {};\n",
       "                    window.PLOTLYENV.BASE_URL='https://plot.ly';                                    if (document.getElementById(\"3e0c3ac6-1b7b-45d6-b497-d08d5075287d\")) {                    Plotly.newPlot(                        \"3e0c3ac6-1b7b-45d6-b497-d08d5075287d\",                        [{\"colorscale\":[[0.0,\"rgb(165,0,38)\"],[0.1,\"rgb(215,48,39)\"],[0.2,\"rgb(244,109,67)\"],[0.3,\"rgb(253,174,97)\"],[0.4,\"rgb(254,224,144)\"],[0.5,\"rgb(255,255,191)\"],[0.6,\"rgb(224,243,248)\"],[0.7,\"rgb(171,217,233)\"],[0.8,\"rgb(116,173,209)\"],[0.9,\"rgb(69,117,180)\"],[1.0,\"rgb(49,54,149)\"]],\"x\":[0,1,2,3,4],\"y\":[\"x\",\"y\",\"z\"],\"z\":[[1,2,3,4,5],[10,20,30,20,10],[5,4,3,2,1]],\"type\":\"surface\"}],                        {\"legend\":{\"bgcolor\":\"#F5F6F9\",\"font\":{\"color\":\"#4D5663\"}},\"paper_bgcolor\":\"#F5F6F9\",\"plot_bgcolor\":\"#F5F6F9\",\"template\":{\"data\":{\"barpolar\":[{\"marker\":{\"line\":{\"color\":\"#E5ECF6\",\"width\":0.5},\"pattern\":{\"fillmode\":\"overlay\",\"size\":10,\"solidity\":0.2}},\"type\":\"barpolar\"}],\"bar\":[{\"error_x\":{\"color\":\"#2a3f5f\"},\"error_y\":{\"color\":\"#2a3f5f\"},\"marker\":{\"line\":{\"color\":\"#E5ECF6\",\"width\":0.5},\"pattern\":{\"fillmode\":\"overlay\",\"size\":10,\"solidity\":0.2}},\"type\":\"bar\"}],\"carpet\":[{\"aaxis\":{\"endlinecolor\":\"#2a3f5f\",\"gridcolor\":\"white\",\"linecolor\":\"white\",\"minorgridcolor\":\"white\",\"startlinecolor\":\"#2a3f5f\"},\"baxis\":{\"endlinecolor\":\"#2a3f5f\",\"gridcolor\":\"white\",\"linecolor\":\"white\",\"minorgridcolor\":\"white\",\"startlinecolor\":\"#2a3f5f\"},\"type\":\"carpet\"}],\"choropleth\":[{\"colorbar\":{\"outlinewidth\":0,\"ticks\":\"\"},\"type\":\"choropleth\"}],\"contourcarpet\":[{\"colorbar\":{\"outlinewidth\":0,\"ticks\":\"\"},\"type\":\"contourcarpet\"}],\"contour\":[{\"colorbar\":{\"outlinewidth\":0,\"ticks\":\"\"},\"colorscale\":[[0.0,\"#0d0887\"],[0.1111111111111111,\"#46039f\"],[0.2222222222222222,\"#7201a8\"],[0.3333333333333333,\"#9c179e\"],[0.4444444444444444,\"#bd3786\"],[0.5555555555555556,\"#d8576b\"],[0.6666666666666666,\"#ed7953\"],[0.7777777777777778,\"#fb9f3a\"],[0.8888888888888888,\"#fdca26\"],[1.0,\"#f0f921\"]],\"type\":\"contour\"}],\"heatmapgl\":[{\"colorbar\":{\"outlinewidth\":0,\"ticks\":\"\"},\"colorscale\":[[0.0,\"#0d0887\"],[0.1111111111111111,\"#46039f\"],[0.2222222222222222,\"#7201a8\"],[0.3333333333333333,\"#9c179e\"],[0.4444444444444444,\"#bd3786\"],[0.5555555555555556,\"#d8576b\"],[0.6666666666666666,\"#ed7953\"],[0.7777777777777778,\"#fb9f3a\"],[0.8888888888888888,\"#fdca26\"],[1.0,\"#f0f921\"]],\"type\":\"heatmapgl\"}],\"heatmap\":[{\"colorbar\":{\"outlinewidth\":0,\"ticks\":\"\"},\"colorscale\":[[0.0,\"#0d0887\"],[0.1111111111111111,\"#46039f\"],[0.2222222222222222,\"#7201a8\"],[0.3333333333333333,\"#9c179e\"],[0.4444444444444444,\"#bd3786\"],[0.5555555555555556,\"#d8576b\"],[0.6666666666666666,\"#ed7953\"],[0.7777777777777778,\"#fb9f3a\"],[0.8888888888888888,\"#fdca26\"],[1.0,\"#f0f921\"]],\"type\":\"heatmap\"}],\"histogram2dcontour\":[{\"colorbar\":{\"outlinewidth\":0,\"ticks\":\"\"},\"colorscale\":[[0.0,\"#0d0887\"],[0.1111111111111111,\"#46039f\"],[0.2222222222222222,\"#7201a8\"],[0.3333333333333333,\"#9c179e\"],[0.4444444444444444,\"#bd3786\"],[0.5555555555555556,\"#d8576b\"],[0.6666666666666666,\"#ed7953\"],[0.7777777777777778,\"#fb9f3a\"],[0.8888888888888888,\"#fdca26\"],[1.0,\"#f0f921\"]],\"type\":\"histogram2dcontour\"}],\"histogram2d\":[{\"colorbar\":{\"outlinewidth\":0,\"ticks\":\"\"},\"colorscale\":[[0.0,\"#0d0887\"],[0.1111111111111111,\"#46039f\"],[0.2222222222222222,\"#7201a8\"],[0.3333333333333333,\"#9c179e\"],[0.4444444444444444,\"#bd3786\"],[0.5555555555555556,\"#d8576b\"],[0.6666666666666666,\"#ed7953\"],[0.7777777777777778,\"#fb9f3a\"],[0.8888888888888888,\"#fdca26\"],[1.0,\"#f0f921\"]],\"type\":\"histogram2d\"}],\"histogram\":[{\"marker\":{\"pattern\":{\"fillmode\":\"overlay\",\"size\":10,\"solidity\":0.2}},\"type\":\"histogram\"}],\"mesh3d\":[{\"colorbar\":{\"outlinewidth\":0,\"ticks\":\"\"},\"type\":\"mesh3d\"}],\"parcoords\":[{\"line\":{\"colorbar\":{\"outlinewidth\":0,\"ticks\":\"\"}},\"type\":\"parcoords\"}],\"pie\":[{\"automargin\":true,\"type\":\"pie\"}],\"scatter3d\":[{\"line\":{\"colorbar\":{\"outlinewidth\":0,\"ticks\":\"\"}},\"marker\":{\"colorbar\":{\"outlinewidth\":0,\"ticks\":\"\"}},\"type\":\"scatter3d\"}],\"scattercarpet\":[{\"marker\":{\"colorbar\":{\"outlinewidth\":0,\"ticks\":\"\"}},\"type\":\"scattercarpet\"}],\"scattergeo\":[{\"marker\":{\"colorbar\":{\"outlinewidth\":0,\"ticks\":\"\"}},\"type\":\"scattergeo\"}],\"scattergl\":[{\"marker\":{\"colorbar\":{\"outlinewidth\":0,\"ticks\":\"\"}},\"type\":\"scattergl\"}],\"scattermapbox\":[{\"marker\":{\"colorbar\":{\"outlinewidth\":0,\"ticks\":\"\"}},\"type\":\"scattermapbox\"}],\"scatterpolargl\":[{\"marker\":{\"colorbar\":{\"outlinewidth\":0,\"ticks\":\"\"}},\"type\":\"scatterpolargl\"}],\"scatterpolar\":[{\"marker\":{\"colorbar\":{\"outlinewidth\":0,\"ticks\":\"\"}},\"type\":\"scatterpolar\"}],\"scatter\":[{\"fillpattern\":{\"fillmode\":\"overlay\",\"size\":10,\"solidity\":0.2},\"type\":\"scatter\"}],\"scatterternary\":[{\"marker\":{\"colorbar\":{\"outlinewidth\":0,\"ticks\":\"\"}},\"type\":\"scatterternary\"}],\"surface\":[{\"colorbar\":{\"outlinewidth\":0,\"ticks\":\"\"},\"colorscale\":[[0.0,\"#0d0887\"],[0.1111111111111111,\"#46039f\"],[0.2222222222222222,\"#7201a8\"],[0.3333333333333333,\"#9c179e\"],[0.4444444444444444,\"#bd3786\"],[0.5555555555555556,\"#d8576b\"],[0.6666666666666666,\"#ed7953\"],[0.7777777777777778,\"#fb9f3a\"],[0.8888888888888888,\"#fdca26\"],[1.0,\"#f0f921\"]],\"type\":\"surface\"}],\"table\":[{\"cells\":{\"fill\":{\"color\":\"#EBF0F8\"},\"line\":{\"color\":\"white\"}},\"header\":{\"fill\":{\"color\":\"#C8D4E3\"},\"line\":{\"color\":\"white\"}},\"type\":\"table\"}]},\"layout\":{\"annotationdefaults\":{\"arrowcolor\":\"#2a3f5f\",\"arrowhead\":0,\"arrowwidth\":1},\"autotypenumbers\":\"strict\",\"coloraxis\":{\"colorbar\":{\"outlinewidth\":0,\"ticks\":\"\"}},\"colorscale\":{\"diverging\":[[0,\"#8e0152\"],[0.1,\"#c51b7d\"],[0.2,\"#de77ae\"],[0.3,\"#f1b6da\"],[0.4,\"#fde0ef\"],[0.5,\"#f7f7f7\"],[0.6,\"#e6f5d0\"],[0.7,\"#b8e186\"],[0.8,\"#7fbc41\"],[0.9,\"#4d9221\"],[1,\"#276419\"]],\"sequential\":[[0.0,\"#0d0887\"],[0.1111111111111111,\"#46039f\"],[0.2222222222222222,\"#7201a8\"],[0.3333333333333333,\"#9c179e\"],[0.4444444444444444,\"#bd3786\"],[0.5555555555555556,\"#d8576b\"],[0.6666666666666666,\"#ed7953\"],[0.7777777777777778,\"#fb9f3a\"],[0.8888888888888888,\"#fdca26\"],[1.0,\"#f0f921\"]],\"sequentialminus\":[[0.0,\"#0d0887\"],[0.1111111111111111,\"#46039f\"],[0.2222222222222222,\"#7201a8\"],[0.3333333333333333,\"#9c179e\"],[0.4444444444444444,\"#bd3786\"],[0.5555555555555556,\"#d8576b\"],[0.6666666666666666,\"#ed7953\"],[0.7777777777777778,\"#fb9f3a\"],[0.8888888888888888,\"#fdca26\"],[1.0,\"#f0f921\"]]},\"colorway\":[\"#636efa\",\"#EF553B\",\"#00cc96\",\"#ab63fa\",\"#FFA15A\",\"#19d3f3\",\"#FF6692\",\"#B6E880\",\"#FF97FF\",\"#FECB52\"],\"font\":{\"color\":\"#2a3f5f\"},\"geo\":{\"bgcolor\":\"white\",\"lakecolor\":\"white\",\"landcolor\":\"#E5ECF6\",\"showlakes\":true,\"showland\":true,\"subunitcolor\":\"white\"},\"hoverlabel\":{\"align\":\"left\"},\"hovermode\":\"closest\",\"mapbox\":{\"style\":\"light\"},\"paper_bgcolor\":\"white\",\"plot_bgcolor\":\"#E5ECF6\",\"polar\":{\"angularaxis\":{\"gridcolor\":\"white\",\"linecolor\":\"white\",\"ticks\":\"\"},\"bgcolor\":\"#E5ECF6\",\"radialaxis\":{\"gridcolor\":\"white\",\"linecolor\":\"white\",\"ticks\":\"\"}},\"scene\":{\"xaxis\":{\"backgroundcolor\":\"#E5ECF6\",\"gridcolor\":\"white\",\"gridwidth\":2,\"linecolor\":\"white\",\"showbackground\":true,\"ticks\":\"\",\"zerolinecolor\":\"white\"},\"yaxis\":{\"backgroundcolor\":\"#E5ECF6\",\"gridcolor\":\"white\",\"gridwidth\":2,\"linecolor\":\"white\",\"showbackground\":true,\"ticks\":\"\",\"zerolinecolor\":\"white\"},\"zaxis\":{\"backgroundcolor\":\"#E5ECF6\",\"gridcolor\":\"white\",\"gridwidth\":2,\"linecolor\":\"white\",\"showbackground\":true,\"ticks\":\"\",\"zerolinecolor\":\"white\"}},\"shapedefaults\":{\"line\":{\"color\":\"#2a3f5f\"}},\"ternary\":{\"aaxis\":{\"gridcolor\":\"white\",\"linecolor\":\"white\",\"ticks\":\"\"},\"baxis\":{\"gridcolor\":\"white\",\"linecolor\":\"white\",\"ticks\":\"\"},\"bgcolor\":\"#E5ECF6\",\"caxis\":{\"gridcolor\":\"white\",\"linecolor\":\"white\",\"ticks\":\"\"}},\"title\":{\"x\":0.05},\"xaxis\":{\"automargin\":true,\"gridcolor\":\"white\",\"linecolor\":\"white\",\"ticks\":\"\",\"title\":{\"standoff\":15},\"zerolinecolor\":\"white\",\"zerolinewidth\":2},\"yaxis\":{\"automargin\":true,\"gridcolor\":\"white\",\"linecolor\":\"white\",\"ticks\":\"\",\"title\":{\"standoff\":15},\"zerolinecolor\":\"white\",\"zerolinewidth\":2}}},\"title\":{\"font\":{\"color\":\"#4D5663\"}},\"xaxis\":{\"gridcolor\":\"#E1E5ED\",\"showgrid\":true,\"tickfont\":{\"color\":\"#4D5663\"},\"title\":{\"font\":{\"color\":\"#4D5663\"},\"text\":\"\"},\"zerolinecolor\":\"#E1E5ED\"},\"yaxis\":{\"gridcolor\":\"#E1E5ED\",\"showgrid\":true,\"tickfont\":{\"color\":\"#4D5663\"},\"title\":{\"font\":{\"color\":\"#4D5663\"},\"text\":\"\"},\"zerolinecolor\":\"#E1E5ED\"}},                        {\"showLink\": true, \"linkText\": \"Export to plot.ly\", \"plotlyServerURL\": \"https://plot.ly\", \"responsive\": true}                    ).then(function(){\n",
       "                            \n",
       "var gd = document.getElementById('3e0c3ac6-1b7b-45d6-b497-d08d5075287d');\n",
       "var x = new MutationObserver(function (mutations, observer) {{\n",
       "        var display = window.getComputedStyle(gd).display;\n",
       "        if (!display || display === 'none') {{\n",
       "            console.log([gd, 'removed!']);\n",
       "            Plotly.purge(gd);\n",
       "            observer.disconnect();\n",
       "        }}\n",
       "}});\n",
       "\n",
       "// Listen for the removal of the full notebook cells\n",
       "var notebookContainer = gd.closest('#notebook-container');\n",
       "if (notebookContainer) {{\n",
       "    x.observe(notebookContainer, {childList: true});\n",
       "}}\n",
       "\n",
       "// Listen for the clearing of the current output cell\n",
       "var outputEl = gd.closest('.output');\n",
       "if (outputEl) {{\n",
       "    x.observe(outputEl, {childList: true});\n",
       "}}\n",
       "\n",
       "                        })                };                });            </script>        </div>"
      ]
     },
     "metadata": {},
     "output_type": "display_data"
    }
   ],
   "source": [
    "df3 = pd.DataFrame({'x':[1,2,3,4,5],'y':[10,20,30,20,10],'z':[5,4,3,2,1]})\n",
    "df3.iplot(kind='surface',colorscale='rdylbu')"
   ]
  },
  {
   "cell_type": "markdown",
   "metadata": {},
   "source": [
    "## Spread"
   ]
  },
  {
   "cell_type": "code",
   "execution_count": 21,
   "metadata": {
    "collapsed": false
   },
   "outputs": [
    {
     "data": {
      "application/vnd.plotly.v1+json": {
       "config": {
        "linkText": "Export to plot.ly",
        "plotlyServerURL": "https://plot.ly",
        "showLink": true
       },
       "data": [
        {
         "line": {
          "color": "rgba(255, 153, 51, 1.0)",
          "dash": "solid",
          "shape": "linear",
          "width": 1.3
         },
         "mode": "lines",
         "name": "A",
         "text": "",
         "type": "scatter",
         "x": [
          0,
          1,
          2,
          3,
          4,
          5,
          6,
          7,
          8,
          9,
          10,
          11,
          12,
          13,
          14,
          15,
          16,
          17,
          18,
          19,
          20,
          21,
          22,
          23,
          24,
          25,
          26,
          27,
          28,
          29,
          30,
          31,
          32,
          33,
          34,
          35,
          36,
          37,
          38,
          39,
          40,
          41,
          42,
          43,
          44,
          45,
          46,
          47,
          48,
          49,
          50,
          51,
          52,
          53,
          54,
          55,
          56,
          57,
          58,
          59,
          60,
          61,
          62,
          63,
          64,
          65,
          66,
          67,
          68,
          69,
          70,
          71,
          72,
          73,
          74,
          75,
          76,
          77,
          78,
          79,
          80,
          81,
          82,
          83,
          84,
          85,
          86,
          87,
          88,
          89,
          90,
          91,
          92,
          93,
          94,
          95,
          96,
          97,
          98,
          99
         ],
         "y": [
          -0.4235298267372065,
          0.8737034190511784,
          -0.4425667569523764,
          0.3986178618161769,
          0.03428784743673946,
          2.06533134908832,
          0.10271963749380746,
          0.05098734502258662,
          -0.1184063857671036,
          1.0964064857463354,
          1.4946454801576834,
          -0.7437131463014094,
          1.3253833864300688,
          -0.49360380332296394,
          -0.13305937269604404,
          0.9240293905139304,
          -0.09424341106312586,
          1.18071399478596,
          0.2645952610124938,
          0.8836118426137318,
          -1.173003943925152,
          -0.3212571585007686,
          -0.4398567644713879,
          -0.021012138960523438,
          0.07155221310667621,
          -2.815070179834287,
          -0.7035450325355791,
          -2.3018781723788013,
          -0.604916557375915,
          -1.3218543223382502,
          -0.3097396604396595,
          -0.854479473887273,
          -0.4678081709677992,
          -0.08838304149912787,
          0.7643585236625032,
          -1.2729795604519634,
          -1.2497474177461365,
          0.11665547061831338,
          0.054222241262439526,
          1.3955567369637993,
          1.2335949227350325,
          0.7811707745028742,
          -0.7062201202758001,
          -0.010086473033524971,
          0.17612395345598061,
          2.0194244526399077,
          -0.124897544987423,
          0.3504515229698034,
          0.704102638494282,
          -0.9641455130531145,
          0.21652976538587435,
          -0.6644405943141568,
          -0.3894761056471769,
          0.5468190505161646,
          -0.8363370271767773,
          -1.1460722642318224,
          -0.07587582681833421,
          0.9619169082305153,
          -0.5239800127167108,
          1.0311673460804889,
          -1.1758734601138927,
          1.5461295811284619,
          -2.5218097000157984,
          0.31240706808234286,
          -0.39540885307643037,
          -0.9181226038092148,
          -0.973212682296477,
          -1.1081306261732067,
          -0.10776950961150684,
          -0.050654313344176784,
          -0.9699477197603297,
          0.8557740272749418,
          1.0221888170710327,
          0.17768076059489119,
          -0.10870171886551774,
          0.29400495682356353,
          0.5229295264694711,
          1.5207606347295235,
          1.0936857792331733,
          -0.11595518871389471,
          -0.9859049663963309,
          -0.8199765183066423,
          0.9134190838522616,
          -0.7916172912135768,
          -0.12131152947593532,
          -1.2701415944118364,
          -0.9773938872991602,
          0.3339642125319659,
          0.6798478253423859,
          -1.5492577140644306,
          0.5787098004342369,
          0.5406428940538466,
          0.7639972929707557,
          0.017857529896215186,
          -0.22871482857901884,
          -0.07650894408479933,
          1.7552590593676092,
          0.18190406729913505,
          -1.6830180224348916,
          -2.2543336155615137
         ]
        },
        {
         "line": {
          "color": "rgba(55, 128, 191, 1.0)",
          "dash": "solid",
          "shape": "linear",
          "width": 1.3
         },
         "mode": "lines",
         "name": "B",
         "text": "",
         "type": "scatter",
         "x": [
          0,
          1,
          2,
          3,
          4,
          5,
          6,
          7,
          8,
          9,
          10,
          11,
          12,
          13,
          14,
          15,
          16,
          17,
          18,
          19,
          20,
          21,
          22,
          23,
          24,
          25,
          26,
          27,
          28,
          29,
          30,
          31,
          32,
          33,
          34,
          35,
          36,
          37,
          38,
          39,
          40,
          41,
          42,
          43,
          44,
          45,
          46,
          47,
          48,
          49,
          50,
          51,
          52,
          53,
          54,
          55,
          56,
          57,
          58,
          59,
          60,
          61,
          62,
          63,
          64,
          65,
          66,
          67,
          68,
          69,
          70,
          71,
          72,
          73,
          74,
          75,
          76,
          77,
          78,
          79,
          80,
          81,
          82,
          83,
          84,
          85,
          86,
          87,
          88,
          89,
          90,
          91,
          92,
          93,
          94,
          95,
          96,
          97,
          98,
          99
         ],
         "y": [
          0.21294078317383458,
          0.2518028123325517,
          0.02091657406832586,
          1.3626170892858607,
          0.008884733090600866,
          -0.7942574105325144,
          -1.4932730233998306,
          1.46030442365578,
          0.5222281818282609,
          -0.6951728119359911,
          -1.128579499529297,
          1.4666696280299252,
          1.8249626782770507,
          0.5202794124545566,
          0.7201153802481164,
          -1.5626581529361065,
          0.3374181890445056,
          -0.2903741529002983,
          -0.40190112011766466,
          -1.1603959048941097,
          0.9945810374960529,
          1.0458734586078855,
          -0.10175723853610258,
          0.5032333501247692,
          0.4423633466724333,
          -0.9292874889142884,
          1.0404659047051579,
          -0.4081306443840345,
          1.5848729347087902,
          0.11617936567027352,
          0.877815726072177,
          -1.6737754450487907,
          -0.6500583582053018,
          0.6400105834817084,
          -0.44334139052207533,
          -0.46506821727471764,
          1.6976387898715808,
          -0.4127523142241755,
          0.2847774928581605,
          2.0843595325833,
          1.1962031768333525,
          -0.19640158479150444,
          -0.076513511860327,
          1.091084899278679,
          0.48501073599044303,
          -0.5488969947992373,
          1.5657928427809016,
          -1.0644035759844077,
          1.194701257470469,
          0.5469168263690459,
          1.733072093267033,
          1.2634577119112578,
          -0.5420507058393845,
          -0.8411226760092744,
          0.2396772592095201,
          -0.5175263212605506,
          1.6612996922788827,
          0.6317816649077945,
          -0.3491301771453928,
          3.2420035524398623,
          -0.3006899949173568,
          1.997414779630204,
          0.12307791592774506,
          -1.2500563474156865,
          0.31535217967862017,
          -0.08156801559514214,
          0.15695759628048428,
          1.097578516882325,
          -1.6933624000861809,
          1.0998500106286162,
          -0.04798598377017386,
          -1.0504861587912668,
          0.2157760376256392,
          0.2721587078516661,
          1.5158996980625876,
          -1.0820719356636508,
          -0.7449838137376683,
          2.1678435919878143,
          -1.3867241124350391,
          1.569218147485345,
          0.9615517659406315,
          -0.13308189808999643,
          1.115636697593061,
          -1.218340919178577,
          1.458638359803591,
          0.2360747011023473,
          0.47478412012124943,
          0.1559355888436621,
          0.26512385357664964,
          0.1568188907648089,
          0.7603143641721575,
          -1.1817614859597358,
          -0.4959769554035473,
          -1.573931163429572,
          0.9898452846005282,
          -1.7092796113603514,
          -0.16008249410907596,
          -0.7349355342113074,
          0.6686336198044844,
          1.0934331284256122
         ]
        }
       ],
       "layout": {
        "legend": {
         "bgcolor": "#F5F6F9",
         "font": {
          "color": "#4D5663"
         }
        },
        "paper_bgcolor": "#F5F6F9",
        "plot_bgcolor": "#F5F6F9",
        "template": {
         "data": {
          "bar": [
           {
            "error_x": {
             "color": "#2a3f5f"
            },
            "error_y": {
             "color": "#2a3f5f"
            },
            "marker": {
             "line": {
              "color": "#E5ECF6",
              "width": 0.5
             },
             "pattern": {
              "fillmode": "overlay",
              "size": 10,
              "solidity": 0.2
             }
            },
            "type": "bar"
           }
          ],
          "barpolar": [
           {
            "marker": {
             "line": {
              "color": "#E5ECF6",
              "width": 0.5
             },
             "pattern": {
              "fillmode": "overlay",
              "size": 10,
              "solidity": 0.2
             }
            },
            "type": "barpolar"
           }
          ],
          "carpet": [
           {
            "aaxis": {
             "endlinecolor": "#2a3f5f",
             "gridcolor": "white",
             "linecolor": "white",
             "minorgridcolor": "white",
             "startlinecolor": "#2a3f5f"
            },
            "baxis": {
             "endlinecolor": "#2a3f5f",
             "gridcolor": "white",
             "linecolor": "white",
             "minorgridcolor": "white",
             "startlinecolor": "#2a3f5f"
            },
            "type": "carpet"
           }
          ],
          "choropleth": [
           {
            "colorbar": {
             "outlinewidth": 0,
             "ticks": ""
            },
            "type": "choropleth"
           }
          ],
          "contour": [
           {
            "colorbar": {
             "outlinewidth": 0,
             "ticks": ""
            },
            "colorscale": [
             [
              0,
              "#0d0887"
             ],
             [
              0.1111111111111111,
              "#46039f"
             ],
             [
              0.2222222222222222,
              "#7201a8"
             ],
             [
              0.3333333333333333,
              "#9c179e"
             ],
             [
              0.4444444444444444,
              "#bd3786"
             ],
             [
              0.5555555555555556,
              "#d8576b"
             ],
             [
              0.6666666666666666,
              "#ed7953"
             ],
             [
              0.7777777777777778,
              "#fb9f3a"
             ],
             [
              0.8888888888888888,
              "#fdca26"
             ],
             [
              1,
              "#f0f921"
             ]
            ],
            "type": "contour"
           }
          ],
          "contourcarpet": [
           {
            "colorbar": {
             "outlinewidth": 0,
             "ticks": ""
            },
            "type": "contourcarpet"
           }
          ],
          "heatmap": [
           {
            "colorbar": {
             "outlinewidth": 0,
             "ticks": ""
            },
            "colorscale": [
             [
              0,
              "#0d0887"
             ],
             [
              0.1111111111111111,
              "#46039f"
             ],
             [
              0.2222222222222222,
              "#7201a8"
             ],
             [
              0.3333333333333333,
              "#9c179e"
             ],
             [
              0.4444444444444444,
              "#bd3786"
             ],
             [
              0.5555555555555556,
              "#d8576b"
             ],
             [
              0.6666666666666666,
              "#ed7953"
             ],
             [
              0.7777777777777778,
              "#fb9f3a"
             ],
             [
              0.8888888888888888,
              "#fdca26"
             ],
             [
              1,
              "#f0f921"
             ]
            ],
            "type": "heatmap"
           }
          ],
          "heatmapgl": [
           {
            "colorbar": {
             "outlinewidth": 0,
             "ticks": ""
            },
            "colorscale": [
             [
              0,
              "#0d0887"
             ],
             [
              0.1111111111111111,
              "#46039f"
             ],
             [
              0.2222222222222222,
              "#7201a8"
             ],
             [
              0.3333333333333333,
              "#9c179e"
             ],
             [
              0.4444444444444444,
              "#bd3786"
             ],
             [
              0.5555555555555556,
              "#d8576b"
             ],
             [
              0.6666666666666666,
              "#ed7953"
             ],
             [
              0.7777777777777778,
              "#fb9f3a"
             ],
             [
              0.8888888888888888,
              "#fdca26"
             ],
             [
              1,
              "#f0f921"
             ]
            ],
            "type": "heatmapgl"
           }
          ],
          "histogram": [
           {
            "marker": {
             "pattern": {
              "fillmode": "overlay",
              "size": 10,
              "solidity": 0.2
             }
            },
            "type": "histogram"
           }
          ],
          "histogram2d": [
           {
            "colorbar": {
             "outlinewidth": 0,
             "ticks": ""
            },
            "colorscale": [
             [
              0,
              "#0d0887"
             ],
             [
              0.1111111111111111,
              "#46039f"
             ],
             [
              0.2222222222222222,
              "#7201a8"
             ],
             [
              0.3333333333333333,
              "#9c179e"
             ],
             [
              0.4444444444444444,
              "#bd3786"
             ],
             [
              0.5555555555555556,
              "#d8576b"
             ],
             [
              0.6666666666666666,
              "#ed7953"
             ],
             [
              0.7777777777777778,
              "#fb9f3a"
             ],
             [
              0.8888888888888888,
              "#fdca26"
             ],
             [
              1,
              "#f0f921"
             ]
            ],
            "type": "histogram2d"
           }
          ],
          "histogram2dcontour": [
           {
            "colorbar": {
             "outlinewidth": 0,
             "ticks": ""
            },
            "colorscale": [
             [
              0,
              "#0d0887"
             ],
             [
              0.1111111111111111,
              "#46039f"
             ],
             [
              0.2222222222222222,
              "#7201a8"
             ],
             [
              0.3333333333333333,
              "#9c179e"
             ],
             [
              0.4444444444444444,
              "#bd3786"
             ],
             [
              0.5555555555555556,
              "#d8576b"
             ],
             [
              0.6666666666666666,
              "#ed7953"
             ],
             [
              0.7777777777777778,
              "#fb9f3a"
             ],
             [
              0.8888888888888888,
              "#fdca26"
             ],
             [
              1,
              "#f0f921"
             ]
            ],
            "type": "histogram2dcontour"
           }
          ],
          "mesh3d": [
           {
            "colorbar": {
             "outlinewidth": 0,
             "ticks": ""
            },
            "type": "mesh3d"
           }
          ],
          "parcoords": [
           {
            "line": {
             "colorbar": {
              "outlinewidth": 0,
              "ticks": ""
             }
            },
            "type": "parcoords"
           }
          ],
          "pie": [
           {
            "automargin": true,
            "type": "pie"
           }
          ],
          "scatter": [
           {
            "fillpattern": {
             "fillmode": "overlay",
             "size": 10,
             "solidity": 0.2
            },
            "type": "scatter"
           }
          ],
          "scatter3d": [
           {
            "line": {
             "colorbar": {
              "outlinewidth": 0,
              "ticks": ""
             }
            },
            "marker": {
             "colorbar": {
              "outlinewidth": 0,
              "ticks": ""
             }
            },
            "type": "scatter3d"
           }
          ],
          "scattercarpet": [
           {
            "marker": {
             "colorbar": {
              "outlinewidth": 0,
              "ticks": ""
             }
            },
            "type": "scattercarpet"
           }
          ],
          "scattergeo": [
           {
            "marker": {
             "colorbar": {
              "outlinewidth": 0,
              "ticks": ""
             }
            },
            "type": "scattergeo"
           }
          ],
          "scattergl": [
           {
            "marker": {
             "colorbar": {
              "outlinewidth": 0,
              "ticks": ""
             }
            },
            "type": "scattergl"
           }
          ],
          "scattermapbox": [
           {
            "marker": {
             "colorbar": {
              "outlinewidth": 0,
              "ticks": ""
             }
            },
            "type": "scattermapbox"
           }
          ],
          "scatterpolar": [
           {
            "marker": {
             "colorbar": {
              "outlinewidth": 0,
              "ticks": ""
             }
            },
            "type": "scatterpolar"
           }
          ],
          "scatterpolargl": [
           {
            "marker": {
             "colorbar": {
              "outlinewidth": 0,
              "ticks": ""
             }
            },
            "type": "scatterpolargl"
           }
          ],
          "scatterternary": [
           {
            "marker": {
             "colorbar": {
              "outlinewidth": 0,
              "ticks": ""
             }
            },
            "type": "scatterternary"
           }
          ],
          "surface": [
           {
            "colorbar": {
             "outlinewidth": 0,
             "ticks": ""
            },
            "colorscale": [
             [
              0,
              "#0d0887"
             ],
             [
              0.1111111111111111,
              "#46039f"
             ],
             [
              0.2222222222222222,
              "#7201a8"
             ],
             [
              0.3333333333333333,
              "#9c179e"
             ],
             [
              0.4444444444444444,
              "#bd3786"
             ],
             [
              0.5555555555555556,
              "#d8576b"
             ],
             [
              0.6666666666666666,
              "#ed7953"
             ],
             [
              0.7777777777777778,
              "#fb9f3a"
             ],
             [
              0.8888888888888888,
              "#fdca26"
             ],
             [
              1,
              "#f0f921"
             ]
            ],
            "type": "surface"
           }
          ],
          "table": [
           {
            "cells": {
             "fill": {
              "color": "#EBF0F8"
             },
             "line": {
              "color": "white"
             }
            },
            "header": {
             "fill": {
              "color": "#C8D4E3"
             },
             "line": {
              "color": "white"
             }
            },
            "type": "table"
           }
          ]
         },
         "layout": {
          "annotationdefaults": {
           "arrowcolor": "#2a3f5f",
           "arrowhead": 0,
           "arrowwidth": 1
          },
          "autotypenumbers": "strict",
          "coloraxis": {
           "colorbar": {
            "outlinewidth": 0,
            "ticks": ""
           }
          },
          "colorscale": {
           "diverging": [
            [
             0,
             "#8e0152"
            ],
            [
             0.1,
             "#c51b7d"
            ],
            [
             0.2,
             "#de77ae"
            ],
            [
             0.3,
             "#f1b6da"
            ],
            [
             0.4,
             "#fde0ef"
            ],
            [
             0.5,
             "#f7f7f7"
            ],
            [
             0.6,
             "#e6f5d0"
            ],
            [
             0.7,
             "#b8e186"
            ],
            [
             0.8,
             "#7fbc41"
            ],
            [
             0.9,
             "#4d9221"
            ],
            [
             1,
             "#276419"
            ]
           ],
           "sequential": [
            [
             0,
             "#0d0887"
            ],
            [
             0.1111111111111111,
             "#46039f"
            ],
            [
             0.2222222222222222,
             "#7201a8"
            ],
            [
             0.3333333333333333,
             "#9c179e"
            ],
            [
             0.4444444444444444,
             "#bd3786"
            ],
            [
             0.5555555555555556,
             "#d8576b"
            ],
            [
             0.6666666666666666,
             "#ed7953"
            ],
            [
             0.7777777777777778,
             "#fb9f3a"
            ],
            [
             0.8888888888888888,
             "#fdca26"
            ],
            [
             1,
             "#f0f921"
            ]
           ],
           "sequentialminus": [
            [
             0,
             "#0d0887"
            ],
            [
             0.1111111111111111,
             "#46039f"
            ],
            [
             0.2222222222222222,
             "#7201a8"
            ],
            [
             0.3333333333333333,
             "#9c179e"
            ],
            [
             0.4444444444444444,
             "#bd3786"
            ],
            [
             0.5555555555555556,
             "#d8576b"
            ],
            [
             0.6666666666666666,
             "#ed7953"
            ],
            [
             0.7777777777777778,
             "#fb9f3a"
            ],
            [
             0.8888888888888888,
             "#fdca26"
            ],
            [
             1,
             "#f0f921"
            ]
           ]
          },
          "colorway": [
           "#636efa",
           "#EF553B",
           "#00cc96",
           "#ab63fa",
           "#FFA15A",
           "#19d3f3",
           "#FF6692",
           "#B6E880",
           "#FF97FF",
           "#FECB52"
          ],
          "font": {
           "color": "#2a3f5f"
          },
          "geo": {
           "bgcolor": "white",
           "lakecolor": "white",
           "landcolor": "#E5ECF6",
           "showlakes": true,
           "showland": true,
           "subunitcolor": "white"
          },
          "hoverlabel": {
           "align": "left"
          },
          "hovermode": "closest",
          "mapbox": {
           "style": "light"
          },
          "paper_bgcolor": "white",
          "plot_bgcolor": "#E5ECF6",
          "polar": {
           "angularaxis": {
            "gridcolor": "white",
            "linecolor": "white",
            "ticks": ""
           },
           "bgcolor": "#E5ECF6",
           "radialaxis": {
            "gridcolor": "white",
            "linecolor": "white",
            "ticks": ""
           }
          },
          "scene": {
           "xaxis": {
            "backgroundcolor": "#E5ECF6",
            "gridcolor": "white",
            "gridwidth": 2,
            "linecolor": "white",
            "showbackground": true,
            "ticks": "",
            "zerolinecolor": "white"
           },
           "yaxis": {
            "backgroundcolor": "#E5ECF6",
            "gridcolor": "white",
            "gridwidth": 2,
            "linecolor": "white",
            "showbackground": true,
            "ticks": "",
            "zerolinecolor": "white"
           },
           "zaxis": {
            "backgroundcolor": "#E5ECF6",
            "gridcolor": "white",
            "gridwidth": 2,
            "linecolor": "white",
            "showbackground": true,
            "ticks": "",
            "zerolinecolor": "white"
           }
          },
          "shapedefaults": {
           "line": {
            "color": "#2a3f5f"
           }
          },
          "ternary": {
           "aaxis": {
            "gridcolor": "white",
            "linecolor": "white",
            "ticks": ""
           },
           "baxis": {
            "gridcolor": "white",
            "linecolor": "white",
            "ticks": ""
           },
           "bgcolor": "#E5ECF6",
           "caxis": {
            "gridcolor": "white",
            "linecolor": "white",
            "ticks": ""
           }
          },
          "title": {
           "x": 0.05
          },
          "xaxis": {
           "automargin": true,
           "gridcolor": "white",
           "linecolor": "white",
           "ticks": "",
           "title": {
            "standoff": 15
           },
           "zerolinecolor": "white",
           "zerolinewidth": 2
          },
          "yaxis": {
           "automargin": true,
           "gridcolor": "white",
           "linecolor": "white",
           "ticks": "",
           "title": {
            "standoff": 15
           },
           "zerolinecolor": "white",
           "zerolinewidth": 2
          }
         }
        },
        "title": {
         "font": {
          "color": "#4D5663"
         }
        },
        "xaxis": {
         "gridcolor": "#E1E5ED",
         "showgrid": true,
         "tickfont": {
          "color": "#4D5663"
         },
         "title": {
          "font": {
           "color": "#4D5663"
          },
          "text": ""
         },
         "zerolinecolor": "#E1E5ED"
        },
        "yaxis": {
         "gridcolor": "#E1E5ED",
         "showgrid": true,
         "tickfont": {
          "color": "#4D5663"
         },
         "title": {
          "font": {
           "color": "#4D5663"
          },
          "text": ""
         },
         "zerolinecolor": "#E1E5ED"
        }
       }
      },
      "text/html": [
       "<div>                            <div id=\"49ae2a23-4686-4de8-b902-1ac7c589ce25\" class=\"plotly-graph-div\" style=\"height:525px; width:100%;\"></div>            <script type=\"text/javascript\">                require([\"plotly\"], function(Plotly) {                    window.PLOTLYENV=window.PLOTLYENV || {};\n",
       "                    window.PLOTLYENV.BASE_URL='https://plot.ly';                                    if (document.getElementById(\"49ae2a23-4686-4de8-b902-1ac7c589ce25\")) {                    Plotly.newPlot(                        \"49ae2a23-4686-4de8-b902-1ac7c589ce25\",                        [{\"line\":{\"color\":\"rgba(255, 153, 51, 1.0)\",\"dash\":\"solid\",\"shape\":\"linear\",\"width\":1.3},\"mode\":\"lines\",\"name\":\"A\",\"text\":\"\",\"x\":[0,1,2,3,4,5,6,7,8,9,10,11,12,13,14,15,16,17,18,19,20,21,22,23,24,25,26,27,28,29,30,31,32,33,34,35,36,37,38,39,40,41,42,43,44,45,46,47,48,49,50,51,52,53,54,55,56,57,58,59,60,61,62,63,64,65,66,67,68,69,70,71,72,73,74,75,76,77,78,79,80,81,82,83,84,85,86,87,88,89,90,91,92,93,94,95,96,97,98,99],\"y\":[-0.4235298267372065,0.8737034190511784,-0.4425667569523764,0.3986178618161769,0.03428784743673946,2.06533134908832,0.10271963749380746,0.05098734502258662,-0.1184063857671036,1.0964064857463354,1.4946454801576834,-0.7437131463014094,1.3253833864300688,-0.49360380332296394,-0.13305937269604404,0.9240293905139304,-0.09424341106312586,1.18071399478596,0.2645952610124938,0.8836118426137318,-1.173003943925152,-0.3212571585007686,-0.4398567644713879,-0.021012138960523438,0.07155221310667621,-2.815070179834287,-0.7035450325355791,-2.3018781723788013,-0.604916557375915,-1.3218543223382502,-0.3097396604396595,-0.854479473887273,-0.4678081709677992,-0.08838304149912787,0.7643585236625032,-1.2729795604519634,-1.2497474177461365,0.11665547061831338,0.054222241262439526,1.3955567369637993,1.2335949227350325,0.7811707745028742,-0.7062201202758001,-0.010086473033524971,0.17612395345598061,2.0194244526399077,-0.124897544987423,0.3504515229698034,0.704102638494282,-0.9641455130531145,0.21652976538587435,-0.6644405943141568,-0.3894761056471769,0.5468190505161646,-0.8363370271767773,-1.1460722642318224,-0.07587582681833421,0.9619169082305153,-0.5239800127167108,1.0311673460804889,-1.1758734601138927,1.5461295811284619,-2.5218097000157984,0.31240706808234286,-0.39540885307643037,-0.9181226038092148,-0.973212682296477,-1.1081306261732067,-0.10776950961150684,-0.050654313344176784,-0.9699477197603297,0.8557740272749418,1.0221888170710327,0.17768076059489119,-0.10870171886551774,0.29400495682356353,0.5229295264694711,1.5207606347295235,1.0936857792331733,-0.11595518871389471,-0.9859049663963309,-0.8199765183066423,0.9134190838522616,-0.7916172912135768,-0.12131152947593532,-1.2701415944118364,-0.9773938872991602,0.3339642125319659,0.6798478253423859,-1.5492577140644306,0.5787098004342369,0.5406428940538466,0.7639972929707557,0.017857529896215186,-0.22871482857901884,-0.07650894408479933,1.7552590593676092,0.18190406729913505,-1.6830180224348916,-2.2543336155615137],\"type\":\"scatter\"},{\"line\":{\"color\":\"rgba(55, 128, 191, 1.0)\",\"dash\":\"solid\",\"shape\":\"linear\",\"width\":1.3},\"mode\":\"lines\",\"name\":\"B\",\"text\":\"\",\"x\":[0,1,2,3,4,5,6,7,8,9,10,11,12,13,14,15,16,17,18,19,20,21,22,23,24,25,26,27,28,29,30,31,32,33,34,35,36,37,38,39,40,41,42,43,44,45,46,47,48,49,50,51,52,53,54,55,56,57,58,59,60,61,62,63,64,65,66,67,68,69,70,71,72,73,74,75,76,77,78,79,80,81,82,83,84,85,86,87,88,89,90,91,92,93,94,95,96,97,98,99],\"y\":[0.21294078317383458,0.2518028123325517,0.02091657406832586,1.3626170892858607,0.008884733090600866,-0.7942574105325144,-1.4932730233998306,1.46030442365578,0.5222281818282609,-0.6951728119359911,-1.128579499529297,1.4666696280299252,1.8249626782770507,0.5202794124545566,0.7201153802481164,-1.5626581529361065,0.3374181890445056,-0.2903741529002983,-0.40190112011766466,-1.1603959048941097,0.9945810374960529,1.0458734586078855,-0.10175723853610258,0.5032333501247692,0.4423633466724333,-0.9292874889142884,1.0404659047051579,-0.4081306443840345,1.5848729347087902,0.11617936567027352,0.877815726072177,-1.6737754450487907,-0.6500583582053018,0.6400105834817084,-0.44334139052207533,-0.46506821727471764,1.6976387898715808,-0.4127523142241755,0.2847774928581605,2.0843595325833,1.1962031768333525,-0.19640158479150444,-0.076513511860327,1.091084899278679,0.48501073599044303,-0.5488969947992373,1.5657928427809016,-1.0644035759844077,1.194701257470469,0.5469168263690459,1.733072093267033,1.2634577119112578,-0.5420507058393845,-0.8411226760092744,0.2396772592095201,-0.5175263212605506,1.6612996922788827,0.6317816649077945,-0.3491301771453928,3.2420035524398623,-0.3006899949173568,1.997414779630204,0.12307791592774506,-1.2500563474156865,0.31535217967862017,-0.08156801559514214,0.15695759628048428,1.097578516882325,-1.6933624000861809,1.0998500106286162,-0.04798598377017386,-1.0504861587912668,0.2157760376256392,0.2721587078516661,1.5158996980625876,-1.0820719356636508,-0.7449838137376683,2.1678435919878143,-1.3867241124350391,1.569218147485345,0.9615517659406315,-0.13308189808999643,1.115636697593061,-1.218340919178577,1.458638359803591,0.2360747011023473,0.47478412012124943,0.1559355888436621,0.26512385357664964,0.1568188907648089,0.7603143641721575,-1.1817614859597358,-0.4959769554035473,-1.573931163429572,0.9898452846005282,-1.7092796113603514,-0.16008249410907596,-0.7349355342113074,0.6686336198044844,1.0934331284256122],\"type\":\"scatter\"}],                        {\"legend\":{\"bgcolor\":\"#F5F6F9\",\"font\":{\"color\":\"#4D5663\"}},\"paper_bgcolor\":\"#F5F6F9\",\"plot_bgcolor\":\"#F5F6F9\",\"template\":{\"data\":{\"barpolar\":[{\"marker\":{\"line\":{\"color\":\"#E5ECF6\",\"width\":0.5},\"pattern\":{\"fillmode\":\"overlay\",\"size\":10,\"solidity\":0.2}},\"type\":\"barpolar\"}],\"bar\":[{\"error_x\":{\"color\":\"#2a3f5f\"},\"error_y\":{\"color\":\"#2a3f5f\"},\"marker\":{\"line\":{\"color\":\"#E5ECF6\",\"width\":0.5},\"pattern\":{\"fillmode\":\"overlay\",\"size\":10,\"solidity\":0.2}},\"type\":\"bar\"}],\"carpet\":[{\"aaxis\":{\"endlinecolor\":\"#2a3f5f\",\"gridcolor\":\"white\",\"linecolor\":\"white\",\"minorgridcolor\":\"white\",\"startlinecolor\":\"#2a3f5f\"},\"baxis\":{\"endlinecolor\":\"#2a3f5f\",\"gridcolor\":\"white\",\"linecolor\":\"white\",\"minorgridcolor\":\"white\",\"startlinecolor\":\"#2a3f5f\"},\"type\":\"carpet\"}],\"choropleth\":[{\"colorbar\":{\"outlinewidth\":0,\"ticks\":\"\"},\"type\":\"choropleth\"}],\"contourcarpet\":[{\"colorbar\":{\"outlinewidth\":0,\"ticks\":\"\"},\"type\":\"contourcarpet\"}],\"contour\":[{\"colorbar\":{\"outlinewidth\":0,\"ticks\":\"\"},\"colorscale\":[[0.0,\"#0d0887\"],[0.1111111111111111,\"#46039f\"],[0.2222222222222222,\"#7201a8\"],[0.3333333333333333,\"#9c179e\"],[0.4444444444444444,\"#bd3786\"],[0.5555555555555556,\"#d8576b\"],[0.6666666666666666,\"#ed7953\"],[0.7777777777777778,\"#fb9f3a\"],[0.8888888888888888,\"#fdca26\"],[1.0,\"#f0f921\"]],\"type\":\"contour\"}],\"heatmapgl\":[{\"colorbar\":{\"outlinewidth\":0,\"ticks\":\"\"},\"colorscale\":[[0.0,\"#0d0887\"],[0.1111111111111111,\"#46039f\"],[0.2222222222222222,\"#7201a8\"],[0.3333333333333333,\"#9c179e\"],[0.4444444444444444,\"#bd3786\"],[0.5555555555555556,\"#d8576b\"],[0.6666666666666666,\"#ed7953\"],[0.7777777777777778,\"#fb9f3a\"],[0.8888888888888888,\"#fdca26\"],[1.0,\"#f0f921\"]],\"type\":\"heatmapgl\"}],\"heatmap\":[{\"colorbar\":{\"outlinewidth\":0,\"ticks\":\"\"},\"colorscale\":[[0.0,\"#0d0887\"],[0.1111111111111111,\"#46039f\"],[0.2222222222222222,\"#7201a8\"],[0.3333333333333333,\"#9c179e\"],[0.4444444444444444,\"#bd3786\"],[0.5555555555555556,\"#d8576b\"],[0.6666666666666666,\"#ed7953\"],[0.7777777777777778,\"#fb9f3a\"],[0.8888888888888888,\"#fdca26\"],[1.0,\"#f0f921\"]],\"type\":\"heatmap\"}],\"histogram2dcontour\":[{\"colorbar\":{\"outlinewidth\":0,\"ticks\":\"\"},\"colorscale\":[[0.0,\"#0d0887\"],[0.1111111111111111,\"#46039f\"],[0.2222222222222222,\"#7201a8\"],[0.3333333333333333,\"#9c179e\"],[0.4444444444444444,\"#bd3786\"],[0.5555555555555556,\"#d8576b\"],[0.6666666666666666,\"#ed7953\"],[0.7777777777777778,\"#fb9f3a\"],[0.8888888888888888,\"#fdca26\"],[1.0,\"#f0f921\"]],\"type\":\"histogram2dcontour\"}],\"histogram2d\":[{\"colorbar\":{\"outlinewidth\":0,\"ticks\":\"\"},\"colorscale\":[[0.0,\"#0d0887\"],[0.1111111111111111,\"#46039f\"],[0.2222222222222222,\"#7201a8\"],[0.3333333333333333,\"#9c179e\"],[0.4444444444444444,\"#bd3786\"],[0.5555555555555556,\"#d8576b\"],[0.6666666666666666,\"#ed7953\"],[0.7777777777777778,\"#fb9f3a\"],[0.8888888888888888,\"#fdca26\"],[1.0,\"#f0f921\"]],\"type\":\"histogram2d\"}],\"histogram\":[{\"marker\":{\"pattern\":{\"fillmode\":\"overlay\",\"size\":10,\"solidity\":0.2}},\"type\":\"histogram\"}],\"mesh3d\":[{\"colorbar\":{\"outlinewidth\":0,\"ticks\":\"\"},\"type\":\"mesh3d\"}],\"parcoords\":[{\"line\":{\"colorbar\":{\"outlinewidth\":0,\"ticks\":\"\"}},\"type\":\"parcoords\"}],\"pie\":[{\"automargin\":true,\"type\":\"pie\"}],\"scatter3d\":[{\"line\":{\"colorbar\":{\"outlinewidth\":0,\"ticks\":\"\"}},\"marker\":{\"colorbar\":{\"outlinewidth\":0,\"ticks\":\"\"}},\"type\":\"scatter3d\"}],\"scattercarpet\":[{\"marker\":{\"colorbar\":{\"outlinewidth\":0,\"ticks\":\"\"}},\"type\":\"scattercarpet\"}],\"scattergeo\":[{\"marker\":{\"colorbar\":{\"outlinewidth\":0,\"ticks\":\"\"}},\"type\":\"scattergeo\"}],\"scattergl\":[{\"marker\":{\"colorbar\":{\"outlinewidth\":0,\"ticks\":\"\"}},\"type\":\"scattergl\"}],\"scattermapbox\":[{\"marker\":{\"colorbar\":{\"outlinewidth\":0,\"ticks\":\"\"}},\"type\":\"scattermapbox\"}],\"scatterpolargl\":[{\"marker\":{\"colorbar\":{\"outlinewidth\":0,\"ticks\":\"\"}},\"type\":\"scatterpolargl\"}],\"scatterpolar\":[{\"marker\":{\"colorbar\":{\"outlinewidth\":0,\"ticks\":\"\"}},\"type\":\"scatterpolar\"}],\"scatter\":[{\"fillpattern\":{\"fillmode\":\"overlay\",\"size\":10,\"solidity\":0.2},\"type\":\"scatter\"}],\"scatterternary\":[{\"marker\":{\"colorbar\":{\"outlinewidth\":0,\"ticks\":\"\"}},\"type\":\"scatterternary\"}],\"surface\":[{\"colorbar\":{\"outlinewidth\":0,\"ticks\":\"\"},\"colorscale\":[[0.0,\"#0d0887\"],[0.1111111111111111,\"#46039f\"],[0.2222222222222222,\"#7201a8\"],[0.3333333333333333,\"#9c179e\"],[0.4444444444444444,\"#bd3786\"],[0.5555555555555556,\"#d8576b\"],[0.6666666666666666,\"#ed7953\"],[0.7777777777777778,\"#fb9f3a\"],[0.8888888888888888,\"#fdca26\"],[1.0,\"#f0f921\"]],\"type\":\"surface\"}],\"table\":[{\"cells\":{\"fill\":{\"color\":\"#EBF0F8\"},\"line\":{\"color\":\"white\"}},\"header\":{\"fill\":{\"color\":\"#C8D4E3\"},\"line\":{\"color\":\"white\"}},\"type\":\"table\"}]},\"layout\":{\"annotationdefaults\":{\"arrowcolor\":\"#2a3f5f\",\"arrowhead\":0,\"arrowwidth\":1},\"autotypenumbers\":\"strict\",\"coloraxis\":{\"colorbar\":{\"outlinewidth\":0,\"ticks\":\"\"}},\"colorscale\":{\"diverging\":[[0,\"#8e0152\"],[0.1,\"#c51b7d\"],[0.2,\"#de77ae\"],[0.3,\"#f1b6da\"],[0.4,\"#fde0ef\"],[0.5,\"#f7f7f7\"],[0.6,\"#e6f5d0\"],[0.7,\"#b8e186\"],[0.8,\"#7fbc41\"],[0.9,\"#4d9221\"],[1,\"#276419\"]],\"sequential\":[[0.0,\"#0d0887\"],[0.1111111111111111,\"#46039f\"],[0.2222222222222222,\"#7201a8\"],[0.3333333333333333,\"#9c179e\"],[0.4444444444444444,\"#bd3786\"],[0.5555555555555556,\"#d8576b\"],[0.6666666666666666,\"#ed7953\"],[0.7777777777777778,\"#fb9f3a\"],[0.8888888888888888,\"#fdca26\"],[1.0,\"#f0f921\"]],\"sequentialminus\":[[0.0,\"#0d0887\"],[0.1111111111111111,\"#46039f\"],[0.2222222222222222,\"#7201a8\"],[0.3333333333333333,\"#9c179e\"],[0.4444444444444444,\"#bd3786\"],[0.5555555555555556,\"#d8576b\"],[0.6666666666666666,\"#ed7953\"],[0.7777777777777778,\"#fb9f3a\"],[0.8888888888888888,\"#fdca26\"],[1.0,\"#f0f921\"]]},\"colorway\":[\"#636efa\",\"#EF553B\",\"#00cc96\",\"#ab63fa\",\"#FFA15A\",\"#19d3f3\",\"#FF6692\",\"#B6E880\",\"#FF97FF\",\"#FECB52\"],\"font\":{\"color\":\"#2a3f5f\"},\"geo\":{\"bgcolor\":\"white\",\"lakecolor\":\"white\",\"landcolor\":\"#E5ECF6\",\"showlakes\":true,\"showland\":true,\"subunitcolor\":\"white\"},\"hoverlabel\":{\"align\":\"left\"},\"hovermode\":\"closest\",\"mapbox\":{\"style\":\"light\"},\"paper_bgcolor\":\"white\",\"plot_bgcolor\":\"#E5ECF6\",\"polar\":{\"angularaxis\":{\"gridcolor\":\"white\",\"linecolor\":\"white\",\"ticks\":\"\"},\"bgcolor\":\"#E5ECF6\",\"radialaxis\":{\"gridcolor\":\"white\",\"linecolor\":\"white\",\"ticks\":\"\"}},\"scene\":{\"xaxis\":{\"backgroundcolor\":\"#E5ECF6\",\"gridcolor\":\"white\",\"gridwidth\":2,\"linecolor\":\"white\",\"showbackground\":true,\"ticks\":\"\",\"zerolinecolor\":\"white\"},\"yaxis\":{\"backgroundcolor\":\"#E5ECF6\",\"gridcolor\":\"white\",\"gridwidth\":2,\"linecolor\":\"white\",\"showbackground\":true,\"ticks\":\"\",\"zerolinecolor\":\"white\"},\"zaxis\":{\"backgroundcolor\":\"#E5ECF6\",\"gridcolor\":\"white\",\"gridwidth\":2,\"linecolor\":\"white\",\"showbackground\":true,\"ticks\":\"\",\"zerolinecolor\":\"white\"}},\"shapedefaults\":{\"line\":{\"color\":\"#2a3f5f\"}},\"ternary\":{\"aaxis\":{\"gridcolor\":\"white\",\"linecolor\":\"white\",\"ticks\":\"\"},\"baxis\":{\"gridcolor\":\"white\",\"linecolor\":\"white\",\"ticks\":\"\"},\"bgcolor\":\"#E5ECF6\",\"caxis\":{\"gridcolor\":\"white\",\"linecolor\":\"white\",\"ticks\":\"\"}},\"title\":{\"x\":0.05},\"xaxis\":{\"automargin\":true,\"gridcolor\":\"white\",\"linecolor\":\"white\",\"ticks\":\"\",\"title\":{\"standoff\":15},\"zerolinecolor\":\"white\",\"zerolinewidth\":2},\"yaxis\":{\"automargin\":true,\"gridcolor\":\"white\",\"linecolor\":\"white\",\"ticks\":\"\",\"title\":{\"standoff\":15},\"zerolinecolor\":\"white\",\"zerolinewidth\":2}}},\"title\":{\"font\":{\"color\":\"#4D5663\"}},\"xaxis\":{\"gridcolor\":\"#E1E5ED\",\"showgrid\":true,\"tickfont\":{\"color\":\"#4D5663\"},\"title\":{\"font\":{\"color\":\"#4D5663\"},\"text\":\"\"},\"zerolinecolor\":\"#E1E5ED\"},\"yaxis\":{\"gridcolor\":\"#E1E5ED\",\"showgrid\":true,\"tickfont\":{\"color\":\"#4D5663\"},\"title\":{\"font\":{\"color\":\"#4D5663\"},\"text\":\"\"},\"zerolinecolor\":\"#E1E5ED\"}},                        {\"showLink\": true, \"linkText\": \"Export to plot.ly\", \"plotlyServerURL\": \"https://plot.ly\", \"responsive\": true}                    ).then(function(){\n",
       "                            \n",
       "var gd = document.getElementById('49ae2a23-4686-4de8-b902-1ac7c589ce25');\n",
       "var x = new MutationObserver(function (mutations, observer) {{\n",
       "        var display = window.getComputedStyle(gd).display;\n",
       "        if (!display || display === 'none') {{\n",
       "            console.log([gd, 'removed!']);\n",
       "            Plotly.purge(gd);\n",
       "            observer.disconnect();\n",
       "        }}\n",
       "}});\n",
       "\n",
       "// Listen for the removal of the full notebook cells\n",
       "var notebookContainer = gd.closest('#notebook-container');\n",
       "if (notebookContainer) {{\n",
       "    x.observe(notebookContainer, {childList: true});\n",
       "}}\n",
       "\n",
       "// Listen for the clearing of the current output cell\n",
       "var outputEl = gd.closest('.output');\n",
       "if (outputEl) {{\n",
       "    x.observe(outputEl, {childList: true});\n",
       "}}\n",
       "\n",
       "                        })                };                });            </script>        </div>"
      ]
     },
     "metadata": {},
     "output_type": "display_data"
    }
   ],
   "source": [
    "df[['A','B']].iplot(kind)"
   ]
  },
  {
   "cell_type": "markdown",
   "metadata": {},
   "source": [
    "## histogram"
   ]
  },
  {
   "cell_type": "code",
   "execution_count": 22,
   "metadata": {
    "collapsed": false
   },
   "outputs": [
    {
     "data": {
      "application/vnd.plotly.v1+json": {
       "config": {
        "linkText": "Export to plot.ly",
        "plotlyServerURL": "https://plot.ly",
        "showLink": true
       },
       "data": [
        {
         "histfunc": "count",
         "histnorm": "",
         "marker": {
          "color": "rgba(255, 153, 51, 1.0)",
          "line": {
           "color": "#4D5663",
           "width": 1.3
          }
         },
         "name": "A",
         "nbinsx": 25,
         "opacity": 0.8,
         "orientation": "v",
         "type": "histogram",
         "x": [
          -0.4235298267372065,
          0.8737034190511784,
          -0.4425667569523764,
          0.3986178618161769,
          0.03428784743673946,
          2.06533134908832,
          0.10271963749380746,
          0.05098734502258662,
          -0.1184063857671036,
          1.0964064857463354,
          1.4946454801576834,
          -0.7437131463014094,
          1.3253833864300688,
          -0.49360380332296394,
          -0.13305937269604404,
          0.9240293905139304,
          -0.09424341106312586,
          1.18071399478596,
          0.2645952610124938,
          0.8836118426137318,
          -1.173003943925152,
          -0.3212571585007686,
          -0.4398567644713879,
          -0.021012138960523438,
          0.07155221310667621,
          -2.815070179834287,
          -0.7035450325355791,
          -2.3018781723788013,
          -0.604916557375915,
          -1.3218543223382502,
          -0.3097396604396595,
          -0.854479473887273,
          -0.4678081709677992,
          -0.08838304149912787,
          0.7643585236625032,
          -1.2729795604519634,
          -1.2497474177461365,
          0.11665547061831338,
          0.054222241262439526,
          1.3955567369637993,
          1.2335949227350325,
          0.7811707745028742,
          -0.7062201202758001,
          -0.010086473033524971,
          0.17612395345598061,
          2.0194244526399077,
          -0.124897544987423,
          0.3504515229698034,
          0.704102638494282,
          -0.9641455130531145,
          0.21652976538587435,
          -0.6644405943141568,
          -0.3894761056471769,
          0.5468190505161646,
          -0.8363370271767773,
          -1.1460722642318224,
          -0.07587582681833421,
          0.9619169082305153,
          -0.5239800127167108,
          1.0311673460804889,
          -1.1758734601138927,
          1.5461295811284619,
          -2.5218097000157984,
          0.31240706808234286,
          -0.39540885307643037,
          -0.9181226038092148,
          -0.973212682296477,
          -1.1081306261732067,
          -0.10776950961150684,
          -0.050654313344176784,
          -0.9699477197603297,
          0.8557740272749418,
          1.0221888170710327,
          0.17768076059489119,
          -0.10870171886551774,
          0.29400495682356353,
          0.5229295264694711,
          1.5207606347295235,
          1.0936857792331733,
          -0.11595518871389471,
          -0.9859049663963309,
          -0.8199765183066423,
          0.9134190838522616,
          -0.7916172912135768,
          -0.12131152947593532,
          -1.2701415944118364,
          -0.9773938872991602,
          0.3339642125319659,
          0.6798478253423859,
          -1.5492577140644306,
          0.5787098004342369,
          0.5406428940538466,
          0.7639972929707557,
          0.017857529896215186,
          -0.22871482857901884,
          -0.07650894408479933,
          1.7552590593676092,
          0.18190406729913505,
          -1.6830180224348916,
          -2.2543336155615137
         ]
        }
       ],
       "layout": {
        "barmode": "overlay",
        "legend": {
         "bgcolor": "#F5F6F9",
         "font": {
          "color": "#4D5663"
         }
        },
        "paper_bgcolor": "#F5F6F9",
        "plot_bgcolor": "#F5F6F9",
        "template": {
         "data": {
          "bar": [
           {
            "error_x": {
             "color": "#2a3f5f"
            },
            "error_y": {
             "color": "#2a3f5f"
            },
            "marker": {
             "line": {
              "color": "#E5ECF6",
              "width": 0.5
             },
             "pattern": {
              "fillmode": "overlay",
              "size": 10,
              "solidity": 0.2
             }
            },
            "type": "bar"
           }
          ],
          "barpolar": [
           {
            "marker": {
             "line": {
              "color": "#E5ECF6",
              "width": 0.5
             },
             "pattern": {
              "fillmode": "overlay",
              "size": 10,
              "solidity": 0.2
             }
            },
            "type": "barpolar"
           }
          ],
          "carpet": [
           {
            "aaxis": {
             "endlinecolor": "#2a3f5f",
             "gridcolor": "white",
             "linecolor": "white",
             "minorgridcolor": "white",
             "startlinecolor": "#2a3f5f"
            },
            "baxis": {
             "endlinecolor": "#2a3f5f",
             "gridcolor": "white",
             "linecolor": "white",
             "minorgridcolor": "white",
             "startlinecolor": "#2a3f5f"
            },
            "type": "carpet"
           }
          ],
          "choropleth": [
           {
            "colorbar": {
             "outlinewidth": 0,
             "ticks": ""
            },
            "type": "choropleth"
           }
          ],
          "contour": [
           {
            "colorbar": {
             "outlinewidth": 0,
             "ticks": ""
            },
            "colorscale": [
             [
              0,
              "#0d0887"
             ],
             [
              0.1111111111111111,
              "#46039f"
             ],
             [
              0.2222222222222222,
              "#7201a8"
             ],
             [
              0.3333333333333333,
              "#9c179e"
             ],
             [
              0.4444444444444444,
              "#bd3786"
             ],
             [
              0.5555555555555556,
              "#d8576b"
             ],
             [
              0.6666666666666666,
              "#ed7953"
             ],
             [
              0.7777777777777778,
              "#fb9f3a"
             ],
             [
              0.8888888888888888,
              "#fdca26"
             ],
             [
              1,
              "#f0f921"
             ]
            ],
            "type": "contour"
           }
          ],
          "contourcarpet": [
           {
            "colorbar": {
             "outlinewidth": 0,
             "ticks": ""
            },
            "type": "contourcarpet"
           }
          ],
          "heatmap": [
           {
            "colorbar": {
             "outlinewidth": 0,
             "ticks": ""
            },
            "colorscale": [
             [
              0,
              "#0d0887"
             ],
             [
              0.1111111111111111,
              "#46039f"
             ],
             [
              0.2222222222222222,
              "#7201a8"
             ],
             [
              0.3333333333333333,
              "#9c179e"
             ],
             [
              0.4444444444444444,
              "#bd3786"
             ],
             [
              0.5555555555555556,
              "#d8576b"
             ],
             [
              0.6666666666666666,
              "#ed7953"
             ],
             [
              0.7777777777777778,
              "#fb9f3a"
             ],
             [
              0.8888888888888888,
              "#fdca26"
             ],
             [
              1,
              "#f0f921"
             ]
            ],
            "type": "heatmap"
           }
          ],
          "heatmapgl": [
           {
            "colorbar": {
             "outlinewidth": 0,
             "ticks": ""
            },
            "colorscale": [
             [
              0,
              "#0d0887"
             ],
             [
              0.1111111111111111,
              "#46039f"
             ],
             [
              0.2222222222222222,
              "#7201a8"
             ],
             [
              0.3333333333333333,
              "#9c179e"
             ],
             [
              0.4444444444444444,
              "#bd3786"
             ],
             [
              0.5555555555555556,
              "#d8576b"
             ],
             [
              0.6666666666666666,
              "#ed7953"
             ],
             [
              0.7777777777777778,
              "#fb9f3a"
             ],
             [
              0.8888888888888888,
              "#fdca26"
             ],
             [
              1,
              "#f0f921"
             ]
            ],
            "type": "heatmapgl"
           }
          ],
          "histogram": [
           {
            "marker": {
             "pattern": {
              "fillmode": "overlay",
              "size": 10,
              "solidity": 0.2
             }
            },
            "type": "histogram"
           }
          ],
          "histogram2d": [
           {
            "colorbar": {
             "outlinewidth": 0,
             "ticks": ""
            },
            "colorscale": [
             [
              0,
              "#0d0887"
             ],
             [
              0.1111111111111111,
              "#46039f"
             ],
             [
              0.2222222222222222,
              "#7201a8"
             ],
             [
              0.3333333333333333,
              "#9c179e"
             ],
             [
              0.4444444444444444,
              "#bd3786"
             ],
             [
              0.5555555555555556,
              "#d8576b"
             ],
             [
              0.6666666666666666,
              "#ed7953"
             ],
             [
              0.7777777777777778,
              "#fb9f3a"
             ],
             [
              0.8888888888888888,
              "#fdca26"
             ],
             [
              1,
              "#f0f921"
             ]
            ],
            "type": "histogram2d"
           }
          ],
          "histogram2dcontour": [
           {
            "colorbar": {
             "outlinewidth": 0,
             "ticks": ""
            },
            "colorscale": [
             [
              0,
              "#0d0887"
             ],
             [
              0.1111111111111111,
              "#46039f"
             ],
             [
              0.2222222222222222,
              "#7201a8"
             ],
             [
              0.3333333333333333,
              "#9c179e"
             ],
             [
              0.4444444444444444,
              "#bd3786"
             ],
             [
              0.5555555555555556,
              "#d8576b"
             ],
             [
              0.6666666666666666,
              "#ed7953"
             ],
             [
              0.7777777777777778,
              "#fb9f3a"
             ],
             [
              0.8888888888888888,
              "#fdca26"
             ],
             [
              1,
              "#f0f921"
             ]
            ],
            "type": "histogram2dcontour"
           }
          ],
          "mesh3d": [
           {
            "colorbar": {
             "outlinewidth": 0,
             "ticks": ""
            },
            "type": "mesh3d"
           }
          ],
          "parcoords": [
           {
            "line": {
             "colorbar": {
              "outlinewidth": 0,
              "ticks": ""
             }
            },
            "type": "parcoords"
           }
          ],
          "pie": [
           {
            "automargin": true,
            "type": "pie"
           }
          ],
          "scatter": [
           {
            "fillpattern": {
             "fillmode": "overlay",
             "size": 10,
             "solidity": 0.2
            },
            "type": "scatter"
           }
          ],
          "scatter3d": [
           {
            "line": {
             "colorbar": {
              "outlinewidth": 0,
              "ticks": ""
             }
            },
            "marker": {
             "colorbar": {
              "outlinewidth": 0,
              "ticks": ""
             }
            },
            "type": "scatter3d"
           }
          ],
          "scattercarpet": [
           {
            "marker": {
             "colorbar": {
              "outlinewidth": 0,
              "ticks": ""
             }
            },
            "type": "scattercarpet"
           }
          ],
          "scattergeo": [
           {
            "marker": {
             "colorbar": {
              "outlinewidth": 0,
              "ticks": ""
             }
            },
            "type": "scattergeo"
           }
          ],
          "scattergl": [
           {
            "marker": {
             "colorbar": {
              "outlinewidth": 0,
              "ticks": ""
             }
            },
            "type": "scattergl"
           }
          ],
          "scattermapbox": [
           {
            "marker": {
             "colorbar": {
              "outlinewidth": 0,
              "ticks": ""
             }
            },
            "type": "scattermapbox"
           }
          ],
          "scatterpolar": [
           {
            "marker": {
             "colorbar": {
              "outlinewidth": 0,
              "ticks": ""
             }
            },
            "type": "scatterpolar"
           }
          ],
          "scatterpolargl": [
           {
            "marker": {
             "colorbar": {
              "outlinewidth": 0,
              "ticks": ""
             }
            },
            "type": "scatterpolargl"
           }
          ],
          "scatterternary": [
           {
            "marker": {
             "colorbar": {
              "outlinewidth": 0,
              "ticks": ""
             }
            },
            "type": "scatterternary"
           }
          ],
          "surface": [
           {
            "colorbar": {
             "outlinewidth": 0,
             "ticks": ""
            },
            "colorscale": [
             [
              0,
              "#0d0887"
             ],
             [
              0.1111111111111111,
              "#46039f"
             ],
             [
              0.2222222222222222,
              "#7201a8"
             ],
             [
              0.3333333333333333,
              "#9c179e"
             ],
             [
              0.4444444444444444,
              "#bd3786"
             ],
             [
              0.5555555555555556,
              "#d8576b"
             ],
             [
              0.6666666666666666,
              "#ed7953"
             ],
             [
              0.7777777777777778,
              "#fb9f3a"
             ],
             [
              0.8888888888888888,
              "#fdca26"
             ],
             [
              1,
              "#f0f921"
             ]
            ],
            "type": "surface"
           }
          ],
          "table": [
           {
            "cells": {
             "fill": {
              "color": "#EBF0F8"
             },
             "line": {
              "color": "white"
             }
            },
            "header": {
             "fill": {
              "color": "#C8D4E3"
             },
             "line": {
              "color": "white"
             }
            },
            "type": "table"
           }
          ]
         },
         "layout": {
          "annotationdefaults": {
           "arrowcolor": "#2a3f5f",
           "arrowhead": 0,
           "arrowwidth": 1
          },
          "autotypenumbers": "strict",
          "coloraxis": {
           "colorbar": {
            "outlinewidth": 0,
            "ticks": ""
           }
          },
          "colorscale": {
           "diverging": [
            [
             0,
             "#8e0152"
            ],
            [
             0.1,
             "#c51b7d"
            ],
            [
             0.2,
             "#de77ae"
            ],
            [
             0.3,
             "#f1b6da"
            ],
            [
             0.4,
             "#fde0ef"
            ],
            [
             0.5,
             "#f7f7f7"
            ],
            [
             0.6,
             "#e6f5d0"
            ],
            [
             0.7,
             "#b8e186"
            ],
            [
             0.8,
             "#7fbc41"
            ],
            [
             0.9,
             "#4d9221"
            ],
            [
             1,
             "#276419"
            ]
           ],
           "sequential": [
            [
             0,
             "#0d0887"
            ],
            [
             0.1111111111111111,
             "#46039f"
            ],
            [
             0.2222222222222222,
             "#7201a8"
            ],
            [
             0.3333333333333333,
             "#9c179e"
            ],
            [
             0.4444444444444444,
             "#bd3786"
            ],
            [
             0.5555555555555556,
             "#d8576b"
            ],
            [
             0.6666666666666666,
             "#ed7953"
            ],
            [
             0.7777777777777778,
             "#fb9f3a"
            ],
            [
             0.8888888888888888,
             "#fdca26"
            ],
            [
             1,
             "#f0f921"
            ]
           ],
           "sequentialminus": [
            [
             0,
             "#0d0887"
            ],
            [
             0.1111111111111111,
             "#46039f"
            ],
            [
             0.2222222222222222,
             "#7201a8"
            ],
            [
             0.3333333333333333,
             "#9c179e"
            ],
            [
             0.4444444444444444,
             "#bd3786"
            ],
            [
             0.5555555555555556,
             "#d8576b"
            ],
            [
             0.6666666666666666,
             "#ed7953"
            ],
            [
             0.7777777777777778,
             "#fb9f3a"
            ],
            [
             0.8888888888888888,
             "#fdca26"
            ],
            [
             1,
             "#f0f921"
            ]
           ]
          },
          "colorway": [
           "#636efa",
           "#EF553B",
           "#00cc96",
           "#ab63fa",
           "#FFA15A",
           "#19d3f3",
           "#FF6692",
           "#B6E880",
           "#FF97FF",
           "#FECB52"
          ],
          "font": {
           "color": "#2a3f5f"
          },
          "geo": {
           "bgcolor": "white",
           "lakecolor": "white",
           "landcolor": "#E5ECF6",
           "showlakes": true,
           "showland": true,
           "subunitcolor": "white"
          },
          "hoverlabel": {
           "align": "left"
          },
          "hovermode": "closest",
          "mapbox": {
           "style": "light"
          },
          "paper_bgcolor": "white",
          "plot_bgcolor": "#E5ECF6",
          "polar": {
           "angularaxis": {
            "gridcolor": "white",
            "linecolor": "white",
            "ticks": ""
           },
           "bgcolor": "#E5ECF6",
           "radialaxis": {
            "gridcolor": "white",
            "linecolor": "white",
            "ticks": ""
           }
          },
          "scene": {
           "xaxis": {
            "backgroundcolor": "#E5ECF6",
            "gridcolor": "white",
            "gridwidth": 2,
            "linecolor": "white",
            "showbackground": true,
            "ticks": "",
            "zerolinecolor": "white"
           },
           "yaxis": {
            "backgroundcolor": "#E5ECF6",
            "gridcolor": "white",
            "gridwidth": 2,
            "linecolor": "white",
            "showbackground": true,
            "ticks": "",
            "zerolinecolor": "white"
           },
           "zaxis": {
            "backgroundcolor": "#E5ECF6",
            "gridcolor": "white",
            "gridwidth": 2,
            "linecolor": "white",
            "showbackground": true,
            "ticks": "",
            "zerolinecolor": "white"
           }
          },
          "shapedefaults": {
           "line": {
            "color": "#2a3f5f"
           }
          },
          "ternary": {
           "aaxis": {
            "gridcolor": "white",
            "linecolor": "white",
            "ticks": ""
           },
           "baxis": {
            "gridcolor": "white",
            "linecolor": "white",
            "ticks": ""
           },
           "bgcolor": "#E5ECF6",
           "caxis": {
            "gridcolor": "white",
            "linecolor": "white",
            "ticks": ""
           }
          },
          "title": {
           "x": 0.05
          },
          "xaxis": {
           "automargin": true,
           "gridcolor": "white",
           "linecolor": "white",
           "ticks": "",
           "title": {
            "standoff": 15
           },
           "zerolinecolor": "white",
           "zerolinewidth": 2
          },
          "yaxis": {
           "automargin": true,
           "gridcolor": "white",
           "linecolor": "white",
           "ticks": "",
           "title": {
            "standoff": 15
           },
           "zerolinecolor": "white",
           "zerolinewidth": 2
          }
         }
        },
        "title": {
         "font": {
          "color": "#4D5663"
         }
        },
        "xaxis": {
         "gridcolor": "#E1E5ED",
         "showgrid": true,
         "tickfont": {
          "color": "#4D5663"
         },
         "title": {
          "font": {
           "color": "#4D5663"
          },
          "text": ""
         },
         "zerolinecolor": "#E1E5ED"
        },
        "yaxis": {
         "gridcolor": "#E1E5ED",
         "showgrid": true,
         "tickfont": {
          "color": "#4D5663"
         },
         "title": {
          "font": {
           "color": "#4D5663"
          },
          "text": ""
         },
         "zerolinecolor": "#E1E5ED"
        }
       }
      },
      "text/html": [
       "<div>                            <div id=\"878d8e53-e872-499f-a9c6-bab8f5486cbe\" class=\"plotly-graph-div\" style=\"height:525px; width:100%;\"></div>            <script type=\"text/javascript\">                require([\"plotly\"], function(Plotly) {                    window.PLOTLYENV=window.PLOTLYENV || {};\n",
       "                    window.PLOTLYENV.BASE_URL='https://plot.ly';                                    if (document.getElementById(\"878d8e53-e872-499f-a9c6-bab8f5486cbe\")) {                    Plotly.newPlot(                        \"878d8e53-e872-499f-a9c6-bab8f5486cbe\",                        [{\"histfunc\":\"count\",\"histnorm\":\"\",\"marker\":{\"color\":\"rgba(255, 153, 51, 1.0)\",\"line\":{\"color\":\"#4D5663\",\"width\":1.3}},\"name\":\"A\",\"nbinsx\":25,\"opacity\":0.8,\"orientation\":\"v\",\"x\":[-0.4235298267372065,0.8737034190511784,-0.4425667569523764,0.3986178618161769,0.03428784743673946,2.06533134908832,0.10271963749380746,0.05098734502258662,-0.1184063857671036,1.0964064857463354,1.4946454801576834,-0.7437131463014094,1.3253833864300688,-0.49360380332296394,-0.13305937269604404,0.9240293905139304,-0.09424341106312586,1.18071399478596,0.2645952610124938,0.8836118426137318,-1.173003943925152,-0.3212571585007686,-0.4398567644713879,-0.021012138960523438,0.07155221310667621,-2.815070179834287,-0.7035450325355791,-2.3018781723788013,-0.604916557375915,-1.3218543223382502,-0.3097396604396595,-0.854479473887273,-0.4678081709677992,-0.08838304149912787,0.7643585236625032,-1.2729795604519634,-1.2497474177461365,0.11665547061831338,0.054222241262439526,1.3955567369637993,1.2335949227350325,0.7811707745028742,-0.7062201202758001,-0.010086473033524971,0.17612395345598061,2.0194244526399077,-0.124897544987423,0.3504515229698034,0.704102638494282,-0.9641455130531145,0.21652976538587435,-0.6644405943141568,-0.3894761056471769,0.5468190505161646,-0.8363370271767773,-1.1460722642318224,-0.07587582681833421,0.9619169082305153,-0.5239800127167108,1.0311673460804889,-1.1758734601138927,1.5461295811284619,-2.5218097000157984,0.31240706808234286,-0.39540885307643037,-0.9181226038092148,-0.973212682296477,-1.1081306261732067,-0.10776950961150684,-0.050654313344176784,-0.9699477197603297,0.8557740272749418,1.0221888170710327,0.17768076059489119,-0.10870171886551774,0.29400495682356353,0.5229295264694711,1.5207606347295235,1.0936857792331733,-0.11595518871389471,-0.9859049663963309,-0.8199765183066423,0.9134190838522616,-0.7916172912135768,-0.12131152947593532,-1.2701415944118364,-0.9773938872991602,0.3339642125319659,0.6798478253423859,-1.5492577140644306,0.5787098004342369,0.5406428940538466,0.7639972929707557,0.017857529896215186,-0.22871482857901884,-0.07650894408479933,1.7552590593676092,0.18190406729913505,-1.6830180224348916,-2.2543336155615137],\"type\":\"histogram\"}],                        {\"barmode\":\"overlay\",\"legend\":{\"bgcolor\":\"#F5F6F9\",\"font\":{\"color\":\"#4D5663\"}},\"paper_bgcolor\":\"#F5F6F9\",\"plot_bgcolor\":\"#F5F6F9\",\"template\":{\"data\":{\"barpolar\":[{\"marker\":{\"line\":{\"color\":\"#E5ECF6\",\"width\":0.5},\"pattern\":{\"fillmode\":\"overlay\",\"size\":10,\"solidity\":0.2}},\"type\":\"barpolar\"}],\"bar\":[{\"error_x\":{\"color\":\"#2a3f5f\"},\"error_y\":{\"color\":\"#2a3f5f\"},\"marker\":{\"line\":{\"color\":\"#E5ECF6\",\"width\":0.5},\"pattern\":{\"fillmode\":\"overlay\",\"size\":10,\"solidity\":0.2}},\"type\":\"bar\"}],\"carpet\":[{\"aaxis\":{\"endlinecolor\":\"#2a3f5f\",\"gridcolor\":\"white\",\"linecolor\":\"white\",\"minorgridcolor\":\"white\",\"startlinecolor\":\"#2a3f5f\"},\"baxis\":{\"endlinecolor\":\"#2a3f5f\",\"gridcolor\":\"white\",\"linecolor\":\"white\",\"minorgridcolor\":\"white\",\"startlinecolor\":\"#2a3f5f\"},\"type\":\"carpet\"}],\"choropleth\":[{\"colorbar\":{\"outlinewidth\":0,\"ticks\":\"\"},\"type\":\"choropleth\"}],\"contourcarpet\":[{\"colorbar\":{\"outlinewidth\":0,\"ticks\":\"\"},\"type\":\"contourcarpet\"}],\"contour\":[{\"colorbar\":{\"outlinewidth\":0,\"ticks\":\"\"},\"colorscale\":[[0.0,\"#0d0887\"],[0.1111111111111111,\"#46039f\"],[0.2222222222222222,\"#7201a8\"],[0.3333333333333333,\"#9c179e\"],[0.4444444444444444,\"#bd3786\"],[0.5555555555555556,\"#d8576b\"],[0.6666666666666666,\"#ed7953\"],[0.7777777777777778,\"#fb9f3a\"],[0.8888888888888888,\"#fdca26\"],[1.0,\"#f0f921\"]],\"type\":\"contour\"}],\"heatmapgl\":[{\"colorbar\":{\"outlinewidth\":0,\"ticks\":\"\"},\"colorscale\":[[0.0,\"#0d0887\"],[0.1111111111111111,\"#46039f\"],[0.2222222222222222,\"#7201a8\"],[0.3333333333333333,\"#9c179e\"],[0.4444444444444444,\"#bd3786\"],[0.5555555555555556,\"#d8576b\"],[0.6666666666666666,\"#ed7953\"],[0.7777777777777778,\"#fb9f3a\"],[0.8888888888888888,\"#fdca26\"],[1.0,\"#f0f921\"]],\"type\":\"heatmapgl\"}],\"heatmap\":[{\"colorbar\":{\"outlinewidth\":0,\"ticks\":\"\"},\"colorscale\":[[0.0,\"#0d0887\"],[0.1111111111111111,\"#46039f\"],[0.2222222222222222,\"#7201a8\"],[0.3333333333333333,\"#9c179e\"],[0.4444444444444444,\"#bd3786\"],[0.5555555555555556,\"#d8576b\"],[0.6666666666666666,\"#ed7953\"],[0.7777777777777778,\"#fb9f3a\"],[0.8888888888888888,\"#fdca26\"],[1.0,\"#f0f921\"]],\"type\":\"heatmap\"}],\"histogram2dcontour\":[{\"colorbar\":{\"outlinewidth\":0,\"ticks\":\"\"},\"colorscale\":[[0.0,\"#0d0887\"],[0.1111111111111111,\"#46039f\"],[0.2222222222222222,\"#7201a8\"],[0.3333333333333333,\"#9c179e\"],[0.4444444444444444,\"#bd3786\"],[0.5555555555555556,\"#d8576b\"],[0.6666666666666666,\"#ed7953\"],[0.7777777777777778,\"#fb9f3a\"],[0.8888888888888888,\"#fdca26\"],[1.0,\"#f0f921\"]],\"type\":\"histogram2dcontour\"}],\"histogram2d\":[{\"colorbar\":{\"outlinewidth\":0,\"ticks\":\"\"},\"colorscale\":[[0.0,\"#0d0887\"],[0.1111111111111111,\"#46039f\"],[0.2222222222222222,\"#7201a8\"],[0.3333333333333333,\"#9c179e\"],[0.4444444444444444,\"#bd3786\"],[0.5555555555555556,\"#d8576b\"],[0.6666666666666666,\"#ed7953\"],[0.7777777777777778,\"#fb9f3a\"],[0.8888888888888888,\"#fdca26\"],[1.0,\"#f0f921\"]],\"type\":\"histogram2d\"}],\"histogram\":[{\"marker\":{\"pattern\":{\"fillmode\":\"overlay\",\"size\":10,\"solidity\":0.2}},\"type\":\"histogram\"}],\"mesh3d\":[{\"colorbar\":{\"outlinewidth\":0,\"ticks\":\"\"},\"type\":\"mesh3d\"}],\"parcoords\":[{\"line\":{\"colorbar\":{\"outlinewidth\":0,\"ticks\":\"\"}},\"type\":\"parcoords\"}],\"pie\":[{\"automargin\":true,\"type\":\"pie\"}],\"scatter3d\":[{\"line\":{\"colorbar\":{\"outlinewidth\":0,\"ticks\":\"\"}},\"marker\":{\"colorbar\":{\"outlinewidth\":0,\"ticks\":\"\"}},\"type\":\"scatter3d\"}],\"scattercarpet\":[{\"marker\":{\"colorbar\":{\"outlinewidth\":0,\"ticks\":\"\"}},\"type\":\"scattercarpet\"}],\"scattergeo\":[{\"marker\":{\"colorbar\":{\"outlinewidth\":0,\"ticks\":\"\"}},\"type\":\"scattergeo\"}],\"scattergl\":[{\"marker\":{\"colorbar\":{\"outlinewidth\":0,\"ticks\":\"\"}},\"type\":\"scattergl\"}],\"scattermapbox\":[{\"marker\":{\"colorbar\":{\"outlinewidth\":0,\"ticks\":\"\"}},\"type\":\"scattermapbox\"}],\"scatterpolargl\":[{\"marker\":{\"colorbar\":{\"outlinewidth\":0,\"ticks\":\"\"}},\"type\":\"scatterpolargl\"}],\"scatterpolar\":[{\"marker\":{\"colorbar\":{\"outlinewidth\":0,\"ticks\":\"\"}},\"type\":\"scatterpolar\"}],\"scatter\":[{\"fillpattern\":{\"fillmode\":\"overlay\",\"size\":10,\"solidity\":0.2},\"type\":\"scatter\"}],\"scatterternary\":[{\"marker\":{\"colorbar\":{\"outlinewidth\":0,\"ticks\":\"\"}},\"type\":\"scatterternary\"}],\"surface\":[{\"colorbar\":{\"outlinewidth\":0,\"ticks\":\"\"},\"colorscale\":[[0.0,\"#0d0887\"],[0.1111111111111111,\"#46039f\"],[0.2222222222222222,\"#7201a8\"],[0.3333333333333333,\"#9c179e\"],[0.4444444444444444,\"#bd3786\"],[0.5555555555555556,\"#d8576b\"],[0.6666666666666666,\"#ed7953\"],[0.7777777777777778,\"#fb9f3a\"],[0.8888888888888888,\"#fdca26\"],[1.0,\"#f0f921\"]],\"type\":\"surface\"}],\"table\":[{\"cells\":{\"fill\":{\"color\":\"#EBF0F8\"},\"line\":{\"color\":\"white\"}},\"header\":{\"fill\":{\"color\":\"#C8D4E3\"},\"line\":{\"color\":\"white\"}},\"type\":\"table\"}]},\"layout\":{\"annotationdefaults\":{\"arrowcolor\":\"#2a3f5f\",\"arrowhead\":0,\"arrowwidth\":1},\"autotypenumbers\":\"strict\",\"coloraxis\":{\"colorbar\":{\"outlinewidth\":0,\"ticks\":\"\"}},\"colorscale\":{\"diverging\":[[0,\"#8e0152\"],[0.1,\"#c51b7d\"],[0.2,\"#de77ae\"],[0.3,\"#f1b6da\"],[0.4,\"#fde0ef\"],[0.5,\"#f7f7f7\"],[0.6,\"#e6f5d0\"],[0.7,\"#b8e186\"],[0.8,\"#7fbc41\"],[0.9,\"#4d9221\"],[1,\"#276419\"]],\"sequential\":[[0.0,\"#0d0887\"],[0.1111111111111111,\"#46039f\"],[0.2222222222222222,\"#7201a8\"],[0.3333333333333333,\"#9c179e\"],[0.4444444444444444,\"#bd3786\"],[0.5555555555555556,\"#d8576b\"],[0.6666666666666666,\"#ed7953\"],[0.7777777777777778,\"#fb9f3a\"],[0.8888888888888888,\"#fdca26\"],[1.0,\"#f0f921\"]],\"sequentialminus\":[[0.0,\"#0d0887\"],[0.1111111111111111,\"#46039f\"],[0.2222222222222222,\"#7201a8\"],[0.3333333333333333,\"#9c179e\"],[0.4444444444444444,\"#bd3786\"],[0.5555555555555556,\"#d8576b\"],[0.6666666666666666,\"#ed7953\"],[0.7777777777777778,\"#fb9f3a\"],[0.8888888888888888,\"#fdca26\"],[1.0,\"#f0f921\"]]},\"colorway\":[\"#636efa\",\"#EF553B\",\"#00cc96\",\"#ab63fa\",\"#FFA15A\",\"#19d3f3\",\"#FF6692\",\"#B6E880\",\"#FF97FF\",\"#FECB52\"],\"font\":{\"color\":\"#2a3f5f\"},\"geo\":{\"bgcolor\":\"white\",\"lakecolor\":\"white\",\"landcolor\":\"#E5ECF6\",\"showlakes\":true,\"showland\":true,\"subunitcolor\":\"white\"},\"hoverlabel\":{\"align\":\"left\"},\"hovermode\":\"closest\",\"mapbox\":{\"style\":\"light\"},\"paper_bgcolor\":\"white\",\"plot_bgcolor\":\"#E5ECF6\",\"polar\":{\"angularaxis\":{\"gridcolor\":\"white\",\"linecolor\":\"white\",\"ticks\":\"\"},\"bgcolor\":\"#E5ECF6\",\"radialaxis\":{\"gridcolor\":\"white\",\"linecolor\":\"white\",\"ticks\":\"\"}},\"scene\":{\"xaxis\":{\"backgroundcolor\":\"#E5ECF6\",\"gridcolor\":\"white\",\"gridwidth\":2,\"linecolor\":\"white\",\"showbackground\":true,\"ticks\":\"\",\"zerolinecolor\":\"white\"},\"yaxis\":{\"backgroundcolor\":\"#E5ECF6\",\"gridcolor\":\"white\",\"gridwidth\":2,\"linecolor\":\"white\",\"showbackground\":true,\"ticks\":\"\",\"zerolinecolor\":\"white\"},\"zaxis\":{\"backgroundcolor\":\"#E5ECF6\",\"gridcolor\":\"white\",\"gridwidth\":2,\"linecolor\":\"white\",\"showbackground\":true,\"ticks\":\"\",\"zerolinecolor\":\"white\"}},\"shapedefaults\":{\"line\":{\"color\":\"#2a3f5f\"}},\"ternary\":{\"aaxis\":{\"gridcolor\":\"white\",\"linecolor\":\"white\",\"ticks\":\"\"},\"baxis\":{\"gridcolor\":\"white\",\"linecolor\":\"white\",\"ticks\":\"\"},\"bgcolor\":\"#E5ECF6\",\"caxis\":{\"gridcolor\":\"white\",\"linecolor\":\"white\",\"ticks\":\"\"}},\"title\":{\"x\":0.05},\"xaxis\":{\"automargin\":true,\"gridcolor\":\"white\",\"linecolor\":\"white\",\"ticks\":\"\",\"title\":{\"standoff\":15},\"zerolinecolor\":\"white\",\"zerolinewidth\":2},\"yaxis\":{\"automargin\":true,\"gridcolor\":\"white\",\"linecolor\":\"white\",\"ticks\":\"\",\"title\":{\"standoff\":15},\"zerolinecolor\":\"white\",\"zerolinewidth\":2}}},\"title\":{\"font\":{\"color\":\"#4D5663\"}},\"xaxis\":{\"gridcolor\":\"#E1E5ED\",\"showgrid\":true,\"tickfont\":{\"color\":\"#4D5663\"},\"title\":{\"font\":{\"color\":\"#4D5663\"},\"text\":\"\"},\"zerolinecolor\":\"#E1E5ED\"},\"yaxis\":{\"gridcolor\":\"#E1E5ED\",\"showgrid\":true,\"tickfont\":{\"color\":\"#4D5663\"},\"title\":{\"font\":{\"color\":\"#4D5663\"},\"text\":\"\"},\"zerolinecolor\":\"#E1E5ED\"}},                        {\"showLink\": true, \"linkText\": \"Export to plot.ly\", \"plotlyServerURL\": \"https://plot.ly\", \"responsive\": true}                    ).then(function(){\n",
       "                            \n",
       "var gd = document.getElementById('878d8e53-e872-499f-a9c6-bab8f5486cbe');\n",
       "var x = new MutationObserver(function (mutations, observer) {{\n",
       "        var display = window.getComputedStyle(gd).display;\n",
       "        if (!display || display === 'none') {{\n",
       "            console.log([gd, 'removed!']);\n",
       "            Plotly.purge(gd);\n",
       "            observer.disconnect();\n",
       "        }}\n",
       "}});\n",
       "\n",
       "// Listen for the removal of the full notebook cells\n",
       "var notebookContainer = gd.closest('#notebook-container');\n",
       "if (notebookContainer) {{\n",
       "    x.observe(notebookContainer, {childList: true});\n",
       "}}\n",
       "\n",
       "// Listen for the clearing of the current output cell\n",
       "var outputEl = gd.closest('.output');\n",
       "if (outputEl) {{\n",
       "    x.observe(outputEl, {childList: true});\n",
       "}}\n",
       "\n",
       "                        })                };                });            </script>        </div>"
      ]
     },
     "metadata": {},
     "output_type": "display_data"
    }
   ],
   "source": [
    "df['A'].iplot(kind='hist',bins=25)"
   ]
  },
  {
   "cell_type": "code",
   "execution_count": 23,
   "metadata": {
    "collapsed": false
   },
   "outputs": [
    {
     "data": {
      "application/vnd.plotly.v1+json": {
       "config": {
        "linkText": "Export to plot.ly",
        "plotlyServerURL": "https://plot.ly",
        "showLink": true
       },
       "data": [
        {
         "marker": {
          "color": [
           "rgb(255, 153, 51)",
           "rgb(55, 128, 191)",
           "rgb(50, 171, 96)",
           "rgb(128, 0, 128)",
           "rgb(219, 64, 82)",
           "rgb(0, 128, 128)",
           "rgb(255, 255, 51)",
           "rgb(128, 128, 0)",
           "rgb(251, 128, 114)",
           "rgb(128, 177, 211)"
          ],
          "line": {
           "width": 1.3
          },
          "size": [
           70,
           92,
           82,
           90,
           75,
           50,
           61,
           24,
           59,
           85,
           63,
           86,
           64,
           107,
           78,
           41,
           72,
           107,
           61,
           93,
           60,
           26,
           92,
           75,
           78,
           57,
           67,
           89,
           59,
           67,
           79,
           53,
           80,
           47,
           72,
           85,
           74,
           80,
           54,
           81,
           99,
           65,
           47,
           67,
           67,
           47,
           53,
           56,
           51,
           41,
           89,
           71,
           62,
           57,
           61,
           56,
           47,
           48,
           55,
           43,
           91,
           40,
           87,
           33,
           95,
           83,
           105,
           78,
           88,
           81,
           54,
           88,
           74,
           70,
           104,
           12,
           47,
           44,
           75,
           51,
           55,
           36,
           50,
           58,
           72,
           75,
           60,
           82,
           82,
           44,
           88,
           71,
           54,
           84,
           112,
           56,
           60,
           78,
           70,
           86
          ],
          "symbol": "circle"
         },
         "mode": "markers",
         "text": "",
         "type": "scatter",
         "x": [
          -0.4235298267372065,
          0.8737034190511784,
          -0.4425667569523764,
          0.3986178618161769,
          0.03428784743673946,
          2.06533134908832,
          0.10271963749380746,
          0.05098734502258662,
          -0.1184063857671036,
          1.0964064857463354,
          1.4946454801576834,
          -0.7437131463014094,
          1.3253833864300688,
          -0.49360380332296394,
          -0.13305937269604404,
          0.9240293905139304,
          -0.09424341106312586,
          1.18071399478596,
          0.2645952610124938,
          0.8836118426137318,
          -1.173003943925152,
          -0.3212571585007686,
          -0.4398567644713879,
          -0.021012138960523438,
          0.07155221310667621,
          -2.815070179834287,
          -0.7035450325355791,
          -2.3018781723788013,
          -0.604916557375915,
          -1.3218543223382502,
          -0.3097396604396595,
          -0.854479473887273,
          -0.4678081709677992,
          -0.08838304149912787,
          0.7643585236625032,
          -1.2729795604519634,
          -1.2497474177461365,
          0.11665547061831338,
          0.054222241262439526,
          1.3955567369637993,
          1.2335949227350325,
          0.7811707745028742,
          -0.7062201202758001,
          -0.010086473033524971,
          0.17612395345598061,
          2.0194244526399077,
          -0.124897544987423,
          0.3504515229698034,
          0.704102638494282,
          -0.9641455130531145,
          0.21652976538587435,
          -0.6644405943141568,
          -0.3894761056471769,
          0.5468190505161646,
          -0.8363370271767773,
          -1.1460722642318224,
          -0.07587582681833421,
          0.9619169082305153,
          -0.5239800127167108,
          1.0311673460804889,
          -1.1758734601138927,
          1.5461295811284619,
          -2.5218097000157984,
          0.31240706808234286,
          -0.39540885307643037,
          -0.9181226038092148,
          -0.973212682296477,
          -1.1081306261732067,
          -0.10776950961150684,
          -0.050654313344176784,
          -0.9699477197603297,
          0.8557740272749418,
          1.0221888170710327,
          0.17768076059489119,
          -0.10870171886551774,
          0.29400495682356353,
          0.5229295264694711,
          1.5207606347295235,
          1.0936857792331733,
          -0.11595518871389471,
          -0.9859049663963309,
          -0.8199765183066423,
          0.9134190838522616,
          -0.7916172912135768,
          -0.12131152947593532,
          -1.2701415944118364,
          -0.9773938872991602,
          0.3339642125319659,
          0.6798478253423859,
          -1.5492577140644306,
          0.5787098004342369,
          0.5406428940538466,
          0.7639972929707557,
          0.017857529896215186,
          -0.22871482857901884,
          -0.07650894408479933,
          1.7552590593676092,
          0.18190406729913505,
          -1.6830180224348916,
          -2.2543336155615137
         ],
         "y": [
          0.21294078317383458,
          0.2518028123325517,
          0.02091657406832586,
          1.3626170892858607,
          0.008884733090600866,
          -0.7942574105325144,
          -1.4932730233998306,
          1.46030442365578,
          0.5222281818282609,
          -0.6951728119359911,
          -1.128579499529297,
          1.4666696280299252,
          1.8249626782770507,
          0.5202794124545566,
          0.7201153802481164,
          -1.5626581529361065,
          0.3374181890445056,
          -0.2903741529002983,
          -0.40190112011766466,
          -1.1603959048941097,
          0.9945810374960529,
          1.0458734586078855,
          -0.10175723853610258,
          0.5032333501247692,
          0.4423633466724333,
          -0.9292874889142884,
          1.0404659047051579,
          -0.4081306443840345,
          1.5848729347087902,
          0.11617936567027352,
          0.877815726072177,
          -1.6737754450487907,
          -0.6500583582053018,
          0.6400105834817084,
          -0.44334139052207533,
          -0.46506821727471764,
          1.6976387898715808,
          -0.4127523142241755,
          0.2847774928581605,
          2.0843595325833,
          1.1962031768333525,
          -0.19640158479150444,
          -0.076513511860327,
          1.091084899278679,
          0.48501073599044303,
          -0.5488969947992373,
          1.5657928427809016,
          -1.0644035759844077,
          1.194701257470469,
          0.5469168263690459,
          1.733072093267033,
          1.2634577119112578,
          -0.5420507058393845,
          -0.8411226760092744,
          0.2396772592095201,
          -0.5175263212605506,
          1.6612996922788827,
          0.6317816649077945,
          -0.3491301771453928,
          3.2420035524398623,
          -0.3006899949173568,
          1.997414779630204,
          0.12307791592774506,
          -1.2500563474156865,
          0.31535217967862017,
          -0.08156801559514214,
          0.15695759628048428,
          1.097578516882325,
          -1.6933624000861809,
          1.0998500106286162,
          -0.04798598377017386,
          -1.0504861587912668,
          0.2157760376256392,
          0.2721587078516661,
          1.5158996980625876,
          -1.0820719356636508,
          -0.7449838137376683,
          2.1678435919878143,
          -1.3867241124350391,
          1.569218147485345,
          0.9615517659406315,
          -0.13308189808999643,
          1.115636697593061,
          -1.218340919178577,
          1.458638359803591,
          0.2360747011023473,
          0.47478412012124943,
          0.1559355888436621,
          0.26512385357664964,
          0.1568188907648089,
          0.7603143641721575,
          -1.1817614859597358,
          -0.4959769554035473,
          -1.573931163429572,
          0.9898452846005282,
          -1.7092796113603514,
          -0.16008249410907596,
          -0.7349355342113074,
          0.6686336198044844,
          1.0934331284256122
         ]
        }
       ],
       "layout": {
        "legend": {
         "bgcolor": "#F5F6F9",
         "font": {
          "color": "#4D5663"
         }
        },
        "paper_bgcolor": "#F5F6F9",
        "plot_bgcolor": "#F5F6F9",
        "template": {
         "data": {
          "bar": [
           {
            "error_x": {
             "color": "#2a3f5f"
            },
            "error_y": {
             "color": "#2a3f5f"
            },
            "marker": {
             "line": {
              "color": "#E5ECF6",
              "width": 0.5
             },
             "pattern": {
              "fillmode": "overlay",
              "size": 10,
              "solidity": 0.2
             }
            },
            "type": "bar"
           }
          ],
          "barpolar": [
           {
            "marker": {
             "line": {
              "color": "#E5ECF6",
              "width": 0.5
             },
             "pattern": {
              "fillmode": "overlay",
              "size": 10,
              "solidity": 0.2
             }
            },
            "type": "barpolar"
           }
          ],
          "carpet": [
           {
            "aaxis": {
             "endlinecolor": "#2a3f5f",
             "gridcolor": "white",
             "linecolor": "white",
             "minorgridcolor": "white",
             "startlinecolor": "#2a3f5f"
            },
            "baxis": {
             "endlinecolor": "#2a3f5f",
             "gridcolor": "white",
             "linecolor": "white",
             "minorgridcolor": "white",
             "startlinecolor": "#2a3f5f"
            },
            "type": "carpet"
           }
          ],
          "choropleth": [
           {
            "colorbar": {
             "outlinewidth": 0,
             "ticks": ""
            },
            "type": "choropleth"
           }
          ],
          "contour": [
           {
            "colorbar": {
             "outlinewidth": 0,
             "ticks": ""
            },
            "colorscale": [
             [
              0,
              "#0d0887"
             ],
             [
              0.1111111111111111,
              "#46039f"
             ],
             [
              0.2222222222222222,
              "#7201a8"
             ],
             [
              0.3333333333333333,
              "#9c179e"
             ],
             [
              0.4444444444444444,
              "#bd3786"
             ],
             [
              0.5555555555555556,
              "#d8576b"
             ],
             [
              0.6666666666666666,
              "#ed7953"
             ],
             [
              0.7777777777777778,
              "#fb9f3a"
             ],
             [
              0.8888888888888888,
              "#fdca26"
             ],
             [
              1,
              "#f0f921"
             ]
            ],
            "type": "contour"
           }
          ],
          "contourcarpet": [
           {
            "colorbar": {
             "outlinewidth": 0,
             "ticks": ""
            },
            "type": "contourcarpet"
           }
          ],
          "heatmap": [
           {
            "colorbar": {
             "outlinewidth": 0,
             "ticks": ""
            },
            "colorscale": [
             [
              0,
              "#0d0887"
             ],
             [
              0.1111111111111111,
              "#46039f"
             ],
             [
              0.2222222222222222,
              "#7201a8"
             ],
             [
              0.3333333333333333,
              "#9c179e"
             ],
             [
              0.4444444444444444,
              "#bd3786"
             ],
             [
              0.5555555555555556,
              "#d8576b"
             ],
             [
              0.6666666666666666,
              "#ed7953"
             ],
             [
              0.7777777777777778,
              "#fb9f3a"
             ],
             [
              0.8888888888888888,
              "#fdca26"
             ],
             [
              1,
              "#f0f921"
             ]
            ],
            "type": "heatmap"
           }
          ],
          "heatmapgl": [
           {
            "colorbar": {
             "outlinewidth": 0,
             "ticks": ""
            },
            "colorscale": [
             [
              0,
              "#0d0887"
             ],
             [
              0.1111111111111111,
              "#46039f"
             ],
             [
              0.2222222222222222,
              "#7201a8"
             ],
             [
              0.3333333333333333,
              "#9c179e"
             ],
             [
              0.4444444444444444,
              "#bd3786"
             ],
             [
              0.5555555555555556,
              "#d8576b"
             ],
             [
              0.6666666666666666,
              "#ed7953"
             ],
             [
              0.7777777777777778,
              "#fb9f3a"
             ],
             [
              0.8888888888888888,
              "#fdca26"
             ],
             [
              1,
              "#f0f921"
             ]
            ],
            "type": "heatmapgl"
           }
          ],
          "histogram": [
           {
            "marker": {
             "pattern": {
              "fillmode": "overlay",
              "size": 10,
              "solidity": 0.2
             }
            },
            "type": "histogram"
           }
          ],
          "histogram2d": [
           {
            "colorbar": {
             "outlinewidth": 0,
             "ticks": ""
            },
            "colorscale": [
             [
              0,
              "#0d0887"
             ],
             [
              0.1111111111111111,
              "#46039f"
             ],
             [
              0.2222222222222222,
              "#7201a8"
             ],
             [
              0.3333333333333333,
              "#9c179e"
             ],
             [
              0.4444444444444444,
              "#bd3786"
             ],
             [
              0.5555555555555556,
              "#d8576b"
             ],
             [
              0.6666666666666666,
              "#ed7953"
             ],
             [
              0.7777777777777778,
              "#fb9f3a"
             ],
             [
              0.8888888888888888,
              "#fdca26"
             ],
             [
              1,
              "#f0f921"
             ]
            ],
            "type": "histogram2d"
           }
          ],
          "histogram2dcontour": [
           {
            "colorbar": {
             "outlinewidth": 0,
             "ticks": ""
            },
            "colorscale": [
             [
              0,
              "#0d0887"
             ],
             [
              0.1111111111111111,
              "#46039f"
             ],
             [
              0.2222222222222222,
              "#7201a8"
             ],
             [
              0.3333333333333333,
              "#9c179e"
             ],
             [
              0.4444444444444444,
              "#bd3786"
             ],
             [
              0.5555555555555556,
              "#d8576b"
             ],
             [
              0.6666666666666666,
              "#ed7953"
             ],
             [
              0.7777777777777778,
              "#fb9f3a"
             ],
             [
              0.8888888888888888,
              "#fdca26"
             ],
             [
              1,
              "#f0f921"
             ]
            ],
            "type": "histogram2dcontour"
           }
          ],
          "mesh3d": [
           {
            "colorbar": {
             "outlinewidth": 0,
             "ticks": ""
            },
            "type": "mesh3d"
           }
          ],
          "parcoords": [
           {
            "line": {
             "colorbar": {
              "outlinewidth": 0,
              "ticks": ""
             }
            },
            "type": "parcoords"
           }
          ],
          "pie": [
           {
            "automargin": true,
            "type": "pie"
           }
          ],
          "scatter": [
           {
            "fillpattern": {
             "fillmode": "overlay",
             "size": 10,
             "solidity": 0.2
            },
            "type": "scatter"
           }
          ],
          "scatter3d": [
           {
            "line": {
             "colorbar": {
              "outlinewidth": 0,
              "ticks": ""
             }
            },
            "marker": {
             "colorbar": {
              "outlinewidth": 0,
              "ticks": ""
             }
            },
            "type": "scatter3d"
           }
          ],
          "scattercarpet": [
           {
            "marker": {
             "colorbar": {
              "outlinewidth": 0,
              "ticks": ""
             }
            },
            "type": "scattercarpet"
           }
          ],
          "scattergeo": [
           {
            "marker": {
             "colorbar": {
              "outlinewidth": 0,
              "ticks": ""
             }
            },
            "type": "scattergeo"
           }
          ],
          "scattergl": [
           {
            "marker": {
             "colorbar": {
              "outlinewidth": 0,
              "ticks": ""
             }
            },
            "type": "scattergl"
           }
          ],
          "scattermapbox": [
           {
            "marker": {
             "colorbar": {
              "outlinewidth": 0,
              "ticks": ""
             }
            },
            "type": "scattermapbox"
           }
          ],
          "scatterpolar": [
           {
            "marker": {
             "colorbar": {
              "outlinewidth": 0,
              "ticks": ""
             }
            },
            "type": "scatterpolar"
           }
          ],
          "scatterpolargl": [
           {
            "marker": {
             "colorbar": {
              "outlinewidth": 0,
              "ticks": ""
             }
            },
            "type": "scatterpolargl"
           }
          ],
          "scatterternary": [
           {
            "marker": {
             "colorbar": {
              "outlinewidth": 0,
              "ticks": ""
             }
            },
            "type": "scatterternary"
           }
          ],
          "surface": [
           {
            "colorbar": {
             "outlinewidth": 0,
             "ticks": ""
            },
            "colorscale": [
             [
              0,
              "#0d0887"
             ],
             [
              0.1111111111111111,
              "#46039f"
             ],
             [
              0.2222222222222222,
              "#7201a8"
             ],
             [
              0.3333333333333333,
              "#9c179e"
             ],
             [
              0.4444444444444444,
              "#bd3786"
             ],
             [
              0.5555555555555556,
              "#d8576b"
             ],
             [
              0.6666666666666666,
              "#ed7953"
             ],
             [
              0.7777777777777778,
              "#fb9f3a"
             ],
             [
              0.8888888888888888,
              "#fdca26"
             ],
             [
              1,
              "#f0f921"
             ]
            ],
            "type": "surface"
           }
          ],
          "table": [
           {
            "cells": {
             "fill": {
              "color": "#EBF0F8"
             },
             "line": {
              "color": "white"
             }
            },
            "header": {
             "fill": {
              "color": "#C8D4E3"
             },
             "line": {
              "color": "white"
             }
            },
            "type": "table"
           }
          ]
         },
         "layout": {
          "annotationdefaults": {
           "arrowcolor": "#2a3f5f",
           "arrowhead": 0,
           "arrowwidth": 1
          },
          "autotypenumbers": "strict",
          "coloraxis": {
           "colorbar": {
            "outlinewidth": 0,
            "ticks": ""
           }
          },
          "colorscale": {
           "diverging": [
            [
             0,
             "#8e0152"
            ],
            [
             0.1,
             "#c51b7d"
            ],
            [
             0.2,
             "#de77ae"
            ],
            [
             0.3,
             "#f1b6da"
            ],
            [
             0.4,
             "#fde0ef"
            ],
            [
             0.5,
             "#f7f7f7"
            ],
            [
             0.6,
             "#e6f5d0"
            ],
            [
             0.7,
             "#b8e186"
            ],
            [
             0.8,
             "#7fbc41"
            ],
            [
             0.9,
             "#4d9221"
            ],
            [
             1,
             "#276419"
            ]
           ],
           "sequential": [
            [
             0,
             "#0d0887"
            ],
            [
             0.1111111111111111,
             "#46039f"
            ],
            [
             0.2222222222222222,
             "#7201a8"
            ],
            [
             0.3333333333333333,
             "#9c179e"
            ],
            [
             0.4444444444444444,
             "#bd3786"
            ],
            [
             0.5555555555555556,
             "#d8576b"
            ],
            [
             0.6666666666666666,
             "#ed7953"
            ],
            [
             0.7777777777777778,
             "#fb9f3a"
            ],
            [
             0.8888888888888888,
             "#fdca26"
            ],
            [
             1,
             "#f0f921"
            ]
           ],
           "sequentialminus": [
            [
             0,
             "#0d0887"
            ],
            [
             0.1111111111111111,
             "#46039f"
            ],
            [
             0.2222222222222222,
             "#7201a8"
            ],
            [
             0.3333333333333333,
             "#9c179e"
            ],
            [
             0.4444444444444444,
             "#bd3786"
            ],
            [
             0.5555555555555556,
             "#d8576b"
            ],
            [
             0.6666666666666666,
             "#ed7953"
            ],
            [
             0.7777777777777778,
             "#fb9f3a"
            ],
            [
             0.8888888888888888,
             "#fdca26"
            ],
            [
             1,
             "#f0f921"
            ]
           ]
          },
          "colorway": [
           "#636efa",
           "#EF553B",
           "#00cc96",
           "#ab63fa",
           "#FFA15A",
           "#19d3f3",
           "#FF6692",
           "#B6E880",
           "#FF97FF",
           "#FECB52"
          ],
          "font": {
           "color": "#2a3f5f"
          },
          "geo": {
           "bgcolor": "white",
           "lakecolor": "white",
           "landcolor": "#E5ECF6",
           "showlakes": true,
           "showland": true,
           "subunitcolor": "white"
          },
          "hoverlabel": {
           "align": "left"
          },
          "hovermode": "closest",
          "mapbox": {
           "style": "light"
          },
          "paper_bgcolor": "white",
          "plot_bgcolor": "#E5ECF6",
          "polar": {
           "angularaxis": {
            "gridcolor": "white",
            "linecolor": "white",
            "ticks": ""
           },
           "bgcolor": "#E5ECF6",
           "radialaxis": {
            "gridcolor": "white",
            "linecolor": "white",
            "ticks": ""
           }
          },
          "scene": {
           "xaxis": {
            "backgroundcolor": "#E5ECF6",
            "gridcolor": "white",
            "gridwidth": 2,
            "linecolor": "white",
            "showbackground": true,
            "ticks": "",
            "zerolinecolor": "white"
           },
           "yaxis": {
            "backgroundcolor": "#E5ECF6",
            "gridcolor": "white",
            "gridwidth": 2,
            "linecolor": "white",
            "showbackground": true,
            "ticks": "",
            "zerolinecolor": "white"
           },
           "zaxis": {
            "backgroundcolor": "#E5ECF6",
            "gridcolor": "white",
            "gridwidth": 2,
            "linecolor": "white",
            "showbackground": true,
            "ticks": "",
            "zerolinecolor": "white"
           }
          },
          "shapedefaults": {
           "line": {
            "color": "#2a3f5f"
           }
          },
          "ternary": {
           "aaxis": {
            "gridcolor": "white",
            "linecolor": "white",
            "ticks": ""
           },
           "baxis": {
            "gridcolor": "white",
            "linecolor": "white",
            "ticks": ""
           },
           "bgcolor": "#E5ECF6",
           "caxis": {
            "gridcolor": "white",
            "linecolor": "white",
            "ticks": ""
           }
          },
          "title": {
           "x": 0.05
          },
          "xaxis": {
           "automargin": true,
           "gridcolor": "white",
           "linecolor": "white",
           "ticks": "",
           "title": {
            "standoff": 15
           },
           "zerolinecolor": "white",
           "zerolinewidth": 2
          },
          "yaxis": {
           "automargin": true,
           "gridcolor": "white",
           "linecolor": "white",
           "ticks": "",
           "title": {
            "standoff": 15
           },
           "zerolinecolor": "white",
           "zerolinewidth": 2
          }
         }
        },
        "title": {
         "font": {
          "color": "#4D5663"
         }
        },
        "xaxis": {
         "gridcolor": "#E1E5ED",
         "showgrid": true,
         "tickfont": {
          "color": "#4D5663"
         },
         "title": {
          "font": {
           "color": "#4D5663"
          },
          "text": ""
         },
         "zerolinecolor": "#E1E5ED"
        },
        "yaxis": {
         "gridcolor": "#E1E5ED",
         "showgrid": true,
         "tickfont": {
          "color": "#4D5663"
         },
         "title": {
          "font": {
           "color": "#4D5663"
          },
          "text": ""
         },
         "zerolinecolor": "#E1E5ED"
        }
       }
      },
      "text/html": [
       "<div>                            <div id=\"d8276fb4-84ee-4671-aa4c-edc4c10722f8\" class=\"plotly-graph-div\" style=\"height:525px; width:100%;\"></div>            <script type=\"text/javascript\">                require([\"plotly\"], function(Plotly) {                    window.PLOTLYENV=window.PLOTLYENV || {};\n",
       "                    window.PLOTLYENV.BASE_URL='https://plot.ly';                                    if (document.getElementById(\"d8276fb4-84ee-4671-aa4c-edc4c10722f8\")) {                    Plotly.newPlot(                        \"d8276fb4-84ee-4671-aa4c-edc4c10722f8\",                        [{\"marker\":{\"color\":[\"rgb(255, 153, 51)\",\"rgb(55, 128, 191)\",\"rgb(50, 171, 96)\",\"rgb(128, 0, 128)\",\"rgb(219, 64, 82)\",\"rgb(0, 128, 128)\",\"rgb(255, 255, 51)\",\"rgb(128, 128, 0)\",\"rgb(251, 128, 114)\",\"rgb(128, 177, 211)\"],\"line\":{\"width\":1.3},\"size\":[70,92,82,90,75,50,61,24,59,85,63,86,64,107,78,41,72,107,61,93,60,26,92,75,78,57,67,89,59,67,79,53,80,47,72,85,74,80,54,81,99,65,47,67,67,47,53,56,51,41,89,71,62,57,61,56,47,48,55,43,91,40,87,33,95,83,105,78,88,81,54,88,74,70,104,12,47,44,75,51,55,36,50,58,72,75,60,82,82,44,88,71,54,84,112,56,60,78,70,86],\"symbol\":\"circle\"},\"mode\":\"markers\",\"text\":\"\",\"x\":[-0.4235298267372065,0.8737034190511784,-0.4425667569523764,0.3986178618161769,0.03428784743673946,2.06533134908832,0.10271963749380746,0.05098734502258662,-0.1184063857671036,1.0964064857463354,1.4946454801576834,-0.7437131463014094,1.3253833864300688,-0.49360380332296394,-0.13305937269604404,0.9240293905139304,-0.09424341106312586,1.18071399478596,0.2645952610124938,0.8836118426137318,-1.173003943925152,-0.3212571585007686,-0.4398567644713879,-0.021012138960523438,0.07155221310667621,-2.815070179834287,-0.7035450325355791,-2.3018781723788013,-0.604916557375915,-1.3218543223382502,-0.3097396604396595,-0.854479473887273,-0.4678081709677992,-0.08838304149912787,0.7643585236625032,-1.2729795604519634,-1.2497474177461365,0.11665547061831338,0.054222241262439526,1.3955567369637993,1.2335949227350325,0.7811707745028742,-0.7062201202758001,-0.010086473033524971,0.17612395345598061,2.0194244526399077,-0.124897544987423,0.3504515229698034,0.704102638494282,-0.9641455130531145,0.21652976538587435,-0.6644405943141568,-0.3894761056471769,0.5468190505161646,-0.8363370271767773,-1.1460722642318224,-0.07587582681833421,0.9619169082305153,-0.5239800127167108,1.0311673460804889,-1.1758734601138927,1.5461295811284619,-2.5218097000157984,0.31240706808234286,-0.39540885307643037,-0.9181226038092148,-0.973212682296477,-1.1081306261732067,-0.10776950961150684,-0.050654313344176784,-0.9699477197603297,0.8557740272749418,1.0221888170710327,0.17768076059489119,-0.10870171886551774,0.29400495682356353,0.5229295264694711,1.5207606347295235,1.0936857792331733,-0.11595518871389471,-0.9859049663963309,-0.8199765183066423,0.9134190838522616,-0.7916172912135768,-0.12131152947593532,-1.2701415944118364,-0.9773938872991602,0.3339642125319659,0.6798478253423859,-1.5492577140644306,0.5787098004342369,0.5406428940538466,0.7639972929707557,0.017857529896215186,-0.22871482857901884,-0.07650894408479933,1.7552590593676092,0.18190406729913505,-1.6830180224348916,-2.2543336155615137],\"y\":[0.21294078317383458,0.2518028123325517,0.02091657406832586,1.3626170892858607,0.008884733090600866,-0.7942574105325144,-1.4932730233998306,1.46030442365578,0.5222281818282609,-0.6951728119359911,-1.128579499529297,1.4666696280299252,1.8249626782770507,0.5202794124545566,0.7201153802481164,-1.5626581529361065,0.3374181890445056,-0.2903741529002983,-0.40190112011766466,-1.1603959048941097,0.9945810374960529,1.0458734586078855,-0.10175723853610258,0.5032333501247692,0.4423633466724333,-0.9292874889142884,1.0404659047051579,-0.4081306443840345,1.5848729347087902,0.11617936567027352,0.877815726072177,-1.6737754450487907,-0.6500583582053018,0.6400105834817084,-0.44334139052207533,-0.46506821727471764,1.6976387898715808,-0.4127523142241755,0.2847774928581605,2.0843595325833,1.1962031768333525,-0.19640158479150444,-0.076513511860327,1.091084899278679,0.48501073599044303,-0.5488969947992373,1.5657928427809016,-1.0644035759844077,1.194701257470469,0.5469168263690459,1.733072093267033,1.2634577119112578,-0.5420507058393845,-0.8411226760092744,0.2396772592095201,-0.5175263212605506,1.6612996922788827,0.6317816649077945,-0.3491301771453928,3.2420035524398623,-0.3006899949173568,1.997414779630204,0.12307791592774506,-1.2500563474156865,0.31535217967862017,-0.08156801559514214,0.15695759628048428,1.097578516882325,-1.6933624000861809,1.0998500106286162,-0.04798598377017386,-1.0504861587912668,0.2157760376256392,0.2721587078516661,1.5158996980625876,-1.0820719356636508,-0.7449838137376683,2.1678435919878143,-1.3867241124350391,1.569218147485345,0.9615517659406315,-0.13308189808999643,1.115636697593061,-1.218340919178577,1.458638359803591,0.2360747011023473,0.47478412012124943,0.1559355888436621,0.26512385357664964,0.1568188907648089,0.7603143641721575,-1.1817614859597358,-0.4959769554035473,-1.573931163429572,0.9898452846005282,-1.7092796113603514,-0.16008249410907596,-0.7349355342113074,0.6686336198044844,1.0934331284256122],\"type\":\"scatter\"}],                        {\"legend\":{\"bgcolor\":\"#F5F6F9\",\"font\":{\"color\":\"#4D5663\"}},\"paper_bgcolor\":\"#F5F6F9\",\"plot_bgcolor\":\"#F5F6F9\",\"template\":{\"data\":{\"barpolar\":[{\"marker\":{\"line\":{\"color\":\"#E5ECF6\",\"width\":0.5},\"pattern\":{\"fillmode\":\"overlay\",\"size\":10,\"solidity\":0.2}},\"type\":\"barpolar\"}],\"bar\":[{\"error_x\":{\"color\":\"#2a3f5f\"},\"error_y\":{\"color\":\"#2a3f5f\"},\"marker\":{\"line\":{\"color\":\"#E5ECF6\",\"width\":0.5},\"pattern\":{\"fillmode\":\"overlay\",\"size\":10,\"solidity\":0.2}},\"type\":\"bar\"}],\"carpet\":[{\"aaxis\":{\"endlinecolor\":\"#2a3f5f\",\"gridcolor\":\"white\",\"linecolor\":\"white\",\"minorgridcolor\":\"white\",\"startlinecolor\":\"#2a3f5f\"},\"baxis\":{\"endlinecolor\":\"#2a3f5f\",\"gridcolor\":\"white\",\"linecolor\":\"white\",\"minorgridcolor\":\"white\",\"startlinecolor\":\"#2a3f5f\"},\"type\":\"carpet\"}],\"choropleth\":[{\"colorbar\":{\"outlinewidth\":0,\"ticks\":\"\"},\"type\":\"choropleth\"}],\"contourcarpet\":[{\"colorbar\":{\"outlinewidth\":0,\"ticks\":\"\"},\"type\":\"contourcarpet\"}],\"contour\":[{\"colorbar\":{\"outlinewidth\":0,\"ticks\":\"\"},\"colorscale\":[[0.0,\"#0d0887\"],[0.1111111111111111,\"#46039f\"],[0.2222222222222222,\"#7201a8\"],[0.3333333333333333,\"#9c179e\"],[0.4444444444444444,\"#bd3786\"],[0.5555555555555556,\"#d8576b\"],[0.6666666666666666,\"#ed7953\"],[0.7777777777777778,\"#fb9f3a\"],[0.8888888888888888,\"#fdca26\"],[1.0,\"#f0f921\"]],\"type\":\"contour\"}],\"heatmapgl\":[{\"colorbar\":{\"outlinewidth\":0,\"ticks\":\"\"},\"colorscale\":[[0.0,\"#0d0887\"],[0.1111111111111111,\"#46039f\"],[0.2222222222222222,\"#7201a8\"],[0.3333333333333333,\"#9c179e\"],[0.4444444444444444,\"#bd3786\"],[0.5555555555555556,\"#d8576b\"],[0.6666666666666666,\"#ed7953\"],[0.7777777777777778,\"#fb9f3a\"],[0.8888888888888888,\"#fdca26\"],[1.0,\"#f0f921\"]],\"type\":\"heatmapgl\"}],\"heatmap\":[{\"colorbar\":{\"outlinewidth\":0,\"ticks\":\"\"},\"colorscale\":[[0.0,\"#0d0887\"],[0.1111111111111111,\"#46039f\"],[0.2222222222222222,\"#7201a8\"],[0.3333333333333333,\"#9c179e\"],[0.4444444444444444,\"#bd3786\"],[0.5555555555555556,\"#d8576b\"],[0.6666666666666666,\"#ed7953\"],[0.7777777777777778,\"#fb9f3a\"],[0.8888888888888888,\"#fdca26\"],[1.0,\"#f0f921\"]],\"type\":\"heatmap\"}],\"histogram2dcontour\":[{\"colorbar\":{\"outlinewidth\":0,\"ticks\":\"\"},\"colorscale\":[[0.0,\"#0d0887\"],[0.1111111111111111,\"#46039f\"],[0.2222222222222222,\"#7201a8\"],[0.3333333333333333,\"#9c179e\"],[0.4444444444444444,\"#bd3786\"],[0.5555555555555556,\"#d8576b\"],[0.6666666666666666,\"#ed7953\"],[0.7777777777777778,\"#fb9f3a\"],[0.8888888888888888,\"#fdca26\"],[1.0,\"#f0f921\"]],\"type\":\"histogram2dcontour\"}],\"histogram2d\":[{\"colorbar\":{\"outlinewidth\":0,\"ticks\":\"\"},\"colorscale\":[[0.0,\"#0d0887\"],[0.1111111111111111,\"#46039f\"],[0.2222222222222222,\"#7201a8\"],[0.3333333333333333,\"#9c179e\"],[0.4444444444444444,\"#bd3786\"],[0.5555555555555556,\"#d8576b\"],[0.6666666666666666,\"#ed7953\"],[0.7777777777777778,\"#fb9f3a\"],[0.8888888888888888,\"#fdca26\"],[1.0,\"#f0f921\"]],\"type\":\"histogram2d\"}],\"histogram\":[{\"marker\":{\"pattern\":{\"fillmode\":\"overlay\",\"size\":10,\"solidity\":0.2}},\"type\":\"histogram\"}],\"mesh3d\":[{\"colorbar\":{\"outlinewidth\":0,\"ticks\":\"\"},\"type\":\"mesh3d\"}],\"parcoords\":[{\"line\":{\"colorbar\":{\"outlinewidth\":0,\"ticks\":\"\"}},\"type\":\"parcoords\"}],\"pie\":[{\"automargin\":true,\"type\":\"pie\"}],\"scatter3d\":[{\"line\":{\"colorbar\":{\"outlinewidth\":0,\"ticks\":\"\"}},\"marker\":{\"colorbar\":{\"outlinewidth\":0,\"ticks\":\"\"}},\"type\":\"scatter3d\"}],\"scattercarpet\":[{\"marker\":{\"colorbar\":{\"outlinewidth\":0,\"ticks\":\"\"}},\"type\":\"scattercarpet\"}],\"scattergeo\":[{\"marker\":{\"colorbar\":{\"outlinewidth\":0,\"ticks\":\"\"}},\"type\":\"scattergeo\"}],\"scattergl\":[{\"marker\":{\"colorbar\":{\"outlinewidth\":0,\"ticks\":\"\"}},\"type\":\"scattergl\"}],\"scattermapbox\":[{\"marker\":{\"colorbar\":{\"outlinewidth\":0,\"ticks\":\"\"}},\"type\":\"scattermapbox\"}],\"scatterpolargl\":[{\"marker\":{\"colorbar\":{\"outlinewidth\":0,\"ticks\":\"\"}},\"type\":\"scatterpolargl\"}],\"scatterpolar\":[{\"marker\":{\"colorbar\":{\"outlinewidth\":0,\"ticks\":\"\"}},\"type\":\"scatterpolar\"}],\"scatter\":[{\"fillpattern\":{\"fillmode\":\"overlay\",\"size\":10,\"solidity\":0.2},\"type\":\"scatter\"}],\"scatterternary\":[{\"marker\":{\"colorbar\":{\"outlinewidth\":0,\"ticks\":\"\"}},\"type\":\"scatterternary\"}],\"surface\":[{\"colorbar\":{\"outlinewidth\":0,\"ticks\":\"\"},\"colorscale\":[[0.0,\"#0d0887\"],[0.1111111111111111,\"#46039f\"],[0.2222222222222222,\"#7201a8\"],[0.3333333333333333,\"#9c179e\"],[0.4444444444444444,\"#bd3786\"],[0.5555555555555556,\"#d8576b\"],[0.6666666666666666,\"#ed7953\"],[0.7777777777777778,\"#fb9f3a\"],[0.8888888888888888,\"#fdca26\"],[1.0,\"#f0f921\"]],\"type\":\"surface\"}],\"table\":[{\"cells\":{\"fill\":{\"color\":\"#EBF0F8\"},\"line\":{\"color\":\"white\"}},\"header\":{\"fill\":{\"color\":\"#C8D4E3\"},\"line\":{\"color\":\"white\"}},\"type\":\"table\"}]},\"layout\":{\"annotationdefaults\":{\"arrowcolor\":\"#2a3f5f\",\"arrowhead\":0,\"arrowwidth\":1},\"autotypenumbers\":\"strict\",\"coloraxis\":{\"colorbar\":{\"outlinewidth\":0,\"ticks\":\"\"}},\"colorscale\":{\"diverging\":[[0,\"#8e0152\"],[0.1,\"#c51b7d\"],[0.2,\"#de77ae\"],[0.3,\"#f1b6da\"],[0.4,\"#fde0ef\"],[0.5,\"#f7f7f7\"],[0.6,\"#e6f5d0\"],[0.7,\"#b8e186\"],[0.8,\"#7fbc41\"],[0.9,\"#4d9221\"],[1,\"#276419\"]],\"sequential\":[[0.0,\"#0d0887\"],[0.1111111111111111,\"#46039f\"],[0.2222222222222222,\"#7201a8\"],[0.3333333333333333,\"#9c179e\"],[0.4444444444444444,\"#bd3786\"],[0.5555555555555556,\"#d8576b\"],[0.6666666666666666,\"#ed7953\"],[0.7777777777777778,\"#fb9f3a\"],[0.8888888888888888,\"#fdca26\"],[1.0,\"#f0f921\"]],\"sequentialminus\":[[0.0,\"#0d0887\"],[0.1111111111111111,\"#46039f\"],[0.2222222222222222,\"#7201a8\"],[0.3333333333333333,\"#9c179e\"],[0.4444444444444444,\"#bd3786\"],[0.5555555555555556,\"#d8576b\"],[0.6666666666666666,\"#ed7953\"],[0.7777777777777778,\"#fb9f3a\"],[0.8888888888888888,\"#fdca26\"],[1.0,\"#f0f921\"]]},\"colorway\":[\"#636efa\",\"#EF553B\",\"#00cc96\",\"#ab63fa\",\"#FFA15A\",\"#19d3f3\",\"#FF6692\",\"#B6E880\",\"#FF97FF\",\"#FECB52\"],\"font\":{\"color\":\"#2a3f5f\"},\"geo\":{\"bgcolor\":\"white\",\"lakecolor\":\"white\",\"landcolor\":\"#E5ECF6\",\"showlakes\":true,\"showland\":true,\"subunitcolor\":\"white\"},\"hoverlabel\":{\"align\":\"left\"},\"hovermode\":\"closest\",\"mapbox\":{\"style\":\"light\"},\"paper_bgcolor\":\"white\",\"plot_bgcolor\":\"#E5ECF6\",\"polar\":{\"angularaxis\":{\"gridcolor\":\"white\",\"linecolor\":\"white\",\"ticks\":\"\"},\"bgcolor\":\"#E5ECF6\",\"radialaxis\":{\"gridcolor\":\"white\",\"linecolor\":\"white\",\"ticks\":\"\"}},\"scene\":{\"xaxis\":{\"backgroundcolor\":\"#E5ECF6\",\"gridcolor\":\"white\",\"gridwidth\":2,\"linecolor\":\"white\",\"showbackground\":true,\"ticks\":\"\",\"zerolinecolor\":\"white\"},\"yaxis\":{\"backgroundcolor\":\"#E5ECF6\",\"gridcolor\":\"white\",\"gridwidth\":2,\"linecolor\":\"white\",\"showbackground\":true,\"ticks\":\"\",\"zerolinecolor\":\"white\"},\"zaxis\":{\"backgroundcolor\":\"#E5ECF6\",\"gridcolor\":\"white\",\"gridwidth\":2,\"linecolor\":\"white\",\"showbackground\":true,\"ticks\":\"\",\"zerolinecolor\":\"white\"}},\"shapedefaults\":{\"line\":{\"color\":\"#2a3f5f\"}},\"ternary\":{\"aaxis\":{\"gridcolor\":\"white\",\"linecolor\":\"white\",\"ticks\":\"\"},\"baxis\":{\"gridcolor\":\"white\",\"linecolor\":\"white\",\"ticks\":\"\"},\"bgcolor\":\"#E5ECF6\",\"caxis\":{\"gridcolor\":\"white\",\"linecolor\":\"white\",\"ticks\":\"\"}},\"title\":{\"x\":0.05},\"xaxis\":{\"automargin\":true,\"gridcolor\":\"white\",\"linecolor\":\"white\",\"ticks\":\"\",\"title\":{\"standoff\":15},\"zerolinecolor\":\"white\",\"zerolinewidth\":2},\"yaxis\":{\"automargin\":true,\"gridcolor\":\"white\",\"linecolor\":\"white\",\"ticks\":\"\",\"title\":{\"standoff\":15},\"zerolinecolor\":\"white\",\"zerolinewidth\":2}}},\"title\":{\"font\":{\"color\":\"#4D5663\"}},\"xaxis\":{\"gridcolor\":\"#E1E5ED\",\"showgrid\":true,\"tickfont\":{\"color\":\"#4D5663\"},\"title\":{\"font\":{\"color\":\"#4D5663\"},\"text\":\"\"},\"zerolinecolor\":\"#E1E5ED\"},\"yaxis\":{\"gridcolor\":\"#E1E5ED\",\"showgrid\":true,\"tickfont\":{\"color\":\"#4D5663\"},\"title\":{\"font\":{\"color\":\"#4D5663\"},\"text\":\"\"},\"zerolinecolor\":\"#E1E5ED\"}},                        {\"showLink\": true, \"linkText\": \"Export to plot.ly\", \"plotlyServerURL\": \"https://plot.ly\", \"responsive\": true}                    ).then(function(){\n",
       "                            \n",
       "var gd = document.getElementById('d8276fb4-84ee-4671-aa4c-edc4c10722f8');\n",
       "var x = new MutationObserver(function (mutations, observer) {{\n",
       "        var display = window.getComputedStyle(gd).display;\n",
       "        if (!display || display === 'none') {{\n",
       "            console.log([gd, 'removed!']);\n",
       "            Plotly.purge(gd);\n",
       "            observer.disconnect();\n",
       "        }}\n",
       "}});\n",
       "\n",
       "// Listen for the removal of the full notebook cells\n",
       "var notebookContainer = gd.closest('#notebook-container');\n",
       "if (notebookContainer) {{\n",
       "    x.observe(notebookContainer, {childList: true});\n",
       "}}\n",
       "\n",
       "// Listen for the clearing of the current output cell\n",
       "var outputEl = gd.closest('.output');\n",
       "if (outputEl) {{\n",
       "    x.observe(outputEl, {childList: true});\n",
       "}}\n",
       "\n",
       "                        })                };                });            </script>        </div>"
      ]
     },
     "metadata": {},
     "output_type": "display_data"
    }
   ],
   "source": [
    "df.iplot(kind='bubble',x='A',y='B',size='C')"
   ]
  },
  {
   "cell_type": "markdown",
   "metadata": {},
   "source": [
    "## scatter_matrix()\n",
    "\n",
    "Similar to sns.pairplot()"
   ]
  },
  {
   "cell_type": "code",
   "execution_count": 24,
   "metadata": {
    "collapsed": false
   },
   "outputs": [
    {
     "data": {
      "application/vnd.plotly.v1+json": {
       "config": {
        "linkText": "Export to plot.ly",
        "plotlyServerURL": "https://plot.ly",
        "showLink": true
       },
       "data": [
        {
         "histfunc": "count",
         "histnorm": "",
         "marker": {
          "color": "rgba(255, 153, 51, 1.0)",
          "line": {
           "color": "#4D5663",
           "width": 1.3
          }
         },
         "name": "A",
         "nbinsx": 10,
         "opacity": 0.8,
         "orientation": "v",
         "type": "histogram",
         "x": [
          -0.4235298267372065,
          0.8737034190511784,
          -0.4425667569523764,
          0.3986178618161769,
          0.03428784743673946,
          2.06533134908832,
          0.10271963749380746,
          0.05098734502258662,
          -0.1184063857671036,
          1.0964064857463354,
          1.4946454801576834,
          -0.7437131463014094,
          1.3253833864300688,
          -0.49360380332296394,
          -0.13305937269604404,
          0.9240293905139304,
          -0.09424341106312586,
          1.18071399478596,
          0.2645952610124938,
          0.8836118426137318,
          -1.173003943925152,
          -0.3212571585007686,
          -0.4398567644713879,
          -0.021012138960523438,
          0.07155221310667621,
          -2.815070179834287,
          -0.7035450325355791,
          -2.3018781723788013,
          -0.604916557375915,
          -1.3218543223382502,
          -0.3097396604396595,
          -0.854479473887273,
          -0.4678081709677992,
          -0.08838304149912787,
          0.7643585236625032,
          -1.2729795604519634,
          -1.2497474177461365,
          0.11665547061831338,
          0.054222241262439526,
          1.3955567369637993,
          1.2335949227350325,
          0.7811707745028742,
          -0.7062201202758001,
          -0.010086473033524971,
          0.17612395345598061,
          2.0194244526399077,
          -0.124897544987423,
          0.3504515229698034,
          0.704102638494282,
          -0.9641455130531145,
          0.21652976538587435,
          -0.6644405943141568,
          -0.3894761056471769,
          0.5468190505161646,
          -0.8363370271767773,
          -1.1460722642318224,
          -0.07587582681833421,
          0.9619169082305153,
          -0.5239800127167108,
          1.0311673460804889,
          -1.1758734601138927,
          1.5461295811284619,
          -2.5218097000157984,
          0.31240706808234286,
          -0.39540885307643037,
          -0.9181226038092148,
          -0.973212682296477,
          -1.1081306261732067,
          -0.10776950961150684,
          -0.050654313344176784,
          -0.9699477197603297,
          0.8557740272749418,
          1.0221888170710327,
          0.17768076059489119,
          -0.10870171886551774,
          0.29400495682356353,
          0.5229295264694711,
          1.5207606347295235,
          1.0936857792331733,
          -0.11595518871389471,
          -0.9859049663963309,
          -0.8199765183066423,
          0.9134190838522616,
          -0.7916172912135768,
          -0.12131152947593532,
          -1.2701415944118364,
          -0.9773938872991602,
          0.3339642125319659,
          0.6798478253423859,
          -1.5492577140644306,
          0.5787098004342369,
          0.5406428940538466,
          0.7639972929707557,
          0.017857529896215186,
          -0.22871482857901884,
          -0.07650894408479933,
          1.7552590593676092,
          0.18190406729913505,
          -1.6830180224348916,
          -2.2543336155615137
         ],
         "xaxis": "x",
         "yaxis": "y"
        },
        {
         "line": {
          "color": "rgba(128, 128, 128, 1.0)",
          "dash": "solid",
          "shape": "linear",
          "width": 1.3
         },
         "marker": {
          "size": 2,
          "symbol": "circle"
         },
         "mode": "markers",
         "name": "A",
         "text": "",
         "type": "scatter",
         "x": [
          0.21294078317383458,
          0.2518028123325517,
          0.02091657406832586,
          1.3626170892858607,
          0.008884733090600866,
          -0.7942574105325144,
          -1.4932730233998306,
          1.46030442365578,
          0.5222281818282609,
          -0.6951728119359911,
          -1.128579499529297,
          1.4666696280299252,
          1.8249626782770507,
          0.5202794124545566,
          0.7201153802481164,
          -1.5626581529361065,
          0.3374181890445056,
          -0.2903741529002983,
          -0.40190112011766466,
          -1.1603959048941097,
          0.9945810374960529,
          1.0458734586078855,
          -0.10175723853610258,
          0.5032333501247692,
          0.4423633466724333,
          -0.9292874889142884,
          1.0404659047051579,
          -0.4081306443840345,
          1.5848729347087902,
          0.11617936567027352,
          0.877815726072177,
          -1.6737754450487907,
          -0.6500583582053018,
          0.6400105834817084,
          -0.44334139052207533,
          -0.46506821727471764,
          1.6976387898715808,
          -0.4127523142241755,
          0.2847774928581605,
          2.0843595325833,
          1.1962031768333525,
          -0.19640158479150444,
          -0.076513511860327,
          1.091084899278679,
          0.48501073599044303,
          -0.5488969947992373,
          1.5657928427809016,
          -1.0644035759844077,
          1.194701257470469,
          0.5469168263690459,
          1.733072093267033,
          1.2634577119112578,
          -0.5420507058393845,
          -0.8411226760092744,
          0.2396772592095201,
          -0.5175263212605506,
          1.6612996922788827,
          0.6317816649077945,
          -0.3491301771453928,
          3.2420035524398623,
          -0.3006899949173568,
          1.997414779630204,
          0.12307791592774506,
          -1.2500563474156865,
          0.31535217967862017,
          -0.08156801559514214,
          0.15695759628048428,
          1.097578516882325,
          -1.6933624000861809,
          1.0998500106286162,
          -0.04798598377017386,
          -1.0504861587912668,
          0.2157760376256392,
          0.2721587078516661,
          1.5158996980625876,
          -1.0820719356636508,
          -0.7449838137376683,
          2.1678435919878143,
          -1.3867241124350391,
          1.569218147485345,
          0.9615517659406315,
          -0.13308189808999643,
          1.115636697593061,
          -1.218340919178577,
          1.458638359803591,
          0.2360747011023473,
          0.47478412012124943,
          0.1559355888436621,
          0.26512385357664964,
          0.1568188907648089,
          0.7603143641721575,
          -1.1817614859597358,
          -0.4959769554035473,
          -1.573931163429572,
          0.9898452846005282,
          -1.7092796113603514,
          -0.16008249410907596,
          -0.7349355342113074,
          0.6686336198044844,
          1.0934331284256122
         ],
         "xaxis": "x2",
         "y": [
          -0.4235298267372065,
          0.8737034190511784,
          -0.4425667569523764,
          0.3986178618161769,
          0.03428784743673946,
          2.06533134908832,
          0.10271963749380746,
          0.05098734502258662,
          -0.1184063857671036,
          1.0964064857463354,
          1.4946454801576834,
          -0.7437131463014094,
          1.3253833864300688,
          -0.49360380332296394,
          -0.13305937269604404,
          0.9240293905139304,
          -0.09424341106312586,
          1.18071399478596,
          0.2645952610124938,
          0.8836118426137318,
          -1.173003943925152,
          -0.3212571585007686,
          -0.4398567644713879,
          -0.021012138960523438,
          0.07155221310667621,
          -2.815070179834287,
          -0.7035450325355791,
          -2.3018781723788013,
          -0.604916557375915,
          -1.3218543223382502,
          -0.3097396604396595,
          -0.854479473887273,
          -0.4678081709677992,
          -0.08838304149912787,
          0.7643585236625032,
          -1.2729795604519634,
          -1.2497474177461365,
          0.11665547061831338,
          0.054222241262439526,
          1.3955567369637993,
          1.2335949227350325,
          0.7811707745028742,
          -0.7062201202758001,
          -0.010086473033524971,
          0.17612395345598061,
          2.0194244526399077,
          -0.124897544987423,
          0.3504515229698034,
          0.704102638494282,
          -0.9641455130531145,
          0.21652976538587435,
          -0.6644405943141568,
          -0.3894761056471769,
          0.5468190505161646,
          -0.8363370271767773,
          -1.1460722642318224,
          -0.07587582681833421,
          0.9619169082305153,
          -0.5239800127167108,
          1.0311673460804889,
          -1.1758734601138927,
          1.5461295811284619,
          -2.5218097000157984,
          0.31240706808234286,
          -0.39540885307643037,
          -0.9181226038092148,
          -0.973212682296477,
          -1.1081306261732067,
          -0.10776950961150684,
          -0.050654313344176784,
          -0.9699477197603297,
          0.8557740272749418,
          1.0221888170710327,
          0.17768076059489119,
          -0.10870171886551774,
          0.29400495682356353,
          0.5229295264694711,
          1.5207606347295235,
          1.0936857792331733,
          -0.11595518871389471,
          -0.9859049663963309,
          -0.8199765183066423,
          0.9134190838522616,
          -0.7916172912135768,
          -0.12131152947593532,
          -1.2701415944118364,
          -0.9773938872991602,
          0.3339642125319659,
          0.6798478253423859,
          -1.5492577140644306,
          0.5787098004342369,
          0.5406428940538466,
          0.7639972929707557,
          0.017857529896215186,
          -0.22871482857901884,
          -0.07650894408479933,
          1.7552590593676092,
          0.18190406729913505,
          -1.6830180224348916,
          -2.2543336155615137
         ],
         "yaxis": "y2"
        },
        {
         "line": {
          "color": "rgba(128, 128, 128, 1.0)",
          "dash": "solid",
          "shape": "linear",
          "width": 1.3
         },
         "marker": {
          "size": 2,
          "symbol": "circle"
         },
         "mode": "markers",
         "name": "A",
         "text": "",
         "type": "scatter",
         "x": [
          0.07666732342800771,
          1.2330942872480357,
          0.7174272909879041,
          1.1650341605909447,
          0.38844987290932875,
          -0.9639285898227601,
          -0.35383599355953205,
          -2.336303967107702,
          -0.454184402697137,
          0.9137067197584892,
          -0.2607123082209486,
          0.9433341029331787,
          -0.21795959215144017,
          2.0247544405549736,
          0.5166075386935827,
          -1.4035414840754523,
          0.2217421931499329,
          2.0397128159939464,
          -0.3528736724112633,
          1.3309677291731317,
          -0.4480429789873115,
          -2.2028929642418946,
          1.2700050164467438,
          0.3459762667561772,
          0.503265154331763,
          -0.5968947666394623,
          -0.0628886145301624,
          1.1198371781866292,
          -0.46937324902263566,
          -0.05882297773839477,
          0.5624518934746332,
          -0.8132685672237479,
          0.6272154794742844,
          -1.110779835019135,
          0.18092756927280107,
          0.9022611614334409,
          0.29925281584494856,
          0.644303083237883,
          -0.7146993167999712,
          0.6826045755625907,
          1.6297891299252922,
          -0.18266370408824886,
          -1.1019918640555506,
          -0.043919066070177884,
          -0.07392731247533543,
          -1.125969023463554,
          -0.8095616124809866,
          -0.6347358104155362,
          -0.8966481619843136,
          -1.4253896791897036,
          1.0938072689136262,
          0.16119350933819893,
          -0.30616337006950906,
          -0.5724668281307519,
          -0.3652779626589068,
          -0.6277217354019603,
          -1.1052084012354078,
          -1.0497908154685873,
          -0.6987832856088142,
          -1.3344438626800967,
          1.1961042861699718,
          -1.4899688870489125,
          1.0000751903989364,
          -1.8217761617014219,
          1.4220702970109613,
          0.7793771788388744,
          1.9316110366879462,
          0.5344841146693203,
          1.0255461980026384,
          0.6601181077255065,
          -0.7257477239987026,
          1.0618248411512208,
          0.32317893709863227,
          0.12750962814688283,
          1.8817838507471143,
          -2.9730403702512573,
          -1.0963906056140136,
          -1.2448367914502456,
          0.3860066048958656,
          -0.9009446834368859,
          -0.66397430581543,
          -1.7102671235308657,
          -0.9721395322800673,
          -0.5471739448000086,
          0.214711886511749,
          0.3835999694344564,
          -0.43467167707527177,
          0.7336021044528896,
          0.7231396484476731,
          -1.286530368189027,
          1.0363036097846994,
          0.13971486568107366,
          -0.7407978110384146,
          0.8256735221085763,
          2.282521420012441,
          -0.6462513183208001,
          -0.4182068194743313,
          0.5066825121961596,
          0.12120851763533104,
          0.9240385901151515
         ],
         "xaxis": "x3",
         "y": [
          -0.4235298267372065,
          0.8737034190511784,
          -0.4425667569523764,
          0.3986178618161769,
          0.03428784743673946,
          2.06533134908832,
          0.10271963749380746,
          0.05098734502258662,
          -0.1184063857671036,
          1.0964064857463354,
          1.4946454801576834,
          -0.7437131463014094,
          1.3253833864300688,
          -0.49360380332296394,
          -0.13305937269604404,
          0.9240293905139304,
          -0.09424341106312586,
          1.18071399478596,
          0.2645952610124938,
          0.8836118426137318,
          -1.173003943925152,
          -0.3212571585007686,
          -0.4398567644713879,
          -0.021012138960523438,
          0.07155221310667621,
          -2.815070179834287,
          -0.7035450325355791,
          -2.3018781723788013,
          -0.604916557375915,
          -1.3218543223382502,
          -0.3097396604396595,
          -0.854479473887273,
          -0.4678081709677992,
          -0.08838304149912787,
          0.7643585236625032,
          -1.2729795604519634,
          -1.2497474177461365,
          0.11665547061831338,
          0.054222241262439526,
          1.3955567369637993,
          1.2335949227350325,
          0.7811707745028742,
          -0.7062201202758001,
          -0.010086473033524971,
          0.17612395345598061,
          2.0194244526399077,
          -0.124897544987423,
          0.3504515229698034,
          0.704102638494282,
          -0.9641455130531145,
          0.21652976538587435,
          -0.6644405943141568,
          -0.3894761056471769,
          0.5468190505161646,
          -0.8363370271767773,
          -1.1460722642318224,
          -0.07587582681833421,
          0.9619169082305153,
          -0.5239800127167108,
          1.0311673460804889,
          -1.1758734601138927,
          1.5461295811284619,
          -2.5218097000157984,
          0.31240706808234286,
          -0.39540885307643037,
          -0.9181226038092148,
          -0.973212682296477,
          -1.1081306261732067,
          -0.10776950961150684,
          -0.050654313344176784,
          -0.9699477197603297,
          0.8557740272749418,
          1.0221888170710327,
          0.17768076059489119,
          -0.10870171886551774,
          0.29400495682356353,
          0.5229295264694711,
          1.5207606347295235,
          1.0936857792331733,
          -0.11595518871389471,
          -0.9859049663963309,
          -0.8199765183066423,
          0.9134190838522616,
          -0.7916172912135768,
          -0.12131152947593532,
          -1.2701415944118364,
          -0.9773938872991602,
          0.3339642125319659,
          0.6798478253423859,
          -1.5492577140644306,
          0.5787098004342369,
          0.5406428940538466,
          0.7639972929707557,
          0.017857529896215186,
          -0.22871482857901884,
          -0.07650894408479933,
          1.7552590593676092,
          0.18190406729913505,
          -1.6830180224348916,
          -2.2543336155615137
         ],
         "yaxis": "y3"
        },
        {
         "line": {
          "color": "rgba(128, 128, 128, 1.0)",
          "dash": "solid",
          "shape": "linear",
          "width": 1.3
         },
         "marker": {
          "size": 2,
          "symbol": "circle"
         },
         "mode": "markers",
         "name": "A",
         "text": "",
         "type": "scatter",
         "x": [
          0.3978440991444191,
          -0.28826972274567153,
          1.4605083586129701,
          0.2065787905465538,
          0.8658830690411201,
          -1.2031456624357368,
          -2.03192504314234,
          -0.08577266443308462,
          -1.3694084036433456,
          -0.4083601555579031,
          -0.12361860968708542,
          0.8416477809104242,
          -0.6873127692908836,
          -1.3528881794620782,
          0.37330461013009536,
          0.03275965692509622,
          0.5129981243596776,
          -0.8835742034571936,
          0.07223968526867314,
          -0.02333076989038537,
          -0.6265151633100899,
          -0.5218320855379366,
          -0.4895793941163754,
          2.213512952111512,
          -0.116267441642128,
          0.3694806494602197,
          -1.214012553861094,
          0.8720172573534196,
          -0.8138817609636407,
          -0.9149093340883017,
          2.177141028944511,
          -0.9141757610980059,
          1.2034826746030953,
          -0.7560880909320254,
          0.4322821932025189,
          -0.8282043614271062,
          -0.6555611059628269,
          1.7063976854975547,
          -0.40473070444417425,
          -0.2665243915899419,
          0.8636591307842529,
          0.32876329718060393,
          1.4298577740388587,
          -0.6434049702637586,
          -0.1688216562582055,
          0.15867078100399273,
          0.11358649861806933,
          1.7562112783418848,
          -0.7759260282814037,
          -1.0467783901538161,
          -0.9362037235611053,
          -0.07462359288103255,
          -0.1057024142409333,
          0.7139610818939208,
          -1.5917657767238034,
          -1.9519861497861795,
          0.06352992800290329,
          -0.7268321007370007,
          0.28921565309844144,
          0.21578351220190345,
          -0.6488829995176352,
          -0.773244402629859,
          -0.6148232908512383,
          -0.18142239454014847,
          -0.6237023760351863,
          -1.4318132576877778,
          0.6966029765286594,
          -0.19314281528471364,
          -0.8077947304832552,
          -0.02327388299382055,
          -1.6291266184528357,
          -0.7731480255084516,
          -0.3606766818155555,
          -0.30037559705506767,
          -1.6147033943175884,
          -0.22775648571217666,
          -0.6720664190488358,
          -0.45055456803840854,
          0.7302207964718278,
          0.9261309442615799,
          0.2210512002211912,
          -0.9501229748377441,
          0.7355812952672144,
          1.9705985594290139,
          0.9477160505711176,
          1.5513943863039383,
          -0.8756031158018538,
          -0.8929135714326509,
          0.3742093694591922,
          1.4004035888510076,
          0.17581167607170853,
          0.1382191649353529,
          -0.5168167622706401,
          0.9012140474064909,
          0.9425967651953716,
          -0.3980707296425509,
          1.014248127966641,
          -0.5169455069607055,
          0.16482663143168433,
          0.9704611452749445
         ],
         "xaxis": "x4",
         "y": [
          -0.4235298267372065,
          0.8737034190511784,
          -0.4425667569523764,
          0.3986178618161769,
          0.03428784743673946,
          2.06533134908832,
          0.10271963749380746,
          0.05098734502258662,
          -0.1184063857671036,
          1.0964064857463354,
          1.4946454801576834,
          -0.7437131463014094,
          1.3253833864300688,
          -0.49360380332296394,
          -0.13305937269604404,
          0.9240293905139304,
          -0.09424341106312586,
          1.18071399478596,
          0.2645952610124938,
          0.8836118426137318,
          -1.173003943925152,
          -0.3212571585007686,
          -0.4398567644713879,
          -0.021012138960523438,
          0.07155221310667621,
          -2.815070179834287,
          -0.7035450325355791,
          -2.3018781723788013,
          -0.604916557375915,
          -1.3218543223382502,
          -0.3097396604396595,
          -0.854479473887273,
          -0.4678081709677992,
          -0.08838304149912787,
          0.7643585236625032,
          -1.2729795604519634,
          -1.2497474177461365,
          0.11665547061831338,
          0.054222241262439526,
          1.3955567369637993,
          1.2335949227350325,
          0.7811707745028742,
          -0.7062201202758001,
          -0.010086473033524971,
          0.17612395345598061,
          2.0194244526399077,
          -0.124897544987423,
          0.3504515229698034,
          0.704102638494282,
          -0.9641455130531145,
          0.21652976538587435,
          -0.6644405943141568,
          -0.3894761056471769,
          0.5468190505161646,
          -0.8363370271767773,
          -1.1460722642318224,
          -0.07587582681833421,
          0.9619169082305153,
          -0.5239800127167108,
          1.0311673460804889,
          -1.1758734601138927,
          1.5461295811284619,
          -2.5218097000157984,
          0.31240706808234286,
          -0.39540885307643037,
          -0.9181226038092148,
          -0.973212682296477,
          -1.1081306261732067,
          -0.10776950961150684,
          -0.050654313344176784,
          -0.9699477197603297,
          0.8557740272749418,
          1.0221888170710327,
          0.17768076059489119,
          -0.10870171886551774,
          0.29400495682356353,
          0.5229295264694711,
          1.5207606347295235,
          1.0936857792331733,
          -0.11595518871389471,
          -0.9859049663963309,
          -0.8199765183066423,
          0.9134190838522616,
          -0.7916172912135768,
          -0.12131152947593532,
          -1.2701415944118364,
          -0.9773938872991602,
          0.3339642125319659,
          0.6798478253423859,
          -1.5492577140644306,
          0.5787098004342369,
          0.5406428940538466,
          0.7639972929707557,
          0.017857529896215186,
          -0.22871482857901884,
          -0.07650894408479933,
          1.7552590593676092,
          0.18190406729913505,
          -1.6830180224348916,
          -2.2543336155615137
         ],
         "yaxis": "y4"
        },
        {
         "line": {
          "color": "rgba(128, 128, 128, 1.0)",
          "dash": "solid",
          "shape": "linear",
          "width": 1.3
         },
         "marker": {
          "size": 2,
          "symbol": "circle"
         },
         "mode": "markers",
         "name": "B",
         "text": "",
         "type": "scatter",
         "x": [
          -0.4235298267372065,
          0.8737034190511784,
          -0.4425667569523764,
          0.3986178618161769,
          0.03428784743673946,
          2.06533134908832,
          0.10271963749380746,
          0.05098734502258662,
          -0.1184063857671036,
          1.0964064857463354,
          1.4946454801576834,
          -0.7437131463014094,
          1.3253833864300688,
          -0.49360380332296394,
          -0.13305937269604404,
          0.9240293905139304,
          -0.09424341106312586,
          1.18071399478596,
          0.2645952610124938,
          0.8836118426137318,
          -1.173003943925152,
          -0.3212571585007686,
          -0.4398567644713879,
          -0.021012138960523438,
          0.07155221310667621,
          -2.815070179834287,
          -0.7035450325355791,
          -2.3018781723788013,
          -0.604916557375915,
          -1.3218543223382502,
          -0.3097396604396595,
          -0.854479473887273,
          -0.4678081709677992,
          -0.08838304149912787,
          0.7643585236625032,
          -1.2729795604519634,
          -1.2497474177461365,
          0.11665547061831338,
          0.054222241262439526,
          1.3955567369637993,
          1.2335949227350325,
          0.7811707745028742,
          -0.7062201202758001,
          -0.010086473033524971,
          0.17612395345598061,
          2.0194244526399077,
          -0.124897544987423,
          0.3504515229698034,
          0.704102638494282,
          -0.9641455130531145,
          0.21652976538587435,
          -0.6644405943141568,
          -0.3894761056471769,
          0.5468190505161646,
          -0.8363370271767773,
          -1.1460722642318224,
          -0.07587582681833421,
          0.9619169082305153,
          -0.5239800127167108,
          1.0311673460804889,
          -1.1758734601138927,
          1.5461295811284619,
          -2.5218097000157984,
          0.31240706808234286,
          -0.39540885307643037,
          -0.9181226038092148,
          -0.973212682296477,
          -1.1081306261732067,
          -0.10776950961150684,
          -0.050654313344176784,
          -0.9699477197603297,
          0.8557740272749418,
          1.0221888170710327,
          0.17768076059489119,
          -0.10870171886551774,
          0.29400495682356353,
          0.5229295264694711,
          1.5207606347295235,
          1.0936857792331733,
          -0.11595518871389471,
          -0.9859049663963309,
          -0.8199765183066423,
          0.9134190838522616,
          -0.7916172912135768,
          -0.12131152947593532,
          -1.2701415944118364,
          -0.9773938872991602,
          0.3339642125319659,
          0.6798478253423859,
          -1.5492577140644306,
          0.5787098004342369,
          0.5406428940538466,
          0.7639972929707557,
          0.017857529896215186,
          -0.22871482857901884,
          -0.07650894408479933,
          1.7552590593676092,
          0.18190406729913505,
          -1.6830180224348916,
          -2.2543336155615137
         ],
         "xaxis": "x5",
         "y": [
          0.21294078317383458,
          0.2518028123325517,
          0.02091657406832586,
          1.3626170892858607,
          0.008884733090600866,
          -0.7942574105325144,
          -1.4932730233998306,
          1.46030442365578,
          0.5222281818282609,
          -0.6951728119359911,
          -1.128579499529297,
          1.4666696280299252,
          1.8249626782770507,
          0.5202794124545566,
          0.7201153802481164,
          -1.5626581529361065,
          0.3374181890445056,
          -0.2903741529002983,
          -0.40190112011766466,
          -1.1603959048941097,
          0.9945810374960529,
          1.0458734586078855,
          -0.10175723853610258,
          0.5032333501247692,
          0.4423633466724333,
          -0.9292874889142884,
          1.0404659047051579,
          -0.4081306443840345,
          1.5848729347087902,
          0.11617936567027352,
          0.877815726072177,
          -1.6737754450487907,
          -0.6500583582053018,
          0.6400105834817084,
          -0.44334139052207533,
          -0.46506821727471764,
          1.6976387898715808,
          -0.4127523142241755,
          0.2847774928581605,
          2.0843595325833,
          1.1962031768333525,
          -0.19640158479150444,
          -0.076513511860327,
          1.091084899278679,
          0.48501073599044303,
          -0.5488969947992373,
          1.5657928427809016,
          -1.0644035759844077,
          1.194701257470469,
          0.5469168263690459,
          1.733072093267033,
          1.2634577119112578,
          -0.5420507058393845,
          -0.8411226760092744,
          0.2396772592095201,
          -0.5175263212605506,
          1.6612996922788827,
          0.6317816649077945,
          -0.3491301771453928,
          3.2420035524398623,
          -0.3006899949173568,
          1.997414779630204,
          0.12307791592774506,
          -1.2500563474156865,
          0.31535217967862017,
          -0.08156801559514214,
          0.15695759628048428,
          1.097578516882325,
          -1.6933624000861809,
          1.0998500106286162,
          -0.04798598377017386,
          -1.0504861587912668,
          0.2157760376256392,
          0.2721587078516661,
          1.5158996980625876,
          -1.0820719356636508,
          -0.7449838137376683,
          2.1678435919878143,
          -1.3867241124350391,
          1.569218147485345,
          0.9615517659406315,
          -0.13308189808999643,
          1.115636697593061,
          -1.218340919178577,
          1.458638359803591,
          0.2360747011023473,
          0.47478412012124943,
          0.1559355888436621,
          0.26512385357664964,
          0.1568188907648089,
          0.7603143641721575,
          -1.1817614859597358,
          -0.4959769554035473,
          -1.573931163429572,
          0.9898452846005282,
          -1.7092796113603514,
          -0.16008249410907596,
          -0.7349355342113074,
          0.6686336198044844,
          1.0934331284256122
         ],
         "yaxis": "y5"
        },
        {
         "histfunc": "count",
         "histnorm": "",
         "marker": {
          "color": "rgba(55, 128, 191, 1.0)",
          "line": {
           "color": "#4D5663",
           "width": 1.3
          }
         },
         "name": "B",
         "nbinsx": 10,
         "opacity": 0.8,
         "orientation": "v",
         "type": "histogram",
         "x": [
          0.21294078317383458,
          0.2518028123325517,
          0.02091657406832586,
          1.3626170892858607,
          0.008884733090600866,
          -0.7942574105325144,
          -1.4932730233998306,
          1.46030442365578,
          0.5222281818282609,
          -0.6951728119359911,
          -1.128579499529297,
          1.4666696280299252,
          1.8249626782770507,
          0.5202794124545566,
          0.7201153802481164,
          -1.5626581529361065,
          0.3374181890445056,
          -0.2903741529002983,
          -0.40190112011766466,
          -1.1603959048941097,
          0.9945810374960529,
          1.0458734586078855,
          -0.10175723853610258,
          0.5032333501247692,
          0.4423633466724333,
          -0.9292874889142884,
          1.0404659047051579,
          -0.4081306443840345,
          1.5848729347087902,
          0.11617936567027352,
          0.877815726072177,
          -1.6737754450487907,
          -0.6500583582053018,
          0.6400105834817084,
          -0.44334139052207533,
          -0.46506821727471764,
          1.6976387898715808,
          -0.4127523142241755,
          0.2847774928581605,
          2.0843595325833,
          1.1962031768333525,
          -0.19640158479150444,
          -0.076513511860327,
          1.091084899278679,
          0.48501073599044303,
          -0.5488969947992373,
          1.5657928427809016,
          -1.0644035759844077,
          1.194701257470469,
          0.5469168263690459,
          1.733072093267033,
          1.2634577119112578,
          -0.5420507058393845,
          -0.8411226760092744,
          0.2396772592095201,
          -0.5175263212605506,
          1.6612996922788827,
          0.6317816649077945,
          -0.3491301771453928,
          3.2420035524398623,
          -0.3006899949173568,
          1.997414779630204,
          0.12307791592774506,
          -1.2500563474156865,
          0.31535217967862017,
          -0.08156801559514214,
          0.15695759628048428,
          1.097578516882325,
          -1.6933624000861809,
          1.0998500106286162,
          -0.04798598377017386,
          -1.0504861587912668,
          0.2157760376256392,
          0.2721587078516661,
          1.5158996980625876,
          -1.0820719356636508,
          -0.7449838137376683,
          2.1678435919878143,
          -1.3867241124350391,
          1.569218147485345,
          0.9615517659406315,
          -0.13308189808999643,
          1.115636697593061,
          -1.218340919178577,
          1.458638359803591,
          0.2360747011023473,
          0.47478412012124943,
          0.1559355888436621,
          0.26512385357664964,
          0.1568188907648089,
          0.7603143641721575,
          -1.1817614859597358,
          -0.4959769554035473,
          -1.573931163429572,
          0.9898452846005282,
          -1.7092796113603514,
          -0.16008249410907596,
          -0.7349355342113074,
          0.6686336198044844,
          1.0934331284256122
         ],
         "xaxis": "x6",
         "yaxis": "y6"
        },
        {
         "line": {
          "color": "rgba(128, 128, 128, 1.0)",
          "dash": "solid",
          "shape": "linear",
          "width": 1.3
         },
         "marker": {
          "size": 2,
          "symbol": "circle"
         },
         "mode": "markers",
         "name": "B",
         "text": "",
         "type": "scatter",
         "x": [
          0.07666732342800771,
          1.2330942872480357,
          0.7174272909879041,
          1.1650341605909447,
          0.38844987290932875,
          -0.9639285898227601,
          -0.35383599355953205,
          -2.336303967107702,
          -0.454184402697137,
          0.9137067197584892,
          -0.2607123082209486,
          0.9433341029331787,
          -0.21795959215144017,
          2.0247544405549736,
          0.5166075386935827,
          -1.4035414840754523,
          0.2217421931499329,
          2.0397128159939464,
          -0.3528736724112633,
          1.3309677291731317,
          -0.4480429789873115,
          -2.2028929642418946,
          1.2700050164467438,
          0.3459762667561772,
          0.503265154331763,
          -0.5968947666394623,
          -0.0628886145301624,
          1.1198371781866292,
          -0.46937324902263566,
          -0.05882297773839477,
          0.5624518934746332,
          -0.8132685672237479,
          0.6272154794742844,
          -1.110779835019135,
          0.18092756927280107,
          0.9022611614334409,
          0.29925281584494856,
          0.644303083237883,
          -0.7146993167999712,
          0.6826045755625907,
          1.6297891299252922,
          -0.18266370408824886,
          -1.1019918640555506,
          -0.043919066070177884,
          -0.07392731247533543,
          -1.125969023463554,
          -0.8095616124809866,
          -0.6347358104155362,
          -0.8966481619843136,
          -1.4253896791897036,
          1.0938072689136262,
          0.16119350933819893,
          -0.30616337006950906,
          -0.5724668281307519,
          -0.3652779626589068,
          -0.6277217354019603,
          -1.1052084012354078,
          -1.0497908154685873,
          -0.6987832856088142,
          -1.3344438626800967,
          1.1961042861699718,
          -1.4899688870489125,
          1.0000751903989364,
          -1.8217761617014219,
          1.4220702970109613,
          0.7793771788388744,
          1.9316110366879462,
          0.5344841146693203,
          1.0255461980026384,
          0.6601181077255065,
          -0.7257477239987026,
          1.0618248411512208,
          0.32317893709863227,
          0.12750962814688283,
          1.8817838507471143,
          -2.9730403702512573,
          -1.0963906056140136,
          -1.2448367914502456,
          0.3860066048958656,
          -0.9009446834368859,
          -0.66397430581543,
          -1.7102671235308657,
          -0.9721395322800673,
          -0.5471739448000086,
          0.214711886511749,
          0.3835999694344564,
          -0.43467167707527177,
          0.7336021044528896,
          0.7231396484476731,
          -1.286530368189027,
          1.0363036097846994,
          0.13971486568107366,
          -0.7407978110384146,
          0.8256735221085763,
          2.282521420012441,
          -0.6462513183208001,
          -0.4182068194743313,
          0.5066825121961596,
          0.12120851763533104,
          0.9240385901151515
         ],
         "xaxis": "x7",
         "y": [
          0.21294078317383458,
          0.2518028123325517,
          0.02091657406832586,
          1.3626170892858607,
          0.008884733090600866,
          -0.7942574105325144,
          -1.4932730233998306,
          1.46030442365578,
          0.5222281818282609,
          -0.6951728119359911,
          -1.128579499529297,
          1.4666696280299252,
          1.8249626782770507,
          0.5202794124545566,
          0.7201153802481164,
          -1.5626581529361065,
          0.3374181890445056,
          -0.2903741529002983,
          -0.40190112011766466,
          -1.1603959048941097,
          0.9945810374960529,
          1.0458734586078855,
          -0.10175723853610258,
          0.5032333501247692,
          0.4423633466724333,
          -0.9292874889142884,
          1.0404659047051579,
          -0.4081306443840345,
          1.5848729347087902,
          0.11617936567027352,
          0.877815726072177,
          -1.6737754450487907,
          -0.6500583582053018,
          0.6400105834817084,
          -0.44334139052207533,
          -0.46506821727471764,
          1.6976387898715808,
          -0.4127523142241755,
          0.2847774928581605,
          2.0843595325833,
          1.1962031768333525,
          -0.19640158479150444,
          -0.076513511860327,
          1.091084899278679,
          0.48501073599044303,
          -0.5488969947992373,
          1.5657928427809016,
          -1.0644035759844077,
          1.194701257470469,
          0.5469168263690459,
          1.733072093267033,
          1.2634577119112578,
          -0.5420507058393845,
          -0.8411226760092744,
          0.2396772592095201,
          -0.5175263212605506,
          1.6612996922788827,
          0.6317816649077945,
          -0.3491301771453928,
          3.2420035524398623,
          -0.3006899949173568,
          1.997414779630204,
          0.12307791592774506,
          -1.2500563474156865,
          0.31535217967862017,
          -0.08156801559514214,
          0.15695759628048428,
          1.097578516882325,
          -1.6933624000861809,
          1.0998500106286162,
          -0.04798598377017386,
          -1.0504861587912668,
          0.2157760376256392,
          0.2721587078516661,
          1.5158996980625876,
          -1.0820719356636508,
          -0.7449838137376683,
          2.1678435919878143,
          -1.3867241124350391,
          1.569218147485345,
          0.9615517659406315,
          -0.13308189808999643,
          1.115636697593061,
          -1.218340919178577,
          1.458638359803591,
          0.2360747011023473,
          0.47478412012124943,
          0.1559355888436621,
          0.26512385357664964,
          0.1568188907648089,
          0.7603143641721575,
          -1.1817614859597358,
          -0.4959769554035473,
          -1.573931163429572,
          0.9898452846005282,
          -1.7092796113603514,
          -0.16008249410907596,
          -0.7349355342113074,
          0.6686336198044844,
          1.0934331284256122
         ],
         "yaxis": "y7"
        },
        {
         "line": {
          "color": "rgba(128, 128, 128, 1.0)",
          "dash": "solid",
          "shape": "linear",
          "width": 1.3
         },
         "marker": {
          "size": 2,
          "symbol": "circle"
         },
         "mode": "markers",
         "name": "B",
         "text": "",
         "type": "scatter",
         "x": [
          0.3978440991444191,
          -0.28826972274567153,
          1.4605083586129701,
          0.2065787905465538,
          0.8658830690411201,
          -1.2031456624357368,
          -2.03192504314234,
          -0.08577266443308462,
          -1.3694084036433456,
          -0.4083601555579031,
          -0.12361860968708542,
          0.8416477809104242,
          -0.6873127692908836,
          -1.3528881794620782,
          0.37330461013009536,
          0.03275965692509622,
          0.5129981243596776,
          -0.8835742034571936,
          0.07223968526867314,
          -0.02333076989038537,
          -0.6265151633100899,
          -0.5218320855379366,
          -0.4895793941163754,
          2.213512952111512,
          -0.116267441642128,
          0.3694806494602197,
          -1.214012553861094,
          0.8720172573534196,
          -0.8138817609636407,
          -0.9149093340883017,
          2.177141028944511,
          -0.9141757610980059,
          1.2034826746030953,
          -0.7560880909320254,
          0.4322821932025189,
          -0.8282043614271062,
          -0.6555611059628269,
          1.7063976854975547,
          -0.40473070444417425,
          -0.2665243915899419,
          0.8636591307842529,
          0.32876329718060393,
          1.4298577740388587,
          -0.6434049702637586,
          -0.1688216562582055,
          0.15867078100399273,
          0.11358649861806933,
          1.7562112783418848,
          -0.7759260282814037,
          -1.0467783901538161,
          -0.9362037235611053,
          -0.07462359288103255,
          -0.1057024142409333,
          0.7139610818939208,
          -1.5917657767238034,
          -1.9519861497861795,
          0.06352992800290329,
          -0.7268321007370007,
          0.28921565309844144,
          0.21578351220190345,
          -0.6488829995176352,
          -0.773244402629859,
          -0.6148232908512383,
          -0.18142239454014847,
          -0.6237023760351863,
          -1.4318132576877778,
          0.6966029765286594,
          -0.19314281528471364,
          -0.8077947304832552,
          -0.02327388299382055,
          -1.6291266184528357,
          -0.7731480255084516,
          -0.3606766818155555,
          -0.30037559705506767,
          -1.6147033943175884,
          -0.22775648571217666,
          -0.6720664190488358,
          -0.45055456803840854,
          0.7302207964718278,
          0.9261309442615799,
          0.2210512002211912,
          -0.9501229748377441,
          0.7355812952672144,
          1.9705985594290139,
          0.9477160505711176,
          1.5513943863039383,
          -0.8756031158018538,
          -0.8929135714326509,
          0.3742093694591922,
          1.4004035888510076,
          0.17581167607170853,
          0.1382191649353529,
          -0.5168167622706401,
          0.9012140474064909,
          0.9425967651953716,
          -0.3980707296425509,
          1.014248127966641,
          -0.5169455069607055,
          0.16482663143168433,
          0.9704611452749445
         ],
         "xaxis": "x8",
         "y": [
          0.21294078317383458,
          0.2518028123325517,
          0.02091657406832586,
          1.3626170892858607,
          0.008884733090600866,
          -0.7942574105325144,
          -1.4932730233998306,
          1.46030442365578,
          0.5222281818282609,
          -0.6951728119359911,
          -1.128579499529297,
          1.4666696280299252,
          1.8249626782770507,
          0.5202794124545566,
          0.7201153802481164,
          -1.5626581529361065,
          0.3374181890445056,
          -0.2903741529002983,
          -0.40190112011766466,
          -1.1603959048941097,
          0.9945810374960529,
          1.0458734586078855,
          -0.10175723853610258,
          0.5032333501247692,
          0.4423633466724333,
          -0.9292874889142884,
          1.0404659047051579,
          -0.4081306443840345,
          1.5848729347087902,
          0.11617936567027352,
          0.877815726072177,
          -1.6737754450487907,
          -0.6500583582053018,
          0.6400105834817084,
          -0.44334139052207533,
          -0.46506821727471764,
          1.6976387898715808,
          -0.4127523142241755,
          0.2847774928581605,
          2.0843595325833,
          1.1962031768333525,
          -0.19640158479150444,
          -0.076513511860327,
          1.091084899278679,
          0.48501073599044303,
          -0.5488969947992373,
          1.5657928427809016,
          -1.0644035759844077,
          1.194701257470469,
          0.5469168263690459,
          1.733072093267033,
          1.2634577119112578,
          -0.5420507058393845,
          -0.8411226760092744,
          0.2396772592095201,
          -0.5175263212605506,
          1.6612996922788827,
          0.6317816649077945,
          -0.3491301771453928,
          3.2420035524398623,
          -0.3006899949173568,
          1.997414779630204,
          0.12307791592774506,
          -1.2500563474156865,
          0.31535217967862017,
          -0.08156801559514214,
          0.15695759628048428,
          1.097578516882325,
          -1.6933624000861809,
          1.0998500106286162,
          -0.04798598377017386,
          -1.0504861587912668,
          0.2157760376256392,
          0.2721587078516661,
          1.5158996980625876,
          -1.0820719356636508,
          -0.7449838137376683,
          2.1678435919878143,
          -1.3867241124350391,
          1.569218147485345,
          0.9615517659406315,
          -0.13308189808999643,
          1.115636697593061,
          -1.218340919178577,
          1.458638359803591,
          0.2360747011023473,
          0.47478412012124943,
          0.1559355888436621,
          0.26512385357664964,
          0.1568188907648089,
          0.7603143641721575,
          -1.1817614859597358,
          -0.4959769554035473,
          -1.573931163429572,
          0.9898452846005282,
          -1.7092796113603514,
          -0.16008249410907596,
          -0.7349355342113074,
          0.6686336198044844,
          1.0934331284256122
         ],
         "yaxis": "y8"
        },
        {
         "line": {
          "color": "rgba(128, 128, 128, 1.0)",
          "dash": "solid",
          "shape": "linear",
          "width": 1.3
         },
         "marker": {
          "size": 2,
          "symbol": "circle"
         },
         "mode": "markers",
         "name": "C",
         "text": "",
         "type": "scatter",
         "x": [
          -0.4235298267372065,
          0.8737034190511784,
          -0.4425667569523764,
          0.3986178618161769,
          0.03428784743673946,
          2.06533134908832,
          0.10271963749380746,
          0.05098734502258662,
          -0.1184063857671036,
          1.0964064857463354,
          1.4946454801576834,
          -0.7437131463014094,
          1.3253833864300688,
          -0.49360380332296394,
          -0.13305937269604404,
          0.9240293905139304,
          -0.09424341106312586,
          1.18071399478596,
          0.2645952610124938,
          0.8836118426137318,
          -1.173003943925152,
          -0.3212571585007686,
          -0.4398567644713879,
          -0.021012138960523438,
          0.07155221310667621,
          -2.815070179834287,
          -0.7035450325355791,
          -2.3018781723788013,
          -0.604916557375915,
          -1.3218543223382502,
          -0.3097396604396595,
          -0.854479473887273,
          -0.4678081709677992,
          -0.08838304149912787,
          0.7643585236625032,
          -1.2729795604519634,
          -1.2497474177461365,
          0.11665547061831338,
          0.054222241262439526,
          1.3955567369637993,
          1.2335949227350325,
          0.7811707745028742,
          -0.7062201202758001,
          -0.010086473033524971,
          0.17612395345598061,
          2.0194244526399077,
          -0.124897544987423,
          0.3504515229698034,
          0.704102638494282,
          -0.9641455130531145,
          0.21652976538587435,
          -0.6644405943141568,
          -0.3894761056471769,
          0.5468190505161646,
          -0.8363370271767773,
          -1.1460722642318224,
          -0.07587582681833421,
          0.9619169082305153,
          -0.5239800127167108,
          1.0311673460804889,
          -1.1758734601138927,
          1.5461295811284619,
          -2.5218097000157984,
          0.31240706808234286,
          -0.39540885307643037,
          -0.9181226038092148,
          -0.973212682296477,
          -1.1081306261732067,
          -0.10776950961150684,
          -0.050654313344176784,
          -0.9699477197603297,
          0.8557740272749418,
          1.0221888170710327,
          0.17768076059489119,
          -0.10870171886551774,
          0.29400495682356353,
          0.5229295264694711,
          1.5207606347295235,
          1.0936857792331733,
          -0.11595518871389471,
          -0.9859049663963309,
          -0.8199765183066423,
          0.9134190838522616,
          -0.7916172912135768,
          -0.12131152947593532,
          -1.2701415944118364,
          -0.9773938872991602,
          0.3339642125319659,
          0.6798478253423859,
          -1.5492577140644306,
          0.5787098004342369,
          0.5406428940538466,
          0.7639972929707557,
          0.017857529896215186,
          -0.22871482857901884,
          -0.07650894408479933,
          1.7552590593676092,
          0.18190406729913505,
          -1.6830180224348916,
          -2.2543336155615137
         ],
         "xaxis": "x9",
         "y": [
          0.07666732342800771,
          1.2330942872480357,
          0.7174272909879041,
          1.1650341605909447,
          0.38844987290932875,
          -0.9639285898227601,
          -0.35383599355953205,
          -2.336303967107702,
          -0.454184402697137,
          0.9137067197584892,
          -0.2607123082209486,
          0.9433341029331787,
          -0.21795959215144017,
          2.0247544405549736,
          0.5166075386935827,
          -1.4035414840754523,
          0.2217421931499329,
          2.0397128159939464,
          -0.3528736724112633,
          1.3309677291731317,
          -0.4480429789873115,
          -2.2028929642418946,
          1.2700050164467438,
          0.3459762667561772,
          0.503265154331763,
          -0.5968947666394623,
          -0.0628886145301624,
          1.1198371781866292,
          -0.46937324902263566,
          -0.05882297773839477,
          0.5624518934746332,
          -0.8132685672237479,
          0.6272154794742844,
          -1.110779835019135,
          0.18092756927280107,
          0.9022611614334409,
          0.29925281584494856,
          0.644303083237883,
          -0.7146993167999712,
          0.6826045755625907,
          1.6297891299252922,
          -0.18266370408824886,
          -1.1019918640555506,
          -0.043919066070177884,
          -0.07392731247533543,
          -1.125969023463554,
          -0.8095616124809866,
          -0.6347358104155362,
          -0.8966481619843136,
          -1.4253896791897036,
          1.0938072689136262,
          0.16119350933819893,
          -0.30616337006950906,
          -0.5724668281307519,
          -0.3652779626589068,
          -0.6277217354019603,
          -1.1052084012354078,
          -1.0497908154685873,
          -0.6987832856088142,
          -1.3344438626800967,
          1.1961042861699718,
          -1.4899688870489125,
          1.0000751903989364,
          -1.8217761617014219,
          1.4220702970109613,
          0.7793771788388744,
          1.9316110366879462,
          0.5344841146693203,
          1.0255461980026384,
          0.6601181077255065,
          -0.7257477239987026,
          1.0618248411512208,
          0.32317893709863227,
          0.12750962814688283,
          1.8817838507471143,
          -2.9730403702512573,
          -1.0963906056140136,
          -1.2448367914502456,
          0.3860066048958656,
          -0.9009446834368859,
          -0.66397430581543,
          -1.7102671235308657,
          -0.9721395322800673,
          -0.5471739448000086,
          0.214711886511749,
          0.3835999694344564,
          -0.43467167707527177,
          0.7336021044528896,
          0.7231396484476731,
          -1.286530368189027,
          1.0363036097846994,
          0.13971486568107366,
          -0.7407978110384146,
          0.8256735221085763,
          2.282521420012441,
          -0.6462513183208001,
          -0.4182068194743313,
          0.5066825121961596,
          0.12120851763533104,
          0.9240385901151515
         ],
         "yaxis": "y9"
        },
        {
         "line": {
          "color": "rgba(128, 128, 128, 1.0)",
          "dash": "solid",
          "shape": "linear",
          "width": 1.3
         },
         "marker": {
          "size": 2,
          "symbol": "circle"
         },
         "mode": "markers",
         "name": "C",
         "text": "",
         "type": "scatter",
         "x": [
          0.21294078317383458,
          0.2518028123325517,
          0.02091657406832586,
          1.3626170892858607,
          0.008884733090600866,
          -0.7942574105325144,
          -1.4932730233998306,
          1.46030442365578,
          0.5222281818282609,
          -0.6951728119359911,
          -1.128579499529297,
          1.4666696280299252,
          1.8249626782770507,
          0.5202794124545566,
          0.7201153802481164,
          -1.5626581529361065,
          0.3374181890445056,
          -0.2903741529002983,
          -0.40190112011766466,
          -1.1603959048941097,
          0.9945810374960529,
          1.0458734586078855,
          -0.10175723853610258,
          0.5032333501247692,
          0.4423633466724333,
          -0.9292874889142884,
          1.0404659047051579,
          -0.4081306443840345,
          1.5848729347087902,
          0.11617936567027352,
          0.877815726072177,
          -1.6737754450487907,
          -0.6500583582053018,
          0.6400105834817084,
          -0.44334139052207533,
          -0.46506821727471764,
          1.6976387898715808,
          -0.4127523142241755,
          0.2847774928581605,
          2.0843595325833,
          1.1962031768333525,
          -0.19640158479150444,
          -0.076513511860327,
          1.091084899278679,
          0.48501073599044303,
          -0.5488969947992373,
          1.5657928427809016,
          -1.0644035759844077,
          1.194701257470469,
          0.5469168263690459,
          1.733072093267033,
          1.2634577119112578,
          -0.5420507058393845,
          -0.8411226760092744,
          0.2396772592095201,
          -0.5175263212605506,
          1.6612996922788827,
          0.6317816649077945,
          -0.3491301771453928,
          3.2420035524398623,
          -0.3006899949173568,
          1.997414779630204,
          0.12307791592774506,
          -1.2500563474156865,
          0.31535217967862017,
          -0.08156801559514214,
          0.15695759628048428,
          1.097578516882325,
          -1.6933624000861809,
          1.0998500106286162,
          -0.04798598377017386,
          -1.0504861587912668,
          0.2157760376256392,
          0.2721587078516661,
          1.5158996980625876,
          -1.0820719356636508,
          -0.7449838137376683,
          2.1678435919878143,
          -1.3867241124350391,
          1.569218147485345,
          0.9615517659406315,
          -0.13308189808999643,
          1.115636697593061,
          -1.218340919178577,
          1.458638359803591,
          0.2360747011023473,
          0.47478412012124943,
          0.1559355888436621,
          0.26512385357664964,
          0.1568188907648089,
          0.7603143641721575,
          -1.1817614859597358,
          -0.4959769554035473,
          -1.573931163429572,
          0.9898452846005282,
          -1.7092796113603514,
          -0.16008249410907596,
          -0.7349355342113074,
          0.6686336198044844,
          1.0934331284256122
         ],
         "xaxis": "x10",
         "y": [
          0.07666732342800771,
          1.2330942872480357,
          0.7174272909879041,
          1.1650341605909447,
          0.38844987290932875,
          -0.9639285898227601,
          -0.35383599355953205,
          -2.336303967107702,
          -0.454184402697137,
          0.9137067197584892,
          -0.2607123082209486,
          0.9433341029331787,
          -0.21795959215144017,
          2.0247544405549736,
          0.5166075386935827,
          -1.4035414840754523,
          0.2217421931499329,
          2.0397128159939464,
          -0.3528736724112633,
          1.3309677291731317,
          -0.4480429789873115,
          -2.2028929642418946,
          1.2700050164467438,
          0.3459762667561772,
          0.503265154331763,
          -0.5968947666394623,
          -0.0628886145301624,
          1.1198371781866292,
          -0.46937324902263566,
          -0.05882297773839477,
          0.5624518934746332,
          -0.8132685672237479,
          0.6272154794742844,
          -1.110779835019135,
          0.18092756927280107,
          0.9022611614334409,
          0.29925281584494856,
          0.644303083237883,
          -0.7146993167999712,
          0.6826045755625907,
          1.6297891299252922,
          -0.18266370408824886,
          -1.1019918640555506,
          -0.043919066070177884,
          -0.07392731247533543,
          -1.125969023463554,
          -0.8095616124809866,
          -0.6347358104155362,
          -0.8966481619843136,
          -1.4253896791897036,
          1.0938072689136262,
          0.16119350933819893,
          -0.30616337006950906,
          -0.5724668281307519,
          -0.3652779626589068,
          -0.6277217354019603,
          -1.1052084012354078,
          -1.0497908154685873,
          -0.6987832856088142,
          -1.3344438626800967,
          1.1961042861699718,
          -1.4899688870489125,
          1.0000751903989364,
          -1.8217761617014219,
          1.4220702970109613,
          0.7793771788388744,
          1.9316110366879462,
          0.5344841146693203,
          1.0255461980026384,
          0.6601181077255065,
          -0.7257477239987026,
          1.0618248411512208,
          0.32317893709863227,
          0.12750962814688283,
          1.8817838507471143,
          -2.9730403702512573,
          -1.0963906056140136,
          -1.2448367914502456,
          0.3860066048958656,
          -0.9009446834368859,
          -0.66397430581543,
          -1.7102671235308657,
          -0.9721395322800673,
          -0.5471739448000086,
          0.214711886511749,
          0.3835999694344564,
          -0.43467167707527177,
          0.7336021044528896,
          0.7231396484476731,
          -1.286530368189027,
          1.0363036097846994,
          0.13971486568107366,
          -0.7407978110384146,
          0.8256735221085763,
          2.282521420012441,
          -0.6462513183208001,
          -0.4182068194743313,
          0.5066825121961596,
          0.12120851763533104,
          0.9240385901151515
         ],
         "yaxis": "y10"
        },
        {
         "histfunc": "count",
         "histnorm": "",
         "marker": {
          "color": "rgba(50, 171, 96, 1.0)",
          "line": {
           "color": "#4D5663",
           "width": 1.3
          }
         },
         "name": "C",
         "nbinsx": 10,
         "opacity": 0.8,
         "orientation": "v",
         "type": "histogram",
         "x": [
          0.07666732342800771,
          1.2330942872480357,
          0.7174272909879041,
          1.1650341605909447,
          0.38844987290932875,
          -0.9639285898227601,
          -0.35383599355953205,
          -2.336303967107702,
          -0.454184402697137,
          0.9137067197584892,
          -0.2607123082209486,
          0.9433341029331787,
          -0.21795959215144017,
          2.0247544405549736,
          0.5166075386935827,
          -1.4035414840754523,
          0.2217421931499329,
          2.0397128159939464,
          -0.3528736724112633,
          1.3309677291731317,
          -0.4480429789873115,
          -2.2028929642418946,
          1.2700050164467438,
          0.3459762667561772,
          0.503265154331763,
          -0.5968947666394623,
          -0.0628886145301624,
          1.1198371781866292,
          -0.46937324902263566,
          -0.05882297773839477,
          0.5624518934746332,
          -0.8132685672237479,
          0.6272154794742844,
          -1.110779835019135,
          0.18092756927280107,
          0.9022611614334409,
          0.29925281584494856,
          0.644303083237883,
          -0.7146993167999712,
          0.6826045755625907,
          1.6297891299252922,
          -0.18266370408824886,
          -1.1019918640555506,
          -0.043919066070177884,
          -0.07392731247533543,
          -1.125969023463554,
          -0.8095616124809866,
          -0.6347358104155362,
          -0.8966481619843136,
          -1.4253896791897036,
          1.0938072689136262,
          0.16119350933819893,
          -0.30616337006950906,
          -0.5724668281307519,
          -0.3652779626589068,
          -0.6277217354019603,
          -1.1052084012354078,
          -1.0497908154685873,
          -0.6987832856088142,
          -1.3344438626800967,
          1.1961042861699718,
          -1.4899688870489125,
          1.0000751903989364,
          -1.8217761617014219,
          1.4220702970109613,
          0.7793771788388744,
          1.9316110366879462,
          0.5344841146693203,
          1.0255461980026384,
          0.6601181077255065,
          -0.7257477239987026,
          1.0618248411512208,
          0.32317893709863227,
          0.12750962814688283,
          1.8817838507471143,
          -2.9730403702512573,
          -1.0963906056140136,
          -1.2448367914502456,
          0.3860066048958656,
          -0.9009446834368859,
          -0.66397430581543,
          -1.7102671235308657,
          -0.9721395322800673,
          -0.5471739448000086,
          0.214711886511749,
          0.3835999694344564,
          -0.43467167707527177,
          0.7336021044528896,
          0.7231396484476731,
          -1.286530368189027,
          1.0363036097846994,
          0.13971486568107366,
          -0.7407978110384146,
          0.8256735221085763,
          2.282521420012441,
          -0.6462513183208001,
          -0.4182068194743313,
          0.5066825121961596,
          0.12120851763533104,
          0.9240385901151515
         ],
         "xaxis": "x11",
         "yaxis": "y11"
        },
        {
         "line": {
          "color": "rgba(128, 128, 128, 1.0)",
          "dash": "solid",
          "shape": "linear",
          "width": 1.3
         },
         "marker": {
          "size": 2,
          "symbol": "circle"
         },
         "mode": "markers",
         "name": "C",
         "text": "",
         "type": "scatter",
         "x": [
          0.3978440991444191,
          -0.28826972274567153,
          1.4605083586129701,
          0.2065787905465538,
          0.8658830690411201,
          -1.2031456624357368,
          -2.03192504314234,
          -0.08577266443308462,
          -1.3694084036433456,
          -0.4083601555579031,
          -0.12361860968708542,
          0.8416477809104242,
          -0.6873127692908836,
          -1.3528881794620782,
          0.37330461013009536,
          0.03275965692509622,
          0.5129981243596776,
          -0.8835742034571936,
          0.07223968526867314,
          -0.02333076989038537,
          -0.6265151633100899,
          -0.5218320855379366,
          -0.4895793941163754,
          2.213512952111512,
          -0.116267441642128,
          0.3694806494602197,
          -1.214012553861094,
          0.8720172573534196,
          -0.8138817609636407,
          -0.9149093340883017,
          2.177141028944511,
          -0.9141757610980059,
          1.2034826746030953,
          -0.7560880909320254,
          0.4322821932025189,
          -0.8282043614271062,
          -0.6555611059628269,
          1.7063976854975547,
          -0.40473070444417425,
          -0.2665243915899419,
          0.8636591307842529,
          0.32876329718060393,
          1.4298577740388587,
          -0.6434049702637586,
          -0.1688216562582055,
          0.15867078100399273,
          0.11358649861806933,
          1.7562112783418848,
          -0.7759260282814037,
          -1.0467783901538161,
          -0.9362037235611053,
          -0.07462359288103255,
          -0.1057024142409333,
          0.7139610818939208,
          -1.5917657767238034,
          -1.9519861497861795,
          0.06352992800290329,
          -0.7268321007370007,
          0.28921565309844144,
          0.21578351220190345,
          -0.6488829995176352,
          -0.773244402629859,
          -0.6148232908512383,
          -0.18142239454014847,
          -0.6237023760351863,
          -1.4318132576877778,
          0.6966029765286594,
          -0.19314281528471364,
          -0.8077947304832552,
          -0.02327388299382055,
          -1.6291266184528357,
          -0.7731480255084516,
          -0.3606766818155555,
          -0.30037559705506767,
          -1.6147033943175884,
          -0.22775648571217666,
          -0.6720664190488358,
          -0.45055456803840854,
          0.7302207964718278,
          0.9261309442615799,
          0.2210512002211912,
          -0.9501229748377441,
          0.7355812952672144,
          1.9705985594290139,
          0.9477160505711176,
          1.5513943863039383,
          -0.8756031158018538,
          -0.8929135714326509,
          0.3742093694591922,
          1.4004035888510076,
          0.17581167607170853,
          0.1382191649353529,
          -0.5168167622706401,
          0.9012140474064909,
          0.9425967651953716,
          -0.3980707296425509,
          1.014248127966641,
          -0.5169455069607055,
          0.16482663143168433,
          0.9704611452749445
         ],
         "xaxis": "x12",
         "y": [
          0.07666732342800771,
          1.2330942872480357,
          0.7174272909879041,
          1.1650341605909447,
          0.38844987290932875,
          -0.9639285898227601,
          -0.35383599355953205,
          -2.336303967107702,
          -0.454184402697137,
          0.9137067197584892,
          -0.2607123082209486,
          0.9433341029331787,
          -0.21795959215144017,
          2.0247544405549736,
          0.5166075386935827,
          -1.4035414840754523,
          0.2217421931499329,
          2.0397128159939464,
          -0.3528736724112633,
          1.3309677291731317,
          -0.4480429789873115,
          -2.2028929642418946,
          1.2700050164467438,
          0.3459762667561772,
          0.503265154331763,
          -0.5968947666394623,
          -0.0628886145301624,
          1.1198371781866292,
          -0.46937324902263566,
          -0.05882297773839477,
          0.5624518934746332,
          -0.8132685672237479,
          0.6272154794742844,
          -1.110779835019135,
          0.18092756927280107,
          0.9022611614334409,
          0.29925281584494856,
          0.644303083237883,
          -0.7146993167999712,
          0.6826045755625907,
          1.6297891299252922,
          -0.18266370408824886,
          -1.1019918640555506,
          -0.043919066070177884,
          -0.07392731247533543,
          -1.125969023463554,
          -0.8095616124809866,
          -0.6347358104155362,
          -0.8966481619843136,
          -1.4253896791897036,
          1.0938072689136262,
          0.16119350933819893,
          -0.30616337006950906,
          -0.5724668281307519,
          -0.3652779626589068,
          -0.6277217354019603,
          -1.1052084012354078,
          -1.0497908154685873,
          -0.6987832856088142,
          -1.3344438626800967,
          1.1961042861699718,
          -1.4899688870489125,
          1.0000751903989364,
          -1.8217761617014219,
          1.4220702970109613,
          0.7793771788388744,
          1.9316110366879462,
          0.5344841146693203,
          1.0255461980026384,
          0.6601181077255065,
          -0.7257477239987026,
          1.0618248411512208,
          0.32317893709863227,
          0.12750962814688283,
          1.8817838507471143,
          -2.9730403702512573,
          -1.0963906056140136,
          -1.2448367914502456,
          0.3860066048958656,
          -0.9009446834368859,
          -0.66397430581543,
          -1.7102671235308657,
          -0.9721395322800673,
          -0.5471739448000086,
          0.214711886511749,
          0.3835999694344564,
          -0.43467167707527177,
          0.7336021044528896,
          0.7231396484476731,
          -1.286530368189027,
          1.0363036097846994,
          0.13971486568107366,
          -0.7407978110384146,
          0.8256735221085763,
          2.282521420012441,
          -0.6462513183208001,
          -0.4182068194743313,
          0.5066825121961596,
          0.12120851763533104,
          0.9240385901151515
         ],
         "yaxis": "y12"
        },
        {
         "line": {
          "color": "rgba(128, 128, 128, 1.0)",
          "dash": "solid",
          "shape": "linear",
          "width": 1.3
         },
         "marker": {
          "size": 2,
          "symbol": "circle"
         },
         "mode": "markers",
         "name": "D",
         "text": "",
         "type": "scatter",
         "x": [
          -0.4235298267372065,
          0.8737034190511784,
          -0.4425667569523764,
          0.3986178618161769,
          0.03428784743673946,
          2.06533134908832,
          0.10271963749380746,
          0.05098734502258662,
          -0.1184063857671036,
          1.0964064857463354,
          1.4946454801576834,
          -0.7437131463014094,
          1.3253833864300688,
          -0.49360380332296394,
          -0.13305937269604404,
          0.9240293905139304,
          -0.09424341106312586,
          1.18071399478596,
          0.2645952610124938,
          0.8836118426137318,
          -1.173003943925152,
          -0.3212571585007686,
          -0.4398567644713879,
          -0.021012138960523438,
          0.07155221310667621,
          -2.815070179834287,
          -0.7035450325355791,
          -2.3018781723788013,
          -0.604916557375915,
          -1.3218543223382502,
          -0.3097396604396595,
          -0.854479473887273,
          -0.4678081709677992,
          -0.08838304149912787,
          0.7643585236625032,
          -1.2729795604519634,
          -1.2497474177461365,
          0.11665547061831338,
          0.054222241262439526,
          1.3955567369637993,
          1.2335949227350325,
          0.7811707745028742,
          -0.7062201202758001,
          -0.010086473033524971,
          0.17612395345598061,
          2.0194244526399077,
          -0.124897544987423,
          0.3504515229698034,
          0.704102638494282,
          -0.9641455130531145,
          0.21652976538587435,
          -0.6644405943141568,
          -0.3894761056471769,
          0.5468190505161646,
          -0.8363370271767773,
          -1.1460722642318224,
          -0.07587582681833421,
          0.9619169082305153,
          -0.5239800127167108,
          1.0311673460804889,
          -1.1758734601138927,
          1.5461295811284619,
          -2.5218097000157984,
          0.31240706808234286,
          -0.39540885307643037,
          -0.9181226038092148,
          -0.973212682296477,
          -1.1081306261732067,
          -0.10776950961150684,
          -0.050654313344176784,
          -0.9699477197603297,
          0.8557740272749418,
          1.0221888170710327,
          0.17768076059489119,
          -0.10870171886551774,
          0.29400495682356353,
          0.5229295264694711,
          1.5207606347295235,
          1.0936857792331733,
          -0.11595518871389471,
          -0.9859049663963309,
          -0.8199765183066423,
          0.9134190838522616,
          -0.7916172912135768,
          -0.12131152947593532,
          -1.2701415944118364,
          -0.9773938872991602,
          0.3339642125319659,
          0.6798478253423859,
          -1.5492577140644306,
          0.5787098004342369,
          0.5406428940538466,
          0.7639972929707557,
          0.017857529896215186,
          -0.22871482857901884,
          -0.07650894408479933,
          1.7552590593676092,
          0.18190406729913505,
          -1.6830180224348916,
          -2.2543336155615137
         ],
         "xaxis": "x13",
         "y": [
          0.3978440991444191,
          -0.28826972274567153,
          1.4605083586129701,
          0.2065787905465538,
          0.8658830690411201,
          -1.2031456624357368,
          -2.03192504314234,
          -0.08577266443308462,
          -1.3694084036433456,
          -0.4083601555579031,
          -0.12361860968708542,
          0.8416477809104242,
          -0.6873127692908836,
          -1.3528881794620782,
          0.37330461013009536,
          0.03275965692509622,
          0.5129981243596776,
          -0.8835742034571936,
          0.07223968526867314,
          -0.02333076989038537,
          -0.6265151633100899,
          -0.5218320855379366,
          -0.4895793941163754,
          2.213512952111512,
          -0.116267441642128,
          0.3694806494602197,
          -1.214012553861094,
          0.8720172573534196,
          -0.8138817609636407,
          -0.9149093340883017,
          2.177141028944511,
          -0.9141757610980059,
          1.2034826746030953,
          -0.7560880909320254,
          0.4322821932025189,
          -0.8282043614271062,
          -0.6555611059628269,
          1.7063976854975547,
          -0.40473070444417425,
          -0.2665243915899419,
          0.8636591307842529,
          0.32876329718060393,
          1.4298577740388587,
          -0.6434049702637586,
          -0.1688216562582055,
          0.15867078100399273,
          0.11358649861806933,
          1.7562112783418848,
          -0.7759260282814037,
          -1.0467783901538161,
          -0.9362037235611053,
          -0.07462359288103255,
          -0.1057024142409333,
          0.7139610818939208,
          -1.5917657767238034,
          -1.9519861497861795,
          0.06352992800290329,
          -0.7268321007370007,
          0.28921565309844144,
          0.21578351220190345,
          -0.6488829995176352,
          -0.773244402629859,
          -0.6148232908512383,
          -0.18142239454014847,
          -0.6237023760351863,
          -1.4318132576877778,
          0.6966029765286594,
          -0.19314281528471364,
          -0.8077947304832552,
          -0.02327388299382055,
          -1.6291266184528357,
          -0.7731480255084516,
          -0.3606766818155555,
          -0.30037559705506767,
          -1.6147033943175884,
          -0.22775648571217666,
          -0.6720664190488358,
          -0.45055456803840854,
          0.7302207964718278,
          0.9261309442615799,
          0.2210512002211912,
          -0.9501229748377441,
          0.7355812952672144,
          1.9705985594290139,
          0.9477160505711176,
          1.5513943863039383,
          -0.8756031158018538,
          -0.8929135714326509,
          0.3742093694591922,
          1.4004035888510076,
          0.17581167607170853,
          0.1382191649353529,
          -0.5168167622706401,
          0.9012140474064909,
          0.9425967651953716,
          -0.3980707296425509,
          1.014248127966641,
          -0.5169455069607055,
          0.16482663143168433,
          0.9704611452749445
         ],
         "yaxis": "y13"
        },
        {
         "line": {
          "color": "rgba(128, 128, 128, 1.0)",
          "dash": "solid",
          "shape": "linear",
          "width": 1.3
         },
         "marker": {
          "size": 2,
          "symbol": "circle"
         },
         "mode": "markers",
         "name": "D",
         "text": "",
         "type": "scatter",
         "x": [
          0.21294078317383458,
          0.2518028123325517,
          0.02091657406832586,
          1.3626170892858607,
          0.008884733090600866,
          -0.7942574105325144,
          -1.4932730233998306,
          1.46030442365578,
          0.5222281818282609,
          -0.6951728119359911,
          -1.128579499529297,
          1.4666696280299252,
          1.8249626782770507,
          0.5202794124545566,
          0.7201153802481164,
          -1.5626581529361065,
          0.3374181890445056,
          -0.2903741529002983,
          -0.40190112011766466,
          -1.1603959048941097,
          0.9945810374960529,
          1.0458734586078855,
          -0.10175723853610258,
          0.5032333501247692,
          0.4423633466724333,
          -0.9292874889142884,
          1.0404659047051579,
          -0.4081306443840345,
          1.5848729347087902,
          0.11617936567027352,
          0.877815726072177,
          -1.6737754450487907,
          -0.6500583582053018,
          0.6400105834817084,
          -0.44334139052207533,
          -0.46506821727471764,
          1.6976387898715808,
          -0.4127523142241755,
          0.2847774928581605,
          2.0843595325833,
          1.1962031768333525,
          -0.19640158479150444,
          -0.076513511860327,
          1.091084899278679,
          0.48501073599044303,
          -0.5488969947992373,
          1.5657928427809016,
          -1.0644035759844077,
          1.194701257470469,
          0.5469168263690459,
          1.733072093267033,
          1.2634577119112578,
          -0.5420507058393845,
          -0.8411226760092744,
          0.2396772592095201,
          -0.5175263212605506,
          1.6612996922788827,
          0.6317816649077945,
          -0.3491301771453928,
          3.2420035524398623,
          -0.3006899949173568,
          1.997414779630204,
          0.12307791592774506,
          -1.2500563474156865,
          0.31535217967862017,
          -0.08156801559514214,
          0.15695759628048428,
          1.097578516882325,
          -1.6933624000861809,
          1.0998500106286162,
          -0.04798598377017386,
          -1.0504861587912668,
          0.2157760376256392,
          0.2721587078516661,
          1.5158996980625876,
          -1.0820719356636508,
          -0.7449838137376683,
          2.1678435919878143,
          -1.3867241124350391,
          1.569218147485345,
          0.9615517659406315,
          -0.13308189808999643,
          1.115636697593061,
          -1.218340919178577,
          1.458638359803591,
          0.2360747011023473,
          0.47478412012124943,
          0.1559355888436621,
          0.26512385357664964,
          0.1568188907648089,
          0.7603143641721575,
          -1.1817614859597358,
          -0.4959769554035473,
          -1.573931163429572,
          0.9898452846005282,
          -1.7092796113603514,
          -0.16008249410907596,
          -0.7349355342113074,
          0.6686336198044844,
          1.0934331284256122
         ],
         "xaxis": "x14",
         "y": [
          0.3978440991444191,
          -0.28826972274567153,
          1.4605083586129701,
          0.2065787905465538,
          0.8658830690411201,
          -1.2031456624357368,
          -2.03192504314234,
          -0.08577266443308462,
          -1.3694084036433456,
          -0.4083601555579031,
          -0.12361860968708542,
          0.8416477809104242,
          -0.6873127692908836,
          -1.3528881794620782,
          0.37330461013009536,
          0.03275965692509622,
          0.5129981243596776,
          -0.8835742034571936,
          0.07223968526867314,
          -0.02333076989038537,
          -0.6265151633100899,
          -0.5218320855379366,
          -0.4895793941163754,
          2.213512952111512,
          -0.116267441642128,
          0.3694806494602197,
          -1.214012553861094,
          0.8720172573534196,
          -0.8138817609636407,
          -0.9149093340883017,
          2.177141028944511,
          -0.9141757610980059,
          1.2034826746030953,
          -0.7560880909320254,
          0.4322821932025189,
          -0.8282043614271062,
          -0.6555611059628269,
          1.7063976854975547,
          -0.40473070444417425,
          -0.2665243915899419,
          0.8636591307842529,
          0.32876329718060393,
          1.4298577740388587,
          -0.6434049702637586,
          -0.1688216562582055,
          0.15867078100399273,
          0.11358649861806933,
          1.7562112783418848,
          -0.7759260282814037,
          -1.0467783901538161,
          -0.9362037235611053,
          -0.07462359288103255,
          -0.1057024142409333,
          0.7139610818939208,
          -1.5917657767238034,
          -1.9519861497861795,
          0.06352992800290329,
          -0.7268321007370007,
          0.28921565309844144,
          0.21578351220190345,
          -0.6488829995176352,
          -0.773244402629859,
          -0.6148232908512383,
          -0.18142239454014847,
          -0.6237023760351863,
          -1.4318132576877778,
          0.6966029765286594,
          -0.19314281528471364,
          -0.8077947304832552,
          -0.02327388299382055,
          -1.6291266184528357,
          -0.7731480255084516,
          -0.3606766818155555,
          -0.30037559705506767,
          -1.6147033943175884,
          -0.22775648571217666,
          -0.6720664190488358,
          -0.45055456803840854,
          0.7302207964718278,
          0.9261309442615799,
          0.2210512002211912,
          -0.9501229748377441,
          0.7355812952672144,
          1.9705985594290139,
          0.9477160505711176,
          1.5513943863039383,
          -0.8756031158018538,
          -0.8929135714326509,
          0.3742093694591922,
          1.4004035888510076,
          0.17581167607170853,
          0.1382191649353529,
          -0.5168167622706401,
          0.9012140474064909,
          0.9425967651953716,
          -0.3980707296425509,
          1.014248127966641,
          -0.5169455069607055,
          0.16482663143168433,
          0.9704611452749445
         ],
         "yaxis": "y14"
        },
        {
         "line": {
          "color": "rgba(128, 128, 128, 1.0)",
          "dash": "solid",
          "shape": "linear",
          "width": 1.3
         },
         "marker": {
          "size": 2,
          "symbol": "circle"
         },
         "mode": "markers",
         "name": "D",
         "text": "",
         "type": "scatter",
         "x": [
          0.07666732342800771,
          1.2330942872480357,
          0.7174272909879041,
          1.1650341605909447,
          0.38844987290932875,
          -0.9639285898227601,
          -0.35383599355953205,
          -2.336303967107702,
          -0.454184402697137,
          0.9137067197584892,
          -0.2607123082209486,
          0.9433341029331787,
          -0.21795959215144017,
          2.0247544405549736,
          0.5166075386935827,
          -1.4035414840754523,
          0.2217421931499329,
          2.0397128159939464,
          -0.3528736724112633,
          1.3309677291731317,
          -0.4480429789873115,
          -2.2028929642418946,
          1.2700050164467438,
          0.3459762667561772,
          0.503265154331763,
          -0.5968947666394623,
          -0.0628886145301624,
          1.1198371781866292,
          -0.46937324902263566,
          -0.05882297773839477,
          0.5624518934746332,
          -0.8132685672237479,
          0.6272154794742844,
          -1.110779835019135,
          0.18092756927280107,
          0.9022611614334409,
          0.29925281584494856,
          0.644303083237883,
          -0.7146993167999712,
          0.6826045755625907,
          1.6297891299252922,
          -0.18266370408824886,
          -1.1019918640555506,
          -0.043919066070177884,
          -0.07392731247533543,
          -1.125969023463554,
          -0.8095616124809866,
          -0.6347358104155362,
          -0.8966481619843136,
          -1.4253896791897036,
          1.0938072689136262,
          0.16119350933819893,
          -0.30616337006950906,
          -0.5724668281307519,
          -0.3652779626589068,
          -0.6277217354019603,
          -1.1052084012354078,
          -1.0497908154685873,
          -0.6987832856088142,
          -1.3344438626800967,
          1.1961042861699718,
          -1.4899688870489125,
          1.0000751903989364,
          -1.8217761617014219,
          1.4220702970109613,
          0.7793771788388744,
          1.9316110366879462,
          0.5344841146693203,
          1.0255461980026384,
          0.6601181077255065,
          -0.7257477239987026,
          1.0618248411512208,
          0.32317893709863227,
          0.12750962814688283,
          1.8817838507471143,
          -2.9730403702512573,
          -1.0963906056140136,
          -1.2448367914502456,
          0.3860066048958656,
          -0.9009446834368859,
          -0.66397430581543,
          -1.7102671235308657,
          -0.9721395322800673,
          -0.5471739448000086,
          0.214711886511749,
          0.3835999694344564,
          -0.43467167707527177,
          0.7336021044528896,
          0.7231396484476731,
          -1.286530368189027,
          1.0363036097846994,
          0.13971486568107366,
          -0.7407978110384146,
          0.8256735221085763,
          2.282521420012441,
          -0.6462513183208001,
          -0.4182068194743313,
          0.5066825121961596,
          0.12120851763533104,
          0.9240385901151515
         ],
         "xaxis": "x15",
         "y": [
          0.3978440991444191,
          -0.28826972274567153,
          1.4605083586129701,
          0.2065787905465538,
          0.8658830690411201,
          -1.2031456624357368,
          -2.03192504314234,
          -0.08577266443308462,
          -1.3694084036433456,
          -0.4083601555579031,
          -0.12361860968708542,
          0.8416477809104242,
          -0.6873127692908836,
          -1.3528881794620782,
          0.37330461013009536,
          0.03275965692509622,
          0.5129981243596776,
          -0.8835742034571936,
          0.07223968526867314,
          -0.02333076989038537,
          -0.6265151633100899,
          -0.5218320855379366,
          -0.4895793941163754,
          2.213512952111512,
          -0.116267441642128,
          0.3694806494602197,
          -1.214012553861094,
          0.8720172573534196,
          -0.8138817609636407,
          -0.9149093340883017,
          2.177141028944511,
          -0.9141757610980059,
          1.2034826746030953,
          -0.7560880909320254,
          0.4322821932025189,
          -0.8282043614271062,
          -0.6555611059628269,
          1.7063976854975547,
          -0.40473070444417425,
          -0.2665243915899419,
          0.8636591307842529,
          0.32876329718060393,
          1.4298577740388587,
          -0.6434049702637586,
          -0.1688216562582055,
          0.15867078100399273,
          0.11358649861806933,
          1.7562112783418848,
          -0.7759260282814037,
          -1.0467783901538161,
          -0.9362037235611053,
          -0.07462359288103255,
          -0.1057024142409333,
          0.7139610818939208,
          -1.5917657767238034,
          -1.9519861497861795,
          0.06352992800290329,
          -0.7268321007370007,
          0.28921565309844144,
          0.21578351220190345,
          -0.6488829995176352,
          -0.773244402629859,
          -0.6148232908512383,
          -0.18142239454014847,
          -0.6237023760351863,
          -1.4318132576877778,
          0.6966029765286594,
          -0.19314281528471364,
          -0.8077947304832552,
          -0.02327388299382055,
          -1.6291266184528357,
          -0.7731480255084516,
          -0.3606766818155555,
          -0.30037559705506767,
          -1.6147033943175884,
          -0.22775648571217666,
          -0.6720664190488358,
          -0.45055456803840854,
          0.7302207964718278,
          0.9261309442615799,
          0.2210512002211912,
          -0.9501229748377441,
          0.7355812952672144,
          1.9705985594290139,
          0.9477160505711176,
          1.5513943863039383,
          -0.8756031158018538,
          -0.8929135714326509,
          0.3742093694591922,
          1.4004035888510076,
          0.17581167607170853,
          0.1382191649353529,
          -0.5168167622706401,
          0.9012140474064909,
          0.9425967651953716,
          -0.3980707296425509,
          1.014248127966641,
          -0.5169455069607055,
          0.16482663143168433,
          0.9704611452749445
         ],
         "yaxis": "y15"
        },
        {
         "histfunc": "count",
         "histnorm": "",
         "marker": {
          "color": "rgba(128, 0, 128, 1.0)",
          "line": {
           "color": "#4D5663",
           "width": 1.3
          }
         },
         "name": "D",
         "nbinsx": 10,
         "opacity": 0.8,
         "orientation": "v",
         "type": "histogram",
         "x": [
          0.3978440991444191,
          -0.28826972274567153,
          1.4605083586129701,
          0.2065787905465538,
          0.8658830690411201,
          -1.2031456624357368,
          -2.03192504314234,
          -0.08577266443308462,
          -1.3694084036433456,
          -0.4083601555579031,
          -0.12361860968708542,
          0.8416477809104242,
          -0.6873127692908836,
          -1.3528881794620782,
          0.37330461013009536,
          0.03275965692509622,
          0.5129981243596776,
          -0.8835742034571936,
          0.07223968526867314,
          -0.02333076989038537,
          -0.6265151633100899,
          -0.5218320855379366,
          -0.4895793941163754,
          2.213512952111512,
          -0.116267441642128,
          0.3694806494602197,
          -1.214012553861094,
          0.8720172573534196,
          -0.8138817609636407,
          -0.9149093340883017,
          2.177141028944511,
          -0.9141757610980059,
          1.2034826746030953,
          -0.7560880909320254,
          0.4322821932025189,
          -0.8282043614271062,
          -0.6555611059628269,
          1.7063976854975547,
          -0.40473070444417425,
          -0.2665243915899419,
          0.8636591307842529,
          0.32876329718060393,
          1.4298577740388587,
          -0.6434049702637586,
          -0.1688216562582055,
          0.15867078100399273,
          0.11358649861806933,
          1.7562112783418848,
          -0.7759260282814037,
          -1.0467783901538161,
          -0.9362037235611053,
          -0.07462359288103255,
          -0.1057024142409333,
          0.7139610818939208,
          -1.5917657767238034,
          -1.9519861497861795,
          0.06352992800290329,
          -0.7268321007370007,
          0.28921565309844144,
          0.21578351220190345,
          -0.6488829995176352,
          -0.773244402629859,
          -0.6148232908512383,
          -0.18142239454014847,
          -0.6237023760351863,
          -1.4318132576877778,
          0.6966029765286594,
          -0.19314281528471364,
          -0.8077947304832552,
          -0.02327388299382055,
          -1.6291266184528357,
          -0.7731480255084516,
          -0.3606766818155555,
          -0.30037559705506767,
          -1.6147033943175884,
          -0.22775648571217666,
          -0.6720664190488358,
          -0.45055456803840854,
          0.7302207964718278,
          0.9261309442615799,
          0.2210512002211912,
          -0.9501229748377441,
          0.7355812952672144,
          1.9705985594290139,
          0.9477160505711176,
          1.5513943863039383,
          -0.8756031158018538,
          -0.8929135714326509,
          0.3742093694591922,
          1.4004035888510076,
          0.17581167607170853,
          0.1382191649353529,
          -0.5168167622706401,
          0.9012140474064909,
          0.9425967651953716,
          -0.3980707296425509,
          1.014248127966641,
          -0.5169455069607055,
          0.16482663143168433,
          0.9704611452749445
         ],
         "xaxis": "x16",
         "yaxis": "y16"
        }
       ],
       "layout": {
        "bargap": 0.02,
        "legend": {
         "bgcolor": "#F5F6F9",
         "font": {
          "color": "#4D5663"
         }
        },
        "paper_bgcolor": "#F5F6F9",
        "plot_bgcolor": "#F5F6F9",
        "showlegend": false,
        "template": {
         "data": {
          "bar": [
           {
            "error_x": {
             "color": "#2a3f5f"
            },
            "error_y": {
             "color": "#2a3f5f"
            },
            "marker": {
             "line": {
              "color": "#E5ECF6",
              "width": 0.5
             },
             "pattern": {
              "fillmode": "overlay",
              "size": 10,
              "solidity": 0.2
             }
            },
            "type": "bar"
           }
          ],
          "barpolar": [
           {
            "marker": {
             "line": {
              "color": "#E5ECF6",
              "width": 0.5
             },
             "pattern": {
              "fillmode": "overlay",
              "size": 10,
              "solidity": 0.2
             }
            },
            "type": "barpolar"
           }
          ],
          "carpet": [
           {
            "aaxis": {
             "endlinecolor": "#2a3f5f",
             "gridcolor": "white",
             "linecolor": "white",
             "minorgridcolor": "white",
             "startlinecolor": "#2a3f5f"
            },
            "baxis": {
             "endlinecolor": "#2a3f5f",
             "gridcolor": "white",
             "linecolor": "white",
             "minorgridcolor": "white",
             "startlinecolor": "#2a3f5f"
            },
            "type": "carpet"
           }
          ],
          "choropleth": [
           {
            "colorbar": {
             "outlinewidth": 0,
             "ticks": ""
            },
            "type": "choropleth"
           }
          ],
          "contour": [
           {
            "colorbar": {
             "outlinewidth": 0,
             "ticks": ""
            },
            "colorscale": [
             [
              0,
              "#0d0887"
             ],
             [
              0.1111111111111111,
              "#46039f"
             ],
             [
              0.2222222222222222,
              "#7201a8"
             ],
             [
              0.3333333333333333,
              "#9c179e"
             ],
             [
              0.4444444444444444,
              "#bd3786"
             ],
             [
              0.5555555555555556,
              "#d8576b"
             ],
             [
              0.6666666666666666,
              "#ed7953"
             ],
             [
              0.7777777777777778,
              "#fb9f3a"
             ],
             [
              0.8888888888888888,
              "#fdca26"
             ],
             [
              1,
              "#f0f921"
             ]
            ],
            "type": "contour"
           }
          ],
          "contourcarpet": [
           {
            "colorbar": {
             "outlinewidth": 0,
             "ticks": ""
            },
            "type": "contourcarpet"
           }
          ],
          "heatmap": [
           {
            "colorbar": {
             "outlinewidth": 0,
             "ticks": ""
            },
            "colorscale": [
             [
              0,
              "#0d0887"
             ],
             [
              0.1111111111111111,
              "#46039f"
             ],
             [
              0.2222222222222222,
              "#7201a8"
             ],
             [
              0.3333333333333333,
              "#9c179e"
             ],
             [
              0.4444444444444444,
              "#bd3786"
             ],
             [
              0.5555555555555556,
              "#d8576b"
             ],
             [
              0.6666666666666666,
              "#ed7953"
             ],
             [
              0.7777777777777778,
              "#fb9f3a"
             ],
             [
              0.8888888888888888,
              "#fdca26"
             ],
             [
              1,
              "#f0f921"
             ]
            ],
            "type": "heatmap"
           }
          ],
          "heatmapgl": [
           {
            "colorbar": {
             "outlinewidth": 0,
             "ticks": ""
            },
            "colorscale": [
             [
              0,
              "#0d0887"
             ],
             [
              0.1111111111111111,
              "#46039f"
             ],
             [
              0.2222222222222222,
              "#7201a8"
             ],
             [
              0.3333333333333333,
              "#9c179e"
             ],
             [
              0.4444444444444444,
              "#bd3786"
             ],
             [
              0.5555555555555556,
              "#d8576b"
             ],
             [
              0.6666666666666666,
              "#ed7953"
             ],
             [
              0.7777777777777778,
              "#fb9f3a"
             ],
             [
              0.8888888888888888,
              "#fdca26"
             ],
             [
              1,
              "#f0f921"
             ]
            ],
            "type": "heatmapgl"
           }
          ],
          "histogram": [
           {
            "marker": {
             "pattern": {
              "fillmode": "overlay",
              "size": 10,
              "solidity": 0.2
             }
            },
            "type": "histogram"
           }
          ],
          "histogram2d": [
           {
            "colorbar": {
             "outlinewidth": 0,
             "ticks": ""
            },
            "colorscale": [
             [
              0,
              "#0d0887"
             ],
             [
              0.1111111111111111,
              "#46039f"
             ],
             [
              0.2222222222222222,
              "#7201a8"
             ],
             [
              0.3333333333333333,
              "#9c179e"
             ],
             [
              0.4444444444444444,
              "#bd3786"
             ],
             [
              0.5555555555555556,
              "#d8576b"
             ],
             [
              0.6666666666666666,
              "#ed7953"
             ],
             [
              0.7777777777777778,
              "#fb9f3a"
             ],
             [
              0.8888888888888888,
              "#fdca26"
             ],
             [
              1,
              "#f0f921"
             ]
            ],
            "type": "histogram2d"
           }
          ],
          "histogram2dcontour": [
           {
            "colorbar": {
             "outlinewidth": 0,
             "ticks": ""
            },
            "colorscale": [
             [
              0,
              "#0d0887"
             ],
             [
              0.1111111111111111,
              "#46039f"
             ],
             [
              0.2222222222222222,
              "#7201a8"
             ],
             [
              0.3333333333333333,
              "#9c179e"
             ],
             [
              0.4444444444444444,
              "#bd3786"
             ],
             [
              0.5555555555555556,
              "#d8576b"
             ],
             [
              0.6666666666666666,
              "#ed7953"
             ],
             [
              0.7777777777777778,
              "#fb9f3a"
             ],
             [
              0.8888888888888888,
              "#fdca26"
             ],
             [
              1,
              "#f0f921"
             ]
            ],
            "type": "histogram2dcontour"
           }
          ],
          "mesh3d": [
           {
            "colorbar": {
             "outlinewidth": 0,
             "ticks": ""
            },
            "type": "mesh3d"
           }
          ],
          "parcoords": [
           {
            "line": {
             "colorbar": {
              "outlinewidth": 0,
              "ticks": ""
             }
            },
            "type": "parcoords"
           }
          ],
          "pie": [
           {
            "automargin": true,
            "type": "pie"
           }
          ],
          "scatter": [
           {
            "fillpattern": {
             "fillmode": "overlay",
             "size": 10,
             "solidity": 0.2
            },
            "type": "scatter"
           }
          ],
          "scatter3d": [
           {
            "line": {
             "colorbar": {
              "outlinewidth": 0,
              "ticks": ""
             }
            },
            "marker": {
             "colorbar": {
              "outlinewidth": 0,
              "ticks": ""
             }
            },
            "type": "scatter3d"
           }
          ],
          "scattercarpet": [
           {
            "marker": {
             "colorbar": {
              "outlinewidth": 0,
              "ticks": ""
             }
            },
            "type": "scattercarpet"
           }
          ],
          "scattergeo": [
           {
            "marker": {
             "colorbar": {
              "outlinewidth": 0,
              "ticks": ""
             }
            },
            "type": "scattergeo"
           }
          ],
          "scattergl": [
           {
            "marker": {
             "colorbar": {
              "outlinewidth": 0,
              "ticks": ""
             }
            },
            "type": "scattergl"
           }
          ],
          "scattermapbox": [
           {
            "marker": {
             "colorbar": {
              "outlinewidth": 0,
              "ticks": ""
             }
            },
            "type": "scattermapbox"
           }
          ],
          "scatterpolar": [
           {
            "marker": {
             "colorbar": {
              "outlinewidth": 0,
              "ticks": ""
             }
            },
            "type": "scatterpolar"
           }
          ],
          "scatterpolargl": [
           {
            "marker": {
             "colorbar": {
              "outlinewidth": 0,
              "ticks": ""
             }
            },
            "type": "scatterpolargl"
           }
          ],
          "scatterternary": [
           {
            "marker": {
             "colorbar": {
              "outlinewidth": 0,
              "ticks": ""
             }
            },
            "type": "scatterternary"
           }
          ],
          "surface": [
           {
            "colorbar": {
             "outlinewidth": 0,
             "ticks": ""
            },
            "colorscale": [
             [
              0,
              "#0d0887"
             ],
             [
              0.1111111111111111,
              "#46039f"
             ],
             [
              0.2222222222222222,
              "#7201a8"
             ],
             [
              0.3333333333333333,
              "#9c179e"
             ],
             [
              0.4444444444444444,
              "#bd3786"
             ],
             [
              0.5555555555555556,
              "#d8576b"
             ],
             [
              0.6666666666666666,
              "#ed7953"
             ],
             [
              0.7777777777777778,
              "#fb9f3a"
             ],
             [
              0.8888888888888888,
              "#fdca26"
             ],
             [
              1,
              "#f0f921"
             ]
            ],
            "type": "surface"
           }
          ],
          "table": [
           {
            "cells": {
             "fill": {
              "color": "#EBF0F8"
             },
             "line": {
              "color": "white"
             }
            },
            "header": {
             "fill": {
              "color": "#C8D4E3"
             },
             "line": {
              "color": "white"
             }
            },
            "type": "table"
           }
          ]
         },
         "layout": {
          "annotationdefaults": {
           "arrowcolor": "#2a3f5f",
           "arrowhead": 0,
           "arrowwidth": 1
          },
          "autotypenumbers": "strict",
          "coloraxis": {
           "colorbar": {
            "outlinewidth": 0,
            "ticks": ""
           }
          },
          "colorscale": {
           "diverging": [
            [
             0,
             "#8e0152"
            ],
            [
             0.1,
             "#c51b7d"
            ],
            [
             0.2,
             "#de77ae"
            ],
            [
             0.3,
             "#f1b6da"
            ],
            [
             0.4,
             "#fde0ef"
            ],
            [
             0.5,
             "#f7f7f7"
            ],
            [
             0.6,
             "#e6f5d0"
            ],
            [
             0.7,
             "#b8e186"
            ],
            [
             0.8,
             "#7fbc41"
            ],
            [
             0.9,
             "#4d9221"
            ],
            [
             1,
             "#276419"
            ]
           ],
           "sequential": [
            [
             0,
             "#0d0887"
            ],
            [
             0.1111111111111111,
             "#46039f"
            ],
            [
             0.2222222222222222,
             "#7201a8"
            ],
            [
             0.3333333333333333,
             "#9c179e"
            ],
            [
             0.4444444444444444,
             "#bd3786"
            ],
            [
             0.5555555555555556,
             "#d8576b"
            ],
            [
             0.6666666666666666,
             "#ed7953"
            ],
            [
             0.7777777777777778,
             "#fb9f3a"
            ],
            [
             0.8888888888888888,
             "#fdca26"
            ],
            [
             1,
             "#f0f921"
            ]
           ],
           "sequentialminus": [
            [
             0,
             "#0d0887"
            ],
            [
             0.1111111111111111,
             "#46039f"
            ],
            [
             0.2222222222222222,
             "#7201a8"
            ],
            [
             0.3333333333333333,
             "#9c179e"
            ],
            [
             0.4444444444444444,
             "#bd3786"
            ],
            [
             0.5555555555555556,
             "#d8576b"
            ],
            [
             0.6666666666666666,
             "#ed7953"
            ],
            [
             0.7777777777777778,
             "#fb9f3a"
            ],
            [
             0.8888888888888888,
             "#fdca26"
            ],
            [
             1,
             "#f0f921"
            ]
           ]
          },
          "colorway": [
           "#636efa",
           "#EF553B",
           "#00cc96",
           "#ab63fa",
           "#FFA15A",
           "#19d3f3",
           "#FF6692",
           "#B6E880",
           "#FF97FF",
           "#FECB52"
          ],
          "font": {
           "color": "#2a3f5f"
          },
          "geo": {
           "bgcolor": "white",
           "lakecolor": "white",
           "landcolor": "#E5ECF6",
           "showlakes": true,
           "showland": true,
           "subunitcolor": "white"
          },
          "hoverlabel": {
           "align": "left"
          },
          "hovermode": "closest",
          "mapbox": {
           "style": "light"
          },
          "paper_bgcolor": "white",
          "plot_bgcolor": "#E5ECF6",
          "polar": {
           "angularaxis": {
            "gridcolor": "white",
            "linecolor": "white",
            "ticks": ""
           },
           "bgcolor": "#E5ECF6",
           "radialaxis": {
            "gridcolor": "white",
            "linecolor": "white",
            "ticks": ""
           }
          },
          "scene": {
           "xaxis": {
            "backgroundcolor": "#E5ECF6",
            "gridcolor": "white",
            "gridwidth": 2,
            "linecolor": "white",
            "showbackground": true,
            "ticks": "",
            "zerolinecolor": "white"
           },
           "yaxis": {
            "backgroundcolor": "#E5ECF6",
            "gridcolor": "white",
            "gridwidth": 2,
            "linecolor": "white",
            "showbackground": true,
            "ticks": "",
            "zerolinecolor": "white"
           },
           "zaxis": {
            "backgroundcolor": "#E5ECF6",
            "gridcolor": "white",
            "gridwidth": 2,
            "linecolor": "white",
            "showbackground": true,
            "ticks": "",
            "zerolinecolor": "white"
           }
          },
          "shapedefaults": {
           "line": {
            "color": "#2a3f5f"
           }
          },
          "ternary": {
           "aaxis": {
            "gridcolor": "white",
            "linecolor": "white",
            "ticks": ""
           },
           "baxis": {
            "gridcolor": "white",
            "linecolor": "white",
            "ticks": ""
           },
           "bgcolor": "#E5ECF6",
           "caxis": {
            "gridcolor": "white",
            "linecolor": "white",
            "ticks": ""
           }
          },
          "title": {
           "x": 0.05
          },
          "xaxis": {
           "automargin": true,
           "gridcolor": "white",
           "linecolor": "white",
           "ticks": "",
           "title": {
            "standoff": 15
           },
           "zerolinecolor": "white",
           "zerolinewidth": 2
          },
          "yaxis": {
           "automargin": true,
           "gridcolor": "white",
           "linecolor": "white",
           "ticks": "",
           "title": {
            "standoff": 15
           },
           "zerolinecolor": "white",
           "zerolinewidth": 2
          }
         }
        },
        "title": {
         "font": {
          "color": "#4D5663"
         }
        },
        "xaxis": {
         "anchor": "y",
         "domain": [
          0,
          0.2125
         ],
         "gridcolor": "#E1E5ED",
         "showgrid": false,
         "tickfont": {
          "color": "#4D5663"
         },
         "title": {
          "font": {
           "color": "#4D5663"
          },
          "text": ""
         },
         "zerolinecolor": "#E1E5ED"
        },
        "xaxis10": {
         "anchor": "y10",
         "domain": [
          0.2625,
          0.475
         ],
         "gridcolor": "#E1E5ED",
         "showgrid": false,
         "tickfont": {
          "color": "#4D5663"
         },
         "title": {
          "font": {
           "color": "#4D5663"
          },
          "text": ""
         },
         "zerolinecolor": "#E1E5ED"
        },
        "xaxis11": {
         "anchor": "y11",
         "domain": [
          0.525,
          0.7375
         ],
         "gridcolor": "#E1E5ED",
         "showgrid": false,
         "tickfont": {
          "color": "#4D5663"
         },
         "title": {
          "font": {
           "color": "#4D5663"
          },
          "text": ""
         },
         "zerolinecolor": "#E1E5ED"
        },
        "xaxis12": {
         "anchor": "y12",
         "domain": [
          0.7875,
          1
         ],
         "gridcolor": "#E1E5ED",
         "showgrid": false,
         "tickfont": {
          "color": "#4D5663"
         },
         "title": {
          "font": {
           "color": "#4D5663"
          },
          "text": ""
         },
         "zerolinecolor": "#E1E5ED"
        },
        "xaxis13": {
         "anchor": "y13",
         "domain": [
          0,
          0.2125
         ],
         "gridcolor": "#E1E5ED",
         "showgrid": false,
         "tickfont": {
          "color": "#4D5663"
         },
         "title": {
          "font": {
           "color": "#4D5663"
          },
          "text": ""
         },
         "zerolinecolor": "#E1E5ED"
        },
        "xaxis14": {
         "anchor": "y14",
         "domain": [
          0.2625,
          0.475
         ],
         "gridcolor": "#E1E5ED",
         "showgrid": false,
         "tickfont": {
          "color": "#4D5663"
         },
         "title": {
          "font": {
           "color": "#4D5663"
          },
          "text": ""
         },
         "zerolinecolor": "#E1E5ED"
        },
        "xaxis15": {
         "anchor": "y15",
         "domain": [
          0.525,
          0.7375
         ],
         "gridcolor": "#E1E5ED",
         "showgrid": false,
         "tickfont": {
          "color": "#4D5663"
         },
         "title": {
          "font": {
           "color": "#4D5663"
          },
          "text": ""
         },
         "zerolinecolor": "#E1E5ED"
        },
        "xaxis16": {
         "anchor": "y16",
         "domain": [
          0.7875,
          1
         ],
         "gridcolor": "#E1E5ED",
         "showgrid": false,
         "tickfont": {
          "color": "#4D5663"
         },
         "title": {
          "font": {
           "color": "#4D5663"
          },
          "text": ""
         },
         "zerolinecolor": "#E1E5ED"
        },
        "xaxis2": {
         "anchor": "y2",
         "domain": [
          0.2625,
          0.475
         ],
         "gridcolor": "#E1E5ED",
         "showgrid": false,
         "tickfont": {
          "color": "#4D5663"
         },
         "title": {
          "font": {
           "color": "#4D5663"
          },
          "text": ""
         },
         "zerolinecolor": "#E1E5ED"
        },
        "xaxis3": {
         "anchor": "y3",
         "domain": [
          0.525,
          0.7375
         ],
         "gridcolor": "#E1E5ED",
         "showgrid": false,
         "tickfont": {
          "color": "#4D5663"
         },
         "title": {
          "font": {
           "color": "#4D5663"
          },
          "text": ""
         },
         "zerolinecolor": "#E1E5ED"
        },
        "xaxis4": {
         "anchor": "y4",
         "domain": [
          0.7875,
          1
         ],
         "gridcolor": "#E1E5ED",
         "showgrid": false,
         "tickfont": {
          "color": "#4D5663"
         },
         "title": {
          "font": {
           "color": "#4D5663"
          },
          "text": ""
         },
         "zerolinecolor": "#E1E5ED"
        },
        "xaxis5": {
         "anchor": "y5",
         "domain": [
          0,
          0.2125
         ],
         "gridcolor": "#E1E5ED",
         "showgrid": false,
         "tickfont": {
          "color": "#4D5663"
         },
         "title": {
          "font": {
           "color": "#4D5663"
          },
          "text": ""
         },
         "zerolinecolor": "#E1E5ED"
        },
        "xaxis6": {
         "anchor": "y6",
         "domain": [
          0.2625,
          0.475
         ],
         "gridcolor": "#E1E5ED",
         "showgrid": false,
         "tickfont": {
          "color": "#4D5663"
         },
         "title": {
          "font": {
           "color": "#4D5663"
          },
          "text": ""
         },
         "zerolinecolor": "#E1E5ED"
        },
        "xaxis7": {
         "anchor": "y7",
         "domain": [
          0.525,
          0.7375
         ],
         "gridcolor": "#E1E5ED",
         "showgrid": false,
         "tickfont": {
          "color": "#4D5663"
         },
         "title": {
          "font": {
           "color": "#4D5663"
          },
          "text": ""
         },
         "zerolinecolor": "#E1E5ED"
        },
        "xaxis8": {
         "anchor": "y8",
         "domain": [
          0.7875,
          1
         ],
         "gridcolor": "#E1E5ED",
         "showgrid": false,
         "tickfont": {
          "color": "#4D5663"
         },
         "title": {
          "font": {
           "color": "#4D5663"
          },
          "text": ""
         },
         "zerolinecolor": "#E1E5ED"
        },
        "xaxis9": {
         "anchor": "y9",
         "domain": [
          0,
          0.2125
         ],
         "gridcolor": "#E1E5ED",
         "showgrid": false,
         "tickfont": {
          "color": "#4D5663"
         },
         "title": {
          "font": {
           "color": "#4D5663"
          },
          "text": ""
         },
         "zerolinecolor": "#E1E5ED"
        },
        "yaxis": {
         "anchor": "x",
         "domain": [
          0.8025,
          1
         ],
         "gridcolor": "#E1E5ED",
         "showgrid": false,
         "tickfont": {
          "color": "#4D5663"
         },
         "title": {
          "font": {
           "color": "#4D5663"
          },
          "text": ""
         },
         "zerolinecolor": "#E1E5ED"
        },
        "yaxis10": {
         "anchor": "x10",
         "domain": [
          0.2675,
          0.465
         ],
         "gridcolor": "#E1E5ED",
         "showgrid": false,
         "tickfont": {
          "color": "#4D5663"
         },
         "title": {
          "font": {
           "color": "#4D5663"
          },
          "text": ""
         },
         "zerolinecolor": "#E1E5ED"
        },
        "yaxis11": {
         "anchor": "x11",
         "domain": [
          0.2675,
          0.465
         ],
         "gridcolor": "#E1E5ED",
         "showgrid": false,
         "tickfont": {
          "color": "#4D5663"
         },
         "title": {
          "font": {
           "color": "#4D5663"
          },
          "text": ""
         },
         "zerolinecolor": "#E1E5ED"
        },
        "yaxis12": {
         "anchor": "x12",
         "domain": [
          0.2675,
          0.465
         ],
         "gridcolor": "#E1E5ED",
         "showgrid": false,
         "tickfont": {
          "color": "#4D5663"
         },
         "title": {
          "font": {
           "color": "#4D5663"
          },
          "text": ""
         },
         "zerolinecolor": "#E1E5ED"
        },
        "yaxis13": {
         "anchor": "x13",
         "domain": [
          0,
          0.1975
         ],
         "gridcolor": "#E1E5ED",
         "showgrid": false,
         "tickfont": {
          "color": "#4D5663"
         },
         "title": {
          "font": {
           "color": "#4D5663"
          },
          "text": ""
         },
         "zerolinecolor": "#E1E5ED"
        },
        "yaxis14": {
         "anchor": "x14",
         "domain": [
          0,
          0.1975
         ],
         "gridcolor": "#E1E5ED",
         "showgrid": false,
         "tickfont": {
          "color": "#4D5663"
         },
         "title": {
          "font": {
           "color": "#4D5663"
          },
          "text": ""
         },
         "zerolinecolor": "#E1E5ED"
        },
        "yaxis15": {
         "anchor": "x15",
         "domain": [
          0,
          0.1975
         ],
         "gridcolor": "#E1E5ED",
         "showgrid": false,
         "tickfont": {
          "color": "#4D5663"
         },
         "title": {
          "font": {
           "color": "#4D5663"
          },
          "text": ""
         },
         "zerolinecolor": "#E1E5ED"
        },
        "yaxis16": {
         "anchor": "x16",
         "domain": [
          0,
          0.1975
         ],
         "gridcolor": "#E1E5ED",
         "showgrid": false,
         "tickfont": {
          "color": "#4D5663"
         },
         "title": {
          "font": {
           "color": "#4D5663"
          },
          "text": ""
         },
         "zerolinecolor": "#E1E5ED"
        },
        "yaxis2": {
         "anchor": "x2",
         "domain": [
          0.8025,
          1
         ],
         "gridcolor": "#E1E5ED",
         "showgrid": false,
         "tickfont": {
          "color": "#4D5663"
         },
         "title": {
          "font": {
           "color": "#4D5663"
          },
          "text": ""
         },
         "zerolinecolor": "#E1E5ED"
        },
        "yaxis3": {
         "anchor": "x3",
         "domain": [
          0.8025,
          1
         ],
         "gridcolor": "#E1E5ED",
         "showgrid": false,
         "tickfont": {
          "color": "#4D5663"
         },
         "title": {
          "font": {
           "color": "#4D5663"
          },
          "text": ""
         },
         "zerolinecolor": "#E1E5ED"
        },
        "yaxis4": {
         "anchor": "x4",
         "domain": [
          0.8025,
          1
         ],
         "gridcolor": "#E1E5ED",
         "showgrid": false,
         "tickfont": {
          "color": "#4D5663"
         },
         "title": {
          "font": {
           "color": "#4D5663"
          },
          "text": ""
         },
         "zerolinecolor": "#E1E5ED"
        },
        "yaxis5": {
         "anchor": "x5",
         "domain": [
          0.535,
          0.7325
         ],
         "gridcolor": "#E1E5ED",
         "showgrid": false,
         "tickfont": {
          "color": "#4D5663"
         },
         "title": {
          "font": {
           "color": "#4D5663"
          },
          "text": ""
         },
         "zerolinecolor": "#E1E5ED"
        },
        "yaxis6": {
         "anchor": "x6",
         "domain": [
          0.535,
          0.7325
         ],
         "gridcolor": "#E1E5ED",
         "showgrid": false,
         "tickfont": {
          "color": "#4D5663"
         },
         "title": {
          "font": {
           "color": "#4D5663"
          },
          "text": ""
         },
         "zerolinecolor": "#E1E5ED"
        },
        "yaxis7": {
         "anchor": "x7",
         "domain": [
          0.535,
          0.7325
         ],
         "gridcolor": "#E1E5ED",
         "showgrid": false,
         "tickfont": {
          "color": "#4D5663"
         },
         "title": {
          "font": {
           "color": "#4D5663"
          },
          "text": ""
         },
         "zerolinecolor": "#E1E5ED"
        },
        "yaxis8": {
         "anchor": "x8",
         "domain": [
          0.535,
          0.7325
         ],
         "gridcolor": "#E1E5ED",
         "showgrid": false,
         "tickfont": {
          "color": "#4D5663"
         },
         "title": {
          "font": {
           "color": "#4D5663"
          },
          "text": ""
         },
         "zerolinecolor": "#E1E5ED"
        },
        "yaxis9": {
         "anchor": "x9",
         "domain": [
          0.2675,
          0.465
         ],
         "gridcolor": "#E1E5ED",
         "showgrid": false,
         "tickfont": {
          "color": "#4D5663"
         },
         "title": {
          "font": {
           "color": "#4D5663"
          },
          "text": ""
         },
         "zerolinecolor": "#E1E5ED"
        }
       }
      },
      "text/html": [
       "<div>                            <div id=\"b178942d-fb7f-4ffb-aec2-a848380c9473\" class=\"plotly-graph-div\" style=\"height:525px; width:100%;\"></div>            <script type=\"text/javascript\">                require([\"plotly\"], function(Plotly) {                    window.PLOTLYENV=window.PLOTLYENV || {};\n",
       "                    window.PLOTLYENV.BASE_URL='https://plot.ly';                                    if (document.getElementById(\"b178942d-fb7f-4ffb-aec2-a848380c9473\")) {                    Plotly.newPlot(                        \"b178942d-fb7f-4ffb-aec2-a848380c9473\",                        [{\"histfunc\":\"count\",\"histnorm\":\"\",\"marker\":{\"color\":\"rgba(255, 153, 51, 1.0)\",\"line\":{\"color\":\"#4D5663\",\"width\":1.3}},\"name\":\"A\",\"nbinsx\":10,\"opacity\":0.8,\"orientation\":\"v\",\"x\":[-0.4235298267372065,0.8737034190511784,-0.4425667569523764,0.3986178618161769,0.03428784743673946,2.06533134908832,0.10271963749380746,0.05098734502258662,-0.1184063857671036,1.0964064857463354,1.4946454801576834,-0.7437131463014094,1.3253833864300688,-0.49360380332296394,-0.13305937269604404,0.9240293905139304,-0.09424341106312586,1.18071399478596,0.2645952610124938,0.8836118426137318,-1.173003943925152,-0.3212571585007686,-0.4398567644713879,-0.021012138960523438,0.07155221310667621,-2.815070179834287,-0.7035450325355791,-2.3018781723788013,-0.604916557375915,-1.3218543223382502,-0.3097396604396595,-0.854479473887273,-0.4678081709677992,-0.08838304149912787,0.7643585236625032,-1.2729795604519634,-1.2497474177461365,0.11665547061831338,0.054222241262439526,1.3955567369637993,1.2335949227350325,0.7811707745028742,-0.7062201202758001,-0.010086473033524971,0.17612395345598061,2.0194244526399077,-0.124897544987423,0.3504515229698034,0.704102638494282,-0.9641455130531145,0.21652976538587435,-0.6644405943141568,-0.3894761056471769,0.5468190505161646,-0.8363370271767773,-1.1460722642318224,-0.07587582681833421,0.9619169082305153,-0.5239800127167108,1.0311673460804889,-1.1758734601138927,1.5461295811284619,-2.5218097000157984,0.31240706808234286,-0.39540885307643037,-0.9181226038092148,-0.973212682296477,-1.1081306261732067,-0.10776950961150684,-0.050654313344176784,-0.9699477197603297,0.8557740272749418,1.0221888170710327,0.17768076059489119,-0.10870171886551774,0.29400495682356353,0.5229295264694711,1.5207606347295235,1.0936857792331733,-0.11595518871389471,-0.9859049663963309,-0.8199765183066423,0.9134190838522616,-0.7916172912135768,-0.12131152947593532,-1.2701415944118364,-0.9773938872991602,0.3339642125319659,0.6798478253423859,-1.5492577140644306,0.5787098004342369,0.5406428940538466,0.7639972929707557,0.017857529896215186,-0.22871482857901884,-0.07650894408479933,1.7552590593676092,0.18190406729913505,-1.6830180224348916,-2.2543336155615137],\"xaxis\":\"x\",\"yaxis\":\"y\",\"type\":\"histogram\"},{\"line\":{\"color\":\"rgba(128, 128, 128, 1.0)\",\"dash\":\"solid\",\"shape\":\"linear\",\"width\":1.3},\"marker\":{\"size\":2,\"symbol\":\"circle\"},\"mode\":\"markers\",\"name\":\"A\",\"text\":\"\",\"x\":[0.21294078317383458,0.2518028123325517,0.02091657406832586,1.3626170892858607,0.008884733090600866,-0.7942574105325144,-1.4932730233998306,1.46030442365578,0.5222281818282609,-0.6951728119359911,-1.128579499529297,1.4666696280299252,1.8249626782770507,0.5202794124545566,0.7201153802481164,-1.5626581529361065,0.3374181890445056,-0.2903741529002983,-0.40190112011766466,-1.1603959048941097,0.9945810374960529,1.0458734586078855,-0.10175723853610258,0.5032333501247692,0.4423633466724333,-0.9292874889142884,1.0404659047051579,-0.4081306443840345,1.5848729347087902,0.11617936567027352,0.877815726072177,-1.6737754450487907,-0.6500583582053018,0.6400105834817084,-0.44334139052207533,-0.46506821727471764,1.6976387898715808,-0.4127523142241755,0.2847774928581605,2.0843595325833,1.1962031768333525,-0.19640158479150444,-0.076513511860327,1.091084899278679,0.48501073599044303,-0.5488969947992373,1.5657928427809016,-1.0644035759844077,1.194701257470469,0.5469168263690459,1.733072093267033,1.2634577119112578,-0.5420507058393845,-0.8411226760092744,0.2396772592095201,-0.5175263212605506,1.6612996922788827,0.6317816649077945,-0.3491301771453928,3.2420035524398623,-0.3006899949173568,1.997414779630204,0.12307791592774506,-1.2500563474156865,0.31535217967862017,-0.08156801559514214,0.15695759628048428,1.097578516882325,-1.6933624000861809,1.0998500106286162,-0.04798598377017386,-1.0504861587912668,0.2157760376256392,0.2721587078516661,1.5158996980625876,-1.0820719356636508,-0.7449838137376683,2.1678435919878143,-1.3867241124350391,1.569218147485345,0.9615517659406315,-0.13308189808999643,1.115636697593061,-1.218340919178577,1.458638359803591,0.2360747011023473,0.47478412012124943,0.1559355888436621,0.26512385357664964,0.1568188907648089,0.7603143641721575,-1.1817614859597358,-0.4959769554035473,-1.573931163429572,0.9898452846005282,-1.7092796113603514,-0.16008249410907596,-0.7349355342113074,0.6686336198044844,1.0934331284256122],\"xaxis\":\"x2\",\"y\":[-0.4235298267372065,0.8737034190511784,-0.4425667569523764,0.3986178618161769,0.03428784743673946,2.06533134908832,0.10271963749380746,0.05098734502258662,-0.1184063857671036,1.0964064857463354,1.4946454801576834,-0.7437131463014094,1.3253833864300688,-0.49360380332296394,-0.13305937269604404,0.9240293905139304,-0.09424341106312586,1.18071399478596,0.2645952610124938,0.8836118426137318,-1.173003943925152,-0.3212571585007686,-0.4398567644713879,-0.021012138960523438,0.07155221310667621,-2.815070179834287,-0.7035450325355791,-2.3018781723788013,-0.604916557375915,-1.3218543223382502,-0.3097396604396595,-0.854479473887273,-0.4678081709677992,-0.08838304149912787,0.7643585236625032,-1.2729795604519634,-1.2497474177461365,0.11665547061831338,0.054222241262439526,1.3955567369637993,1.2335949227350325,0.7811707745028742,-0.7062201202758001,-0.010086473033524971,0.17612395345598061,2.0194244526399077,-0.124897544987423,0.3504515229698034,0.704102638494282,-0.9641455130531145,0.21652976538587435,-0.6644405943141568,-0.3894761056471769,0.5468190505161646,-0.8363370271767773,-1.1460722642318224,-0.07587582681833421,0.9619169082305153,-0.5239800127167108,1.0311673460804889,-1.1758734601138927,1.5461295811284619,-2.5218097000157984,0.31240706808234286,-0.39540885307643037,-0.9181226038092148,-0.973212682296477,-1.1081306261732067,-0.10776950961150684,-0.050654313344176784,-0.9699477197603297,0.8557740272749418,1.0221888170710327,0.17768076059489119,-0.10870171886551774,0.29400495682356353,0.5229295264694711,1.5207606347295235,1.0936857792331733,-0.11595518871389471,-0.9859049663963309,-0.8199765183066423,0.9134190838522616,-0.7916172912135768,-0.12131152947593532,-1.2701415944118364,-0.9773938872991602,0.3339642125319659,0.6798478253423859,-1.5492577140644306,0.5787098004342369,0.5406428940538466,0.7639972929707557,0.017857529896215186,-0.22871482857901884,-0.07650894408479933,1.7552590593676092,0.18190406729913505,-1.6830180224348916,-2.2543336155615137],\"yaxis\":\"y2\",\"type\":\"scatter\"},{\"line\":{\"color\":\"rgba(128, 128, 128, 1.0)\",\"dash\":\"solid\",\"shape\":\"linear\",\"width\":1.3},\"marker\":{\"size\":2,\"symbol\":\"circle\"},\"mode\":\"markers\",\"name\":\"A\",\"text\":\"\",\"x\":[0.07666732342800771,1.2330942872480357,0.7174272909879041,1.1650341605909447,0.38844987290932875,-0.9639285898227601,-0.35383599355953205,-2.336303967107702,-0.454184402697137,0.9137067197584892,-0.2607123082209486,0.9433341029331787,-0.21795959215144017,2.0247544405549736,0.5166075386935827,-1.4035414840754523,0.2217421931499329,2.0397128159939464,-0.3528736724112633,1.3309677291731317,-0.4480429789873115,-2.2028929642418946,1.2700050164467438,0.3459762667561772,0.503265154331763,-0.5968947666394623,-0.0628886145301624,1.1198371781866292,-0.46937324902263566,-0.05882297773839477,0.5624518934746332,-0.8132685672237479,0.6272154794742844,-1.110779835019135,0.18092756927280107,0.9022611614334409,0.29925281584494856,0.644303083237883,-0.7146993167999712,0.6826045755625907,1.6297891299252922,-0.18266370408824886,-1.1019918640555506,-0.043919066070177884,-0.07392731247533543,-1.125969023463554,-0.8095616124809866,-0.6347358104155362,-0.8966481619843136,-1.4253896791897036,1.0938072689136262,0.16119350933819893,-0.30616337006950906,-0.5724668281307519,-0.3652779626589068,-0.6277217354019603,-1.1052084012354078,-1.0497908154685873,-0.6987832856088142,-1.3344438626800967,1.1961042861699718,-1.4899688870489125,1.0000751903989364,-1.8217761617014219,1.4220702970109613,0.7793771788388744,1.9316110366879462,0.5344841146693203,1.0255461980026384,0.6601181077255065,-0.7257477239987026,1.0618248411512208,0.32317893709863227,0.12750962814688283,1.8817838507471143,-2.9730403702512573,-1.0963906056140136,-1.2448367914502456,0.3860066048958656,-0.9009446834368859,-0.66397430581543,-1.7102671235308657,-0.9721395322800673,-0.5471739448000086,0.214711886511749,0.3835999694344564,-0.43467167707527177,0.7336021044528896,0.7231396484476731,-1.286530368189027,1.0363036097846994,0.13971486568107366,-0.7407978110384146,0.8256735221085763,2.282521420012441,-0.6462513183208001,-0.4182068194743313,0.5066825121961596,0.12120851763533104,0.9240385901151515],\"xaxis\":\"x3\",\"y\":[-0.4235298267372065,0.8737034190511784,-0.4425667569523764,0.3986178618161769,0.03428784743673946,2.06533134908832,0.10271963749380746,0.05098734502258662,-0.1184063857671036,1.0964064857463354,1.4946454801576834,-0.7437131463014094,1.3253833864300688,-0.49360380332296394,-0.13305937269604404,0.9240293905139304,-0.09424341106312586,1.18071399478596,0.2645952610124938,0.8836118426137318,-1.173003943925152,-0.3212571585007686,-0.4398567644713879,-0.021012138960523438,0.07155221310667621,-2.815070179834287,-0.7035450325355791,-2.3018781723788013,-0.604916557375915,-1.3218543223382502,-0.3097396604396595,-0.854479473887273,-0.4678081709677992,-0.08838304149912787,0.7643585236625032,-1.2729795604519634,-1.2497474177461365,0.11665547061831338,0.054222241262439526,1.3955567369637993,1.2335949227350325,0.7811707745028742,-0.7062201202758001,-0.010086473033524971,0.17612395345598061,2.0194244526399077,-0.124897544987423,0.3504515229698034,0.704102638494282,-0.9641455130531145,0.21652976538587435,-0.6644405943141568,-0.3894761056471769,0.5468190505161646,-0.8363370271767773,-1.1460722642318224,-0.07587582681833421,0.9619169082305153,-0.5239800127167108,1.0311673460804889,-1.1758734601138927,1.5461295811284619,-2.5218097000157984,0.31240706808234286,-0.39540885307643037,-0.9181226038092148,-0.973212682296477,-1.1081306261732067,-0.10776950961150684,-0.050654313344176784,-0.9699477197603297,0.8557740272749418,1.0221888170710327,0.17768076059489119,-0.10870171886551774,0.29400495682356353,0.5229295264694711,1.5207606347295235,1.0936857792331733,-0.11595518871389471,-0.9859049663963309,-0.8199765183066423,0.9134190838522616,-0.7916172912135768,-0.12131152947593532,-1.2701415944118364,-0.9773938872991602,0.3339642125319659,0.6798478253423859,-1.5492577140644306,0.5787098004342369,0.5406428940538466,0.7639972929707557,0.017857529896215186,-0.22871482857901884,-0.07650894408479933,1.7552590593676092,0.18190406729913505,-1.6830180224348916,-2.2543336155615137],\"yaxis\":\"y3\",\"type\":\"scatter\"},{\"line\":{\"color\":\"rgba(128, 128, 128, 1.0)\",\"dash\":\"solid\",\"shape\":\"linear\",\"width\":1.3},\"marker\":{\"size\":2,\"symbol\":\"circle\"},\"mode\":\"markers\",\"name\":\"A\",\"text\":\"\",\"x\":[0.3978440991444191,-0.28826972274567153,1.4605083586129701,0.2065787905465538,0.8658830690411201,-1.2031456624357368,-2.03192504314234,-0.08577266443308462,-1.3694084036433456,-0.4083601555579031,-0.12361860968708542,0.8416477809104242,-0.6873127692908836,-1.3528881794620782,0.37330461013009536,0.03275965692509622,0.5129981243596776,-0.8835742034571936,0.07223968526867314,-0.02333076989038537,-0.6265151633100899,-0.5218320855379366,-0.4895793941163754,2.213512952111512,-0.116267441642128,0.3694806494602197,-1.214012553861094,0.8720172573534196,-0.8138817609636407,-0.9149093340883017,2.177141028944511,-0.9141757610980059,1.2034826746030953,-0.7560880909320254,0.4322821932025189,-0.8282043614271062,-0.6555611059628269,1.7063976854975547,-0.40473070444417425,-0.2665243915899419,0.8636591307842529,0.32876329718060393,1.4298577740388587,-0.6434049702637586,-0.1688216562582055,0.15867078100399273,0.11358649861806933,1.7562112783418848,-0.7759260282814037,-1.0467783901538161,-0.9362037235611053,-0.07462359288103255,-0.1057024142409333,0.7139610818939208,-1.5917657767238034,-1.9519861497861795,0.06352992800290329,-0.7268321007370007,0.28921565309844144,0.21578351220190345,-0.6488829995176352,-0.773244402629859,-0.6148232908512383,-0.18142239454014847,-0.6237023760351863,-1.4318132576877778,0.6966029765286594,-0.19314281528471364,-0.8077947304832552,-0.02327388299382055,-1.6291266184528357,-0.7731480255084516,-0.3606766818155555,-0.30037559705506767,-1.6147033943175884,-0.22775648571217666,-0.6720664190488358,-0.45055456803840854,0.7302207964718278,0.9261309442615799,0.2210512002211912,-0.9501229748377441,0.7355812952672144,1.9705985594290139,0.9477160505711176,1.5513943863039383,-0.8756031158018538,-0.8929135714326509,0.3742093694591922,1.4004035888510076,0.17581167607170853,0.1382191649353529,-0.5168167622706401,0.9012140474064909,0.9425967651953716,-0.3980707296425509,1.014248127966641,-0.5169455069607055,0.16482663143168433,0.9704611452749445],\"xaxis\":\"x4\",\"y\":[-0.4235298267372065,0.8737034190511784,-0.4425667569523764,0.3986178618161769,0.03428784743673946,2.06533134908832,0.10271963749380746,0.05098734502258662,-0.1184063857671036,1.0964064857463354,1.4946454801576834,-0.7437131463014094,1.3253833864300688,-0.49360380332296394,-0.13305937269604404,0.9240293905139304,-0.09424341106312586,1.18071399478596,0.2645952610124938,0.8836118426137318,-1.173003943925152,-0.3212571585007686,-0.4398567644713879,-0.021012138960523438,0.07155221310667621,-2.815070179834287,-0.7035450325355791,-2.3018781723788013,-0.604916557375915,-1.3218543223382502,-0.3097396604396595,-0.854479473887273,-0.4678081709677992,-0.08838304149912787,0.7643585236625032,-1.2729795604519634,-1.2497474177461365,0.11665547061831338,0.054222241262439526,1.3955567369637993,1.2335949227350325,0.7811707745028742,-0.7062201202758001,-0.010086473033524971,0.17612395345598061,2.0194244526399077,-0.124897544987423,0.3504515229698034,0.704102638494282,-0.9641455130531145,0.21652976538587435,-0.6644405943141568,-0.3894761056471769,0.5468190505161646,-0.8363370271767773,-1.1460722642318224,-0.07587582681833421,0.9619169082305153,-0.5239800127167108,1.0311673460804889,-1.1758734601138927,1.5461295811284619,-2.5218097000157984,0.31240706808234286,-0.39540885307643037,-0.9181226038092148,-0.973212682296477,-1.1081306261732067,-0.10776950961150684,-0.050654313344176784,-0.9699477197603297,0.8557740272749418,1.0221888170710327,0.17768076059489119,-0.10870171886551774,0.29400495682356353,0.5229295264694711,1.5207606347295235,1.0936857792331733,-0.11595518871389471,-0.9859049663963309,-0.8199765183066423,0.9134190838522616,-0.7916172912135768,-0.12131152947593532,-1.2701415944118364,-0.9773938872991602,0.3339642125319659,0.6798478253423859,-1.5492577140644306,0.5787098004342369,0.5406428940538466,0.7639972929707557,0.017857529896215186,-0.22871482857901884,-0.07650894408479933,1.7552590593676092,0.18190406729913505,-1.6830180224348916,-2.2543336155615137],\"yaxis\":\"y4\",\"type\":\"scatter\"},{\"line\":{\"color\":\"rgba(128, 128, 128, 1.0)\",\"dash\":\"solid\",\"shape\":\"linear\",\"width\":1.3},\"marker\":{\"size\":2,\"symbol\":\"circle\"},\"mode\":\"markers\",\"name\":\"B\",\"text\":\"\",\"x\":[-0.4235298267372065,0.8737034190511784,-0.4425667569523764,0.3986178618161769,0.03428784743673946,2.06533134908832,0.10271963749380746,0.05098734502258662,-0.1184063857671036,1.0964064857463354,1.4946454801576834,-0.7437131463014094,1.3253833864300688,-0.49360380332296394,-0.13305937269604404,0.9240293905139304,-0.09424341106312586,1.18071399478596,0.2645952610124938,0.8836118426137318,-1.173003943925152,-0.3212571585007686,-0.4398567644713879,-0.021012138960523438,0.07155221310667621,-2.815070179834287,-0.7035450325355791,-2.3018781723788013,-0.604916557375915,-1.3218543223382502,-0.3097396604396595,-0.854479473887273,-0.4678081709677992,-0.08838304149912787,0.7643585236625032,-1.2729795604519634,-1.2497474177461365,0.11665547061831338,0.054222241262439526,1.3955567369637993,1.2335949227350325,0.7811707745028742,-0.7062201202758001,-0.010086473033524971,0.17612395345598061,2.0194244526399077,-0.124897544987423,0.3504515229698034,0.704102638494282,-0.9641455130531145,0.21652976538587435,-0.6644405943141568,-0.3894761056471769,0.5468190505161646,-0.8363370271767773,-1.1460722642318224,-0.07587582681833421,0.9619169082305153,-0.5239800127167108,1.0311673460804889,-1.1758734601138927,1.5461295811284619,-2.5218097000157984,0.31240706808234286,-0.39540885307643037,-0.9181226038092148,-0.973212682296477,-1.1081306261732067,-0.10776950961150684,-0.050654313344176784,-0.9699477197603297,0.8557740272749418,1.0221888170710327,0.17768076059489119,-0.10870171886551774,0.29400495682356353,0.5229295264694711,1.5207606347295235,1.0936857792331733,-0.11595518871389471,-0.9859049663963309,-0.8199765183066423,0.9134190838522616,-0.7916172912135768,-0.12131152947593532,-1.2701415944118364,-0.9773938872991602,0.3339642125319659,0.6798478253423859,-1.5492577140644306,0.5787098004342369,0.5406428940538466,0.7639972929707557,0.017857529896215186,-0.22871482857901884,-0.07650894408479933,1.7552590593676092,0.18190406729913505,-1.6830180224348916,-2.2543336155615137],\"xaxis\":\"x5\",\"y\":[0.21294078317383458,0.2518028123325517,0.02091657406832586,1.3626170892858607,0.008884733090600866,-0.7942574105325144,-1.4932730233998306,1.46030442365578,0.5222281818282609,-0.6951728119359911,-1.128579499529297,1.4666696280299252,1.8249626782770507,0.5202794124545566,0.7201153802481164,-1.5626581529361065,0.3374181890445056,-0.2903741529002983,-0.40190112011766466,-1.1603959048941097,0.9945810374960529,1.0458734586078855,-0.10175723853610258,0.5032333501247692,0.4423633466724333,-0.9292874889142884,1.0404659047051579,-0.4081306443840345,1.5848729347087902,0.11617936567027352,0.877815726072177,-1.6737754450487907,-0.6500583582053018,0.6400105834817084,-0.44334139052207533,-0.46506821727471764,1.6976387898715808,-0.4127523142241755,0.2847774928581605,2.0843595325833,1.1962031768333525,-0.19640158479150444,-0.076513511860327,1.091084899278679,0.48501073599044303,-0.5488969947992373,1.5657928427809016,-1.0644035759844077,1.194701257470469,0.5469168263690459,1.733072093267033,1.2634577119112578,-0.5420507058393845,-0.8411226760092744,0.2396772592095201,-0.5175263212605506,1.6612996922788827,0.6317816649077945,-0.3491301771453928,3.2420035524398623,-0.3006899949173568,1.997414779630204,0.12307791592774506,-1.2500563474156865,0.31535217967862017,-0.08156801559514214,0.15695759628048428,1.097578516882325,-1.6933624000861809,1.0998500106286162,-0.04798598377017386,-1.0504861587912668,0.2157760376256392,0.2721587078516661,1.5158996980625876,-1.0820719356636508,-0.7449838137376683,2.1678435919878143,-1.3867241124350391,1.569218147485345,0.9615517659406315,-0.13308189808999643,1.115636697593061,-1.218340919178577,1.458638359803591,0.2360747011023473,0.47478412012124943,0.1559355888436621,0.26512385357664964,0.1568188907648089,0.7603143641721575,-1.1817614859597358,-0.4959769554035473,-1.573931163429572,0.9898452846005282,-1.7092796113603514,-0.16008249410907596,-0.7349355342113074,0.6686336198044844,1.0934331284256122],\"yaxis\":\"y5\",\"type\":\"scatter\"},{\"histfunc\":\"count\",\"histnorm\":\"\",\"marker\":{\"color\":\"rgba(55, 128, 191, 1.0)\",\"line\":{\"color\":\"#4D5663\",\"width\":1.3}},\"name\":\"B\",\"nbinsx\":10,\"opacity\":0.8,\"orientation\":\"v\",\"x\":[0.21294078317383458,0.2518028123325517,0.02091657406832586,1.3626170892858607,0.008884733090600866,-0.7942574105325144,-1.4932730233998306,1.46030442365578,0.5222281818282609,-0.6951728119359911,-1.128579499529297,1.4666696280299252,1.8249626782770507,0.5202794124545566,0.7201153802481164,-1.5626581529361065,0.3374181890445056,-0.2903741529002983,-0.40190112011766466,-1.1603959048941097,0.9945810374960529,1.0458734586078855,-0.10175723853610258,0.5032333501247692,0.4423633466724333,-0.9292874889142884,1.0404659047051579,-0.4081306443840345,1.5848729347087902,0.11617936567027352,0.877815726072177,-1.6737754450487907,-0.6500583582053018,0.6400105834817084,-0.44334139052207533,-0.46506821727471764,1.6976387898715808,-0.4127523142241755,0.2847774928581605,2.0843595325833,1.1962031768333525,-0.19640158479150444,-0.076513511860327,1.091084899278679,0.48501073599044303,-0.5488969947992373,1.5657928427809016,-1.0644035759844077,1.194701257470469,0.5469168263690459,1.733072093267033,1.2634577119112578,-0.5420507058393845,-0.8411226760092744,0.2396772592095201,-0.5175263212605506,1.6612996922788827,0.6317816649077945,-0.3491301771453928,3.2420035524398623,-0.3006899949173568,1.997414779630204,0.12307791592774506,-1.2500563474156865,0.31535217967862017,-0.08156801559514214,0.15695759628048428,1.097578516882325,-1.6933624000861809,1.0998500106286162,-0.04798598377017386,-1.0504861587912668,0.2157760376256392,0.2721587078516661,1.5158996980625876,-1.0820719356636508,-0.7449838137376683,2.1678435919878143,-1.3867241124350391,1.569218147485345,0.9615517659406315,-0.13308189808999643,1.115636697593061,-1.218340919178577,1.458638359803591,0.2360747011023473,0.47478412012124943,0.1559355888436621,0.26512385357664964,0.1568188907648089,0.7603143641721575,-1.1817614859597358,-0.4959769554035473,-1.573931163429572,0.9898452846005282,-1.7092796113603514,-0.16008249410907596,-0.7349355342113074,0.6686336198044844,1.0934331284256122],\"xaxis\":\"x6\",\"yaxis\":\"y6\",\"type\":\"histogram\"},{\"line\":{\"color\":\"rgba(128, 128, 128, 1.0)\",\"dash\":\"solid\",\"shape\":\"linear\",\"width\":1.3},\"marker\":{\"size\":2,\"symbol\":\"circle\"},\"mode\":\"markers\",\"name\":\"B\",\"text\":\"\",\"x\":[0.07666732342800771,1.2330942872480357,0.7174272909879041,1.1650341605909447,0.38844987290932875,-0.9639285898227601,-0.35383599355953205,-2.336303967107702,-0.454184402697137,0.9137067197584892,-0.2607123082209486,0.9433341029331787,-0.21795959215144017,2.0247544405549736,0.5166075386935827,-1.4035414840754523,0.2217421931499329,2.0397128159939464,-0.3528736724112633,1.3309677291731317,-0.4480429789873115,-2.2028929642418946,1.2700050164467438,0.3459762667561772,0.503265154331763,-0.5968947666394623,-0.0628886145301624,1.1198371781866292,-0.46937324902263566,-0.05882297773839477,0.5624518934746332,-0.8132685672237479,0.6272154794742844,-1.110779835019135,0.18092756927280107,0.9022611614334409,0.29925281584494856,0.644303083237883,-0.7146993167999712,0.6826045755625907,1.6297891299252922,-0.18266370408824886,-1.1019918640555506,-0.043919066070177884,-0.07392731247533543,-1.125969023463554,-0.8095616124809866,-0.6347358104155362,-0.8966481619843136,-1.4253896791897036,1.0938072689136262,0.16119350933819893,-0.30616337006950906,-0.5724668281307519,-0.3652779626589068,-0.6277217354019603,-1.1052084012354078,-1.0497908154685873,-0.6987832856088142,-1.3344438626800967,1.1961042861699718,-1.4899688870489125,1.0000751903989364,-1.8217761617014219,1.4220702970109613,0.7793771788388744,1.9316110366879462,0.5344841146693203,1.0255461980026384,0.6601181077255065,-0.7257477239987026,1.0618248411512208,0.32317893709863227,0.12750962814688283,1.8817838507471143,-2.9730403702512573,-1.0963906056140136,-1.2448367914502456,0.3860066048958656,-0.9009446834368859,-0.66397430581543,-1.7102671235308657,-0.9721395322800673,-0.5471739448000086,0.214711886511749,0.3835999694344564,-0.43467167707527177,0.7336021044528896,0.7231396484476731,-1.286530368189027,1.0363036097846994,0.13971486568107366,-0.7407978110384146,0.8256735221085763,2.282521420012441,-0.6462513183208001,-0.4182068194743313,0.5066825121961596,0.12120851763533104,0.9240385901151515],\"xaxis\":\"x7\",\"y\":[0.21294078317383458,0.2518028123325517,0.02091657406832586,1.3626170892858607,0.008884733090600866,-0.7942574105325144,-1.4932730233998306,1.46030442365578,0.5222281818282609,-0.6951728119359911,-1.128579499529297,1.4666696280299252,1.8249626782770507,0.5202794124545566,0.7201153802481164,-1.5626581529361065,0.3374181890445056,-0.2903741529002983,-0.40190112011766466,-1.1603959048941097,0.9945810374960529,1.0458734586078855,-0.10175723853610258,0.5032333501247692,0.4423633466724333,-0.9292874889142884,1.0404659047051579,-0.4081306443840345,1.5848729347087902,0.11617936567027352,0.877815726072177,-1.6737754450487907,-0.6500583582053018,0.6400105834817084,-0.44334139052207533,-0.46506821727471764,1.6976387898715808,-0.4127523142241755,0.2847774928581605,2.0843595325833,1.1962031768333525,-0.19640158479150444,-0.076513511860327,1.091084899278679,0.48501073599044303,-0.5488969947992373,1.5657928427809016,-1.0644035759844077,1.194701257470469,0.5469168263690459,1.733072093267033,1.2634577119112578,-0.5420507058393845,-0.8411226760092744,0.2396772592095201,-0.5175263212605506,1.6612996922788827,0.6317816649077945,-0.3491301771453928,3.2420035524398623,-0.3006899949173568,1.997414779630204,0.12307791592774506,-1.2500563474156865,0.31535217967862017,-0.08156801559514214,0.15695759628048428,1.097578516882325,-1.6933624000861809,1.0998500106286162,-0.04798598377017386,-1.0504861587912668,0.2157760376256392,0.2721587078516661,1.5158996980625876,-1.0820719356636508,-0.7449838137376683,2.1678435919878143,-1.3867241124350391,1.569218147485345,0.9615517659406315,-0.13308189808999643,1.115636697593061,-1.218340919178577,1.458638359803591,0.2360747011023473,0.47478412012124943,0.1559355888436621,0.26512385357664964,0.1568188907648089,0.7603143641721575,-1.1817614859597358,-0.4959769554035473,-1.573931163429572,0.9898452846005282,-1.7092796113603514,-0.16008249410907596,-0.7349355342113074,0.6686336198044844,1.0934331284256122],\"yaxis\":\"y7\",\"type\":\"scatter\"},{\"line\":{\"color\":\"rgba(128, 128, 128, 1.0)\",\"dash\":\"solid\",\"shape\":\"linear\",\"width\":1.3},\"marker\":{\"size\":2,\"symbol\":\"circle\"},\"mode\":\"markers\",\"name\":\"B\",\"text\":\"\",\"x\":[0.3978440991444191,-0.28826972274567153,1.4605083586129701,0.2065787905465538,0.8658830690411201,-1.2031456624357368,-2.03192504314234,-0.08577266443308462,-1.3694084036433456,-0.4083601555579031,-0.12361860968708542,0.8416477809104242,-0.6873127692908836,-1.3528881794620782,0.37330461013009536,0.03275965692509622,0.5129981243596776,-0.8835742034571936,0.07223968526867314,-0.02333076989038537,-0.6265151633100899,-0.5218320855379366,-0.4895793941163754,2.213512952111512,-0.116267441642128,0.3694806494602197,-1.214012553861094,0.8720172573534196,-0.8138817609636407,-0.9149093340883017,2.177141028944511,-0.9141757610980059,1.2034826746030953,-0.7560880909320254,0.4322821932025189,-0.8282043614271062,-0.6555611059628269,1.7063976854975547,-0.40473070444417425,-0.2665243915899419,0.8636591307842529,0.32876329718060393,1.4298577740388587,-0.6434049702637586,-0.1688216562582055,0.15867078100399273,0.11358649861806933,1.7562112783418848,-0.7759260282814037,-1.0467783901538161,-0.9362037235611053,-0.07462359288103255,-0.1057024142409333,0.7139610818939208,-1.5917657767238034,-1.9519861497861795,0.06352992800290329,-0.7268321007370007,0.28921565309844144,0.21578351220190345,-0.6488829995176352,-0.773244402629859,-0.6148232908512383,-0.18142239454014847,-0.6237023760351863,-1.4318132576877778,0.6966029765286594,-0.19314281528471364,-0.8077947304832552,-0.02327388299382055,-1.6291266184528357,-0.7731480255084516,-0.3606766818155555,-0.30037559705506767,-1.6147033943175884,-0.22775648571217666,-0.6720664190488358,-0.45055456803840854,0.7302207964718278,0.9261309442615799,0.2210512002211912,-0.9501229748377441,0.7355812952672144,1.9705985594290139,0.9477160505711176,1.5513943863039383,-0.8756031158018538,-0.8929135714326509,0.3742093694591922,1.4004035888510076,0.17581167607170853,0.1382191649353529,-0.5168167622706401,0.9012140474064909,0.9425967651953716,-0.3980707296425509,1.014248127966641,-0.5169455069607055,0.16482663143168433,0.9704611452749445],\"xaxis\":\"x8\",\"y\":[0.21294078317383458,0.2518028123325517,0.02091657406832586,1.3626170892858607,0.008884733090600866,-0.7942574105325144,-1.4932730233998306,1.46030442365578,0.5222281818282609,-0.6951728119359911,-1.128579499529297,1.4666696280299252,1.8249626782770507,0.5202794124545566,0.7201153802481164,-1.5626581529361065,0.3374181890445056,-0.2903741529002983,-0.40190112011766466,-1.1603959048941097,0.9945810374960529,1.0458734586078855,-0.10175723853610258,0.5032333501247692,0.4423633466724333,-0.9292874889142884,1.0404659047051579,-0.4081306443840345,1.5848729347087902,0.11617936567027352,0.877815726072177,-1.6737754450487907,-0.6500583582053018,0.6400105834817084,-0.44334139052207533,-0.46506821727471764,1.6976387898715808,-0.4127523142241755,0.2847774928581605,2.0843595325833,1.1962031768333525,-0.19640158479150444,-0.076513511860327,1.091084899278679,0.48501073599044303,-0.5488969947992373,1.5657928427809016,-1.0644035759844077,1.194701257470469,0.5469168263690459,1.733072093267033,1.2634577119112578,-0.5420507058393845,-0.8411226760092744,0.2396772592095201,-0.5175263212605506,1.6612996922788827,0.6317816649077945,-0.3491301771453928,3.2420035524398623,-0.3006899949173568,1.997414779630204,0.12307791592774506,-1.2500563474156865,0.31535217967862017,-0.08156801559514214,0.15695759628048428,1.097578516882325,-1.6933624000861809,1.0998500106286162,-0.04798598377017386,-1.0504861587912668,0.2157760376256392,0.2721587078516661,1.5158996980625876,-1.0820719356636508,-0.7449838137376683,2.1678435919878143,-1.3867241124350391,1.569218147485345,0.9615517659406315,-0.13308189808999643,1.115636697593061,-1.218340919178577,1.458638359803591,0.2360747011023473,0.47478412012124943,0.1559355888436621,0.26512385357664964,0.1568188907648089,0.7603143641721575,-1.1817614859597358,-0.4959769554035473,-1.573931163429572,0.9898452846005282,-1.7092796113603514,-0.16008249410907596,-0.7349355342113074,0.6686336198044844,1.0934331284256122],\"yaxis\":\"y8\",\"type\":\"scatter\"},{\"line\":{\"color\":\"rgba(128, 128, 128, 1.0)\",\"dash\":\"solid\",\"shape\":\"linear\",\"width\":1.3},\"marker\":{\"size\":2,\"symbol\":\"circle\"},\"mode\":\"markers\",\"name\":\"C\",\"text\":\"\",\"x\":[-0.4235298267372065,0.8737034190511784,-0.4425667569523764,0.3986178618161769,0.03428784743673946,2.06533134908832,0.10271963749380746,0.05098734502258662,-0.1184063857671036,1.0964064857463354,1.4946454801576834,-0.7437131463014094,1.3253833864300688,-0.49360380332296394,-0.13305937269604404,0.9240293905139304,-0.09424341106312586,1.18071399478596,0.2645952610124938,0.8836118426137318,-1.173003943925152,-0.3212571585007686,-0.4398567644713879,-0.021012138960523438,0.07155221310667621,-2.815070179834287,-0.7035450325355791,-2.3018781723788013,-0.604916557375915,-1.3218543223382502,-0.3097396604396595,-0.854479473887273,-0.4678081709677992,-0.08838304149912787,0.7643585236625032,-1.2729795604519634,-1.2497474177461365,0.11665547061831338,0.054222241262439526,1.3955567369637993,1.2335949227350325,0.7811707745028742,-0.7062201202758001,-0.010086473033524971,0.17612395345598061,2.0194244526399077,-0.124897544987423,0.3504515229698034,0.704102638494282,-0.9641455130531145,0.21652976538587435,-0.6644405943141568,-0.3894761056471769,0.5468190505161646,-0.8363370271767773,-1.1460722642318224,-0.07587582681833421,0.9619169082305153,-0.5239800127167108,1.0311673460804889,-1.1758734601138927,1.5461295811284619,-2.5218097000157984,0.31240706808234286,-0.39540885307643037,-0.9181226038092148,-0.973212682296477,-1.1081306261732067,-0.10776950961150684,-0.050654313344176784,-0.9699477197603297,0.8557740272749418,1.0221888170710327,0.17768076059489119,-0.10870171886551774,0.29400495682356353,0.5229295264694711,1.5207606347295235,1.0936857792331733,-0.11595518871389471,-0.9859049663963309,-0.8199765183066423,0.9134190838522616,-0.7916172912135768,-0.12131152947593532,-1.2701415944118364,-0.9773938872991602,0.3339642125319659,0.6798478253423859,-1.5492577140644306,0.5787098004342369,0.5406428940538466,0.7639972929707557,0.017857529896215186,-0.22871482857901884,-0.07650894408479933,1.7552590593676092,0.18190406729913505,-1.6830180224348916,-2.2543336155615137],\"xaxis\":\"x9\",\"y\":[0.07666732342800771,1.2330942872480357,0.7174272909879041,1.1650341605909447,0.38844987290932875,-0.9639285898227601,-0.35383599355953205,-2.336303967107702,-0.454184402697137,0.9137067197584892,-0.2607123082209486,0.9433341029331787,-0.21795959215144017,2.0247544405549736,0.5166075386935827,-1.4035414840754523,0.2217421931499329,2.0397128159939464,-0.3528736724112633,1.3309677291731317,-0.4480429789873115,-2.2028929642418946,1.2700050164467438,0.3459762667561772,0.503265154331763,-0.5968947666394623,-0.0628886145301624,1.1198371781866292,-0.46937324902263566,-0.05882297773839477,0.5624518934746332,-0.8132685672237479,0.6272154794742844,-1.110779835019135,0.18092756927280107,0.9022611614334409,0.29925281584494856,0.644303083237883,-0.7146993167999712,0.6826045755625907,1.6297891299252922,-0.18266370408824886,-1.1019918640555506,-0.043919066070177884,-0.07392731247533543,-1.125969023463554,-0.8095616124809866,-0.6347358104155362,-0.8966481619843136,-1.4253896791897036,1.0938072689136262,0.16119350933819893,-0.30616337006950906,-0.5724668281307519,-0.3652779626589068,-0.6277217354019603,-1.1052084012354078,-1.0497908154685873,-0.6987832856088142,-1.3344438626800967,1.1961042861699718,-1.4899688870489125,1.0000751903989364,-1.8217761617014219,1.4220702970109613,0.7793771788388744,1.9316110366879462,0.5344841146693203,1.0255461980026384,0.6601181077255065,-0.7257477239987026,1.0618248411512208,0.32317893709863227,0.12750962814688283,1.8817838507471143,-2.9730403702512573,-1.0963906056140136,-1.2448367914502456,0.3860066048958656,-0.9009446834368859,-0.66397430581543,-1.7102671235308657,-0.9721395322800673,-0.5471739448000086,0.214711886511749,0.3835999694344564,-0.43467167707527177,0.7336021044528896,0.7231396484476731,-1.286530368189027,1.0363036097846994,0.13971486568107366,-0.7407978110384146,0.8256735221085763,2.282521420012441,-0.6462513183208001,-0.4182068194743313,0.5066825121961596,0.12120851763533104,0.9240385901151515],\"yaxis\":\"y9\",\"type\":\"scatter\"},{\"line\":{\"color\":\"rgba(128, 128, 128, 1.0)\",\"dash\":\"solid\",\"shape\":\"linear\",\"width\":1.3},\"marker\":{\"size\":2,\"symbol\":\"circle\"},\"mode\":\"markers\",\"name\":\"C\",\"text\":\"\",\"x\":[0.21294078317383458,0.2518028123325517,0.02091657406832586,1.3626170892858607,0.008884733090600866,-0.7942574105325144,-1.4932730233998306,1.46030442365578,0.5222281818282609,-0.6951728119359911,-1.128579499529297,1.4666696280299252,1.8249626782770507,0.5202794124545566,0.7201153802481164,-1.5626581529361065,0.3374181890445056,-0.2903741529002983,-0.40190112011766466,-1.1603959048941097,0.9945810374960529,1.0458734586078855,-0.10175723853610258,0.5032333501247692,0.4423633466724333,-0.9292874889142884,1.0404659047051579,-0.4081306443840345,1.5848729347087902,0.11617936567027352,0.877815726072177,-1.6737754450487907,-0.6500583582053018,0.6400105834817084,-0.44334139052207533,-0.46506821727471764,1.6976387898715808,-0.4127523142241755,0.2847774928581605,2.0843595325833,1.1962031768333525,-0.19640158479150444,-0.076513511860327,1.091084899278679,0.48501073599044303,-0.5488969947992373,1.5657928427809016,-1.0644035759844077,1.194701257470469,0.5469168263690459,1.733072093267033,1.2634577119112578,-0.5420507058393845,-0.8411226760092744,0.2396772592095201,-0.5175263212605506,1.6612996922788827,0.6317816649077945,-0.3491301771453928,3.2420035524398623,-0.3006899949173568,1.997414779630204,0.12307791592774506,-1.2500563474156865,0.31535217967862017,-0.08156801559514214,0.15695759628048428,1.097578516882325,-1.6933624000861809,1.0998500106286162,-0.04798598377017386,-1.0504861587912668,0.2157760376256392,0.2721587078516661,1.5158996980625876,-1.0820719356636508,-0.7449838137376683,2.1678435919878143,-1.3867241124350391,1.569218147485345,0.9615517659406315,-0.13308189808999643,1.115636697593061,-1.218340919178577,1.458638359803591,0.2360747011023473,0.47478412012124943,0.1559355888436621,0.26512385357664964,0.1568188907648089,0.7603143641721575,-1.1817614859597358,-0.4959769554035473,-1.573931163429572,0.9898452846005282,-1.7092796113603514,-0.16008249410907596,-0.7349355342113074,0.6686336198044844,1.0934331284256122],\"xaxis\":\"x10\",\"y\":[0.07666732342800771,1.2330942872480357,0.7174272909879041,1.1650341605909447,0.38844987290932875,-0.9639285898227601,-0.35383599355953205,-2.336303967107702,-0.454184402697137,0.9137067197584892,-0.2607123082209486,0.9433341029331787,-0.21795959215144017,2.0247544405549736,0.5166075386935827,-1.4035414840754523,0.2217421931499329,2.0397128159939464,-0.3528736724112633,1.3309677291731317,-0.4480429789873115,-2.2028929642418946,1.2700050164467438,0.3459762667561772,0.503265154331763,-0.5968947666394623,-0.0628886145301624,1.1198371781866292,-0.46937324902263566,-0.05882297773839477,0.5624518934746332,-0.8132685672237479,0.6272154794742844,-1.110779835019135,0.18092756927280107,0.9022611614334409,0.29925281584494856,0.644303083237883,-0.7146993167999712,0.6826045755625907,1.6297891299252922,-0.18266370408824886,-1.1019918640555506,-0.043919066070177884,-0.07392731247533543,-1.125969023463554,-0.8095616124809866,-0.6347358104155362,-0.8966481619843136,-1.4253896791897036,1.0938072689136262,0.16119350933819893,-0.30616337006950906,-0.5724668281307519,-0.3652779626589068,-0.6277217354019603,-1.1052084012354078,-1.0497908154685873,-0.6987832856088142,-1.3344438626800967,1.1961042861699718,-1.4899688870489125,1.0000751903989364,-1.8217761617014219,1.4220702970109613,0.7793771788388744,1.9316110366879462,0.5344841146693203,1.0255461980026384,0.6601181077255065,-0.7257477239987026,1.0618248411512208,0.32317893709863227,0.12750962814688283,1.8817838507471143,-2.9730403702512573,-1.0963906056140136,-1.2448367914502456,0.3860066048958656,-0.9009446834368859,-0.66397430581543,-1.7102671235308657,-0.9721395322800673,-0.5471739448000086,0.214711886511749,0.3835999694344564,-0.43467167707527177,0.7336021044528896,0.7231396484476731,-1.286530368189027,1.0363036097846994,0.13971486568107366,-0.7407978110384146,0.8256735221085763,2.282521420012441,-0.6462513183208001,-0.4182068194743313,0.5066825121961596,0.12120851763533104,0.9240385901151515],\"yaxis\":\"y10\",\"type\":\"scatter\"},{\"histfunc\":\"count\",\"histnorm\":\"\",\"marker\":{\"color\":\"rgba(50, 171, 96, 1.0)\",\"line\":{\"color\":\"#4D5663\",\"width\":1.3}},\"name\":\"C\",\"nbinsx\":10,\"opacity\":0.8,\"orientation\":\"v\",\"x\":[0.07666732342800771,1.2330942872480357,0.7174272909879041,1.1650341605909447,0.38844987290932875,-0.9639285898227601,-0.35383599355953205,-2.336303967107702,-0.454184402697137,0.9137067197584892,-0.2607123082209486,0.9433341029331787,-0.21795959215144017,2.0247544405549736,0.5166075386935827,-1.4035414840754523,0.2217421931499329,2.0397128159939464,-0.3528736724112633,1.3309677291731317,-0.4480429789873115,-2.2028929642418946,1.2700050164467438,0.3459762667561772,0.503265154331763,-0.5968947666394623,-0.0628886145301624,1.1198371781866292,-0.46937324902263566,-0.05882297773839477,0.5624518934746332,-0.8132685672237479,0.6272154794742844,-1.110779835019135,0.18092756927280107,0.9022611614334409,0.29925281584494856,0.644303083237883,-0.7146993167999712,0.6826045755625907,1.6297891299252922,-0.18266370408824886,-1.1019918640555506,-0.043919066070177884,-0.07392731247533543,-1.125969023463554,-0.8095616124809866,-0.6347358104155362,-0.8966481619843136,-1.4253896791897036,1.0938072689136262,0.16119350933819893,-0.30616337006950906,-0.5724668281307519,-0.3652779626589068,-0.6277217354019603,-1.1052084012354078,-1.0497908154685873,-0.6987832856088142,-1.3344438626800967,1.1961042861699718,-1.4899688870489125,1.0000751903989364,-1.8217761617014219,1.4220702970109613,0.7793771788388744,1.9316110366879462,0.5344841146693203,1.0255461980026384,0.6601181077255065,-0.7257477239987026,1.0618248411512208,0.32317893709863227,0.12750962814688283,1.8817838507471143,-2.9730403702512573,-1.0963906056140136,-1.2448367914502456,0.3860066048958656,-0.9009446834368859,-0.66397430581543,-1.7102671235308657,-0.9721395322800673,-0.5471739448000086,0.214711886511749,0.3835999694344564,-0.43467167707527177,0.7336021044528896,0.7231396484476731,-1.286530368189027,1.0363036097846994,0.13971486568107366,-0.7407978110384146,0.8256735221085763,2.282521420012441,-0.6462513183208001,-0.4182068194743313,0.5066825121961596,0.12120851763533104,0.9240385901151515],\"xaxis\":\"x11\",\"yaxis\":\"y11\",\"type\":\"histogram\"},{\"line\":{\"color\":\"rgba(128, 128, 128, 1.0)\",\"dash\":\"solid\",\"shape\":\"linear\",\"width\":1.3},\"marker\":{\"size\":2,\"symbol\":\"circle\"},\"mode\":\"markers\",\"name\":\"C\",\"text\":\"\",\"x\":[0.3978440991444191,-0.28826972274567153,1.4605083586129701,0.2065787905465538,0.8658830690411201,-1.2031456624357368,-2.03192504314234,-0.08577266443308462,-1.3694084036433456,-0.4083601555579031,-0.12361860968708542,0.8416477809104242,-0.6873127692908836,-1.3528881794620782,0.37330461013009536,0.03275965692509622,0.5129981243596776,-0.8835742034571936,0.07223968526867314,-0.02333076989038537,-0.6265151633100899,-0.5218320855379366,-0.4895793941163754,2.213512952111512,-0.116267441642128,0.3694806494602197,-1.214012553861094,0.8720172573534196,-0.8138817609636407,-0.9149093340883017,2.177141028944511,-0.9141757610980059,1.2034826746030953,-0.7560880909320254,0.4322821932025189,-0.8282043614271062,-0.6555611059628269,1.7063976854975547,-0.40473070444417425,-0.2665243915899419,0.8636591307842529,0.32876329718060393,1.4298577740388587,-0.6434049702637586,-0.1688216562582055,0.15867078100399273,0.11358649861806933,1.7562112783418848,-0.7759260282814037,-1.0467783901538161,-0.9362037235611053,-0.07462359288103255,-0.1057024142409333,0.7139610818939208,-1.5917657767238034,-1.9519861497861795,0.06352992800290329,-0.7268321007370007,0.28921565309844144,0.21578351220190345,-0.6488829995176352,-0.773244402629859,-0.6148232908512383,-0.18142239454014847,-0.6237023760351863,-1.4318132576877778,0.6966029765286594,-0.19314281528471364,-0.8077947304832552,-0.02327388299382055,-1.6291266184528357,-0.7731480255084516,-0.3606766818155555,-0.30037559705506767,-1.6147033943175884,-0.22775648571217666,-0.6720664190488358,-0.45055456803840854,0.7302207964718278,0.9261309442615799,0.2210512002211912,-0.9501229748377441,0.7355812952672144,1.9705985594290139,0.9477160505711176,1.5513943863039383,-0.8756031158018538,-0.8929135714326509,0.3742093694591922,1.4004035888510076,0.17581167607170853,0.1382191649353529,-0.5168167622706401,0.9012140474064909,0.9425967651953716,-0.3980707296425509,1.014248127966641,-0.5169455069607055,0.16482663143168433,0.9704611452749445],\"xaxis\":\"x12\",\"y\":[0.07666732342800771,1.2330942872480357,0.7174272909879041,1.1650341605909447,0.38844987290932875,-0.9639285898227601,-0.35383599355953205,-2.336303967107702,-0.454184402697137,0.9137067197584892,-0.2607123082209486,0.9433341029331787,-0.21795959215144017,2.0247544405549736,0.5166075386935827,-1.4035414840754523,0.2217421931499329,2.0397128159939464,-0.3528736724112633,1.3309677291731317,-0.4480429789873115,-2.2028929642418946,1.2700050164467438,0.3459762667561772,0.503265154331763,-0.5968947666394623,-0.0628886145301624,1.1198371781866292,-0.46937324902263566,-0.05882297773839477,0.5624518934746332,-0.8132685672237479,0.6272154794742844,-1.110779835019135,0.18092756927280107,0.9022611614334409,0.29925281584494856,0.644303083237883,-0.7146993167999712,0.6826045755625907,1.6297891299252922,-0.18266370408824886,-1.1019918640555506,-0.043919066070177884,-0.07392731247533543,-1.125969023463554,-0.8095616124809866,-0.6347358104155362,-0.8966481619843136,-1.4253896791897036,1.0938072689136262,0.16119350933819893,-0.30616337006950906,-0.5724668281307519,-0.3652779626589068,-0.6277217354019603,-1.1052084012354078,-1.0497908154685873,-0.6987832856088142,-1.3344438626800967,1.1961042861699718,-1.4899688870489125,1.0000751903989364,-1.8217761617014219,1.4220702970109613,0.7793771788388744,1.9316110366879462,0.5344841146693203,1.0255461980026384,0.6601181077255065,-0.7257477239987026,1.0618248411512208,0.32317893709863227,0.12750962814688283,1.8817838507471143,-2.9730403702512573,-1.0963906056140136,-1.2448367914502456,0.3860066048958656,-0.9009446834368859,-0.66397430581543,-1.7102671235308657,-0.9721395322800673,-0.5471739448000086,0.214711886511749,0.3835999694344564,-0.43467167707527177,0.7336021044528896,0.7231396484476731,-1.286530368189027,1.0363036097846994,0.13971486568107366,-0.7407978110384146,0.8256735221085763,2.282521420012441,-0.6462513183208001,-0.4182068194743313,0.5066825121961596,0.12120851763533104,0.9240385901151515],\"yaxis\":\"y12\",\"type\":\"scatter\"},{\"line\":{\"color\":\"rgba(128, 128, 128, 1.0)\",\"dash\":\"solid\",\"shape\":\"linear\",\"width\":1.3},\"marker\":{\"size\":2,\"symbol\":\"circle\"},\"mode\":\"markers\",\"name\":\"D\",\"text\":\"\",\"x\":[-0.4235298267372065,0.8737034190511784,-0.4425667569523764,0.3986178618161769,0.03428784743673946,2.06533134908832,0.10271963749380746,0.05098734502258662,-0.1184063857671036,1.0964064857463354,1.4946454801576834,-0.7437131463014094,1.3253833864300688,-0.49360380332296394,-0.13305937269604404,0.9240293905139304,-0.09424341106312586,1.18071399478596,0.2645952610124938,0.8836118426137318,-1.173003943925152,-0.3212571585007686,-0.4398567644713879,-0.021012138960523438,0.07155221310667621,-2.815070179834287,-0.7035450325355791,-2.3018781723788013,-0.604916557375915,-1.3218543223382502,-0.3097396604396595,-0.854479473887273,-0.4678081709677992,-0.08838304149912787,0.7643585236625032,-1.2729795604519634,-1.2497474177461365,0.11665547061831338,0.054222241262439526,1.3955567369637993,1.2335949227350325,0.7811707745028742,-0.7062201202758001,-0.010086473033524971,0.17612395345598061,2.0194244526399077,-0.124897544987423,0.3504515229698034,0.704102638494282,-0.9641455130531145,0.21652976538587435,-0.6644405943141568,-0.3894761056471769,0.5468190505161646,-0.8363370271767773,-1.1460722642318224,-0.07587582681833421,0.9619169082305153,-0.5239800127167108,1.0311673460804889,-1.1758734601138927,1.5461295811284619,-2.5218097000157984,0.31240706808234286,-0.39540885307643037,-0.9181226038092148,-0.973212682296477,-1.1081306261732067,-0.10776950961150684,-0.050654313344176784,-0.9699477197603297,0.8557740272749418,1.0221888170710327,0.17768076059489119,-0.10870171886551774,0.29400495682356353,0.5229295264694711,1.5207606347295235,1.0936857792331733,-0.11595518871389471,-0.9859049663963309,-0.8199765183066423,0.9134190838522616,-0.7916172912135768,-0.12131152947593532,-1.2701415944118364,-0.9773938872991602,0.3339642125319659,0.6798478253423859,-1.5492577140644306,0.5787098004342369,0.5406428940538466,0.7639972929707557,0.017857529896215186,-0.22871482857901884,-0.07650894408479933,1.7552590593676092,0.18190406729913505,-1.6830180224348916,-2.2543336155615137],\"xaxis\":\"x13\",\"y\":[0.3978440991444191,-0.28826972274567153,1.4605083586129701,0.2065787905465538,0.8658830690411201,-1.2031456624357368,-2.03192504314234,-0.08577266443308462,-1.3694084036433456,-0.4083601555579031,-0.12361860968708542,0.8416477809104242,-0.6873127692908836,-1.3528881794620782,0.37330461013009536,0.03275965692509622,0.5129981243596776,-0.8835742034571936,0.07223968526867314,-0.02333076989038537,-0.6265151633100899,-0.5218320855379366,-0.4895793941163754,2.213512952111512,-0.116267441642128,0.3694806494602197,-1.214012553861094,0.8720172573534196,-0.8138817609636407,-0.9149093340883017,2.177141028944511,-0.9141757610980059,1.2034826746030953,-0.7560880909320254,0.4322821932025189,-0.8282043614271062,-0.6555611059628269,1.7063976854975547,-0.40473070444417425,-0.2665243915899419,0.8636591307842529,0.32876329718060393,1.4298577740388587,-0.6434049702637586,-0.1688216562582055,0.15867078100399273,0.11358649861806933,1.7562112783418848,-0.7759260282814037,-1.0467783901538161,-0.9362037235611053,-0.07462359288103255,-0.1057024142409333,0.7139610818939208,-1.5917657767238034,-1.9519861497861795,0.06352992800290329,-0.7268321007370007,0.28921565309844144,0.21578351220190345,-0.6488829995176352,-0.773244402629859,-0.6148232908512383,-0.18142239454014847,-0.6237023760351863,-1.4318132576877778,0.6966029765286594,-0.19314281528471364,-0.8077947304832552,-0.02327388299382055,-1.6291266184528357,-0.7731480255084516,-0.3606766818155555,-0.30037559705506767,-1.6147033943175884,-0.22775648571217666,-0.6720664190488358,-0.45055456803840854,0.7302207964718278,0.9261309442615799,0.2210512002211912,-0.9501229748377441,0.7355812952672144,1.9705985594290139,0.9477160505711176,1.5513943863039383,-0.8756031158018538,-0.8929135714326509,0.3742093694591922,1.4004035888510076,0.17581167607170853,0.1382191649353529,-0.5168167622706401,0.9012140474064909,0.9425967651953716,-0.3980707296425509,1.014248127966641,-0.5169455069607055,0.16482663143168433,0.9704611452749445],\"yaxis\":\"y13\",\"type\":\"scatter\"},{\"line\":{\"color\":\"rgba(128, 128, 128, 1.0)\",\"dash\":\"solid\",\"shape\":\"linear\",\"width\":1.3},\"marker\":{\"size\":2,\"symbol\":\"circle\"},\"mode\":\"markers\",\"name\":\"D\",\"text\":\"\",\"x\":[0.21294078317383458,0.2518028123325517,0.02091657406832586,1.3626170892858607,0.008884733090600866,-0.7942574105325144,-1.4932730233998306,1.46030442365578,0.5222281818282609,-0.6951728119359911,-1.128579499529297,1.4666696280299252,1.8249626782770507,0.5202794124545566,0.7201153802481164,-1.5626581529361065,0.3374181890445056,-0.2903741529002983,-0.40190112011766466,-1.1603959048941097,0.9945810374960529,1.0458734586078855,-0.10175723853610258,0.5032333501247692,0.4423633466724333,-0.9292874889142884,1.0404659047051579,-0.4081306443840345,1.5848729347087902,0.11617936567027352,0.877815726072177,-1.6737754450487907,-0.6500583582053018,0.6400105834817084,-0.44334139052207533,-0.46506821727471764,1.6976387898715808,-0.4127523142241755,0.2847774928581605,2.0843595325833,1.1962031768333525,-0.19640158479150444,-0.076513511860327,1.091084899278679,0.48501073599044303,-0.5488969947992373,1.5657928427809016,-1.0644035759844077,1.194701257470469,0.5469168263690459,1.733072093267033,1.2634577119112578,-0.5420507058393845,-0.8411226760092744,0.2396772592095201,-0.5175263212605506,1.6612996922788827,0.6317816649077945,-0.3491301771453928,3.2420035524398623,-0.3006899949173568,1.997414779630204,0.12307791592774506,-1.2500563474156865,0.31535217967862017,-0.08156801559514214,0.15695759628048428,1.097578516882325,-1.6933624000861809,1.0998500106286162,-0.04798598377017386,-1.0504861587912668,0.2157760376256392,0.2721587078516661,1.5158996980625876,-1.0820719356636508,-0.7449838137376683,2.1678435919878143,-1.3867241124350391,1.569218147485345,0.9615517659406315,-0.13308189808999643,1.115636697593061,-1.218340919178577,1.458638359803591,0.2360747011023473,0.47478412012124943,0.1559355888436621,0.26512385357664964,0.1568188907648089,0.7603143641721575,-1.1817614859597358,-0.4959769554035473,-1.573931163429572,0.9898452846005282,-1.7092796113603514,-0.16008249410907596,-0.7349355342113074,0.6686336198044844,1.0934331284256122],\"xaxis\":\"x14\",\"y\":[0.3978440991444191,-0.28826972274567153,1.4605083586129701,0.2065787905465538,0.8658830690411201,-1.2031456624357368,-2.03192504314234,-0.08577266443308462,-1.3694084036433456,-0.4083601555579031,-0.12361860968708542,0.8416477809104242,-0.6873127692908836,-1.3528881794620782,0.37330461013009536,0.03275965692509622,0.5129981243596776,-0.8835742034571936,0.07223968526867314,-0.02333076989038537,-0.6265151633100899,-0.5218320855379366,-0.4895793941163754,2.213512952111512,-0.116267441642128,0.3694806494602197,-1.214012553861094,0.8720172573534196,-0.8138817609636407,-0.9149093340883017,2.177141028944511,-0.9141757610980059,1.2034826746030953,-0.7560880909320254,0.4322821932025189,-0.8282043614271062,-0.6555611059628269,1.7063976854975547,-0.40473070444417425,-0.2665243915899419,0.8636591307842529,0.32876329718060393,1.4298577740388587,-0.6434049702637586,-0.1688216562582055,0.15867078100399273,0.11358649861806933,1.7562112783418848,-0.7759260282814037,-1.0467783901538161,-0.9362037235611053,-0.07462359288103255,-0.1057024142409333,0.7139610818939208,-1.5917657767238034,-1.9519861497861795,0.06352992800290329,-0.7268321007370007,0.28921565309844144,0.21578351220190345,-0.6488829995176352,-0.773244402629859,-0.6148232908512383,-0.18142239454014847,-0.6237023760351863,-1.4318132576877778,0.6966029765286594,-0.19314281528471364,-0.8077947304832552,-0.02327388299382055,-1.6291266184528357,-0.7731480255084516,-0.3606766818155555,-0.30037559705506767,-1.6147033943175884,-0.22775648571217666,-0.6720664190488358,-0.45055456803840854,0.7302207964718278,0.9261309442615799,0.2210512002211912,-0.9501229748377441,0.7355812952672144,1.9705985594290139,0.9477160505711176,1.5513943863039383,-0.8756031158018538,-0.8929135714326509,0.3742093694591922,1.4004035888510076,0.17581167607170853,0.1382191649353529,-0.5168167622706401,0.9012140474064909,0.9425967651953716,-0.3980707296425509,1.014248127966641,-0.5169455069607055,0.16482663143168433,0.9704611452749445],\"yaxis\":\"y14\",\"type\":\"scatter\"},{\"line\":{\"color\":\"rgba(128, 128, 128, 1.0)\",\"dash\":\"solid\",\"shape\":\"linear\",\"width\":1.3},\"marker\":{\"size\":2,\"symbol\":\"circle\"},\"mode\":\"markers\",\"name\":\"D\",\"text\":\"\",\"x\":[0.07666732342800771,1.2330942872480357,0.7174272909879041,1.1650341605909447,0.38844987290932875,-0.9639285898227601,-0.35383599355953205,-2.336303967107702,-0.454184402697137,0.9137067197584892,-0.2607123082209486,0.9433341029331787,-0.21795959215144017,2.0247544405549736,0.5166075386935827,-1.4035414840754523,0.2217421931499329,2.0397128159939464,-0.3528736724112633,1.3309677291731317,-0.4480429789873115,-2.2028929642418946,1.2700050164467438,0.3459762667561772,0.503265154331763,-0.5968947666394623,-0.0628886145301624,1.1198371781866292,-0.46937324902263566,-0.05882297773839477,0.5624518934746332,-0.8132685672237479,0.6272154794742844,-1.110779835019135,0.18092756927280107,0.9022611614334409,0.29925281584494856,0.644303083237883,-0.7146993167999712,0.6826045755625907,1.6297891299252922,-0.18266370408824886,-1.1019918640555506,-0.043919066070177884,-0.07392731247533543,-1.125969023463554,-0.8095616124809866,-0.6347358104155362,-0.8966481619843136,-1.4253896791897036,1.0938072689136262,0.16119350933819893,-0.30616337006950906,-0.5724668281307519,-0.3652779626589068,-0.6277217354019603,-1.1052084012354078,-1.0497908154685873,-0.6987832856088142,-1.3344438626800967,1.1961042861699718,-1.4899688870489125,1.0000751903989364,-1.8217761617014219,1.4220702970109613,0.7793771788388744,1.9316110366879462,0.5344841146693203,1.0255461980026384,0.6601181077255065,-0.7257477239987026,1.0618248411512208,0.32317893709863227,0.12750962814688283,1.8817838507471143,-2.9730403702512573,-1.0963906056140136,-1.2448367914502456,0.3860066048958656,-0.9009446834368859,-0.66397430581543,-1.7102671235308657,-0.9721395322800673,-0.5471739448000086,0.214711886511749,0.3835999694344564,-0.43467167707527177,0.7336021044528896,0.7231396484476731,-1.286530368189027,1.0363036097846994,0.13971486568107366,-0.7407978110384146,0.8256735221085763,2.282521420012441,-0.6462513183208001,-0.4182068194743313,0.5066825121961596,0.12120851763533104,0.9240385901151515],\"xaxis\":\"x15\",\"y\":[0.3978440991444191,-0.28826972274567153,1.4605083586129701,0.2065787905465538,0.8658830690411201,-1.2031456624357368,-2.03192504314234,-0.08577266443308462,-1.3694084036433456,-0.4083601555579031,-0.12361860968708542,0.8416477809104242,-0.6873127692908836,-1.3528881794620782,0.37330461013009536,0.03275965692509622,0.5129981243596776,-0.8835742034571936,0.07223968526867314,-0.02333076989038537,-0.6265151633100899,-0.5218320855379366,-0.4895793941163754,2.213512952111512,-0.116267441642128,0.3694806494602197,-1.214012553861094,0.8720172573534196,-0.8138817609636407,-0.9149093340883017,2.177141028944511,-0.9141757610980059,1.2034826746030953,-0.7560880909320254,0.4322821932025189,-0.8282043614271062,-0.6555611059628269,1.7063976854975547,-0.40473070444417425,-0.2665243915899419,0.8636591307842529,0.32876329718060393,1.4298577740388587,-0.6434049702637586,-0.1688216562582055,0.15867078100399273,0.11358649861806933,1.7562112783418848,-0.7759260282814037,-1.0467783901538161,-0.9362037235611053,-0.07462359288103255,-0.1057024142409333,0.7139610818939208,-1.5917657767238034,-1.9519861497861795,0.06352992800290329,-0.7268321007370007,0.28921565309844144,0.21578351220190345,-0.6488829995176352,-0.773244402629859,-0.6148232908512383,-0.18142239454014847,-0.6237023760351863,-1.4318132576877778,0.6966029765286594,-0.19314281528471364,-0.8077947304832552,-0.02327388299382055,-1.6291266184528357,-0.7731480255084516,-0.3606766818155555,-0.30037559705506767,-1.6147033943175884,-0.22775648571217666,-0.6720664190488358,-0.45055456803840854,0.7302207964718278,0.9261309442615799,0.2210512002211912,-0.9501229748377441,0.7355812952672144,1.9705985594290139,0.9477160505711176,1.5513943863039383,-0.8756031158018538,-0.8929135714326509,0.3742093694591922,1.4004035888510076,0.17581167607170853,0.1382191649353529,-0.5168167622706401,0.9012140474064909,0.9425967651953716,-0.3980707296425509,1.014248127966641,-0.5169455069607055,0.16482663143168433,0.9704611452749445],\"yaxis\":\"y15\",\"type\":\"scatter\"},{\"histfunc\":\"count\",\"histnorm\":\"\",\"marker\":{\"color\":\"rgba(128, 0, 128, 1.0)\",\"line\":{\"color\":\"#4D5663\",\"width\":1.3}},\"name\":\"D\",\"nbinsx\":10,\"opacity\":0.8,\"orientation\":\"v\",\"x\":[0.3978440991444191,-0.28826972274567153,1.4605083586129701,0.2065787905465538,0.8658830690411201,-1.2031456624357368,-2.03192504314234,-0.08577266443308462,-1.3694084036433456,-0.4083601555579031,-0.12361860968708542,0.8416477809104242,-0.6873127692908836,-1.3528881794620782,0.37330461013009536,0.03275965692509622,0.5129981243596776,-0.8835742034571936,0.07223968526867314,-0.02333076989038537,-0.6265151633100899,-0.5218320855379366,-0.4895793941163754,2.213512952111512,-0.116267441642128,0.3694806494602197,-1.214012553861094,0.8720172573534196,-0.8138817609636407,-0.9149093340883017,2.177141028944511,-0.9141757610980059,1.2034826746030953,-0.7560880909320254,0.4322821932025189,-0.8282043614271062,-0.6555611059628269,1.7063976854975547,-0.40473070444417425,-0.2665243915899419,0.8636591307842529,0.32876329718060393,1.4298577740388587,-0.6434049702637586,-0.1688216562582055,0.15867078100399273,0.11358649861806933,1.7562112783418848,-0.7759260282814037,-1.0467783901538161,-0.9362037235611053,-0.07462359288103255,-0.1057024142409333,0.7139610818939208,-1.5917657767238034,-1.9519861497861795,0.06352992800290329,-0.7268321007370007,0.28921565309844144,0.21578351220190345,-0.6488829995176352,-0.773244402629859,-0.6148232908512383,-0.18142239454014847,-0.6237023760351863,-1.4318132576877778,0.6966029765286594,-0.19314281528471364,-0.8077947304832552,-0.02327388299382055,-1.6291266184528357,-0.7731480255084516,-0.3606766818155555,-0.30037559705506767,-1.6147033943175884,-0.22775648571217666,-0.6720664190488358,-0.45055456803840854,0.7302207964718278,0.9261309442615799,0.2210512002211912,-0.9501229748377441,0.7355812952672144,1.9705985594290139,0.9477160505711176,1.5513943863039383,-0.8756031158018538,-0.8929135714326509,0.3742093694591922,1.4004035888510076,0.17581167607170853,0.1382191649353529,-0.5168167622706401,0.9012140474064909,0.9425967651953716,-0.3980707296425509,1.014248127966641,-0.5169455069607055,0.16482663143168433,0.9704611452749445],\"xaxis\":\"x16\",\"yaxis\":\"y16\",\"type\":\"histogram\"}],                        {\"bargap\":0.02,\"legend\":{\"bgcolor\":\"#F5F6F9\",\"font\":{\"color\":\"#4D5663\"}},\"paper_bgcolor\":\"#F5F6F9\",\"plot_bgcolor\":\"#F5F6F9\",\"showlegend\":false,\"template\":{\"data\":{\"barpolar\":[{\"marker\":{\"line\":{\"color\":\"#E5ECF6\",\"width\":0.5},\"pattern\":{\"fillmode\":\"overlay\",\"size\":10,\"solidity\":0.2}},\"type\":\"barpolar\"}],\"bar\":[{\"error_x\":{\"color\":\"#2a3f5f\"},\"error_y\":{\"color\":\"#2a3f5f\"},\"marker\":{\"line\":{\"color\":\"#E5ECF6\",\"width\":0.5},\"pattern\":{\"fillmode\":\"overlay\",\"size\":10,\"solidity\":0.2}},\"type\":\"bar\"}],\"carpet\":[{\"aaxis\":{\"endlinecolor\":\"#2a3f5f\",\"gridcolor\":\"white\",\"linecolor\":\"white\",\"minorgridcolor\":\"white\",\"startlinecolor\":\"#2a3f5f\"},\"baxis\":{\"endlinecolor\":\"#2a3f5f\",\"gridcolor\":\"white\",\"linecolor\":\"white\",\"minorgridcolor\":\"white\",\"startlinecolor\":\"#2a3f5f\"},\"type\":\"carpet\"}],\"choropleth\":[{\"colorbar\":{\"outlinewidth\":0,\"ticks\":\"\"},\"type\":\"choropleth\"}],\"contourcarpet\":[{\"colorbar\":{\"outlinewidth\":0,\"ticks\":\"\"},\"type\":\"contourcarpet\"}],\"contour\":[{\"colorbar\":{\"outlinewidth\":0,\"ticks\":\"\"},\"colorscale\":[[0.0,\"#0d0887\"],[0.1111111111111111,\"#46039f\"],[0.2222222222222222,\"#7201a8\"],[0.3333333333333333,\"#9c179e\"],[0.4444444444444444,\"#bd3786\"],[0.5555555555555556,\"#d8576b\"],[0.6666666666666666,\"#ed7953\"],[0.7777777777777778,\"#fb9f3a\"],[0.8888888888888888,\"#fdca26\"],[1.0,\"#f0f921\"]],\"type\":\"contour\"}],\"heatmapgl\":[{\"colorbar\":{\"outlinewidth\":0,\"ticks\":\"\"},\"colorscale\":[[0.0,\"#0d0887\"],[0.1111111111111111,\"#46039f\"],[0.2222222222222222,\"#7201a8\"],[0.3333333333333333,\"#9c179e\"],[0.4444444444444444,\"#bd3786\"],[0.5555555555555556,\"#d8576b\"],[0.6666666666666666,\"#ed7953\"],[0.7777777777777778,\"#fb9f3a\"],[0.8888888888888888,\"#fdca26\"],[1.0,\"#f0f921\"]],\"type\":\"heatmapgl\"}],\"heatmap\":[{\"colorbar\":{\"outlinewidth\":0,\"ticks\":\"\"},\"colorscale\":[[0.0,\"#0d0887\"],[0.1111111111111111,\"#46039f\"],[0.2222222222222222,\"#7201a8\"],[0.3333333333333333,\"#9c179e\"],[0.4444444444444444,\"#bd3786\"],[0.5555555555555556,\"#d8576b\"],[0.6666666666666666,\"#ed7953\"],[0.7777777777777778,\"#fb9f3a\"],[0.8888888888888888,\"#fdca26\"],[1.0,\"#f0f921\"]],\"type\":\"heatmap\"}],\"histogram2dcontour\":[{\"colorbar\":{\"outlinewidth\":0,\"ticks\":\"\"},\"colorscale\":[[0.0,\"#0d0887\"],[0.1111111111111111,\"#46039f\"],[0.2222222222222222,\"#7201a8\"],[0.3333333333333333,\"#9c179e\"],[0.4444444444444444,\"#bd3786\"],[0.5555555555555556,\"#d8576b\"],[0.6666666666666666,\"#ed7953\"],[0.7777777777777778,\"#fb9f3a\"],[0.8888888888888888,\"#fdca26\"],[1.0,\"#f0f921\"]],\"type\":\"histogram2dcontour\"}],\"histogram2d\":[{\"colorbar\":{\"outlinewidth\":0,\"ticks\":\"\"},\"colorscale\":[[0.0,\"#0d0887\"],[0.1111111111111111,\"#46039f\"],[0.2222222222222222,\"#7201a8\"],[0.3333333333333333,\"#9c179e\"],[0.4444444444444444,\"#bd3786\"],[0.5555555555555556,\"#d8576b\"],[0.6666666666666666,\"#ed7953\"],[0.7777777777777778,\"#fb9f3a\"],[0.8888888888888888,\"#fdca26\"],[1.0,\"#f0f921\"]],\"type\":\"histogram2d\"}],\"histogram\":[{\"marker\":{\"pattern\":{\"fillmode\":\"overlay\",\"size\":10,\"solidity\":0.2}},\"type\":\"histogram\"}],\"mesh3d\":[{\"colorbar\":{\"outlinewidth\":0,\"ticks\":\"\"},\"type\":\"mesh3d\"}],\"parcoords\":[{\"line\":{\"colorbar\":{\"outlinewidth\":0,\"ticks\":\"\"}},\"type\":\"parcoords\"}],\"pie\":[{\"automargin\":true,\"type\":\"pie\"}],\"scatter3d\":[{\"line\":{\"colorbar\":{\"outlinewidth\":0,\"ticks\":\"\"}},\"marker\":{\"colorbar\":{\"outlinewidth\":0,\"ticks\":\"\"}},\"type\":\"scatter3d\"}],\"scattercarpet\":[{\"marker\":{\"colorbar\":{\"outlinewidth\":0,\"ticks\":\"\"}},\"type\":\"scattercarpet\"}],\"scattergeo\":[{\"marker\":{\"colorbar\":{\"outlinewidth\":0,\"ticks\":\"\"}},\"type\":\"scattergeo\"}],\"scattergl\":[{\"marker\":{\"colorbar\":{\"outlinewidth\":0,\"ticks\":\"\"}},\"type\":\"scattergl\"}],\"scattermapbox\":[{\"marker\":{\"colorbar\":{\"outlinewidth\":0,\"ticks\":\"\"}},\"type\":\"scattermapbox\"}],\"scatterpolargl\":[{\"marker\":{\"colorbar\":{\"outlinewidth\":0,\"ticks\":\"\"}},\"type\":\"scatterpolargl\"}],\"scatterpolar\":[{\"marker\":{\"colorbar\":{\"outlinewidth\":0,\"ticks\":\"\"}},\"type\":\"scatterpolar\"}],\"scatter\":[{\"fillpattern\":{\"fillmode\":\"overlay\",\"size\":10,\"solidity\":0.2},\"type\":\"scatter\"}],\"scatterternary\":[{\"marker\":{\"colorbar\":{\"outlinewidth\":0,\"ticks\":\"\"}},\"type\":\"scatterternary\"}],\"surface\":[{\"colorbar\":{\"outlinewidth\":0,\"ticks\":\"\"},\"colorscale\":[[0.0,\"#0d0887\"],[0.1111111111111111,\"#46039f\"],[0.2222222222222222,\"#7201a8\"],[0.3333333333333333,\"#9c179e\"],[0.4444444444444444,\"#bd3786\"],[0.5555555555555556,\"#d8576b\"],[0.6666666666666666,\"#ed7953\"],[0.7777777777777778,\"#fb9f3a\"],[0.8888888888888888,\"#fdca26\"],[1.0,\"#f0f921\"]],\"type\":\"surface\"}],\"table\":[{\"cells\":{\"fill\":{\"color\":\"#EBF0F8\"},\"line\":{\"color\":\"white\"}},\"header\":{\"fill\":{\"color\":\"#C8D4E3\"},\"line\":{\"color\":\"white\"}},\"type\":\"table\"}]},\"layout\":{\"annotationdefaults\":{\"arrowcolor\":\"#2a3f5f\",\"arrowhead\":0,\"arrowwidth\":1},\"autotypenumbers\":\"strict\",\"coloraxis\":{\"colorbar\":{\"outlinewidth\":0,\"ticks\":\"\"}},\"colorscale\":{\"diverging\":[[0,\"#8e0152\"],[0.1,\"#c51b7d\"],[0.2,\"#de77ae\"],[0.3,\"#f1b6da\"],[0.4,\"#fde0ef\"],[0.5,\"#f7f7f7\"],[0.6,\"#e6f5d0\"],[0.7,\"#b8e186\"],[0.8,\"#7fbc41\"],[0.9,\"#4d9221\"],[1,\"#276419\"]],\"sequential\":[[0.0,\"#0d0887\"],[0.1111111111111111,\"#46039f\"],[0.2222222222222222,\"#7201a8\"],[0.3333333333333333,\"#9c179e\"],[0.4444444444444444,\"#bd3786\"],[0.5555555555555556,\"#d8576b\"],[0.6666666666666666,\"#ed7953\"],[0.7777777777777778,\"#fb9f3a\"],[0.8888888888888888,\"#fdca26\"],[1.0,\"#f0f921\"]],\"sequentialminus\":[[0.0,\"#0d0887\"],[0.1111111111111111,\"#46039f\"],[0.2222222222222222,\"#7201a8\"],[0.3333333333333333,\"#9c179e\"],[0.4444444444444444,\"#bd3786\"],[0.5555555555555556,\"#d8576b\"],[0.6666666666666666,\"#ed7953\"],[0.7777777777777778,\"#fb9f3a\"],[0.8888888888888888,\"#fdca26\"],[1.0,\"#f0f921\"]]},\"colorway\":[\"#636efa\",\"#EF553B\",\"#00cc96\",\"#ab63fa\",\"#FFA15A\",\"#19d3f3\",\"#FF6692\",\"#B6E880\",\"#FF97FF\",\"#FECB52\"],\"font\":{\"color\":\"#2a3f5f\"},\"geo\":{\"bgcolor\":\"white\",\"lakecolor\":\"white\",\"landcolor\":\"#E5ECF6\",\"showlakes\":true,\"showland\":true,\"subunitcolor\":\"white\"},\"hoverlabel\":{\"align\":\"left\"},\"hovermode\":\"closest\",\"mapbox\":{\"style\":\"light\"},\"paper_bgcolor\":\"white\",\"plot_bgcolor\":\"#E5ECF6\",\"polar\":{\"angularaxis\":{\"gridcolor\":\"white\",\"linecolor\":\"white\",\"ticks\":\"\"},\"bgcolor\":\"#E5ECF6\",\"radialaxis\":{\"gridcolor\":\"white\",\"linecolor\":\"white\",\"ticks\":\"\"}},\"scene\":{\"xaxis\":{\"backgroundcolor\":\"#E5ECF6\",\"gridcolor\":\"white\",\"gridwidth\":2,\"linecolor\":\"white\",\"showbackground\":true,\"ticks\":\"\",\"zerolinecolor\":\"white\"},\"yaxis\":{\"backgroundcolor\":\"#E5ECF6\",\"gridcolor\":\"white\",\"gridwidth\":2,\"linecolor\":\"white\",\"showbackground\":true,\"ticks\":\"\",\"zerolinecolor\":\"white\"},\"zaxis\":{\"backgroundcolor\":\"#E5ECF6\",\"gridcolor\":\"white\",\"gridwidth\":2,\"linecolor\":\"white\",\"showbackground\":true,\"ticks\":\"\",\"zerolinecolor\":\"white\"}},\"shapedefaults\":{\"line\":{\"color\":\"#2a3f5f\"}},\"ternary\":{\"aaxis\":{\"gridcolor\":\"white\",\"linecolor\":\"white\",\"ticks\":\"\"},\"baxis\":{\"gridcolor\":\"white\",\"linecolor\":\"white\",\"ticks\":\"\"},\"bgcolor\":\"#E5ECF6\",\"caxis\":{\"gridcolor\":\"white\",\"linecolor\":\"white\",\"ticks\":\"\"}},\"title\":{\"x\":0.05},\"xaxis\":{\"automargin\":true,\"gridcolor\":\"white\",\"linecolor\":\"white\",\"ticks\":\"\",\"title\":{\"standoff\":15},\"zerolinecolor\":\"white\",\"zerolinewidth\":2},\"yaxis\":{\"automargin\":true,\"gridcolor\":\"white\",\"linecolor\":\"white\",\"ticks\":\"\",\"title\":{\"standoff\":15},\"zerolinecolor\":\"white\",\"zerolinewidth\":2}}},\"title\":{\"font\":{\"color\":\"#4D5663\"}},\"xaxis\":{\"anchor\":\"y\",\"domain\":[0.0,0.2125],\"gridcolor\":\"#E1E5ED\",\"showgrid\":false,\"tickfont\":{\"color\":\"#4D5663\"},\"title\":{\"font\":{\"color\":\"#4D5663\"},\"text\":\"\"},\"zerolinecolor\":\"#E1E5ED\"},\"yaxis\":{\"anchor\":\"x\",\"domain\":[0.8025,1.0],\"gridcolor\":\"#E1E5ED\",\"showgrid\":false,\"tickfont\":{\"color\":\"#4D5663\"},\"title\":{\"font\":{\"color\":\"#4D5663\"},\"text\":\"\"},\"zerolinecolor\":\"#E1E5ED\"},\"xaxis2\":{\"anchor\":\"y2\",\"domain\":[0.2625,0.475],\"gridcolor\":\"#E1E5ED\",\"showgrid\":false,\"tickfont\":{\"color\":\"#4D5663\"},\"title\":{\"font\":{\"color\":\"#4D5663\"},\"text\":\"\"},\"zerolinecolor\":\"#E1E5ED\"},\"yaxis2\":{\"anchor\":\"x2\",\"domain\":[0.8025,1.0],\"gridcolor\":\"#E1E5ED\",\"showgrid\":false,\"tickfont\":{\"color\":\"#4D5663\"},\"title\":{\"font\":{\"color\":\"#4D5663\"},\"text\":\"\"},\"zerolinecolor\":\"#E1E5ED\"},\"xaxis3\":{\"anchor\":\"y3\",\"domain\":[0.525,0.7375],\"gridcolor\":\"#E1E5ED\",\"showgrid\":false,\"tickfont\":{\"color\":\"#4D5663\"},\"title\":{\"font\":{\"color\":\"#4D5663\"},\"text\":\"\"},\"zerolinecolor\":\"#E1E5ED\"},\"yaxis3\":{\"anchor\":\"x3\",\"domain\":[0.8025,1.0],\"gridcolor\":\"#E1E5ED\",\"showgrid\":false,\"tickfont\":{\"color\":\"#4D5663\"},\"title\":{\"font\":{\"color\":\"#4D5663\"},\"text\":\"\"},\"zerolinecolor\":\"#E1E5ED\"},\"xaxis4\":{\"anchor\":\"y4\",\"domain\":[0.7875,1.0],\"gridcolor\":\"#E1E5ED\",\"showgrid\":false,\"tickfont\":{\"color\":\"#4D5663\"},\"title\":{\"font\":{\"color\":\"#4D5663\"},\"text\":\"\"},\"zerolinecolor\":\"#E1E5ED\"},\"yaxis4\":{\"anchor\":\"x4\",\"domain\":[0.8025,1.0],\"gridcolor\":\"#E1E5ED\",\"showgrid\":false,\"tickfont\":{\"color\":\"#4D5663\"},\"title\":{\"font\":{\"color\":\"#4D5663\"},\"text\":\"\"},\"zerolinecolor\":\"#E1E5ED\"},\"xaxis5\":{\"anchor\":\"y5\",\"domain\":[0.0,0.2125],\"gridcolor\":\"#E1E5ED\",\"showgrid\":false,\"tickfont\":{\"color\":\"#4D5663\"},\"title\":{\"font\":{\"color\":\"#4D5663\"},\"text\":\"\"},\"zerolinecolor\":\"#E1E5ED\"},\"yaxis5\":{\"anchor\":\"x5\",\"domain\":[0.535,0.7325],\"gridcolor\":\"#E1E5ED\",\"showgrid\":false,\"tickfont\":{\"color\":\"#4D5663\"},\"title\":{\"font\":{\"color\":\"#4D5663\"},\"text\":\"\"},\"zerolinecolor\":\"#E1E5ED\"},\"xaxis6\":{\"anchor\":\"y6\",\"domain\":[0.2625,0.475],\"gridcolor\":\"#E1E5ED\",\"showgrid\":false,\"tickfont\":{\"color\":\"#4D5663\"},\"title\":{\"font\":{\"color\":\"#4D5663\"},\"text\":\"\"},\"zerolinecolor\":\"#E1E5ED\"},\"yaxis6\":{\"anchor\":\"x6\",\"domain\":[0.535,0.7325],\"gridcolor\":\"#E1E5ED\",\"showgrid\":false,\"tickfont\":{\"color\":\"#4D5663\"},\"title\":{\"font\":{\"color\":\"#4D5663\"},\"text\":\"\"},\"zerolinecolor\":\"#E1E5ED\"},\"xaxis7\":{\"anchor\":\"y7\",\"domain\":[0.525,0.7375],\"gridcolor\":\"#E1E5ED\",\"showgrid\":false,\"tickfont\":{\"color\":\"#4D5663\"},\"title\":{\"font\":{\"color\":\"#4D5663\"},\"text\":\"\"},\"zerolinecolor\":\"#E1E5ED\"},\"yaxis7\":{\"anchor\":\"x7\",\"domain\":[0.535,0.7325],\"gridcolor\":\"#E1E5ED\",\"showgrid\":false,\"tickfont\":{\"color\":\"#4D5663\"},\"title\":{\"font\":{\"color\":\"#4D5663\"},\"text\":\"\"},\"zerolinecolor\":\"#E1E5ED\"},\"xaxis8\":{\"anchor\":\"y8\",\"domain\":[0.7875,1.0],\"gridcolor\":\"#E1E5ED\",\"showgrid\":false,\"tickfont\":{\"color\":\"#4D5663\"},\"title\":{\"font\":{\"color\":\"#4D5663\"},\"text\":\"\"},\"zerolinecolor\":\"#E1E5ED\"},\"yaxis8\":{\"anchor\":\"x8\",\"domain\":[0.535,0.7325],\"gridcolor\":\"#E1E5ED\",\"showgrid\":false,\"tickfont\":{\"color\":\"#4D5663\"},\"title\":{\"font\":{\"color\":\"#4D5663\"},\"text\":\"\"},\"zerolinecolor\":\"#E1E5ED\"},\"xaxis9\":{\"anchor\":\"y9\",\"domain\":[0.0,0.2125],\"gridcolor\":\"#E1E5ED\",\"showgrid\":false,\"tickfont\":{\"color\":\"#4D5663\"},\"title\":{\"font\":{\"color\":\"#4D5663\"},\"text\":\"\"},\"zerolinecolor\":\"#E1E5ED\"},\"yaxis9\":{\"anchor\":\"x9\",\"domain\":[0.2675,0.465],\"gridcolor\":\"#E1E5ED\",\"showgrid\":false,\"tickfont\":{\"color\":\"#4D5663\"},\"title\":{\"font\":{\"color\":\"#4D5663\"},\"text\":\"\"},\"zerolinecolor\":\"#E1E5ED\"},\"xaxis10\":{\"anchor\":\"y10\",\"domain\":[0.2625,0.475],\"gridcolor\":\"#E1E5ED\",\"showgrid\":false,\"tickfont\":{\"color\":\"#4D5663\"},\"title\":{\"font\":{\"color\":\"#4D5663\"},\"text\":\"\"},\"zerolinecolor\":\"#E1E5ED\"},\"yaxis10\":{\"anchor\":\"x10\",\"domain\":[0.2675,0.465],\"gridcolor\":\"#E1E5ED\",\"showgrid\":false,\"tickfont\":{\"color\":\"#4D5663\"},\"title\":{\"font\":{\"color\":\"#4D5663\"},\"text\":\"\"},\"zerolinecolor\":\"#E1E5ED\"},\"xaxis11\":{\"anchor\":\"y11\",\"domain\":[0.525,0.7375],\"gridcolor\":\"#E1E5ED\",\"showgrid\":false,\"tickfont\":{\"color\":\"#4D5663\"},\"title\":{\"font\":{\"color\":\"#4D5663\"},\"text\":\"\"},\"zerolinecolor\":\"#E1E5ED\"},\"yaxis11\":{\"anchor\":\"x11\",\"domain\":[0.2675,0.465],\"gridcolor\":\"#E1E5ED\",\"showgrid\":false,\"tickfont\":{\"color\":\"#4D5663\"},\"title\":{\"font\":{\"color\":\"#4D5663\"},\"text\":\"\"},\"zerolinecolor\":\"#E1E5ED\"},\"xaxis12\":{\"anchor\":\"y12\",\"domain\":[0.7875,1.0],\"gridcolor\":\"#E1E5ED\",\"showgrid\":false,\"tickfont\":{\"color\":\"#4D5663\"},\"title\":{\"font\":{\"color\":\"#4D5663\"},\"text\":\"\"},\"zerolinecolor\":\"#E1E5ED\"},\"yaxis12\":{\"anchor\":\"x12\",\"domain\":[0.2675,0.465],\"gridcolor\":\"#E1E5ED\",\"showgrid\":false,\"tickfont\":{\"color\":\"#4D5663\"},\"title\":{\"font\":{\"color\":\"#4D5663\"},\"text\":\"\"},\"zerolinecolor\":\"#E1E5ED\"},\"xaxis13\":{\"anchor\":\"y13\",\"domain\":[0.0,0.2125],\"gridcolor\":\"#E1E5ED\",\"showgrid\":false,\"tickfont\":{\"color\":\"#4D5663\"},\"title\":{\"font\":{\"color\":\"#4D5663\"},\"text\":\"\"},\"zerolinecolor\":\"#E1E5ED\"},\"yaxis13\":{\"anchor\":\"x13\",\"domain\":[0.0,0.1975],\"gridcolor\":\"#E1E5ED\",\"showgrid\":false,\"tickfont\":{\"color\":\"#4D5663\"},\"title\":{\"font\":{\"color\":\"#4D5663\"},\"text\":\"\"},\"zerolinecolor\":\"#E1E5ED\"},\"xaxis14\":{\"anchor\":\"y14\",\"domain\":[0.2625,0.475],\"gridcolor\":\"#E1E5ED\",\"showgrid\":false,\"tickfont\":{\"color\":\"#4D5663\"},\"title\":{\"font\":{\"color\":\"#4D5663\"},\"text\":\"\"},\"zerolinecolor\":\"#E1E5ED\"},\"yaxis14\":{\"anchor\":\"x14\",\"domain\":[0.0,0.1975],\"gridcolor\":\"#E1E5ED\",\"showgrid\":false,\"tickfont\":{\"color\":\"#4D5663\"},\"title\":{\"font\":{\"color\":\"#4D5663\"},\"text\":\"\"},\"zerolinecolor\":\"#E1E5ED\"},\"xaxis15\":{\"anchor\":\"y15\",\"domain\":[0.525,0.7375],\"gridcolor\":\"#E1E5ED\",\"showgrid\":false,\"tickfont\":{\"color\":\"#4D5663\"},\"title\":{\"font\":{\"color\":\"#4D5663\"},\"text\":\"\"},\"zerolinecolor\":\"#E1E5ED\"},\"yaxis15\":{\"anchor\":\"x15\",\"domain\":[0.0,0.1975],\"gridcolor\":\"#E1E5ED\",\"showgrid\":false,\"tickfont\":{\"color\":\"#4D5663\"},\"title\":{\"font\":{\"color\":\"#4D5663\"},\"text\":\"\"},\"zerolinecolor\":\"#E1E5ED\"},\"xaxis16\":{\"anchor\":\"y16\",\"domain\":[0.7875,1.0],\"gridcolor\":\"#E1E5ED\",\"showgrid\":false,\"tickfont\":{\"color\":\"#4D5663\"},\"title\":{\"font\":{\"color\":\"#4D5663\"},\"text\":\"\"},\"zerolinecolor\":\"#E1E5ED\"},\"yaxis16\":{\"anchor\":\"x16\",\"domain\":[0.0,0.1975],\"gridcolor\":\"#E1E5ED\",\"showgrid\":false,\"tickfont\":{\"color\":\"#4D5663\"},\"title\":{\"font\":{\"color\":\"#4D5663\"},\"text\":\"\"},\"zerolinecolor\":\"#E1E5ED\"}},                        {\"showLink\": true, \"linkText\": \"Export to plot.ly\", \"plotlyServerURL\": \"https://plot.ly\", \"responsive\": true}                    ).then(function(){\n",
       "                            \n",
       "var gd = document.getElementById('b178942d-fb7f-4ffb-aec2-a848380c9473');\n",
       "var x = new MutationObserver(function (mutations, observer) {{\n",
       "        var display = window.getComputedStyle(gd).display;\n",
       "        if (!display || display === 'none') {{\n",
       "            console.log([gd, 'removed!']);\n",
       "            Plotly.purge(gd);\n",
       "            observer.disconnect();\n",
       "        }}\n",
       "}});\n",
       "\n",
       "// Listen for the removal of the full notebook cells\n",
       "var notebookContainer = gd.closest('#notebook-container');\n",
       "if (notebookContainer) {{\n",
       "    x.observe(notebookContainer, {childList: true});\n",
       "}}\n",
       "\n",
       "// Listen for the clearing of the current output cell\n",
       "var outputEl = gd.closest('.output');\n",
       "if (outputEl) {{\n",
       "    x.observe(outputEl, {childList: true});\n",
       "}}\n",
       "\n",
       "                        })                };                });            </script>        </div>"
      ]
     },
     "metadata": {},
     "output_type": "display_data"
    }
   ],
   "source": [
    "df.scatter_matrix()"
   ]
  },
  {
   "cell_type": "markdown",
   "metadata": {
    "collapsed": true
   },
   "source": [
    "# Great Job!"
   ]
  }
 ],
 "metadata": {
  "kernelspec": {
   "display_name": "Python 3",
   "language": "python",
   "name": "python3"
  },
  "language_info": {
   "codemirror_mode": {
    "name": "ipython",
    "version": 3
   },
   "file_extension": ".py",
   "mimetype": "text/x-python",
   "name": "python",
   "nbconvert_exporter": "python",
   "pygments_lexer": "ipython3",
   "version": "3.11.7"
  }
 },
 "nbformat": 4,
 "nbformat_minor": 0
}
